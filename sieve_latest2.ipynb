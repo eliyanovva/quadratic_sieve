{
 "cells": [
  {
   "cell_type": "code",
   "execution_count": 1,
   "metadata": {},
   "outputs": [],
   "source": [
    "import math\n",
    "import numpy as np\n",
    "import sympy\n",
    "import time "
   ]
  },
  {
   "cell_type": "code",
   "execution_count": 2,
   "metadata": {},
   "outputs": [],
   "source": [
    "def calc_time(start, end):\n",
    "    seconds = end - start\n",
    "    mins = seconds / 60\n",
    "    print('Time in seconds: ', str(seconds), ', Time in minutes: ', str(mins))\n",
    "    return seconds, mins"
   ]
  },
  {
   "cell_type": "code",
   "execution_count": 3,
   "metadata": {},
   "outputs": [],
   "source": [
    "# Final optimized version \n",
    "def get_primes_less_thanB(bound):                      # eratosthenes way\n",
    "    check_until = int(bound**0.5)\n",
    "    unmarked = np.array([x for x in range(2, bound)])\n",
    "    q = 2\n",
    "    i = 0\n",
    "    while True:\n",
    "        u = unmarked[i]\n",
    "        if u> check_until:               # only check numbers up to sqrt(bound)\n",
    "            break\n",
    "        u_idx = np.where(unmarked == u)[0][0]\n",
    "        max_idx = bound//u\n",
    "        listof_multiples = [u*i for i in range(q, max_idx+1)]\n",
    "        u_multiples = np.array(listof_multiples)\n",
    "        unmarked = np.setdiff1d(unmarked, u_multiples)   # numpy set diff without changing order of elements in list\n",
    "        q = u\n",
    "        i +=1\n",
    "    print(\"Number of elements less than bound = \", bound, \" is: \", len(unmarked))\n",
    "    return (unmarked)"
   ]
  },
  {
   "cell_type": "code",
   "execution_count": 4,
   "metadata": {},
   "outputs": [],
   "source": [
    "# Correct optimized version\n",
    "def check_Bsmooth(primes, num):\n",
    "    powers_of_primes= []\n",
    "    num_remaining= num                         \n",
    "    for prime in primes: \n",
    "        i = 0                                   # i = power of prime\n",
    "        if (num_remaining%prime == 0):\n",
    "            while (num_remaining%prime ==0):   #keep dividing for each power of the prime\n",
    "                quotient = num_remaining/prime\n",
    "                num_remaining = quotient\n",
    "                i +=1\n",
    "        powers_of_primes.append(i)\n",
    "        if num_remaining == 1:     \n",
    "            diff = len(primes)-len(powers_of_primes)\n",
    "            if diff>0:\n",
    "                zeros = [0 for k in range(diff)]\n",
    "                return powers_of_primes + zeros\n",
    "            return powers_of_primes\n",
    "    #print(\"Number is not B smooth\")\n",
    "    return []"
   ]
  },
  {
   "cell_type": "markdown",
   "metadata": {},
   "source": [
    "#### Start Choosing parameters for testing: bound, n, etc;"
   ]
  },
  {
   "cell_type": "code",
   "execution_count": 104,
   "metadata": {},
   "outputs": [
    {
     "name": "stdout",
     "output_type": "stream",
     "text": [
      "Number of elements less than bound =  120  is:  30\n"
     ]
    }
   ],
   "source": [
    "# A first simulation\n",
    "bound = 120\n",
    "primes = np.array(get_primes_less_thanB(bound))"
   ]
  },
  {
   "cell_type": "code",
   "execution_count": 32,
   "metadata": {},
   "outputs": [],
   "source": [
    "def a_congruent_b(a, b, n):\n",
    "    if a==(b%n):\n",
    "        return True\n",
    "    return False"
   ]
  },
  {
   "cell_type": "code",
   "execution_count": 5,
   "metadata": {},
   "outputs": [],
   "source": [
    "def generate_BSsquares(primes, n, multiple):\n",
    "    exponents_list = []\n",
    "    squares = []   # the x\n",
    "    residues = []  # the y\n",
    "    ceil_sqrtN = int(math.sqrt(n)) +1\n",
    "    iters = 0\n",
    "    while(True):\n",
    "        if iters>100000000:\n",
    "            break\n",
    "        candidate = ((multiple*ceil_sqrtN)**2)%n\n",
    "        #print(candidate)\n",
    "        exp_vec = check_Bsmooth(primes, candidate)\n",
    "        if exp_vec != []:\n",
    "            squares.append(candidate)   # x^2\n",
    "            exp_arr = np.array(exp_vec)\n",
    "            residue_vec = np.power(primes, exp_arr)\n",
    "            #print(\"Residue vector: \", residue_vec)\n",
    "            pythlist = residue_vec.tolist()         # numpy leads to overflow, convert to python list again\n",
    "            residue = 1\n",
    "            for i in range(len(pythlist)):\n",
    "                residue *= pythlist[i]\n",
    "            residues.append(residue)\n",
    "            exponents_list.append(exp_vec)\n",
    "            print(\"Found B-smooth square! with exponents: \", exp_arr, \" and quadratic residue: \", residue)\n",
    "\n",
    "        if len(residues) > len(primes) + 3:\n",
    "            print(\"Breaking, len of residues: \", len(residues), \" len of primes: \", len(primes))\n",
    "            break\n",
    "        iters += 1\n",
    "        multiple += 1\n",
    "    return [exponents_list, residues, iters, squares]"
   ]
  },
  {
   "cell_type": "markdown",
   "metadata": {},
   "source": [
    "#### Test 1: a simple test on a small prime! "
   ]
  },
  {
   "cell_type": "code",
   "execution_count": 87,
   "metadata": {},
   "outputs": [
    {
     "name": "stdout",
     "output_type": "stream",
     "text": [
      "Found B-smooth square! with exponents:  [1 1 1 0 0 0 1 1 0 0 0 0 0 0 0]  and quadratic residue:  9690\n",
      "Found B-smooth square! with exponents:  [3 1 1 0 0 0 1 1 0 0 0 0 0 0 0]  and quadratic residue:  38760\n",
      "Found B-smooth square! with exponents:  [1 3 1 0 0 0 1 1 0 0 0 0 0 0 0]  and quadratic residue:  87210\n",
      "Found B-smooth square! with exponents:  [5 1 1 0 0 0 1 1 0 0 0 0 0 0 0]  and quadratic residue:  155040\n",
      "Found B-smooth square! with exponents:  [1 1 3 0 0 0 1 1 0 0 0 0 0 0 0]  and quadratic residue:  242250\n",
      "Found B-smooth square! with exponents:  [3 3 1 0 0 0 1 1 0 0 0 0 0 0 0]  and quadratic residue:  348840\n",
      "Found B-smooth square! with exponents:  [1 1 1 2 0 0 1 1 0 0 0 0 0 0 0]  and quadratic residue:  474810\n",
      "Found B-smooth square! with exponents:  [7 1 1 0 0 0 1 1 0 0 0 0 0 0 0]  and quadratic residue:  620160\n",
      "Found B-smooth square! with exponents:  [1 5 1 0 0 0 1 1 0 0 0 0 0 0 0]  and quadratic residue:  784890\n",
      "Found B-smooth square! with exponents:  [3 1 3 0 0 0 1 1 0 0 0 0 0 0 0]  and quadratic residue:  969000\n",
      "Found B-smooth square! with exponents:  [1 1 1 0 2 0 1 1 0 0 0 0 0 0 0]  and quadratic residue:  1172490\n",
      "Found B-smooth square! with exponents:  [5 3 1 0 0 0 1 1 0 0 0 0 0 0 0]  and quadratic residue:  1395360\n",
      "Found B-smooth square! with exponents:  [1 1 1 0 0 2 1 1 0 0 0 0 0 0 0]  and quadratic residue:  1637610\n",
      "Found B-smooth square! with exponents:  [3 1 1 2 0 0 1 1 0 0 0 0 0 0 0]  and quadratic residue:  1899240\n",
      "Found B-smooth square! with exponents:  [1 3 3 0 0 0 1 1 0 0 0 0 0 0 0]  and quadratic residue:  2180250\n",
      "Found B-smooth square! with exponents:  [9 1 1 0 0 0 1 1 0 0 0 0 0 0 0]  and quadratic residue:  2480640\n",
      "Found B-smooth square! with exponents:  [1 1 1 0 0 0 3 1 0 0 0 0 0 0 0]  and quadratic residue:  2800410\n",
      "Found B-smooth square! with exponents:  [3 5 1 0 0 0 1 1 0 0 0 0 0 0 0]  and quadratic residue:  3139560\n",
      "Found B-smooth square! with exponents:  [1 1 1 0 0 0 1 3 0 0 0 0 0 0 0]  and quadratic residue:  3498090\n",
      "Breaking, len of residues:  19  len of primes:  15\n",
      "Time in seconds:  0.00504755973815918 , Time in minutes:  8.412599563598633e-05\n",
      "iterations,  18\n",
      "B smooth numbers found:  [9690, 38760, 87210, 155040, 242250, 348840, 474810, 620160, 784890, 969000, 1172490, 1395360, 1637610, 1899240, 2180250, 2480640, 2800410, 3139560, 3498090] \n",
      "total:  19\n"
     ]
    }
   ],
   "source": [
    "# Sample test of the function above\n",
    "n = 95775679\n",
    "#A_const = (math.sqrt(2)-1)*math.sqrt(n)-1      \n",
    "multiple = 1\n",
    "start = time.time()\n",
    "\n",
    "results = generate_BSsquares(primes, n, multiple)\n",
    "\n",
    "end = time.time()\n",
    "calc_time(start, end)\n",
    "print(\"iterations, \", results[2])\n",
    "print(\"B smooth numbers found: \", results[1], \"\\ntotal: \", len(results[1]))"
   ]
  },
  {
   "cell_type": "markdown",
   "metadata": {},
   "source": [
    "##### Test 2: on larger prime - just copy paste the block from above and change n"
   ]
  },
  {
   "cell_type": "code",
   "execution_count": 88,
   "metadata": {},
   "outputs": [
    {
     "name": "stdout",
     "output_type": "stream",
     "text": [
      "Found B-smooth square! with exponents:  [2 2 0 0 0 0 0 0 0 0 0 0 0 0 0]  and quadratic residue:  36\n",
      "Found B-smooth square! with exponents:  [4 2 0 0 0 0 0 0 0 0 0 0 0 0 0]  and quadratic residue:  144\n",
      "Found B-smooth square! with exponents:  [2 4 0 0 0 0 0 0 0 0 0 0 0 0 0]  and quadratic residue:  324\n",
      "Found B-smooth square! with exponents:  [6 2 0 0 0 0 0 0 0 0 0 0 0 0 0]  and quadratic residue:  576\n",
      "Found B-smooth square! with exponents:  [2 2 2 0 0 0 0 0 0 0 0 0 0 0 0]  and quadratic residue:  900\n",
      "Found B-smooth square! with exponents:  [4 4 0 0 0 0 0 0 0 0 0 0 0 0 0]  and quadratic residue:  1296\n",
      "Found B-smooth square! with exponents:  [2 2 0 2 0 0 0 0 0 0 0 0 0 0 0]  and quadratic residue:  1764\n",
      "Found B-smooth square! with exponents:  [8 2 0 0 0 0 0 0 0 0 0 0 0 0 0]  and quadratic residue:  2304\n",
      "Found B-smooth square! with exponents:  [2 6 0 0 0 0 0 0 0 0 0 0 0 0 0]  and quadratic residue:  2916\n",
      "Found B-smooth square! with exponents:  [4 2 2 0 0 0 0 0 0 0 0 0 0 0 0]  and quadratic residue:  3600\n",
      "Found B-smooth square! with exponents:  [2 2 0 0 2 0 0 0 0 0 0 0 0 0 0]  and quadratic residue:  4356\n",
      "Found B-smooth square! with exponents:  [6 4 0 0 0 0 0 0 0 0 0 0 0 0 0]  and quadratic residue:  5184\n",
      "Found B-smooth square! with exponents:  [2 2 0 0 0 2 0 0 0 0 0 0 0 0 0]  and quadratic residue:  6084\n",
      "Found B-smooth square! with exponents:  [4 2 0 2 0 0 0 0 0 0 0 0 0 0 0]  and quadratic residue:  7056\n",
      "Found B-smooth square! with exponents:  [2 4 2 0 0 0 0 0 0 0 0 0 0 0 0]  and quadratic residue:  8100\n",
      "Found B-smooth square! with exponents:  [10  2  0  0  0  0  0  0  0  0  0  0  0  0  0]  and quadratic residue:  9216\n",
      "Found B-smooth square! with exponents:  [2 2 0 0 0 0 2 0 0 0 0 0 0 0 0]  and quadratic residue:  10404\n",
      "Found B-smooth square! with exponents:  [4 6 0 0 0 0 0 0 0 0 0 0 0 0 0]  and quadratic residue:  11664\n",
      "Found B-smooth square! with exponents:  [2 2 0 0 0 0 0 2 0 0 0 0 0 0 0]  and quadratic residue:  12996\n",
      "Breaking, len of residues:  19  len of primes:  15\n",
      "Time in seconds:  0.010944366455078125 , Time in minutes:  0.00018240610758463543\n",
      "iterations,  18\n",
      "B smooth numbers found:  [36, 144, 324, 576, 900, 1296, 1764, 2304, 2916, 3600, 4356, 5184, 6084, 7056, 8100, 9216, 10404, 11664, 12996] \n",
      "total:  19\n"
     ]
    }
   ],
   "source": [
    "n = 62615533\n",
    "multiple = 1\n",
    "start = time.time()\n",
    "\n",
    "results = generate_BSsquares(primes, n, multiple)\n",
    "\n",
    "end = time.time()\n",
    "calc_time(start, end)\n",
    "print(\"iterations, \", results[2])\n",
    "print(\"B smooth numbers found: \", results[1], \"\\ntotal: \", len(results[1]))"
   ]
  },
  {
   "cell_type": "markdown",
   "metadata": {},
   "source": [
    "#### # Test 3: on even larger prime - again copy paste the block from above and change n\n",
    "#### Trials 1, 2: oops, did not work? - Changed break point to be 100 fold more than for the other 2\n",
    "##### Result: Not bad!"
   ]
  },
  {
   "cell_type": "code",
   "execution_count": 93,
   "metadata": {},
   "outputs": [
    {
     "name": "stdout",
     "output_type": "stream",
     "text": [
      "Found B-smooth square! with exponents:  [0 2 0 2 0 0 0 0 0 1 1 0 2 1 0]  and quadratic residue:  28657245897\n",
      "Found B-smooth square! with exponents:  [2 2 0 2 0 0 0 0 0 1 1 0 2 1 0]  and quadratic residue:  114628983588\n",
      "Found B-smooth square! with exponents:  [0 2 3 0 0 1 0 3 0 0 0 0 1 0 0]  and quadratic residue:  4112827875\n",
      "Found B-smooth square! with exponents:  [6 6 0 0 0 1 0 0 0 1 0 0 1 0 1]  and quadratic residue:  33894604224\n",
      "Found B-smooth square! with exponents:  [2 2 3 0 0 1 0 3 0 0 0 0 1 0 0]  and quadratic residue:  16451311500\n",
      "Found B-smooth square! with exponents:  [3 5 0 2 0 0 1 0 0 0 0 0 1 2 0]  and quadratic residue:  122761455768\n",
      "Found B-smooth square! with exponents:  [0 2 0 1 0 2 1 2 0 1 0 0 0 1 0]  and quadratic residue:  81479776833\n",
      "Found B-smooth square! with exponents:  [0 4 3 0 0 1 0 3 0 0 0 0 1 0 0]  and quadratic residue:  37015450875\n",
      "Found B-smooth square! with exponents:  [8 6 0 0 0 1 0 0 0 1 0 0 1 0 1]  and quadratic residue:  135578416896\n",
      "Found B-smooth square! with exponents:  [16  5  0  1  0  0  0  0  1  0  0  1  0  0  0]  and quadratic residue:  94866702336\n",
      "Found B-smooth square! with exponents:  [6 1 0 1 0 0 0 1 0 1 0 1 1 0 0]  and quadratic residue:  1123405248\n",
      "Found B-smooth square! with exponents:  [4 2 3 0 0 1 0 3 0 0 0 0 1 0 0]  and quadratic residue:  65805246000\n",
      "Found B-smooth square! with exponents:  [8 1 3 2 0 0 0 1 0 0 1 0 1 0 0]  and quadratic residue:  113596896000\n",
      "Found B-smooth square! with exponents:  [1 1 3 0 2 0 0 0 1 2 0 0 0 1 0]  and quadratic residue:  75481221750\n",
      "Found B-smooth square! with exponents:  [0 2 5 0 0 1 0 3 0 0 0 0 1 0 0]  and quadratic residue:  102820696875\n",
      "Found B-smooth square! with exponents:  [0 1 0 0 1 0 0 1 0 1 2 1 0 0 1]  and quadratic residue:  30387047757\n",
      "Found B-smooth square! with exponents:  [2 4 3 0 0 1 0 3 0 0 0 0 1 0 0]  and quadratic residue:  148061803500\n",
      "Found B-smooth square! with exponents:  [0 1 0 1 3 0 0 1 0 0 0 1 0 0 2]  and quadratic residue:  43405862577\n",
      "Found B-smooth square! with exponents:  [1 1 1 0 1 0 0 1 2 0 0 0 0 1 1]  and quadratic residue:  6703313430\n",
      "Breaking, len of residues:  19  len of primes:  15\n",
      "Time in seconds:  9.145801305770874 , Time in minutes:  0.1524300217628479\n",
      "iterations,  315273\n",
      "B smooth numbers found:  [28657245897, 114628983588, 4112827875, 33894604224, 16451311500, 122761455768, 81479776833, 37015450875, 135578416896, 94866702336, 1123405248, 65805246000, 113596896000, 75481221750, 102820696875, 30387047757, 148061803500, 43405862577, 6703313430] \n",
      "total:  19\n"
     ]
    }
   ],
   "source": [
    "n = 169214564391    # 12 digits :))\n",
    "multiple = 2\n",
    "start = time.time()\n",
    "\n",
    "results = generate_BSsquares(primes, n, multiple)\n",
    "\n",
    "end = time.time()\n",
    "calc_time(start, end)\n",
    "print(\"iterations, \", results[2])\n",
    "print(\"B smooth numbers found: \", results[1], \"\\ntotal: \", len(results[1]))"
   ]
  },
  {
   "cell_type": "code",
   "execution_count": 105,
   "metadata": {},
   "outputs": [
    {
     "name": "stdout",
     "output_type": "stream",
     "text": [
      "Found B-smooth square! with exponents:  [0 0 1 0 1 0 0 0 0 0 0 0 1 0 1 0 0 0 2 1 0 0 0 0 0 0 0 0 1 0]  and quadratic residue:  3681958220435\n",
      "Found B-smooth square! with exponents:  [4 1 0 0 0 0 0 0 0 1 0 0 0 0 1 0 0 2 0 0 1 0 0 0 0 0 0 0 0 1]  and quadratic residue:  2008158865296\n",
      "Found B-smooth square! with exponents:  [6 1 0 0 0 0 0 0 0 1 0 0 0 0 1 0 0 2 0 0 1 0 0 0 0 0 0 0 0 1]  and quadratic residue:  8032635461184\n",
      "Found B-smooth square! with exponents:  [1 1 2 0 1 0 0 1 0 0 0 0 0 1 3 0 0 0 0 0 0 0 0 0 0 0 0 0 0 0]  and quadratic residue:  139958595150\n",
      "Found B-smooth square! with exponents:  [0 1 3 0 0 1 1 0 0 0 0 0 0 2 0 0 0 0 0 0 1 0 0 0 0 0 0 0 0 0]  and quadratic residue:  11186218875\n",
      "Found B-smooth square! with exponents:  [3 1 2 0 1 0 0 1 0 0 0 0 0 1 3 0 0 0 0 0 0 0 0 0 0 0 0 0 0 0]  and quadratic residue:  559834380600\n",
      "Found B-smooth square! with exponents:  [0 1 1 3 0 2 0 0 1 1 0 0 0 1 0 0 0 0 0 0 0 0 0 0 1 0 0 0 0 0]  and quadratic residue:  2419012471785\n",
      "Found B-smooth square! with exponents:  [1 3 2 0 1 0 0 1 0 0 0 0 0 1 3 0 0 0 0 0 0 0 0 0 0 0 0 0 0 0]  and quadratic residue:  1259627356350\n",
      "Found B-smooth square! with exponents:  [2 1 3 0 0 1 1 0 0 0 0 0 0 2 0 0 0 0 0 0 1 0 0 0 0 0 0 0 0 0]  and quadratic residue:  44744875500\n",
      "Found B-smooth square! with exponents:  [5 1 2 0 1 0 0 1 0 0 0 0 0 1 3 0 0 0 0 0 0 0 0 0 0 0 0 0 0 0]  and quadratic residue:  2239337522400\n",
      "Found B-smooth square! with exponents:  [2 1 1 3 0 2 0 0 1 1 0 0 0 1 0 0 0 0 0 0 0 0 0 0 1 0 0 0 0 0]  and quadratic residue:  9676049887140\n",
      "Found B-smooth square! with exponents:  [0 3 3 0 0 1 1 0 0 0 0 0 0 2 0 0 0 0 0 0 1 0 0 0 0 0 0 0 0 0]  and quadratic residue:  100675969875\n",
      "Found B-smooth square! with exponents:  [1 1 4 0 1 0 0 1 0 0 0 0 0 1 3 0 0 0 0 0 0 0 0 0 0 0 0 0 0 0]  and quadratic residue:  3498964878750\n",
      "Found B-smooth square! with exponents:  [3 4 0 0 0 1 0 0 1 0 1 0 0 1 0 0 1 0 0 1 0 0 0 0 0 0 0 0 0 0]  and quadratic residue:  1081898961624\n",
      "Found B-smooth square! with exponents:  [3 3 2 0 1 0 0 1 0 0 0 0 0 1 3 0 0 0 0 0 0 0 0 0 0 0 0 0 0 0]  and quadratic residue:  5038509425400\n",
      "Found B-smooth square! with exponents:  [4 1 3 0 0 1 1 0 0 0 0 0 0 2 0 0 0 0 0 0 1 0 0 0 0 0 0 0 0 0]  and quadratic residue:  178979502000\n",
      "Found B-smooth square! with exponents:  [3 1 2 0 0 0 0 1 1 0 0 0 0 0 2 0 0 0 0 0 0 0 1 0 1 0 0 0 0 0]  and quadratic residue:  4663137589800\n",
      "Found B-smooth square! with exponents:  [0 0 0 0 0 0 0 0 0 0 0 0 0 0 0 1 1 1 0 1 0 1 0 1 0 1 0 0 0 0]  and quadratic residue:  9617330407847\n",
      "Found B-smooth square! with exponents:  [1 1 2 2 1 0 0 1 0 0 0 0 0 1 3 0 0 0 0 0 0 0 0 0 0 0 0 0 0 0]  and quadratic residue:  6857971162350\n",
      "Found B-smooth square! with exponents:  [0 1 5 0 0 1 1 0 0 0 0 0 0 2 0 0 0 0 0 0 1 0 0 0 0 0 0 0 0 0]  and quadratic residue:  279655471875\n",
      "Found B-smooth square! with exponents:  [7 1 2 0 1 0 0 1 0 0 0 0 0 1 3 0 0 0 0 0 0 0 0 0 0 0 0 0 0 0]  and quadratic residue:  8957350089600\n",
      "Found B-smooth square! with exponents:  [2 3 3 0 0 1 1 0 0 0 0 0 0 2 0 0 0 0 0 0 1 0 0 0 0 0 0 0 0 0]  and quadratic residue:  402703879500\n",
      "Found B-smooth square! with exponents:  [0 0 0 2 1 0 0 0 0 0 0 3 1 0 0 0 0 0 0 0 0 0 1 0 1 0 0 0 0 0]  and quadratic residue:  9012133588997\n",
      "Found B-smooth square! with exponents:  [2 6 2 2 0 0 0 0 0 0 1 0 0 0 0 0 0 0 0 0 1 0 0 0 0 0 0 0 0 0]  and quadratic residue:  8083662300\n",
      "Found B-smooth square! with exponents:  [0 1 3 2 0 1 1 0 0 0 0 0 0 2 0 0 0 0 0 0 1 0 0 0 0 0 0 0 0 0]  and quadratic residue:  548124724875\n",
      "Found B-smooth square! with exponents:  [2 0 0 0 0 1 0 0 0 0 2 0 0 0 0 1 0 0 0 1 1 0 0 0 0 0 0 0 0 0]  and quadratic residue:  13727258428\n",
      "Found B-smooth square! with exponents:  [5 4 0 0 0 1 0 0 1 0 1 0 0 1 0 0 1 0 0 1 0 0 0 0 0 0 0 0 0 0]  and quadratic residue:  4327595846496\n",
      "Found B-smooth square! with exponents:  [0 3 0 0 1 0 0 0 1 0 1 1 0 0 0 0 0 0 0 1 0 1 0 0 0 0 0 0 0 1]  and quadratic residue:  4966055704269\n",
      "Found B-smooth square! with exponents:  [6 1 3 0 0 1 1 0 0 0 0 0 0 2 0 0 0 0 0 0 1 0 0 0 0 0 0 0 0 0]  and quadratic residue:  715918008000\n",
      "Found B-smooth square! with exponents:  [0 2 2 0 0 0 0 0 0 0 0 0 0 1 0 0 0 0 2 0 0 0 0 0 0 1 1 0 0 0]  and quadratic residue:  451813473225\n",
      "Found B-smooth square! with exponents:  [2 0 1 0 0 2 0 0 0 0 0 0 0 0 0 0 1 0 0 1 0 1 0 0 0 0 0 0 0 0]  and quadratic residue:  1118546780\n",
      "Found B-smooth square! with exponents:  [1 0 1 0 0 1 1 0 0 0 0 0 3 0 0 0 0 0 0 0 0 1 0 0 0 0 0 0 1 0]  and quadratic residue:  1311587995510\n",
      "Found B-smooth square! with exponents:  [0 5 3 0 0 1 1 0 0 0 0 0 0 2 0 0 0 0 0 0 1 0 0 0 0 0 0 0 0 0]  and quadratic residue:  906083728875\n",
      "Found B-smooth square! with exponents:  [2 1 5 0 0 1 1 0 0 0 0 0 0 2 0 0 0 0 0 0 1 0 0 0 0 0 0 0 0 0]  and quadratic residue:  1118621887500\n",
      "Breaking, len of residues:  34  len of primes:  30\n",
      "Time in seconds:  36.52166128158569 , Time in minutes:  0.6086943546930949\n",
      "iterations,  563488\n",
      "B smooth numbers found:  [3681958220435, 2008158865296, 8032635461184, 139958595150, 11186218875, 559834380600, 2419012471785, 1259627356350, 44744875500, 2239337522400, 9676049887140, 100675969875, 3498964878750, 1081898961624, 5038509425400, 178979502000, 4663137589800, 9617330407847, 6857971162350, 279655471875, 8957350089600, 402703879500, 9012133588997, 8083662300, 548124724875, 13727258428, 4327595846496, 4966055704269, 715918008000, 451813473225, 1118546780, 1311587995510, 906083728875, 1118621887500] \n",
      "total:  34\n"
     ]
    }
   ],
   "source": [
    "n = 10710336959293   # 13 digits :))\n",
    "multiple = 2\n",
    "start = time.time()\n",
    "\n",
    "results = generate_BSsquares(primes, n, multiple)\n",
    "\n",
    "end = time.time()\n",
    "calc_time(start, end)\n",
    "print(\"iterations, \", results[2])\n",
    "print(\"B smooth numbers found: \", results[1], \"\\ntotal: \", len(results[1]))\n"
   ]
  },
  {
   "cell_type": "markdown",
   "metadata": {},
   "source": [
    "#### Try for 16 digits, professor's number!"
   ]
  },
  {
   "cell_type": "code",
   "execution_count": 12,
   "metadata": {},
   "outputs": [
    {
     "name": "stdout",
     "output_type": "stream",
     "text": [
      "Number of elements less than bound =  250  is:  53\n"
     ]
    }
   ],
   "source": [
    "# Try a bigger bound - does it help runtime?\n",
    "bound = 250\n",
    "primes = np.array(get_primes_less_thanB(bound))"
   ]
  },
  {
   "cell_type": "code",
   "execution_count": 13,
   "metadata": {},
   "outputs": [
    {
     "name": "stdout",
     "output_type": "stream",
     "text": [
      "Found B-smooth square! with exponents:  [3 0 0 0 0 0 0 1 0 0 0 0 0 0 0 3 0 0 0 1 0 0 0 1 0 0 0 0 0 1 0 0 0 0 0 0 0\n",
      " 0 1 0 0 0 0 0 0 0 0 0 0 0 0 0 0]  and quadratic residue:  2698450567759096\n",
      "Found B-smooth square! with exponents:  [3 2 3 0 0 0 0 0 1 0 0 0 0 0 1 0 0 0 0 0 0 0 0 0 1 0 0 0 0 0 0 0 0 1 0 0 0\n",
      " 0 0 0 0 0 0 0 0 0 0 0 1 0 0 0 0]  and quadratic residue:  29776976289000\n",
      "Found B-smooth square! with exponents:  [1 0 0 2 0 0 0 0 1 0 0 0 0 0 0 0 0 0 0 0 1 0 0 0 0 0 0 0 0 0 0 0 0 0 0 0 0\n",
      " 0 0 0 1 0 0 0 0 0 0 0 0 0 1 0 1]  and quadratic residue:  1653875319754\n",
      "Found B-smooth square! with exponents:  [2 1 0 0 1 3 0 0 0 0 0 0 0 1 0 1 0 0 0 0 0 0 0 0 0 0 0 1 0 0 0 0 0 1 0 0 0\n",
      " 0 0 0 0 0 0 0 0 0 1 0 0 0 0 0 0]  and quadratic residue:  2074098352588548\n",
      "Found B-smooth square! with exponents:  [5 2 3 0 0 0 0 0 1 0 0 0 0 0 1 0 0 0 0 0 0 0 0 0 1 0 0 0 0 0 0 0 0 1 0 0 0\n",
      " 0 0 0 0 0 0 0 0 0 0 0 1 0 0 0 0]  and quadratic residue:  119107905156000\n",
      "Found B-smooth square! with exponents:  [5 0 0 2 1 0 0 1 0 0 1 0 0 0 0 0 0 0 0 1 0 0 0 0 0 0 0 0 0 0 0 0 0 0 0 1 0\n",
      " 0 0 0 0 0 0 0 0 0 0 0 0 0 0 2 0]  and quadratic residue:  6221357186704352\n",
      "Found B-smooth square! with exponents:  [3 0 0 2 0 0 0 0 1 0 0 0 0 0 0 0 0 0 0 0 1 0 0 0 0 0 0 0 0 0 0 0 0 0 0 0 0\n",
      " 0 0 0 1 0 0 0 0 0 0 0 0 0 1 0 1]  and quadratic residue:  6615501279016\n",
      "Found B-smooth square! with exponents:  [3 4 3 0 0 0 0 0 1 0 0 0 0 0 1 0 0 0 0 0 0 0 0 0 1 0 0 0 0 0 0 0 0 1 0 0 0\n",
      " 0 0 0 0 0 0 0 0 0 0 0 1 0 0 0 0]  and quadratic residue:  267992786601000\n",
      "Found B-smooth square! with exponents:  [1 0 1 0 0 0 0 0 1 0 1 0 2 0 0 0 0 0 0 2 0 0 0 0 0 0 0 0 0 0 0 0 0 0 0 0 0\n",
      " 0 0 0 0 0 0 0 0 0 0 0 1 1 0 0 0]  and quadratic residue:  3140763825995590\n",
      "Found B-smooth square! with exponents:  [7 2 3 0 0 0 0 0 1 0 0 0 0 0 1 0 0 0 0 0 0 0 0 0 1 0 0 0 0 0 0 0 0 1 0 0 0\n",
      " 0 0 0 0 0 0 0 0 0 0 0 1 0 0 0 0]  and quadratic residue:  476431620624000\n",
      "Found B-smooth square! with exponents:  [1 2 0 2 0 0 0 0 1 0 0 0 0 0 0 0 0 0 0 0 1 0 0 0 0 0 0 0 0 0 0 0 0 0 0 0 0\n",
      " 0 0 0 1 0 0 0 0 0 0 0 0 0 1 0 1]  and quadratic residue:  14884877877786\n",
      "Found B-smooth square! with exponents:  [3 2 5 0 0 0 0 0 1 0 0 0 0 0 1 0 0 0 0 0 0 0 0 0 1 0 0 0 0 0 0 0 0 1 0 0 0\n",
      " 0 0 0 0 0 0 0 0 0 0 0 1 0 0 0 0]  and quadratic residue:  744424407225000\n",
      "Found B-smooth square! with exponents:  [4 2 0 0 0 0 1 0 0 0 0 0 0 0 0 0 0 0 1 0 0 0 0 1 0 0 1 0 0 0 2 0 0 0 0 0 0\n",
      " 0 0 0 0 0 0 0 0 0 0 1 0 0 0 0 0]  and quadratic residue:  5407863891605424\n",
      "Found B-smooth square! with exponents:  [1 0 0 0 3 1 0 0 0 0 0 0 0 0 0 0 2 0 0 3 0 0 0 0 0 0 0 0 1 0 0 0 0 0 0 0 0\n",
      " 0 0 0 0 0 0 0 0 0 0 0 0 0 0 0 0]  and quadratic residue:  4699557534414314\n",
      "Found B-smooth square! with exponents:  [5 0 0 2 0 0 0 0 1 0 0 0 0 0 0 0 0 0 0 0 1 0 0 0 0 0 0 0 0 0 0 0 0 0 0 0 0\n",
      " 0 0 0 1 0 0 0 0 0 0 0 0 0 1 0 1]  and quadratic residue:  26462005116064\n",
      "Found B-smooth square! with exponents:  [1 0 1 3 0 0 2 0 0 0 0 0 0 0 0 1 0 0 2 0 0 0 0 0 1 0 0 0 0 0 0 0 0 0 0 0 0\n",
      " 0 0 0 0 0 0 0 0 0 0 0 0 0 1 0 0]  and quadratic residue:  5330219491718590\n",
      "Found B-smooth square! with exponents:  [5 4 3 0 0 0 0 0 1 0 0 0 0 0 1 0 0 0 0 0 0 0 0 0 1 0 0 0 0 0 0 0 0 1 0 0 0\n",
      " 0 0 0 0 0 0 0 0 0 0 0 1 0 0 0 0]  and quadratic residue:  1071971146404000\n",
      "Found B-smooth square! with exponents:  [3 2 3 2 0 0 0 0 1 0 0 0 0 0 1 0 0 0 0 0 0 0 0 0 1 0 0 0 0 0 0 0 0 1 0 0 0\n",
      " 0 0 0 0 0 0 0 0 0 0 0 1 0 0 0 0]  and quadratic residue:  1459071838161000\n",
      "Found B-smooth square! with exponents:  [1 0 2 2 0 0 0 0 1 0 0 0 0 0 0 0 0 0 0 0 1 0 0 0 0 0 0 0 0 0 0 0 0 0 0 0 0\n",
      " 0 0 0 1 0 0 0 0 0 0 0 0 0 1 0 1]  and quadratic residue:  41346882993850\n",
      "Found B-smooth square! with exponents:  [9 2 3 0 0 0 0 0 1 0 0 0 0 0 1 0 0 0 0 0 0 0 0 0 1 0 0 0 0 0 0 0 0 1 0 0 0\n",
      " 0 0 0 0 0 0 0 0 0 0 0 1 0 0 0 0]  and quadratic residue:  1905726482496000\n",
      "Found B-smooth square! with exponents:  [3 2 0 2 0 0 0 0 1 0 0 0 0 0 0 0 0 0 0 0 1 0 0 0 0 0 0 0 0 0 0 0 0 0 0 0 0\n",
      " 0 0 0 1 0 0 0 0 0 0 0 0 0 1 0 1]  and quadratic residue:  59539511511144\n",
      "Found B-smooth square! with exponents:  [3 6 3 0 0 0 0 0 1 0 0 0 0 0 1 0 0 0 0 0 0 0 0 0 1 0 0 0 0 0 0 0 0 1 0 0 0\n",
      " 0 0 0 0 0 0 0 0 0 0 0 1 0 0 0 0]  and quadratic residue:  2411935079409000\n",
      "Found B-smooth square! with exponents:  [1 1 4 2 0 0 2 0 0 0 0 0 0 0 0 0 0 0 0 1 0 0 0 2 0 0 0 0 1 0 0 0 0 0 0 0 0\n",
      " 0 0 0 0 0 0 0 0 0 0 0 0 0 0 0 0]  and quadratic residue:  3255292746221250\n",
      "Found B-smooth square! with exponents:  [0 1 1 2 0 1 0 1 0 0 0 0 0 0 0 0 0 1 0 0 0 0 0 0 0 0 0 0 2 0 0 0 0 0 1 0 0\n",
      " 0 0 0 0 0 0 0 0 0 0 1 0 0 0 0 0]  and quadratic residue:  4371779554684815\n",
      "Found B-smooth square! with exponents:  [1 2 0 0 0 0 0 0 0 0 0 0 0 0 0 0 0 0 0 0 0 4 0 0 0 0 0 1 0 0 1 0 0 0 0 0 0\n",
      " 0 0 0 0 0 0 0 0 0 0 1 0 0 0 0 0]  and quadratic residue:  2124580699945926\n",
      "Found B-smooth square! with exponents:  [1 0 0 4 0 0 0 0 1 0 0 0 0 0 0 0 0 0 0 0 1 0 0 0 0 0 0 0 0 0 0 0 0 0 0 0 0\n",
      " 0 0 0 1 0 0 0 0 0 0 0 0 0 1 0 1]  and quadratic residue:  81039890667946\n",
      "Found B-smooth square! with exponents:  [5 2 5 0 0 0 0 0 1 0 0 0 0 0 1 0 0 0 0 0 0 0 0 0 1 0 0 0 0 0 0 0 0 1 0 0 0\n",
      " 0 0 0 0 0 0 0 0 0 0 0 1 0 0 0 0]  and quadratic residue:  2977697628900000\n",
      "Found B-smooth square! with exponents:  [0 2 0 0 2 0 0 0 2 0 0 1 1 1 0 0 0 0 0 0 0 0 0 0 0 0 0 0 0 0 0 0 0 0 0 0 0\n",
      " 0 0 0 0 0 0 0 0 0 0 1 0 0 0 0 1]  and quadratic residue:  2019572711088273\n",
      "Found B-smooth square! with exponents:  [3 2 3 0 2 0 0 0 1 0 0 0 0 0 1 0 0 0 0 0 0 0 0 0 1 0 0 0 0 0 0 0 0 1 0 0 0\n",
      " 0 0 0 0 0 0 0 0 0 0 0 1 0 0 0 0]  and quadratic residue:  3603014130969000\n",
      "Found B-smooth square! with exponents:  [7 0 0 2 0 0 0 0 1 0 0 0 0 0 0 0 0 0 0 0 1 0 0 0 0 0 0 0 0 0 0 0 0 0 0 0 0\n",
      " 0 0 0 1 0 0 0 0 0 0 0 0 0 1 0 1]  and quadratic residue:  105848020464256\n",
      "Found B-smooth square! with exponents:  [6 5 1 0 0 2 2 0 0 0 0 1 0 0 0 0 1 0 0 0 0 0 0 0 0 0 1 0 0 0 0 0 0 0 0 0 0\n",
      " 0 0 0 0 0 0 0 0 0 0 0 0 0 0 0 0]  and quadratic residue:  853948656699840\n",
      "Found B-smooth square! with exponents:  [7 4 3 0 0 0 0 0 1 0 0 0 0 0 1 0 0 0 0 0 0 0 0 0 1 0 0 0 0 0 0 0 0 1 0 0 0\n",
      " 0 0 0 0 0 0 0 0 0 0 0 1 0 0 0 0]  and quadratic residue:  4287884585616000\n",
      "Found B-smooth square! with exponents:  [11  1  1  0  0  1  0  0  0  0  0  1  0  0  0  0  0  0  0  0  0  1  0  0\n",
      "  0  0  0  0  1  0  0  0  0  0  0  1  0  0  0  1  0  0  0  0  0  0  0  0\n",
      "  0  0  0  0  0]  and quadratic residue:  3323861563176960\n",
      "Found B-smooth square! with exponents:  [1 4 0 2 0 0 0 0 1 0 0 0 0 0 0 0 0 0 0 0 1 0 0 0 0 0 0 0 0 0 0 0 0 0 0 0 0\n",
      " 0 0 0 1 0 0 0 0 0 0 0 0 0 1 0 1]  and quadratic residue:  133963900900074\n",
      "Found B-smooth square! with exponents:  [3 2 3 0 0 2 0 0 1 0 0 0 0 0 1 0 0 0 0 0 0 0 0 0 1 0 0 0 0 0 0 0 0 1 0 0 0\n",
      " 0 0 0 0 0 0 0 0 0 0 0 1 0 0 0 0]  and quadratic residue:  5032308992841000\n",
      "Found B-smooth square! with exponents:  [0 1 0 0 3 0 0 1 0 0 0 0 0 1 0 0 0 0 1 0 0 0 1 0 0 1 0 0 0 0 0 0 0 0 0 0 0\n",
      " 0 0 0 0 0 0 0 0 0 0 0 0 0 1 0 0]  and quadratic residue:  426924970036653\n",
      "Found B-smooth square! with exponents:  [5 2 3 2 0 0 0 0 1 0 0 0 0 0 1 0 0 0 0 0 0 0 0 0 1 0 0 0 0 0 0 0 0 1 0 0 0\n",
      " 0 0 0 0 0 0 0 0 0 0 0 1 0 0 0 0]  and quadratic residue:  5836287352644000\n",
      "Found B-smooth square! with exponents:  [3 0 2 2 0 0 0 0 1 0 0 0 0 0 0 0 0 0 0 0 1 0 0 0 0 0 0 0 0 0 0 0 0 0 0 0 0\n",
      " 0 0 0 1 0 0 0 0 0 0 0 0 0 1 0 1]  and quadratic residue:  165387531975400\n",
      "Found B-smooth square! with exponents:  [3 4 5 0 0 0 0 0 1 0 0 0 0 0 1 0 0 0 0 0 0 0 0 0 1 0 0 0 0 0 0 0 0 1 0 0 0\n",
      " 0 0 0 0 0 0 0 0 0 0 0 1 0 0 0 0]  and quadratic residue:  6699819665025000\n",
      "Found B-smooth square! with exponents:  [1 0 0 2 2 0 0 0 1 0 0 0 0 0 0 0 0 0 0 0 1 0 0 0 0 0 0 0 0 0 0 0 0 0 0 0 0\n",
      " 0 0 0 1 0 0 0 0 0 0 0 0 0 1 0 1]  and quadratic residue:  200118913690234\n",
      "Found B-smooth square! with exponents:  [0 1 1 0 0 1 0 1 0 0 1 0 1 2 0 1 0 0 1 0 0 0 0 0 0 0 0 0 0 0 0 0 0 0 0 0 0\n",
      " 0 0 0 0 0 0 0 1 0 0 0 0 0 0 0 0]  and quadratic residue:  6090985596159165\n",
      "Found B-smooth square! with exponents:  [4 0 0 0 0 0 0 3 1 2 0 0 0 0 0 0 0 0 0 0 0 0 0 0 0 1 1 0 0 1 0 0 0 0 0 0 0\n",
      " 0 0 0 0 0 0 0 0 0 0 0 0 0 0 0 0]  and quadratic residue:  2495408553045488\n",
      "Found B-smooth square! with exponents:  [3 1 3 7 0 0 0 0 0 0 0 0 0 0 0 0 0 0 0 0 0 0 0 0 0 0 0 0 0 1 0 0 0 0 0 0 0\n",
      " 0 0 0 0 0 0 0 0 0 0 1 0 0 0 0 0]  and quadratic residue:  62257380171000\n"
     ]
    },
    {
     "name": "stdout",
     "output_type": "stream",
     "text": [
      "Found B-smooth square! with exponents:  [5 2 0 2 0 0 0 0 1 0 0 0 0 0 0 0 0 0 0 0 1 0 0 0 0 0 0 0 0 0 0 0 0 0 0 0 0\n",
      " 0 0 0 1 0 0 0 0 0 0 0 0 0 1 0 1]  and quadratic residue:  238158046044576\n",
      "Found B-smooth square! with exponents:  [3 0 0 1 0 0 0 0 0 1 0 0 0 1 0 0 0 0 0 0 0 1 0 0 0 0 0 0 0 0 0 0 1 0 0 0 1\n",
      " 0 0 1 0 0 1 0 0 0 0 0 0 0 0 0 0]  and quadratic residue:  3920859334225736\n",
      "Found B-smooth square! with exponents:  [1 0 0 2 0 2 0 0 1 0 0 0 0 0 0 0 0 0 0 0 1 0 0 0 0 0 0 0 0 0 0 0 0 0 0 0 0\n",
      " 0 0 0 1 0 0 0 0 0 0 0 0 0 1 0 1]  and quadratic residue:  279504929038426\n",
      "Found B-smooth square! with exponents:  [0 0 1 3 0 0 0 0 0 2 0 0 0 0 1 0 0 1 1 0 0 0 0 1 0 0 0 0 0 0 1 0 0 0 0 0 0\n",
      " 0 0 0 0 0 0 0 0 0 0 0 0 0 0 0 0]  and quadratic residue:  3131528318733605\n",
      "Found B-smooth square! with exponents:  [0 0 0 0 0 0 0 0 0 2 0 1 0 0 0 0 1 0 0 0 0 0 0 1 0 1 0 0 0 0 0 1 0 0 0 0 0\n",
      " 0 0 0 0 0 0 0 0 0 1 0 0 0 0 0 0]  and quadratic residue:  456157545263947\n",
      "Found B-smooth square! with exponents:  [3 0 0 4 0 0 0 0 1 0 0 0 0 0 0 0 0 0 0 0 1 0 0 0 0 0 0 0 0 0 0 0 0 0 0 0 0\n",
      " 0 0 0 1 0 0 0 0 0 0 0 0 0 1 0 1]  and quadratic residue:  324159562671784\n",
      "Found B-smooth square! with exponents:  [11  0  0  1  1  0  0  1  1  0  0  0  0  0  0  0  0  0  0  0  0  2  0  0\n",
      "  1  0  0  0  0  1  0  0  0  0  0  0  0  0  0  0  0  0  0  0  0  0  0  0\n",
      "  0  0  0  0  0]  and quadratic residue:  4714183405668352\n",
      "Found B-smooth square! with exponents:  [1 2 2 2 0 0 0 0 1 0 0 0 0 0 0 0 0 0 0 0 1 0 0 0 0 0 0 0 0 0 0 0 0 0 0 0 0\n",
      " 0 0 0 1 0 0 0 0 0 0 0 0 0 1 0 1]  and quadratic residue:  372121946944650\n",
      "Found B-smooth square! with exponents:  [9 0 0 2 0 0 0 0 1 0 0 0 0 0 0 0 0 0 0 0 1 0 0 0 0 0 0 0 0 0 0 0 0 0 0 0 0\n",
      " 0 0 0 1 0 0 0 0 0 0 0 0 0 1 0 1]  and quadratic residue:  423392081857024\n",
      "Found B-smooth square! with exponents:  [8 5 1 0 0 2 2 0 0 0 0 1 0 0 0 0 1 0 0 0 0 0 0 0 0 0 1 0 0 0 0 0 0 0 0 0 0\n",
      " 0 0 0 0 0 0 0 0 0 0 0 0 0 0 0 0]  and quadratic residue:  3415794626799360\n",
      "Found B-smooth square! with exponents:  [1 0 0 2 0 0 2 0 1 0 0 0 0 0 0 0 0 0 0 0 1 0 0 0 0 0 0 0 0 0 0 0 0 0 0 0 0\n",
      " 0 0 0 1 0 0 0 0 0 0 0 0 0 1 0 1]  and quadratic residue:  477969967408906\n",
      "Found B-smooth square! with exponents:  [3 4 0 2 0 0 0 0 1 0 0 0 0 0 0 0 0 0 0 0 1 0 0 0 0 0 0 0 0 0 0 0 0 0 0 0 0\n",
      " 0 0 0 1 0 0 0 0 0 0 0 0 0 1 0 1]  and quadratic residue:  535855603600296\n",
      "Found B-smooth square! with exponents:  [3 1 0 0 0 0 0 0 0 0 0 2 0 0 1 0 1 0 0 2 0 0 0 0 1 0 0 0 0 0 1 0 0 0 0 0 0\n",
      " 0 0 0 0 0 0 0 0 0 0 0 0 0 0 0 0]  and quadratic residue:  5657918822465352\n",
      "Found B-smooth square! with exponents:  [2 0 1 1 1 0 0 2 0 1 0 0 0 1 0 0 0 0 0 0 0 0 0 0 0 0 0 0 0 0 0 0 0 0 0 0 0\n",
      " 0 0 0 1 0 0 2 0 0 0 0 0 0 0 0 0]  and quadratic residue:  4622341468909780\n",
      "Breaking, len of residues:  57  len of primes:  53\n",
      "Time in seconds:  839.8149909973145 , Time in minutes:  13.996916516621907\n",
      "iterations,  4764365\n",
      "B smooth numbers found:  [2698450567759096, 29776976289000, 1653875319754, 2074098352588548, 119107905156000, 6221357186704352, 6615501279016, 267992786601000, 3140763825995590, 476431620624000, 14884877877786, 744424407225000, 5407863891605424, 4699557534414314, 26462005116064, 5330219491718590, 1071971146404000, 1459071838161000, 41346882993850, 1905726482496000, 59539511511144, 2411935079409000, 3255292746221250, 4371779554684815, 2124580699945926, 81039890667946, 2977697628900000, 2019572711088273, 3603014130969000, 105848020464256, 853948656699840, 4287884585616000, 3323861563176960, 133963900900074, 5032308992841000, 426924970036653, 5836287352644000, 165387531975400, 6699819665025000, 200118913690234, 6090985596159165, 2495408553045488, 62257380171000, 238158046044576, 3920859334225736, 279504929038426, 3131528318733605, 456157545263947, 324159562671784, 4714183405668352, 372121946944650, 423392081857024, 3415794626799360, 477969967408906, 535855603600296, 5657918822465352, 4622341468909780] \n",
      "total:  57\n"
     ]
    }
   ],
   "source": [
    "n = 6817540046645387   # 16 digits\n",
    "multiple = 2\n",
    "start = time.time()\n",
    "\n",
    "results = generate_BSsquares(primes, n, multiple)\n",
    "\n",
    "end = time.time()\n",
    "calc_time(start, end)\n",
    "print(\"iterations, \", results[2])\n",
    "print(\"B smooth numbers found: \", results[1], \"\\ntotal: \", len(results[1]))"
   ]
  },
  {
   "cell_type": "code",
   "execution_count": 14,
   "metadata": {},
   "outputs": [],
   "source": [
    "# Run this cell only when you do keyboard interrupt (after getting frustrated about it not ending)\n",
    "# end = time.time()\n",
    "# calc_time(start, end)\n",
    "# print(\"iterations, \", results[2])\n",
    "# print(\"B smooth numbers found: \", results[1], \"\\ntotal: \", len(results[1]))"
   ]
  },
  {
   "cell_type": "code",
   "execution_count": 18,
   "metadata": {},
   "outputs": [],
   "source": [
    "def drop_zero_rows(A): \n",
    "    return A[~np.all(A == 0, axis=1)]"
   ]
  },
  {
   "cell_type": "code",
   "execution_count": 21,
   "metadata": {},
   "outputs": [
    {
     "name": "stdout",
     "output_type": "stream",
     "text": [
      "[[1 1 1 ... 1 1 0]\n",
      " [0 0 0 ... 0 1 0]\n",
      " [0 1 0 ... 0 0 1]\n",
      " ...\n",
      " [0 0 1 ... 1 0 0]\n",
      " [0 0 0 ... 0 0 0]\n",
      " [0 0 1 ... 1 0 0]]\n"
     ]
    }
   ],
   "source": [
    "from sympy import *\n",
    "A = np.array(results[0])\n",
    "store_pows = A.copy()\n",
    "A = (np.transpose(A))%2\n",
    "A = A%2\n",
    "print(A)"
   ]
  },
  {
   "cell_type": "code",
   "execution_count": 22,
   "metadata": {},
   "outputs": [
    {
     "name": "stdout",
     "output_type": "stream",
     "text": [
      "Old num rows and num columns:  53 57\n",
      "Reduced row echelon form AND mod 2 is: \n",
      "[[1 0 0 ... 0 0 0]\n",
      " [0 1 0 ... 0 0 0]\n",
      " [0 0 1 ... 1 0 0]\n",
      " ...\n",
      " [0 0 0 ... 0 0 0]\n",
      " [0 0 0 ... 0 1 0]\n",
      " [0 0 0 ... 0 0 1]]\n",
      "New num rows, num columns:  25 57\n"
     ]
    }
   ],
   "source": [
    "col_num = len(A[0])\n",
    "row_num = len(A)\n",
    "print(\"Old num rows and num columns: \", row_num, col_num)\n",
    "L = Matrix(A)\n",
    "\n",
    "L = np.array(L.rref()[0])\n",
    "L2  = drop_zero_rows(L)\n",
    "L2 = L2 %2\n",
    "\n",
    "print(\"Reduced row echelon form AND mod 2 is: \")\n",
    "print(L2)\n",
    "\n",
    "print(\"New num rows, num columns: \", len(L2), len(L2[0]))"
   ]
  },
  {
   "cell_type": "code",
   "execution_count": 25,
   "metadata": {},
   "outputs": [
    {
     "name": "stdout",
     "output_type": "stream",
     "text": [
      "[0 0 1 0 1 0 1 1 0 1 1 1 0 0 1 0 1 1 1 1 1 1 0 0 0 1 1 0 1 1 1 1 0 1 1 0 1\n",
      " 1 1 1 0 0 0 1 0 1 0 0 1 0 1 1 1 1 1 0 0]\n"
     ]
    }
   ],
   "source": [
    "## Choose free variables:\n",
    "v = np.ones(col_num, dtype = 'int')\n",
    "for i in range(len(L2)):\n",
    "    for j in range( len(L2[0])):\n",
    "        if L2[i][j] ==1:\n",
    "            if (L2[i].sum())%2 !=0:  # the exponents for this prime doesn't add up to zero\n",
    "                v[j] = 0    # need to ignore this equation, then\n",
    "                break\n",
    "print(v)"
   ]
  },
  {
   "cell_type": "code",
   "execution_count": 44,
   "metadata": {},
   "outputs": [
    {
     "name": "stdout",
     "output_type": "stream",
     "text": [
      "[[3 0 0 ... 0 0 0]\n",
      " [3 2 3 ... 0 0 0]\n",
      " [1 0 0 ... 1 0 1]\n",
      " ...\n",
      " [3 4 0 ... 1 0 1]\n",
      " [3 1 0 ... 0 0 0]\n",
      " [2 0 1 ... 0 0 0]]\n"
     ]
    }
   ],
   "source": [
    "print(store_pows)"
   ]
  },
  {
   "cell_type": "code",
   "execution_count": 47,
   "metadata": {},
   "outputs": [
    {
     "name": "stdout",
     "output_type": "stream",
     "text": [
      "Had initially this many equations:  57\n",
      "Now choosing only as many equations as:  34\n"
     ]
    }
   ],
   "source": [
    "subset = []\n",
    "for i in range(len(v)):\n",
    "    if v[i] ==0:\n",
    "        continue\n",
    "    subset.append(store_pows[i])\n",
    "print(\"Had initially this many equations: \", len(store_pows))\n",
    "print(\"Now choosing only as many equations as: \", len(subset))\n",
    "#print(subset)"
   ]
  },
  {
   "cell_type": "code",
   "execution_count": 33,
   "metadata": {},
   "outputs": [
    {
     "name": "stdout",
     "output_type": "stream",
     "text": [
      "[2698450567759096, 29776976289000, 1653875319754, 2074098352588548, 119107905156000, 6221357186704352, 6615501279016, 267992786601000, 3140763825995590, 476431620624000, 14884877877786, 744424407225000, 5407863891605424, 4699557534414314, 26462005116064, 5330219491718590, 1071971146404000, 1459071838161000, 41346882993850, 1905726482496000, 59539511511144, 2411935079409000, 3255292746221250, 4371779554684815, 2124580699945926, 81039890667946, 2977697628900000, 2019572711088273, 3603014130969000, 105848020464256, 853948656699840, 4287884585616000, 3323861563176960, 133963900900074, 5032308992841000, 426924970036653, 5836287352644000, 165387531975400, 6699819665025000, 200118913690234, 6090985596159165, 2495408553045488, 62257380171000, 238158046044576, 3920859334225736, 279504929038426, 3131528318733605, 456157545263947, 324159562671784, 4714183405668352, 372121946944650, 423392081857024, 3415794626799360, 477969967408906, 535855603600296, 5657918822465352, 4622341468909780]\n",
      "[29776976289000, 29776976289000, 29776976289000, 29776976289000, 29776976289000, 29776976289000, 29776976289000, 29776976289000, 29776976289000, 29776976289000, 29776976289000, 29776976289000, 29776976289000, 29776976289000, 29776976289000, 29776976289000, 29776976289000, 29776976289000, 29776976289000, 29776976289000, 29776976289000, 29776976289000, 29776976289000, 29776976289000, 29776976289000, 29776976289000, 29776976289000, 29776976289000, 29776976289000, 29776976289000, 29776976289000, 29776976289000, 29776976289000, 29776976289000]\n",
      "34\n"
     ]
    }
   ],
   "source": [
    "xsquares = results[3]\n",
    "print(xsquares)\n",
    "subset2 = []\n",
    "for idx in v:\n",
    "    if idx ==0:\n",
    "        continue\n",
    "    subset2.append(xsquares[idx])\n",
    "print(subset2)\n",
    "print(len(subset2))\n",
    "# print(type(subset2[0]))"
   ]
  },
  {
   "cell_type": "code",
   "execution_count": 34,
   "metadata": {},
   "outputs": [
    {
     "name": "stdout",
     "output_type": "stream",
     "text": [
      "<class 'list'>\n"
     ]
    }
   ],
   "source": [
    "print(type(subset2))"
   ]
  },
  {
   "cell_type": "code",
   "execution_count": 35,
   "metadata": {},
   "outputs": [
    {
     "name": "stdout",
     "output_type": "stream",
     "text": [
      "29776976289000\n",
      "2628639729219479\n",
      "166688545843444\n",
      "5368317671417908\n",
      "2846816559455059\n",
      "4255413018041235\n",
      "6229452180654085\n",
      "502237091461455\n",
      "1215397505660348\n",
      "1736057912957737\n",
      "1192660552228003\n",
      "2873743315724420\n",
      "3819601779025964\n",
      "6023149829288250\n",
      "6333940693510977\n",
      "2913528651942956\n",
      "1454448433465965\n",
      "136935810355165\n",
      "1876355511330226\n",
      "4628443786785112\n",
      "1828463939033304\n",
      "3156412673228124\n",
      "4963294337315501\n",
      "6394436920287632\n",
      "4362413213908456\n",
      "442967478815037\n",
      "6694998055425112\n",
      "1914663095005725\n",
      "4089459197318866\n",
      "4533735585711302\n",
      "1577658238651669\n",
      "4903160642475605\n",
      "2192566744855141\n",
      "2959130879670601\n"
     ]
    }
   ],
   "source": [
    "product = 1\n",
    "n = 6817540046645387\n",
    "for i in range(len(subset2)):\n",
    "    product = product * subset2[i]\n",
    "    product = product%n\n",
    "    if product<0 or product>10000000000000000:\n",
    "        break\n",
    "    print(product)"
   ]
  },
  {
   "cell_type": "code",
   "execution_count": 38,
   "metadata": {},
   "outputs": [],
   "source": [
    "def get_pythlist_product(np_1Darray):\n",
    "    pythlist = np_1Darray.tolist()\n",
    "    product = 1\n",
    "    for i in range(len(pythlist)):\n",
    "        product *= pythlist[i]\n",
    "    return product"
   ]
  },
  {
   "cell_type": "code",
   "execution_count": 39,
   "metadata": {},
   "outputs": [
    {
     "name": "stdout",
     "output_type": "stream",
     "text": [
      "210\n"
     ]
    }
   ],
   "source": [
    "nparr = np.array([2, 3, 5, 7])\n",
    "print(get_pythlist_product(nparr))"
   ]
  },
  {
   "cell_type": "code",
   "execution_count": 48,
   "metadata": {},
   "outputs": [
    {
     "name": "stdout",
     "output_type": "stream",
     "text": [
      "[  2   1   1  49   1   1   1   1  23   1   1   1   1   1   1   1   1   1\n",
      "   1   1  73   1   1   1   1   1   1   1   1   1   1   1   1   1   1   1\n",
      "   1   1   1   1 179   1   1   1   1   1   1   1   1   1 233   1 241]\n",
      "1653875319754\n",
      "[ 32   9 125   1   1   1   1   1  23   1   1   1   1   1  47   1   1   1\n",
      "   1   1   1   1   1   1  97   1   1   1   1   1   1   1   1 139   1   1\n",
      "   1   1   1   1   1   1   1   1   1   1   1   1 227   1   1   1   1]\n",
      "119107905156000\n",
      "[  8   1   1  49   1   1   1   1  23   1   1   1   1   1   1   1   1   1\n",
      "   1   1  73   1   1   1   1   1   1   1   1   1   1   1   1   1   1   1\n",
      "   1   1   1   1 179   1   1   1   1   1   1   1   1   1 233   1 241]\n",
      "6615501279016\n",
      "[  8  81 125   1   1   1   1   1  23   1   1   1   1   1  47   1   1   1\n",
      "   1   1   1   1   1   1  97   1   1   1   1   1   1   1   1 139   1   1\n",
      "   1   1   1   1   1   1   1   1   1   1   1   1 227   1   1   1   1]\n",
      "267992786601000\n",
      "476431620624000\n",
      "14884877877786\n",
      "744424407225000\n",
      "26462005116064\n",
      "1071971146404000\n",
      "1459071838161000\n",
      "41346882993850\n",
      "1905726482496000\n",
      "59539511511144\n",
      "2411935079409000\n",
      "81039890667946\n",
      "2977697628900000\n",
      "3603014130969000\n",
      "105848020464256\n",
      "853948656699840\n",
      "4287884585616000\n",
      "133963900900074\n",
      "5032308992841000\n",
      "5836287352644000\n",
      "165387531975400\n",
      "6699819665025000\n",
      "200118913690234\n",
      "238158046044576\n",
      "279504929038426\n",
      "324159562671784\n",
      "372121946944650\n",
      "423392081857024\n",
      "3415794626799360\n",
      "477969967408906\n",
      "535855603600296\n",
      "4233396074491038\n"
     ]
    }
   ],
   "source": [
    "subset_arr = np.array(subset)   # subset is subset of exponents\n",
    "final_y_square = 1\n",
    "for i in range(len(subset_arr)):\n",
    "    val_array = np.power(primes, subset_arr[i])\n",
    "    if i in [0, 1, 2, 3]:\n",
    "        print(val_array)\n",
    "    product = (get_pythlist_product(val_array))%n\n",
    "    print(product)\n",
    "    final_y_square *= product\n",
    "    final_y_square = final_y_square%n\n",
    "print(final_y_square)"
   ]
  },
  {
   "cell_type": "code",
   "execution_count": 51,
   "metadata": {},
   "outputs": [],
   "source": [
    "final_x_sqaure = product"
   ]
  },
  {
   "cell_type": "code",
   "execution_count": 53,
   "metadata": {},
   "outputs": [
    {
     "name": "stdout",
     "output_type": "stream",
     "text": [
      "final x square:  535855603600296  final y square:  4233396074491038\n"
     ]
    }
   ],
   "source": [
    "print(\"final x square: \", product, \" final y square: \",final_y_square )"
   ]
  },
  {
   "cell_type": "code",
   "execution_count": 54,
   "metadata": {},
   "outputs": [],
   "source": [
    "x = product\n",
    "y = final_y_square"
   ]
  },
  {
   "cell_type": "code",
   "execution_count": 55,
   "metadata": {},
   "outputs": [
    {
     "name": "stdout",
     "output_type": "stream",
     "text": [
      "1\n",
      "6817540046645387\n"
     ]
    }
   ],
   "source": [
    "k = math.gcd(x -int(y), n)\n",
    "print(k)\n",
    "print (int(n/k)) "
   ]
  },
  {
   "cell_type": "markdown",
   "metadata": {},
   "source": [
    "### END HERE"
   ]
  },
  {
   "cell_type": "code",
   "execution_count": 27,
   "metadata": {},
   "outputs": [
    {
     "name": "stdout",
     "output_type": "stream",
     "text": [
      "[[3, 2, 3, 0, 0, 0, 0, 0, 1, 0, 0, 0, 0, 0, 1, 0, 0, 0, 0, 0, 0, 0, 0, 0, 1, 0, 0, 0, 0, 0, 0, 0, 0, 1, 0, 0, 0, 0, 0, 0, 0, 0, 0, 0, 0, 0, 0, 0, 1, 0, 0, 0, 0], [3, 2, 3, 0, 0, 0, 0, 0, 1, 0, 0, 0, 0, 0, 1, 0, 0, 0, 0, 0, 0, 0, 0, 0, 1, 0, 0, 0, 0, 0, 0, 0, 0, 1, 0, 0, 0, 0, 0, 0, 0, 0, 0, 0, 0, 0, 0, 0, 1, 0, 0, 0, 0], [3, 2, 3, 0, 0, 0, 0, 0, 1, 0, 0, 0, 0, 0, 1, 0, 0, 0, 0, 0, 0, 0, 0, 0, 1, 0, 0, 0, 0, 0, 0, 0, 0, 1, 0, 0, 0, 0, 0, 0, 0, 0, 0, 0, 0, 0, 0, 0, 1, 0, 0, 0, 0], [3, 2, 3, 0, 0, 0, 0, 0, 1, 0, 0, 0, 0, 0, 1, 0, 0, 0, 0, 0, 0, 0, 0, 0, 1, 0, 0, 0, 0, 0, 0, 0, 0, 1, 0, 0, 0, 0, 0, 0, 0, 0, 0, 0, 0, 0, 0, 0, 1, 0, 0, 0, 0], [3, 2, 3, 0, 0, 0, 0, 0, 1, 0, 0, 0, 0, 0, 1, 0, 0, 0, 0, 0, 0, 0, 0, 0, 1, 0, 0, 0, 0, 0, 0, 0, 0, 1, 0, 0, 0, 0, 0, 0, 0, 0, 0, 0, 0, 0, 0, 0, 1, 0, 0, 0, 0], [3, 2, 3, 0, 0, 0, 0, 0, 1, 0, 0, 0, 0, 0, 1, 0, 0, 0, 0, 0, 0, 0, 0, 0, 1, 0, 0, 0, 0, 0, 0, 0, 0, 1, 0, 0, 0, 0, 0, 0, 0, 0, 0, 0, 0, 0, 0, 0, 1, 0, 0, 0, 0], [3, 2, 3, 0, 0, 0, 0, 0, 1, 0, 0, 0, 0, 0, 1, 0, 0, 0, 0, 0, 0, 0, 0, 0, 1, 0, 0, 0, 0, 0, 0, 0, 0, 1, 0, 0, 0, 0, 0, 0, 0, 0, 0, 0, 0, 0, 0, 0, 1, 0, 0, 0, 0], [3, 2, 3, 0, 0, 0, 0, 0, 1, 0, 0, 0, 0, 0, 1, 0, 0, 0, 0, 0, 0, 0, 0, 0, 1, 0, 0, 0, 0, 0, 0, 0, 0, 1, 0, 0, 0, 0, 0, 0, 0, 0, 0, 0, 0, 0, 0, 0, 1, 0, 0, 0, 0], [3, 2, 3, 0, 0, 0, 0, 0, 1, 0, 0, 0, 0, 0, 1, 0, 0, 0, 0, 0, 0, 0, 0, 0, 1, 0, 0, 0, 0, 0, 0, 0, 0, 1, 0, 0, 0, 0, 0, 0, 0, 0, 0, 0, 0, 0, 0, 0, 1, 0, 0, 0, 0], [3, 2, 3, 0, 0, 0, 0, 0, 1, 0, 0, 0, 0, 0, 1, 0, 0, 0, 0, 0, 0, 0, 0, 0, 1, 0, 0, 0, 0, 0, 0, 0, 0, 1, 0, 0, 0, 0, 0, 0, 0, 0, 0, 0, 0, 0, 0, 0, 1, 0, 0, 0, 0], [3, 2, 3, 0, 0, 0, 0, 0, 1, 0, 0, 0, 0, 0, 1, 0, 0, 0, 0, 0, 0, 0, 0, 0, 1, 0, 0, 0, 0, 0, 0, 0, 0, 1, 0, 0, 0, 0, 0, 0, 0, 0, 0, 0, 0, 0, 0, 0, 1, 0, 0, 0, 0], [3, 2, 3, 0, 0, 0, 0, 0, 1, 0, 0, 0, 0, 0, 1, 0, 0, 0, 0, 0, 0, 0, 0, 0, 1, 0, 0, 0, 0, 0, 0, 0, 0, 1, 0, 0, 0, 0, 0, 0, 0, 0, 0, 0, 0, 0, 0, 0, 1, 0, 0, 0, 0], [3, 2, 3, 0, 0, 0, 0, 0, 1, 0, 0, 0, 0, 0, 1, 0, 0, 0, 0, 0, 0, 0, 0, 0, 1, 0, 0, 0, 0, 0, 0, 0, 0, 1, 0, 0, 0, 0, 0, 0, 0, 0, 0, 0, 0, 0, 0, 0, 1, 0, 0, 0, 0], [3, 2, 3, 0, 0, 0, 0, 0, 1, 0, 0, 0, 0, 0, 1, 0, 0, 0, 0, 0, 0, 0, 0, 0, 1, 0, 0, 0, 0, 0, 0, 0, 0, 1, 0, 0, 0, 0, 0, 0, 0, 0, 0, 0, 0, 0, 0, 0, 1, 0, 0, 0, 0], [3, 2, 3, 0, 0, 0, 0, 0, 1, 0, 0, 0, 0, 0, 1, 0, 0, 0, 0, 0, 0, 0, 0, 0, 1, 0, 0, 0, 0, 0, 0, 0, 0, 1, 0, 0, 0, 0, 0, 0, 0, 0, 0, 0, 0, 0, 0, 0, 1, 0, 0, 0, 0], [3, 2, 3, 0, 0, 0, 0, 0, 1, 0, 0, 0, 0, 0, 1, 0, 0, 0, 0, 0, 0, 0, 0, 0, 1, 0, 0, 0, 0, 0, 0, 0, 0, 1, 0, 0, 0, 0, 0, 0, 0, 0, 0, 0, 0, 0, 0, 0, 1, 0, 0, 0, 0], [3, 2, 3, 0, 0, 0, 0, 0, 1, 0, 0, 0, 0, 0, 1, 0, 0, 0, 0, 0, 0, 0, 0, 0, 1, 0, 0, 0, 0, 0, 0, 0, 0, 1, 0, 0, 0, 0, 0, 0, 0, 0, 0, 0, 0, 0, 0, 0, 1, 0, 0, 0, 0], [3, 2, 3, 0, 0, 0, 0, 0, 1, 0, 0, 0, 0, 0, 1, 0, 0, 0, 0, 0, 0, 0, 0, 0, 1, 0, 0, 0, 0, 0, 0, 0, 0, 1, 0, 0, 0, 0, 0, 0, 0, 0, 0, 0, 0, 0, 0, 0, 1, 0, 0, 0, 0], [3, 2, 3, 0, 0, 0, 0, 0, 1, 0, 0, 0, 0, 0, 1, 0, 0, 0, 0, 0, 0, 0, 0, 0, 1, 0, 0, 0, 0, 0, 0, 0, 0, 1, 0, 0, 0, 0, 0, 0, 0, 0, 0, 0, 0, 0, 0, 0, 1, 0, 0, 0, 0], [3, 2, 3, 0, 0, 0, 0, 0, 1, 0, 0, 0, 0, 0, 1, 0, 0, 0, 0, 0, 0, 0, 0, 0, 1, 0, 0, 0, 0, 0, 0, 0, 0, 1, 0, 0, 0, 0, 0, 0, 0, 0, 0, 0, 0, 0, 0, 0, 1, 0, 0, 0, 0], [3, 2, 3, 0, 0, 0, 0, 0, 1, 0, 0, 0, 0, 0, 1, 0, 0, 0, 0, 0, 0, 0, 0, 0, 1, 0, 0, 0, 0, 0, 0, 0, 0, 1, 0, 0, 0, 0, 0, 0, 0, 0, 0, 0, 0, 0, 0, 0, 1, 0, 0, 0, 0], [3, 2, 3, 0, 0, 0, 0, 0, 1, 0, 0, 0, 0, 0, 1, 0, 0, 0, 0, 0, 0, 0, 0, 0, 1, 0, 0, 0, 0, 0, 0, 0, 0, 1, 0, 0, 0, 0, 0, 0, 0, 0, 0, 0, 0, 0, 0, 0, 1, 0, 0, 0, 0], [3, 2, 3, 0, 0, 0, 0, 0, 1, 0, 0, 0, 0, 0, 1, 0, 0, 0, 0, 0, 0, 0, 0, 0, 1, 0, 0, 0, 0, 0, 0, 0, 0, 1, 0, 0, 0, 0, 0, 0, 0, 0, 0, 0, 0, 0, 0, 0, 1, 0, 0, 0, 0], [3, 2, 3, 0, 0, 0, 0, 0, 1, 0, 0, 0, 0, 0, 1, 0, 0, 0, 0, 0, 0, 0, 0, 0, 1, 0, 0, 0, 0, 0, 0, 0, 0, 1, 0, 0, 0, 0, 0, 0, 0, 0, 0, 0, 0, 0, 0, 0, 1, 0, 0, 0, 0], [3, 2, 3, 0, 0, 0, 0, 0, 1, 0, 0, 0, 0, 0, 1, 0, 0, 0, 0, 0, 0, 0, 0, 0, 1, 0, 0, 0, 0, 0, 0, 0, 0, 1, 0, 0, 0, 0, 0, 0, 0, 0, 0, 0, 0, 0, 0, 0, 1, 0, 0, 0, 0], [3, 2, 3, 0, 0, 0, 0, 0, 1, 0, 0, 0, 0, 0, 1, 0, 0, 0, 0, 0, 0, 0, 0, 0, 1, 0, 0, 0, 0, 0, 0, 0, 0, 1, 0, 0, 0, 0, 0, 0, 0, 0, 0, 0, 0, 0, 0, 0, 1, 0, 0, 0, 0], [3, 2, 3, 0, 0, 0, 0, 0, 1, 0, 0, 0, 0, 0, 1, 0, 0, 0, 0, 0, 0, 0, 0, 0, 1, 0, 0, 0, 0, 0, 0, 0, 0, 1, 0, 0, 0, 0, 0, 0, 0, 0, 0, 0, 0, 0, 0, 0, 1, 0, 0, 0, 0], [3, 2, 3, 0, 0, 0, 0, 0, 1, 0, 0, 0, 0, 0, 1, 0, 0, 0, 0, 0, 0, 0, 0, 0, 1, 0, 0, 0, 0, 0, 0, 0, 0, 1, 0, 0, 0, 0, 0, 0, 0, 0, 0, 0, 0, 0, 0, 0, 1, 0, 0, 0, 0], [3, 2, 3, 0, 0, 0, 0, 0, 1, 0, 0, 0, 0, 0, 1, 0, 0, 0, 0, 0, 0, 0, 0, 0, 1, 0, 0, 0, 0, 0, 0, 0, 0, 1, 0, 0, 0, 0, 0, 0, 0, 0, 0, 0, 0, 0, 0, 0, 1, 0, 0, 0, 0], [3, 2, 3, 0, 0, 0, 0, 0, 1, 0, 0, 0, 0, 0, 1, 0, 0, 0, 0, 0, 0, 0, 0, 0, 1, 0, 0, 0, 0, 0, 0, 0, 0, 1, 0, 0, 0, 0, 0, 0, 0, 0, 0, 0, 0, 0, 0, 0, 1, 0, 0, 0, 0], [3, 2, 3, 0, 0, 0, 0, 0, 1, 0, 0, 0, 0, 0, 1, 0, 0, 0, 0, 0, 0, 0, 0, 0, 1, 0, 0, 0, 0, 0, 0, 0, 0, 1, 0, 0, 0, 0, 0, 0, 0, 0, 0, 0, 0, 0, 0, 0, 1, 0, 0, 0, 0], [3, 2, 3, 0, 0, 0, 0, 0, 1, 0, 0, 0, 0, 0, 1, 0, 0, 0, 0, 0, 0, 0, 0, 0, 1, 0, 0, 0, 0, 0, 0, 0, 0, 1, 0, 0, 0, 0, 0, 0, 0, 0, 0, 0, 0, 0, 0, 0, 1, 0, 0, 0, 0], [3, 2, 3, 0, 0, 0, 0, 0, 1, 0, 0, 0, 0, 0, 1, 0, 0, 0, 0, 0, 0, 0, 0, 0, 1, 0, 0, 0, 0, 0, 0, 0, 0, 1, 0, 0, 0, 0, 0, 0, 0, 0, 0, 0, 0, 0, 0, 0, 1, 0, 0, 0, 0], [3, 2, 3, 0, 0, 0, 0, 0, 1, 0, 0, 0, 0, 0, 1, 0, 0, 0, 0, 0, 0, 0, 0, 0, 1, 0, 0, 0, 0, 0, 0, 0, 0, 1, 0, 0, 0, 0, 0, 0, 0, 0, 0, 0, 0, 0, 0, 0, 1, 0, 0, 0, 0]]\n",
      "<class 'list'>\n"
     ]
    }
   ],
   "source": [
    "pythlist = []\n",
    "for row in subset:\n",
    "    row = row.tolist()\n",
    "    pythlist.append(row)\n",
    "print(pythlist)\n",
    "print(type(pythlist[0]))"
   ]
  },
  {
   "cell_type": "code",
   "execution_count": null,
   "metadata": {},
   "outputs": [],
   "source": []
  },
  {
   "cell_type": "code",
   "execution_count": 120,
   "metadata": {},
   "outputs": [
    {
     "name": "stdout",
     "output_type": "stream",
     "text": [
      "[[0 0 1 ... 0 1 0]\n",
      " [4 1 0 ... 0 0 1]\n",
      " [6 1 0 ... 0 0 1]\n",
      " ...\n",
      " [1 0 1 ... 0 1 0]\n",
      " [0 5 3 ... 0 0 0]\n",
      " [2 1 5 ... 0 0 0]]\n"
     ]
    }
   ],
   "source": [
    "from sympy import *\n",
    "np_array = np.array(results[0])\n",
    "#A = Matrix(np_array)\n",
    "#print(A)\n",
    "print(np_array)\n",
    "#print(numbers)"
   ]
  },
  {
   "cell_type": "code",
   "execution_count": 109,
   "metadata": {},
   "outputs": [
    {
     "name": "stdout",
     "output_type": "stream",
     "text": [
      "Time in seconds:  1805.153309583664 , Time in minutes:  30.085888493061066\n",
      "iterations,  563488\n",
      "B smooth numbers found:  [3681958220435, 2008158865296, 8032635461184, 139958595150, 11186218875, 559834380600, 2419012471785, 1259627356350, 44744875500, 2239337522400, 9676049887140, 100675969875, 3498964878750, 1081898961624, 5038509425400, 178979502000, 4663137589800, 9617330407847, 6857971162350, 279655471875, 8957350089600, 402703879500, 9012133588997, 8083662300, 548124724875, 13727258428, 4327595846496, 4966055704269, 715918008000, 451813473225, 1118546780, 1311587995510, 906083728875, 1118621887500] \n",
      "total:  34\n"
     ]
    }
   ],
   "source": [
    "end = time.time()\n",
    "calc_time(start, end)\n",
    "print(\"iterations, \", results[2])\n",
    "print(\"B smooth numbers found: \", results[1], \"\\ntotal: \", len(results[1]))"
   ]
  },
  {
   "cell_type": "code",
   "execution_count": 121,
   "metadata": {},
   "outputs": [],
   "source": [
    "## store_pows is the original matrix of powers, which we use later in the computation of y\n",
    "## We don't need to concatenate the 0 row\n",
    "\n",
    "store_pows = np_array.copy()\n",
    "matrixA = (np.transpose(np_array))%2\n",
    "#print(matrixA)\n",
    "#print(\"Number of rows, number of columns: \", len(matrixA), len(matrixA[0]))\n",
    "# print(store_pows)"
   ]
  },
  {
   "cell_type": "code",
   "execution_count": 123,
   "metadata": {},
   "outputs": [
    {
     "name": "stdout",
     "output_type": "stream",
     "text": [
      "Old num rows and num columns:  30 34\n",
      "Reduced row echelon form AND mod 2 is: \n",
      "[[1 0 0 0 0 0 0 0 0 0 0 0 0 0 0 0 0 0 0 0 0 0 0 0 0 0 0 0 0 0 0 0 0 0]\n",
      " [0 1 1 0 0 0 0 0 0 0 0 0 0 0 0 0 0 0 0 0 0 0 0 0 0 0 0 0 0 0 0 0 0 0]\n",
      " [0 0 0 1 0 1 0 1 0 1 0 0 1 0 1 0 0 0 1 0 1 0 0 0 0 0 0 0 0 0 0 0 0 0]\n",
      " [0 0 0 0 1 0 0 0 1 0 0 1 0 0 0 1 0 0 0 1 0 1 0 0 1 0 0 0 1 0 0 0 1 1]\n",
      " [0 0 0 0 0 0 1 0 0 0 1 0 0 0 0 0 0 0 0 0 0 0 0 0 0 0 0 0 0 0 0 0 0 0]\n",
      " [0 0 0 0 0 0 0 0 0 0 0 0 0 1 0 0 0 0 0 0 0 0 0 0 0 0 1 0 0 0 0 0 0 0]\n",
      " [0 0 0 0 0 0 0 0 0 0 0 0 0 0 0 0 1 0 0 0 0 0 0 0 0 0 0 0 0 0 0 0 0 0]\n",
      " [0 0 0 0 0 0 0 0 0 0 0 0 0 0 0 0 0 1 0 0 0 0 0 0 0 0 0 0 0 0 0 0 0 0]\n",
      " [0 0 0 0 0 0 0 0 0 0 0 0 0 0 0 0 0 0 0 0 0 0 1 0 0 0 0 0 0 0 0 0 0 0]\n",
      " [0 0 0 0 0 0 0 0 0 0 0 0 0 0 0 0 0 0 0 0 0 0 0 1 0 0 0 0 0 0 0 0 0 0]\n",
      " [0 0 0 0 0 0 0 0 0 0 0 0 0 0 0 0 0 0 0 0 0 0 0 0 0 1 0 0 0 0 0 0 0 0]\n",
      " [0 0 0 0 0 0 0 0 0 0 0 0 0 0 0 0 0 0 0 0 0 0 0 0 0 0 0 1 0 0 0 0 0 0]\n",
      " [0 0 0 0 0 0 0 0 0 0 0 0 0 0 0 0 0 0 0 0 0 0 0 0 0 0 0 0 0 1 0 0 0 0]\n",
      " [0 0 0 0 0 0 0 0 0 0 0 0 0 0 0 0 0 0 0 0 0 0 0 0 0 0 0 0 0 0 1 0 0 0]\n",
      " [0 0 0 0 0 0 0 0 0 0 0 0 0 0 0 0 0 0 0 0 0 0 0 0 0 0 0 0 0 0 0 1 0 0]]\n",
      "New num rows, num columns:  15 34\n"
     ]
    }
   ],
   "source": [
    "from sympy import *\n",
    "\n",
    "col_num = len(matrixA[0])\n",
    "row_num = len(matrixA)\n",
    "print(\"Old num rows and num columns: \", row_num, col_num)\n",
    "L = Matrix(matrixA)\n",
    "\n",
    "aug_matrix = np.array(L.rref()[0])\n",
    "aug_matrix  = drop_zero_rows(aug_matrix)\n",
    "aug_matrix = aug_matrix %2\n",
    "\n",
    "print(\"Reduced row echelon form AND mod 2 is: \")\n",
    "print(aug_matrix)\n",
    "\n",
    "print(\"New num rows, num columns: \", len(aug_matrix), len(aug_matrix[0]))"
   ]
  },
  {
   "cell_type": "code",
   "execution_count": 22,
   "metadata": {},
   "outputs": [],
   "source": [
    "v = aug_matrix[0]"
   ]
  },
  {
   "cell_type": "code",
   "execution_count": 19,
   "metadata": {},
   "outputs": [
    {
     "name": "stdout",
     "output_type": "stream",
     "text": [
      "[0 1 1 1 1 1 1 1 1 1 1 1 1 1 1 1 1 1 1 1 1 1 1 1 1 1 1 1]\n"
     ]
    }
   ],
   "source": [
    "# v: 0s are non-free variables, 1s are fixed variables which will be 1 (free or non-free),\n",
    "# 2s are fixed variables which will be 0 (free or non-free)\n",
    "\n",
    "v = np.ones(col_num, dtype = 'int')\n",
    "\n",
    "row_num = len(aug_matrix)   # the row_num has changed after dropping the 0 rows\n",
    "# find the leading entries, aka the non-free variables, set them to 0 in the v vector\n",
    "for i in range(0, row_num):\n",
    "    check_main = 1\n",
    "    for j in range(i, col_num):\n",
    "        if(aug_matrix[i][j]==1 and check_main ==1):\n",
    "            v[j]=0\n",
    "            break\n",
    "\n",
    "print(v)"
   ]
  },
  {
   "cell_type": "code",
   "execution_count": 23,
   "metadata": {},
   "outputs": [
    {
     "name": "stdout",
     "output_type": "stream",
     "text": [
      "28\n"
     ]
    }
   ],
   "source": [
    "print(v.sum())"
   ]
  },
  {
   "cell_type": "code",
   "execution_count": null,
   "metadata": {},
   "outputs": [],
   "source": [
    "for i in range(len(store_pows)):\n",
    "    \n",
    "    newnum = np.multiply()"
   ]
  },
  {
   "cell_type": "code",
   "execution_count": 20,
   "metadata": {},
   "outputs": [
    {
     "name": "stdout",
     "output_type": "stream",
     "text": [
      "[0 1 2 2 2 2 2 2 2 2 2 2 2 2 2 2 2 2 2 2 2 2 2 2 2 2 2 2]\n"
     ]
    }
   ],
   "source": [
    "# set one of the free variable to 1, all the rest of the free variables to 2.\n",
    "## THIS IS A HUGE PLACE FOR OPTIMIZATION, IF WE PICK THE RIGHT FREE VARIABLE LIFE WILL BE EASIER LATER\n",
    "\n",
    "delete_ones = False\n",
    "for i in range(0, col_num):\n",
    "    if(delete_ones==True and v[i]==1):\n",
    "        v[i]=2\n",
    "    if(v[i]==1):\n",
    "        delete_ones = True\n",
    "\n",
    "print(v)"
   ]
  },
  {
   "cell_type": "code",
   "execution_count": 3,
   "metadata": {},
   "outputs": [
    {
     "name": "stdout",
     "output_type": "stream",
     "text": [
      "[1 0 0 0 0 0 1 0 0 1 1 0 0 0 0 1]\n"
     ]
    }
   ],
   "source": [
    "a = np.array([1, 0, 0, 0, 0, 0, 1, 0, 0, 1, 1, 0, 0, 0, 0, 1])\n",
    "first = np.where(a==1)\n",
    "print(first)\n",
    "a[a==1] = 2\n",
    "a[first] = 1\n",
    "print(a)"
   ]
  },
  {
   "cell_type": "code",
   "execution_count": 21,
   "metadata": {},
   "outputs": [
    {
     "name": "stdout",
     "output_type": "stream",
     "text": [
      "final v vector is  [1 1 0 0 0 0 0 0 0 0 0 0 0 0 0 0 0 0 0 0 0 0 0 0 0 0 0 0]\n"
     ]
    }
   ],
   "source": [
    "# Optimized with numpy\n",
    "\n",
    "for i in reversed(range(0, row_num)):\n",
    "    sum = np.multiply(v, aug_matrix[i]).sum()        # equal to sum = sum + sum + v[j]*aug_matrix[i][j] for all j\n",
    "    sum = sum%2;\n",
    "    zer =(np.argwhere(v == 0).flatten())\n",
    "    if(len(zer)!=0):\n",
    "        index = zer[len(zer)-1]   # last entry\n",
    "        if(sum==0):\n",
    "            v[index] = 2\n",
    "        else:\n",
    "            v[index] = 1\n",
    "        \n",
    "print(\"final v vector is \", v%2)\n",
    "        "
   ]
  },
  {
   "cell_type": "code",
   "execution_count": 22,
   "metadata": {},
   "outputs": [
    {
     "name": "stdout",
     "output_type": "stream",
     "text": [
      "28\n"
     ]
    },
    {
     "ename": "ValueError",
     "evalue": "operands could not be broadcast together with shapes (0,) (28,) ",
     "output_type": "error",
     "traceback": [
      "\u001b[1;31m---------------------------------------------------------------------------\u001b[0m",
      "\u001b[1;31mValueError\u001b[0m                                Traceback (most recent call last)",
      "\u001b[1;32m<ipython-input-22-1a6ae5b7f379>\u001b[0m in \u001b[0;36m<module>\u001b[1;34m\u001b[0m\n\u001b[0;32m      3\u001b[0m \u001b[0mv\u001b[0m \u001b[1;33m=\u001b[0m \u001b[0mv\u001b[0m\u001b[1;33m%\u001b[0m\u001b[1;36m2\u001b[0m\u001b[1;33m\u001b[0m\u001b[1;33m\u001b[0m\u001b[0m\n\u001b[0;32m      4\u001b[0m \u001b[0mprint\u001b[0m\u001b[1;33m(\u001b[0m\u001b[0mlen\u001b[0m\u001b[1;33m(\u001b[0m\u001b[0mv\u001b[0m\u001b[1;33m)\u001b[0m\u001b[1;33m)\u001b[0m\u001b[1;33m\u001b[0m\u001b[1;33m\u001b[0m\u001b[0m\n\u001b[1;32m----> 5\u001b[1;33m \u001b[0mx\u001b[0m \u001b[1;33m=\u001b[0m \u001b[0mnp\u001b[0m\u001b[1;33m.\u001b[0m\u001b[0mmultiply\u001b[0m\u001b[1;33m(\u001b[0m\u001b[0mnums\u001b[0m\u001b[1;33m,\u001b[0m \u001b[0mv\u001b[0m\u001b[1;33m)\u001b[0m     \u001b[1;31m# element-wise multiplication of two arrays\u001b[0m\u001b[1;33m\u001b[0m\u001b[1;33m\u001b[0m\u001b[0m\n\u001b[0m\u001b[0;32m      6\u001b[0m \u001b[0mprint\u001b[0m\u001b[1;33m(\u001b[0m\u001b[0mx\u001b[0m\u001b[1;33m)\u001b[0m\u001b[1;33m\u001b[0m\u001b[1;33m\u001b[0m\u001b[0m\n\u001b[0;32m      7\u001b[0m \u001b[0mx\u001b[0m\u001b[1;33m[\u001b[0m\u001b[0mx\u001b[0m\u001b[1;33m==\u001b[0m\u001b[1;36m0\u001b[0m\u001b[1;33m]\u001b[0m \u001b[1;33m=\u001b[0m \u001b[1;36m1\u001b[0m\u001b[1;33m\u001b[0m\u001b[1;33m\u001b[0m\u001b[0m\n",
      "\u001b[1;31mValueError\u001b[0m: operands could not be broadcast together with shapes (0,) (28,) "
     ]
    }
   ],
   "source": [
    "# optimized with numpy\n",
    "\n",
    "v = v%2\n",
    "print(len(v))\n",
    "x = np.multiply(nums, v)     # element-wise multiplication of two arrays\n",
    "print(x)\n",
    "x[x==0] = 1\n",
    "x = np.prod(x)      # prod is essentially multiplying elements of an array together\n",
    "print(x)"
   ]
  },
  {
   "cell_type": "code",
   "execution_count": 23,
   "metadata": {},
   "outputs": [
    {
     "name": "stdout",
     "output_type": "stream",
     "text": [
      "[0]\n",
      "[[1 1 1 0 0 0 1 1 0 0 0 0 0 0 0 0 0 0 0 0 0 0 0 0]\n",
      " [3 1 1 0 0 0 1 1 0 0 0 0 0 0 0 0 0 0 0 0 0 0 0 0]\n",
      " [1 3 1 0 0 0 1 1 0 0 0 0 0 0 0 0 0 0 0 0 0 0 0 0]\n",
      " [5 1 1 0 0 0 1 1 0 0 0 0 0 0 0 0 0 0 0 0 0 0 0 0]\n",
      " [1 1 3 0 0 0 1 1 0 0 0 0 0 0 0 0 0 0 0 0 0 0 0 0]\n",
      " [3 3 1 0 0 0 1 1 0 0 0 0 0 0 0 0 0 0 0 0 0 0 0 0]\n",
      " [1 1 1 2 0 0 1 1 0 0 0 0 0 0 0 0 0 0 0 0 0 0 0 0]\n",
      " [7 1 1 0 0 0 1 1 0 0 0 0 0 0 0 0 0 0 0 0 0 0 0 0]\n",
      " [1 5 1 0 0 0 1 1 0 0 0 0 0 0 0 0 0 0 0 0 0 0 0 0]\n",
      " [3 1 3 0 0 0 1 1 0 0 0 0 0 0 0 0 0 0 0 0 0 0 0 0]\n",
      " [1 1 1 0 2 0 1 1 0 0 0 0 0 0 0 0 0 0 0 0 0 0 0 0]\n",
      " [5 3 1 0 0 0 1 1 0 0 0 0 0 0 0 0 0 0 0 0 0 0 0 0]\n",
      " [1 1 1 0 0 2 1 1 0 0 0 0 0 0 0 0 0 0 0 0 0 0 0 0]\n",
      " [3 1 1 2 0 0 1 1 0 0 0 0 0 0 0 0 0 0 0 0 0 0 0 0]\n",
      " [1 3 3 0 0 0 1 1 0 0 0 0 0 0 0 0 0 0 0 0 0 0 0 0]\n",
      " [9 1 1 0 0 0 1 1 0 0 0 0 0 0 0 0 0 0 0 0 0 0 0 0]\n",
      " [1 1 1 0 0 0 3 1 0 0 0 0 0 0 0 0 0 0 0 0 0 0 0 0]\n",
      " [3 5 1 0 0 0 1 1 0 0 0 0 0 0 0 0 0 0 0 0 0 0 0 0]\n",
      " [1 1 1 0 0 0 1 3 0 0 0 0 0 0 0 0 0 0 0 0 0 0 0 0]\n",
      " [5 1 3 0 0 0 1 1 0 0 0 0 0 0 0 0 0 0 0 0 0 0 0 0]\n",
      " [1 3 1 2 0 0 1 1 0 0 0 0 0 0 0 0 0 0 0 0 0 0 0 0]\n",
      " [3 1 1 0 2 0 1 1 0 0 0 0 0 0 0 0 0 0 0 0 0 0 0 0]\n",
      " [1 1 1 0 0 0 1 1 2 0 0 0 0 0 0 0 0 0 0 0 0 0 0 0]\n",
      " [7 3 1 0 0 0 1 1 0 0 0 0 0 0 0 0 0 0 0 0 0 0 0 0]\n",
      " [1 1 5 0 0 0 1 1 0 0 0 0 0 0 0 0 0 0 0 0 0 0 0 0]\n",
      " [3 1 1 0 0 2 1 1 0 0 0 0 0 0 0 0 0 0 0 0 0 0 0 0]\n",
      " [1 7 1 0 0 0 1 1 0 0 0 0 0 0 0 0 0 0 0 0 0 0 0 0]\n",
      " [5 1 1 2 0 0 1 1 0 0 0 0 0 0 0 0 0 0 0 0 0 0 0 0]]\n",
      "[[1 1 1 0 0 0 1 1 0 0 0 0 0 0 0 0 0 0 0 0 0 0 0 0]]\n"
     ]
    }
   ],
   "source": [
    "y_v  = np.zeros(size_of_bound)\n",
    "indices = np.argwhere(v==1)[0]\n",
    "print(indices)\n",
    "print(store_pows)\n",
    "store_pows = store_pows[indices]\n",
    "print(store_pows)\n"
   ]
  },
  {
   "cell_type": "code",
   "execution_count": 24,
   "metadata": {},
   "outputs": [
    {
     "name": "stdout",
     "output_type": "stream",
     "text": [
      "y_v:  [0.5 0.5 0.5 0.  0.  0.  0.5 0.5 0.  0.  0.  0.  0.  0.  0.  0.  0.  0.\n",
      " 0.  0.  0.  0.  0.  0. ]\n",
      "[1.41421356 1.73205081 2.23606798 1.         1.         1.\n",
      " 4.12310563 4.35889894 1.         1.         1.         1.\n",
      " 1.         1.         1.         1.         1.         1.\n",
      " 1.         1.         1.         1.         1.         1.        ]\n"
     ]
    },
    {
     "ename": "NameError",
     "evalue": "name 'x' is not defined",
     "output_type": "error",
     "traceback": [
      "\u001b[1;31m---------------------------------------------------------------------------\u001b[0m",
      "\u001b[1;31mNameError\u001b[0m                                 Traceback (most recent call last)",
      "\u001b[1;32m<ipython-input-24-4f0f64431043>\u001b[0m in \u001b[0;36m<module>\u001b[1;34m\u001b[0m\n\u001b[0;32m     13\u001b[0m \u001b[0my\u001b[0m \u001b[1;33m=\u001b[0m \u001b[0mnp\u001b[0m\u001b[1;33m.\u001b[0m\u001b[0mprod\u001b[0m\u001b[1;33m(\u001b[0m\u001b[0my\u001b[0m\u001b[1;33m)\u001b[0m   \u001b[1;31m# no need to check y_v == 0, since anything raised to 0 is 1, and on multiplication, 1 has no effect\u001b[0m\u001b[1;33m\u001b[0m\u001b[1;33m\u001b[0m\u001b[0m\n\u001b[0;32m     14\u001b[0m \u001b[1;33m\u001b[0m\u001b[0m\n\u001b[1;32m---> 15\u001b[1;33m \u001b[0mprint\u001b[0m\u001b[1;33m(\u001b[0m\u001b[1;34m\"x is \"\u001b[0m\u001b[1;33m,\u001b[0m \u001b[0mx\u001b[0m\u001b[1;33m,\u001b[0m \u001b[1;34m\", y is \"\u001b[0m\u001b[1;33m,\u001b[0m \u001b[0my\u001b[0m\u001b[1;33m)\u001b[0m\u001b[1;33m\u001b[0m\u001b[1;33m\u001b[0m\u001b[0m\n\u001b[0m",
      "\u001b[1;31mNameError\u001b[0m: name 'x' is not defined"
     ]
    }
   ],
   "source": [
    "for row in store_pows:\n",
    "    y_v = np.add(y_v, row)\n",
    "\n",
    "y_v = y_v/2\n",
    "print(\"y_v: \", y_v)\n",
    "\n",
    "y = 1\n",
    "z = np.power(primes, y_v)\n",
    "print(z)\n",
    "y = y*z\n",
    "\n",
    "\n",
    "y = np.prod(y)   # no need to check y_v == 0, since anything raised to 0 is 1, and on multiplication, 1 has no effect\n",
    "    \n",
    "print(\"x is \", x, \", y is \", y)"
   ]
  },
  {
   "cell_type": "code",
   "execution_count": 20,
   "metadata": {},
   "outputs": [
    {
     "name": "stdout",
     "output_type": "stream",
     "text": [
      "1\n",
      "95775679\n"
     ]
    }
   ],
   "source": [
    "k = math.gcd(x -int(y), the_number)\n",
    "print(k)\n",
    "print (int(the_number/k)) "
   ]
  },
  {
   "cell_type": "code",
   "execution_count": null,
   "metadata": {},
   "outputs": [],
   "source": []
  }
 ],
 "metadata": {
  "kernelspec": {
   "display_name": "Python 3",
   "language": "python",
   "name": "python3"
  },
  "language_info": {
   "codemirror_mode": {
    "name": "ipython",
    "version": 3
   },
   "file_extension": ".py",
   "mimetype": "text/x-python",
   "name": "python",
   "nbconvert_exporter": "python",
   "pygments_lexer": "ipython3",
   "version": "3.7.6"
  }
 },
 "nbformat": 4,
 "nbformat_minor": 4
}
