{
 "cells": [
  {
   "cell_type": "code",
   "execution_count": 48,
   "metadata": {},
   "outputs": [],
   "source": [
    "import math\n",
    "import numpy as np\n",
    "import sympy\n",
    "import time "
   ]
  },
  {
   "cell_type": "code",
   "execution_count": 49,
   "metadata": {},
   "outputs": [],
   "source": [
    "def calc_time(start, end):\n",
    "    seconds = end - start\n",
    "    mins = seconds / 60\n",
    "    print('Time in seconds: ', str(seconds), ', Time in minutes: ', str(mins))\n",
    "    return seconds, mins"
   ]
  },
  {
   "cell_type": "code",
   "execution_count": 60,
   "metadata": {},
   "outputs": [
    {
     "name": "stdout",
     "output_type": "stream",
     "text": [
      "time taken in s:  0.0010349750518798828\n"
     ]
    }
   ],
   "source": [
    "# def gen_new_Bsmooth_candidates(primes, exponent_arr):\n",
    "#     candidate_indices = np.where(x)\n",
    "#     for i in range(len(primes)):\n",
    "        \n",
    "start = time.time()\n",
    "for i in range(100000):\n",
    "    continue\n",
    "end = time.time()\n",
    "print(\"time taken in s: \", end-start)"
   ]
  },
  {
   "cell_type": "code",
   "execution_count": 51,
   "metadata": {},
   "outputs": [],
   "source": [
    "def get_multiples_sqrtN(multiple, s_const):\n",
    "    return (multiple*s_const)**2 - n"
   ]
  },
  {
   "cell_type": "code",
   "execution_count": 52,
   "metadata": {},
   "outputs": [],
   "source": [
    "def f(x):\n",
    "    return (x+s_const)**2 - the_number"
   ]
  },
  {
   "cell_type": "code",
   "execution_count": 53,
   "metadata": {},
   "outputs": [],
   "source": [
    "# Final optimized version \n",
    "def get_primes_less_thanB(bound):                      # eratosthenes way\n",
    "    check_until = int(bound**0.5)\n",
    "    unmarked = np.array([x for x in range(2, bound)])\n",
    "    q = 2\n",
    "    i = 0\n",
    "    while True:\n",
    "        u = unmarked[i]\n",
    "        if u> check_until:               # only check numbers up to sqrt(bound)\n",
    "            break\n",
    "        u_idx = np.where(unmarked == u)[0][0]\n",
    "        max_idx = bound//u\n",
    "        listof_multiples = [u*i for i in range(q, max_idx+1)]\n",
    "        u_multiples = np.array(listof_multiples)\n",
    "        unmarked = np.setdiff1d(unmarked, u_multiples)   # numpy set diff without changing order of elements in list\n",
    "        q = u\n",
    "        i +=1\n",
    "    print(\"Number of elements less than bound = \", bound, \" is: \", len(unmarked))\n",
    "    return (unmarked)"
   ]
  },
  {
   "cell_type": "code",
   "execution_count": 54,
   "metadata": {},
   "outputs": [],
   "source": [
    "# Correct optimized version\n",
    "def check_Bsmooth(primes, num):\n",
    "    powers_of_primes= []\n",
    "    num_remaining= num                         \n",
    "    for prime in primes: \n",
    "        i = 0                                   # i = power of prime\n",
    "        if (num_remaining%prime == 0):\n",
    "            while (num_remaining%prime ==0):   #keep dividing for each power of the prime\n",
    "                quotient = num_remaining/prime\n",
    "                num_remaining = quotient\n",
    "                i +=1\n",
    "        powers_of_primes.append(i)\n",
    "        if num_remaining == 1:     \n",
    "            diff = len(primes)-len(powers_of_primes)\n",
    "            if diff>0:\n",
    "                zeros = [0 for k in range(diff)]\n",
    "                return powers_of_primes + zeros\n",
    "            return powers_of_primes\n",
    "    #print(\"Number is not B smooth\")\n",
    "    return []"
   ]
  },
  {
   "cell_type": "markdown",
   "metadata": {},
   "source": [
    "#### Start Choosing parameters for testing: bound, n, etc;"
   ]
  },
  {
   "cell_type": "code",
   "execution_count": 10,
   "metadata": {},
   "outputs": [
    {
     "name": "stdout",
     "output_type": "stream",
     "text": [
      "4052.703075635406\n"
     ]
    }
   ],
   "source": [
    "## I have kept the generator cell, but I generate more numbers in the next one. The prime number is set in this cell.\n",
    "## bound is commented out, as it is already set, and the array of primes is already created\n",
    "\n",
    "# n = 169214564391\n",
    "# n = 12110279\n",
    "# n = 62615533\n",
    "#n = 95775679\n",
    "the_number = n\n",
    "s_const = int(math.sqrt(n)) + 1\n",
    "A_const = (math.sqrt(2)-1)*math.sqrt(n)-1      \n",
    "\n",
    "print(A_const)"
   ]
  },
  {
   "cell_type": "code",
   "execution_count": 55,
   "metadata": {},
   "outputs": [
    {
     "name": "stdout",
     "output_type": "stream",
     "text": [
      "Number of elements less than bound =  50  is:  15\n"
     ]
    }
   ],
   "source": [
    "# A first simulation\n",
    "bound = 50\n",
    "primes = np.array(get_primes_less_thanB(bound))"
   ]
  },
  {
   "cell_type": "code",
   "execution_count": 32,
   "metadata": {},
   "outputs": [],
   "source": [
    "def a_congruent_b(a, b, n):\n",
    "    if a==(b%n):\n",
    "        return True\n",
    "    return False"
   ]
  },
  {
   "cell_type": "code",
   "execution_count": 28,
   "metadata": {},
   "outputs": [
    {
     "name": "stdout",
     "output_type": "stream",
     "text": [
      "True\n"
     ]
    }
   ],
   "source": [
    "a = 11\n",
    "b = 911\n",
    "print(a_congruent_b(a, b, 100))"
   ]
  },
  {
   "cell_type": "code",
   "execution_count": 92,
   "metadata": {},
   "outputs": [],
   "source": [
    "def generate_BSsquares(primes, n, multiple):\n",
    "    exponents_list = []\n",
    "    residues = []\n",
    "    floor_sqrtN = int(math.sqrt(n)) +1\n",
    "    iters = 0\n",
    "    while(True):\n",
    "        if iters>1000000:\n",
    "            break\n",
    "        candidate = ((multiple*floor_sqrtN)**2)%n\n",
    "        #print(candidate)\n",
    "        exp_vec = check_Bsmooth(primes, candidate)\n",
    "        if exp_vec != []:\n",
    "            exp_arr = np.array(exp_vec)\n",
    "            residue_vec = np.power(primes, exp_arr)\n",
    "            #print(\"Residue vector: \", residue_vec)\n",
    "            pythlist = residue_vec.tolist()         # numpy leads to overflow, convert to python list again\n",
    "            residue = 1\n",
    "            for i in range(len(pythlist)):\n",
    "                residue *= pythlist[i]\n",
    "            residues.append(residue)\n",
    "            exponents_list.append(exp_vec)\n",
    "            print(\"Found B-smooth square! with exponents: \", exp_arr, \" and quadratic residue: \", residue)\n",
    "\n",
    "        if len(residues) > len(primes) + 3:\n",
    "            print(\"Breaking, len of residues: \", len(residues), \" len of primes: \", len(primes))\n",
    "            break\n",
    "        iters += 1\n",
    "        multiple += 1\n",
    "    return [exponents_list, residues, iters]"
   ]
  },
  {
   "cell_type": "code",
   "execution_count": 87,
   "metadata": {},
   "outputs": [
    {
     "name": "stdout",
     "output_type": "stream",
     "text": [
      "Found B-smooth square! with exponents:  [1 1 1 0 0 0 1 1 0 0 0 0 0 0 0]  and quadratic residue:  9690\n",
      "Found B-smooth square! with exponents:  [3 1 1 0 0 0 1 1 0 0 0 0 0 0 0]  and quadratic residue:  38760\n",
      "Found B-smooth square! with exponents:  [1 3 1 0 0 0 1 1 0 0 0 0 0 0 0]  and quadratic residue:  87210\n",
      "Found B-smooth square! with exponents:  [5 1 1 0 0 0 1 1 0 0 0 0 0 0 0]  and quadratic residue:  155040\n",
      "Found B-smooth square! with exponents:  [1 1 3 0 0 0 1 1 0 0 0 0 0 0 0]  and quadratic residue:  242250\n",
      "Found B-smooth square! with exponents:  [3 3 1 0 0 0 1 1 0 0 0 0 0 0 0]  and quadratic residue:  348840\n",
      "Found B-smooth square! with exponents:  [1 1 1 2 0 0 1 1 0 0 0 0 0 0 0]  and quadratic residue:  474810\n",
      "Found B-smooth square! with exponents:  [7 1 1 0 0 0 1 1 0 0 0 0 0 0 0]  and quadratic residue:  620160\n",
      "Found B-smooth square! with exponents:  [1 5 1 0 0 0 1 1 0 0 0 0 0 0 0]  and quadratic residue:  784890\n",
      "Found B-smooth square! with exponents:  [3 1 3 0 0 0 1 1 0 0 0 0 0 0 0]  and quadratic residue:  969000\n",
      "Found B-smooth square! with exponents:  [1 1 1 0 2 0 1 1 0 0 0 0 0 0 0]  and quadratic residue:  1172490\n",
      "Found B-smooth square! with exponents:  [5 3 1 0 0 0 1 1 0 0 0 0 0 0 0]  and quadratic residue:  1395360\n",
      "Found B-smooth square! with exponents:  [1 1 1 0 0 2 1 1 0 0 0 0 0 0 0]  and quadratic residue:  1637610\n",
      "Found B-smooth square! with exponents:  [3 1 1 2 0 0 1 1 0 0 0 0 0 0 0]  and quadratic residue:  1899240\n",
      "Found B-smooth square! with exponents:  [1 3 3 0 0 0 1 1 0 0 0 0 0 0 0]  and quadratic residue:  2180250\n",
      "Found B-smooth square! with exponents:  [9 1 1 0 0 0 1 1 0 0 0 0 0 0 0]  and quadratic residue:  2480640\n",
      "Found B-smooth square! with exponents:  [1 1 1 0 0 0 3 1 0 0 0 0 0 0 0]  and quadratic residue:  2800410\n",
      "Found B-smooth square! with exponents:  [3 5 1 0 0 0 1 1 0 0 0 0 0 0 0]  and quadratic residue:  3139560\n",
      "Found B-smooth square! with exponents:  [1 1 1 0 0 0 1 3 0 0 0 0 0 0 0]  and quadratic residue:  3498090\n",
      "Breaking, len of residues:  19  len of primes:  15\n",
      "Time in seconds:  0.00504755973815918 , Time in minutes:  8.412599563598633e-05\n",
      "iterations,  18\n",
      "B smooth numbers found:  [9690, 38760, 87210, 155040, 242250, 348840, 474810, 620160, 784890, 969000, 1172490, 1395360, 1637610, 1899240, 2180250, 2480640, 2800410, 3139560, 3498090] \n",
      "total:  19\n"
     ]
    }
   ],
   "source": [
    "# Sample test of the function above\n",
    "n = 95775679\n",
    "multiple = 1\n",
    "start = time.time()\n",
    "\n",
    "results = generate_BSsquares(primes, n, multiple)\n",
    "\n",
    "end = time.time()\n",
    "calc_time(start, end)\n",
    "print(\"iterations, \", results[2])\n",
    "print(\"B smooth numbers found: \", results[1], \"\\ntotal: \", len(results[1]))"
   ]
  },
  {
   "cell_type": "markdown",
   "metadata": {},
   "source": [
    "##### Test 2: on larger prime - just copy paste the block from above and change n"
   ]
  },
  {
   "cell_type": "code",
   "execution_count": 88,
   "metadata": {},
   "outputs": [
    {
     "name": "stdout",
     "output_type": "stream",
     "text": [
      "Found B-smooth square! with exponents:  [2 2 0 0 0 0 0 0 0 0 0 0 0 0 0]  and quadratic residue:  36\n",
      "Found B-smooth square! with exponents:  [4 2 0 0 0 0 0 0 0 0 0 0 0 0 0]  and quadratic residue:  144\n",
      "Found B-smooth square! with exponents:  [2 4 0 0 0 0 0 0 0 0 0 0 0 0 0]  and quadratic residue:  324\n",
      "Found B-smooth square! with exponents:  [6 2 0 0 0 0 0 0 0 0 0 0 0 0 0]  and quadratic residue:  576\n",
      "Found B-smooth square! with exponents:  [2 2 2 0 0 0 0 0 0 0 0 0 0 0 0]  and quadratic residue:  900\n",
      "Found B-smooth square! with exponents:  [4 4 0 0 0 0 0 0 0 0 0 0 0 0 0]  and quadratic residue:  1296\n",
      "Found B-smooth square! with exponents:  [2 2 0 2 0 0 0 0 0 0 0 0 0 0 0]  and quadratic residue:  1764\n",
      "Found B-smooth square! with exponents:  [8 2 0 0 0 0 0 0 0 0 0 0 0 0 0]  and quadratic residue:  2304\n",
      "Found B-smooth square! with exponents:  [2 6 0 0 0 0 0 0 0 0 0 0 0 0 0]  and quadratic residue:  2916\n",
      "Found B-smooth square! with exponents:  [4 2 2 0 0 0 0 0 0 0 0 0 0 0 0]  and quadratic residue:  3600\n",
      "Found B-smooth square! with exponents:  [2 2 0 0 2 0 0 0 0 0 0 0 0 0 0]  and quadratic residue:  4356\n",
      "Found B-smooth square! with exponents:  [6 4 0 0 0 0 0 0 0 0 0 0 0 0 0]  and quadratic residue:  5184\n",
      "Found B-smooth square! with exponents:  [2 2 0 0 0 2 0 0 0 0 0 0 0 0 0]  and quadratic residue:  6084\n",
      "Found B-smooth square! with exponents:  [4 2 0 2 0 0 0 0 0 0 0 0 0 0 0]  and quadratic residue:  7056\n",
      "Found B-smooth square! with exponents:  [2 4 2 0 0 0 0 0 0 0 0 0 0 0 0]  and quadratic residue:  8100\n",
      "Found B-smooth square! with exponents:  [10  2  0  0  0  0  0  0  0  0  0  0  0  0  0]  and quadratic residue:  9216\n",
      "Found B-smooth square! with exponents:  [2 2 0 0 0 0 2 0 0 0 0 0 0 0 0]  and quadratic residue:  10404\n",
      "Found B-smooth square! with exponents:  [4 6 0 0 0 0 0 0 0 0 0 0 0 0 0]  and quadratic residue:  11664\n",
      "Found B-smooth square! with exponents:  [2 2 0 0 0 0 0 2 0 0 0 0 0 0 0]  and quadratic residue:  12996\n",
      "Breaking, len of residues:  19  len of primes:  15\n",
      "Time in seconds:  0.010944366455078125 , Time in minutes:  0.00018240610758463543\n",
      "iterations,  18\n",
      "B smooth numbers found:  [36, 144, 324, 576, 900, 1296, 1764, 2304, 2916, 3600, 4356, 5184, 6084, 7056, 8100, 9216, 10404, 11664, 12996] \n",
      "total:  19\n"
     ]
    }
   ],
   "source": [
    "n = 62615533\n",
    "multiple = 1\n",
    "start = time.time()\n",
    "\n",
    "results = generate_BSsquares(primes, n, multiple)\n",
    "\n",
    "end = time.time()\n",
    "calc_time(start, end)\n",
    "print(\"iterations, \", results[2])\n",
    "print(\"B smooth numbers found: \", results[1], \"\\ntotal: \", len(results[1]))"
   ]
  },
  {
   "cell_type": "markdown",
   "metadata": {},
   "source": [
    "#### # Test 3: on even larger prime - again copy paste the block from above and change n\n",
    "#### Trial 1, 2: oops, did not work? - Changed break point to be 100 fold more than for the other 2\n",
    "# Result: Not bad!"
   ]
  },
  {
   "cell_type": "code",
   "execution_count": 93,
   "metadata": {},
   "outputs": [
    {
     "name": "stdout",
     "output_type": "stream",
     "text": [
      "Found B-smooth square! with exponents:  [0 2 0 2 0 0 0 0 0 1 1 0 2 1 0]  and quadratic residue:  28657245897\n",
      "Found B-smooth square! with exponents:  [2 2 0 2 0 0 0 0 0 1 1 0 2 1 0]  and quadratic residue:  114628983588\n",
      "Found B-smooth square! with exponents:  [0 2 3 0 0 1 0 3 0 0 0 0 1 0 0]  and quadratic residue:  4112827875\n",
      "Found B-smooth square! with exponents:  [6 6 0 0 0 1 0 0 0 1 0 0 1 0 1]  and quadratic residue:  33894604224\n",
      "Found B-smooth square! with exponents:  [2 2 3 0 0 1 0 3 0 0 0 0 1 0 0]  and quadratic residue:  16451311500\n",
      "Found B-smooth square! with exponents:  [3 5 0 2 0 0 1 0 0 0 0 0 1 2 0]  and quadratic residue:  122761455768\n",
      "Found B-smooth square! with exponents:  [0 2 0 1 0 2 1 2 0 1 0 0 0 1 0]  and quadratic residue:  81479776833\n",
      "Found B-smooth square! with exponents:  [0 4 3 0 0 1 0 3 0 0 0 0 1 0 0]  and quadratic residue:  37015450875\n",
      "Found B-smooth square! with exponents:  [8 6 0 0 0 1 0 0 0 1 0 0 1 0 1]  and quadratic residue:  135578416896\n",
      "Found B-smooth square! with exponents:  [16  5  0  1  0  0  0  0  1  0  0  1  0  0  0]  and quadratic residue:  94866702336\n",
      "Found B-smooth square! with exponents:  [6 1 0 1 0 0 0 1 0 1 0 1 1 0 0]  and quadratic residue:  1123405248\n",
      "Found B-smooth square! with exponents:  [4 2 3 0 0 1 0 3 0 0 0 0 1 0 0]  and quadratic residue:  65805246000\n",
      "Found B-smooth square! with exponents:  [8 1 3 2 0 0 0 1 0 0 1 0 1 0 0]  and quadratic residue:  113596896000\n",
      "Found B-smooth square! with exponents:  [1 1 3 0 2 0 0 0 1 2 0 0 0 1 0]  and quadratic residue:  75481221750\n",
      "Found B-smooth square! with exponents:  [0 2 5 0 0 1 0 3 0 0 0 0 1 0 0]  and quadratic residue:  102820696875\n",
      "Found B-smooth square! with exponents:  [0 1 0 0 1 0 0 1 0 1 2 1 0 0 1]  and quadratic residue:  30387047757\n",
      "Found B-smooth square! with exponents:  [2 4 3 0 0 1 0 3 0 0 0 0 1 0 0]  and quadratic residue:  148061803500\n",
      "Found B-smooth square! with exponents:  [0 1 0 1 3 0 0 1 0 0 0 1 0 0 2]  and quadratic residue:  43405862577\n",
      "Found B-smooth square! with exponents:  [1 1 1 0 1 0 0 1 2 0 0 0 0 1 1]  and quadratic residue:  6703313430\n",
      "Breaking, len of residues:  19  len of primes:  15\n",
      "Time in seconds:  9.145801305770874 , Time in minutes:  0.1524300217628479\n",
      "iterations,  315273\n",
      "B smooth numbers found:  [28657245897, 114628983588, 4112827875, 33894604224, 16451311500, 122761455768, 81479776833, 37015450875, 135578416896, 94866702336, 1123405248, 65805246000, 113596896000, 75481221750, 102820696875, 30387047757, 148061803500, 43405862577, 6703313430] \n",
      "total:  19\n"
     ]
    }
   ],
   "source": [
    "n = 169214564391    # 12 digits :))\n",
    "multiple = 2\n",
    "start = time.time()\n",
    "\n",
    "results = generate_BSsquares(primes, n, multiple)\n",
    "\n",
    "end = time.time()\n",
    "calc_time(start, end)\n",
    "print(\"iterations, \", results[2])\n",
    "print(\"B smooth numbers found: \", results[1], \"\\ntotal: \", len(results[1]))"
   ]
  },
  {
   "cell_type": "code",
   "execution_count": 16,
   "metadata": {},
   "outputs": [
    {
     "name": "stdout",
     "output_type": "stream",
     "text": [
      "[[1 1 1 0 0 0 1 1 0 0 0 0 0 0 0 0 0 0 0 0 0 0 0 0]\n",
      " [3 1 1 0 0 0 1 1 0 0 0 0 0 0 0 0 0 0 0 0 0 0 0 0]\n",
      " [1 3 1 0 0 0 1 1 0 0 0 0 0 0 0 0 0 0 0 0 0 0 0 0]\n",
      " [5 1 1 0 0 0 1 1 0 0 0 0 0 0 0 0 0 0 0 0 0 0 0 0]\n",
      " [1 1 3 0 0 0 1 1 0 0 0 0 0 0 0 0 0 0 0 0 0 0 0 0]\n",
      " [3 3 1 0 0 0 1 1 0 0 0 0 0 0 0 0 0 0 0 0 0 0 0 0]\n",
      " [1 1 1 2 0 0 1 1 0 0 0 0 0 0 0 0 0 0 0 0 0 0 0 0]\n",
      " [7 1 1 0 0 0 1 1 0 0 0 0 0 0 0 0 0 0 0 0 0 0 0 0]\n",
      " [1 5 1 0 0 0 1 1 0 0 0 0 0 0 0 0 0 0 0 0 0 0 0 0]\n",
      " [3 1 3 0 0 0 1 1 0 0 0 0 0 0 0 0 0 0 0 0 0 0 0 0]\n",
      " [1 1 1 0 2 0 1 1 0 0 0 0 0 0 0 0 0 0 0 0 0 0 0 0]\n",
      " [5 3 1 0 0 0 1 1 0 0 0 0 0 0 0 0 0 0 0 0 0 0 0 0]\n",
      " [1 1 1 0 0 2 1 1 0 0 0 0 0 0 0 0 0 0 0 0 0 0 0 0]\n",
      " [3 1 1 2 0 0 1 1 0 0 0 0 0 0 0 0 0 0 0 0 0 0 0 0]\n",
      " [1 3 3 0 0 0 1 1 0 0 0 0 0 0 0 0 0 0 0 0 0 0 0 0]\n",
      " [9 1 1 0 0 0 1 1 0 0 0 0 0 0 0 0 0 0 0 0 0 0 0 0]\n",
      " [1 1 1 0 0 0 3 1 0 0 0 0 0 0 0 0 0 0 0 0 0 0 0 0]\n",
      " [3 5 1 0 0 0 1 1 0 0 0 0 0 0 0 0 0 0 0 0 0 0 0 0]\n",
      " [1 1 1 0 0 0 1 3 0 0 0 0 0 0 0 0 0 0 0 0 0 0 0 0]\n",
      " [5 1 3 0 0 0 1 1 0 0 0 0 0 0 0 0 0 0 0 0 0 0 0 0]\n",
      " [1 3 1 2 0 0 1 1 0 0 0 0 0 0 0 0 0 0 0 0 0 0 0 0]\n",
      " [3 1 1 0 2 0 1 1 0 0 0 0 0 0 0 0 0 0 0 0 0 0 0 0]\n",
      " [1 1 1 0 0 0 1 1 2 0 0 0 0 0 0 0 0 0 0 0 0 0 0 0]\n",
      " [7 3 1 0 0 0 1 1 0 0 0 0 0 0 0 0 0 0 0 0 0 0 0 0]\n",
      " [1 1 5 0 0 0 1 1 0 0 0 0 0 0 0 0 0 0 0 0 0 0 0 0]\n",
      " [3 1 1 0 0 2 1 1 0 0 0 0 0 0 0 0 0 0 0 0 0 0 0 0]\n",
      " [1 7 1 0 0 0 1 1 0 0 0 0 0 0 0 0 0 0 0 0 0 0 0 0]\n",
      " [5 1 1 2 0 0 1 1 0 0 0 0 0 0 0 0 0 0 0 0 0 0 0 0]]\n",
      "<module 'sympy.core.numbers' from 'C:\\\\Users\\\\samia\\\\anaconda3\\\\lib\\\\site-packages\\\\sympy\\\\core\\\\numbers.py'>\n"
     ]
    }
   ],
   "source": [
    "from sympy import *\n",
    "np_array = np.array(results)\n",
    "#A = Matrix(np_array)\n",
    "#print(A)\n",
    "print(np_array)\n",
    "print(numbers)"
   ]
  },
  {
   "cell_type": "code",
   "execution_count": 17,
   "metadata": {},
   "outputs": [
    {
     "name": "stdout",
     "output_type": "stream",
     "text": [
      "[[1 1 1 1 1 1 1 1 1 1 1 1 1 1 1 1 1 1 1 1 1 1 1 1 1 1 1 1]\n",
      " [1 1 1 1 1 1 1 1 1 1 1 1 1 1 1 1 1 1 1 1 1 1 1 1 1 1 1 1]\n",
      " [1 1 1 1 1 1 1 1 1 1 1 1 1 1 1 1 1 1 1 1 1 1 1 1 1 1 1 1]\n",
      " [0 0 0 0 0 0 0 0 0 0 0 0 0 0 0 0 0 0 0 0 0 0 0 0 0 0 0 0]\n",
      " [0 0 0 0 0 0 0 0 0 0 0 0 0 0 0 0 0 0 0 0 0 0 0 0 0 0 0 0]\n",
      " [0 0 0 0 0 0 0 0 0 0 0 0 0 0 0 0 0 0 0 0 0 0 0 0 0 0 0 0]\n",
      " [1 1 1 1 1 1 1 1 1 1 1 1 1 1 1 1 1 1 1 1 1 1 1 1 1 1 1 1]\n",
      " [1 1 1 1 1 1 1 1 1 1 1 1 1 1 1 1 1 1 1 1 1 1 1 1 1 1 1 1]\n",
      " [0 0 0 0 0 0 0 0 0 0 0 0 0 0 0 0 0 0 0 0 0 0 0 0 0 0 0 0]\n",
      " [0 0 0 0 0 0 0 0 0 0 0 0 0 0 0 0 0 0 0 0 0 0 0 0 0 0 0 0]\n",
      " [0 0 0 0 0 0 0 0 0 0 0 0 0 0 0 0 0 0 0 0 0 0 0 0 0 0 0 0]\n",
      " [0 0 0 0 0 0 0 0 0 0 0 0 0 0 0 0 0 0 0 0 0 0 0 0 0 0 0 0]\n",
      " [0 0 0 0 0 0 0 0 0 0 0 0 0 0 0 0 0 0 0 0 0 0 0 0 0 0 0 0]\n",
      " [0 0 0 0 0 0 0 0 0 0 0 0 0 0 0 0 0 0 0 0 0 0 0 0 0 0 0 0]\n",
      " [0 0 0 0 0 0 0 0 0 0 0 0 0 0 0 0 0 0 0 0 0 0 0 0 0 0 0 0]\n",
      " [0 0 0 0 0 0 0 0 0 0 0 0 0 0 0 0 0 0 0 0 0 0 0 0 0 0 0 0]\n",
      " [0 0 0 0 0 0 0 0 0 0 0 0 0 0 0 0 0 0 0 0 0 0 0 0 0 0 0 0]\n",
      " [0 0 0 0 0 0 0 0 0 0 0 0 0 0 0 0 0 0 0 0 0 0 0 0 0 0 0 0]\n",
      " [0 0 0 0 0 0 0 0 0 0 0 0 0 0 0 0 0 0 0 0 0 0 0 0 0 0 0 0]\n",
      " [0 0 0 0 0 0 0 0 0 0 0 0 0 0 0 0 0 0 0 0 0 0 0 0 0 0 0 0]\n",
      " [0 0 0 0 0 0 0 0 0 0 0 0 0 0 0 0 0 0 0 0 0 0 0 0 0 0 0 0]\n",
      " [0 0 0 0 0 0 0 0 0 0 0 0 0 0 0 0 0 0 0 0 0 0 0 0 0 0 0 0]\n",
      " [0 0 0 0 0 0 0 0 0 0 0 0 0 0 0 0 0 0 0 0 0 0 0 0 0 0 0 0]\n",
      " [0 0 0 0 0 0 0 0 0 0 0 0 0 0 0 0 0 0 0 0 0 0 0 0 0 0 0 0]]\n",
      "Number of rows, number of columns:  24 28\n"
     ]
    }
   ],
   "source": [
    "## store_pows is the original matrix of powers, which we use later in the computation of y\n",
    "## We don't need to concatenate the 0 row\n",
    "\n",
    "store_pows = np_array.copy()\n",
    "matrixA = (np.transpose(np_array))%2\n",
    "print(matrixA)\n",
    "print(\"Number of rows, number of columns: \", len(matrixA), len(matrixA[0]))\n",
    "# print(store_pows)"
   ]
  },
  {
   "cell_type": "code",
   "execution_count": 19,
   "metadata": {},
   "outputs": [],
   "source": [
    "def drop_zero_rows(A): \n",
    "    return A[~np.all(A == 0, axis=1)]"
   ]
  },
  {
   "cell_type": "code",
   "execution_count": 20,
   "metadata": {},
   "outputs": [
    {
     "name": "stdout",
     "output_type": "stream",
     "text": [
      "Old num rows and num columns:  24 28\n",
      "Reduced row echelon form AND mod 2 is: \n",
      "[[1 1 1 1 1 1 1 1 1 1 1 1 1 1 1 1 1 1 1 1 1 1 1 1 1 1 1 1]]\n",
      "New num rows, num columns:  1 28\n"
     ]
    }
   ],
   "source": [
    "from sympy import *\n",
    "\n",
    "col_num = len(matrixA[0])\n",
    "row_num = len(matrixA)\n",
    "print(\"Old num rows and num columns: \", row_num, col_num)\n",
    "L = Matrix(matrixA)\n",
    "\n",
    "aug_matrix = np.array(L.rref()[0])\n",
    "aug_matrix  = drop_zero_rows(aug_matrix)\n",
    "aug_matrix = aug_matrix %2\n",
    "\n",
    "print(\"Reduced row echelon form AND mod 2 is: \")\n",
    "print(aug_matrix)\n",
    "\n",
    "print(\"New num rows, num columns: \", len(aug_matrix), len(aug_matrix[0]))"
   ]
  },
  {
   "cell_type": "code",
   "execution_count": 22,
   "metadata": {},
   "outputs": [],
   "source": [
    "v = aug_matrix[0]"
   ]
  },
  {
   "cell_type": "code",
   "execution_count": 19,
   "metadata": {},
   "outputs": [
    {
     "name": "stdout",
     "output_type": "stream",
     "text": [
      "[0 1 1 1 1 1 1 1 1 1 1 1 1 1 1 1 1 1 1 1 1 1 1 1 1 1 1 1]\n"
     ]
    }
   ],
   "source": [
    "# v: 0s are non-free variables, 1s are fixed variables which will be 1 (free or non-free),\n",
    "# 2s are fixed variables which will be 0 (free or non-free)\n",
    "\n",
    "v = np.ones(col_num, dtype = 'int')\n",
    "\n",
    "row_num = len(aug_matrix)   # the row_num has changed after dropping the 0 rows\n",
    "# find the leading entries, aka the non-free variables, set them to 0 in the v vector\n",
    "for i in range(0, row_num):\n",
    "    check_main = 1\n",
    "    for j in range(i, col_num):\n",
    "        if(aug_matrix[i][j]==1 and check_main ==1):\n",
    "            v[j]=0\n",
    "            break\n",
    "\n",
    "print(v)"
   ]
  },
  {
   "cell_type": "code",
   "execution_count": 23,
   "metadata": {},
   "outputs": [
    {
     "name": "stdout",
     "output_type": "stream",
     "text": [
      "28\n"
     ]
    }
   ],
   "source": [
    "print(v.sum())"
   ]
  },
  {
   "cell_type": "code",
   "execution_count": null,
   "metadata": {},
   "outputs": [],
   "source": [
    "for i in range(len(store_pows)):\n",
    "    \n",
    "    newnum = np.multiply()"
   ]
  },
  {
   "cell_type": "code",
   "execution_count": 20,
   "metadata": {},
   "outputs": [
    {
     "name": "stdout",
     "output_type": "stream",
     "text": [
      "[0 1 2 2 2 2 2 2 2 2 2 2 2 2 2 2 2 2 2 2 2 2 2 2 2 2 2 2]\n"
     ]
    }
   ],
   "source": [
    "# set one of the free variable to 1, all the rest of the free variables to 2.\n",
    "## THIS IS A HUGE PLACE FOR OPTIMIZATION, IF WE PICK THE RIGHT FREE VARIABLE LIFE WILL BE EASIER LATER\n",
    "\n",
    "delete_ones = False\n",
    "for i in range(0, col_num):\n",
    "    if(delete_ones==True and v[i]==1):\n",
    "        v[i]=2\n",
    "    if(v[i]==1):\n",
    "        delete_ones = True\n",
    "\n",
    "print(v)"
   ]
  },
  {
   "cell_type": "code",
   "execution_count": 3,
   "metadata": {},
   "outputs": [
    {
     "name": "stdout",
     "output_type": "stream",
     "text": [
      "[1 0 0 0 0 0 1 0 0 1 1 0 0 0 0 1]\n"
     ]
    }
   ],
   "source": [
    "a = np.array([1, 0, 0, 0, 0, 0, 1, 0, 0, 1, 1, 0, 0, 0, 0, 1])\n",
    "first = np.where(a==1)\n",
    "print(first)\n",
    "a[a==1] = 2\n",
    "a[first] = 1\n",
    "print(a)"
   ]
  },
  {
   "cell_type": "code",
   "execution_count": 21,
   "metadata": {},
   "outputs": [
    {
     "name": "stdout",
     "output_type": "stream",
     "text": [
      "final v vector is  [1 1 0 0 0 0 0 0 0 0 0 0 0 0 0 0 0 0 0 0 0 0 0 0 0 0 0 0]\n"
     ]
    }
   ],
   "source": [
    "# Optimized with numpy\n",
    "\n",
    "for i in reversed(range(0, row_num)):\n",
    "    sum = np.multiply(v, aug_matrix[i]).sum()        # equal to sum = sum + sum + v[j]*aug_matrix[i][j] for all j\n",
    "    sum = sum%2;\n",
    "    zer =(np.argwhere(v == 0).flatten())\n",
    "    if(len(zer)!=0):\n",
    "        index = zer[len(zer)-1]   # last entry\n",
    "        if(sum==0):\n",
    "            v[index] = 2\n",
    "        else:\n",
    "            v[index] = 1\n",
    "        \n",
    "print(\"final v vector is \", v%2)\n",
    "        "
   ]
  },
  {
   "cell_type": "code",
   "execution_count": 22,
   "metadata": {},
   "outputs": [
    {
     "name": "stdout",
     "output_type": "stream",
     "text": [
      "28\n"
     ]
    },
    {
     "ename": "ValueError",
     "evalue": "operands could not be broadcast together with shapes (0,) (28,) ",
     "output_type": "error",
     "traceback": [
      "\u001b[1;31m---------------------------------------------------------------------------\u001b[0m",
      "\u001b[1;31mValueError\u001b[0m                                Traceback (most recent call last)",
      "\u001b[1;32m<ipython-input-22-1a6ae5b7f379>\u001b[0m in \u001b[0;36m<module>\u001b[1;34m\u001b[0m\n\u001b[0;32m      3\u001b[0m \u001b[0mv\u001b[0m \u001b[1;33m=\u001b[0m \u001b[0mv\u001b[0m\u001b[1;33m%\u001b[0m\u001b[1;36m2\u001b[0m\u001b[1;33m\u001b[0m\u001b[1;33m\u001b[0m\u001b[0m\n\u001b[0;32m      4\u001b[0m \u001b[0mprint\u001b[0m\u001b[1;33m(\u001b[0m\u001b[0mlen\u001b[0m\u001b[1;33m(\u001b[0m\u001b[0mv\u001b[0m\u001b[1;33m)\u001b[0m\u001b[1;33m)\u001b[0m\u001b[1;33m\u001b[0m\u001b[1;33m\u001b[0m\u001b[0m\n\u001b[1;32m----> 5\u001b[1;33m \u001b[0mx\u001b[0m \u001b[1;33m=\u001b[0m \u001b[0mnp\u001b[0m\u001b[1;33m.\u001b[0m\u001b[0mmultiply\u001b[0m\u001b[1;33m(\u001b[0m\u001b[0mnums\u001b[0m\u001b[1;33m,\u001b[0m \u001b[0mv\u001b[0m\u001b[1;33m)\u001b[0m     \u001b[1;31m# element-wise multiplication of two arrays\u001b[0m\u001b[1;33m\u001b[0m\u001b[1;33m\u001b[0m\u001b[0m\n\u001b[0m\u001b[0;32m      6\u001b[0m \u001b[0mprint\u001b[0m\u001b[1;33m(\u001b[0m\u001b[0mx\u001b[0m\u001b[1;33m)\u001b[0m\u001b[1;33m\u001b[0m\u001b[1;33m\u001b[0m\u001b[0m\n\u001b[0;32m      7\u001b[0m \u001b[0mx\u001b[0m\u001b[1;33m[\u001b[0m\u001b[0mx\u001b[0m\u001b[1;33m==\u001b[0m\u001b[1;36m0\u001b[0m\u001b[1;33m]\u001b[0m \u001b[1;33m=\u001b[0m \u001b[1;36m1\u001b[0m\u001b[1;33m\u001b[0m\u001b[1;33m\u001b[0m\u001b[0m\n",
      "\u001b[1;31mValueError\u001b[0m: operands could not be broadcast together with shapes (0,) (28,) "
     ]
    }
   ],
   "source": [
    "# optimized with numpy\n",
    "\n",
    "v = v%2\n",
    "print(len(v))\n",
    "x = np.multiply(nums, v)     # element-wise multiplication of two arrays\n",
    "print(x)\n",
    "x[x==0] = 1\n",
    "x = np.prod(x)      # prod is essentially multiplying elements of an array together\n",
    "print(x)"
   ]
  },
  {
   "cell_type": "code",
   "execution_count": 23,
   "metadata": {},
   "outputs": [
    {
     "name": "stdout",
     "output_type": "stream",
     "text": [
      "[0]\n",
      "[[1 1 1 0 0 0 1 1 0 0 0 0 0 0 0 0 0 0 0 0 0 0 0 0]\n",
      " [3 1 1 0 0 0 1 1 0 0 0 0 0 0 0 0 0 0 0 0 0 0 0 0]\n",
      " [1 3 1 0 0 0 1 1 0 0 0 0 0 0 0 0 0 0 0 0 0 0 0 0]\n",
      " [5 1 1 0 0 0 1 1 0 0 0 0 0 0 0 0 0 0 0 0 0 0 0 0]\n",
      " [1 1 3 0 0 0 1 1 0 0 0 0 0 0 0 0 0 0 0 0 0 0 0 0]\n",
      " [3 3 1 0 0 0 1 1 0 0 0 0 0 0 0 0 0 0 0 0 0 0 0 0]\n",
      " [1 1 1 2 0 0 1 1 0 0 0 0 0 0 0 0 0 0 0 0 0 0 0 0]\n",
      " [7 1 1 0 0 0 1 1 0 0 0 0 0 0 0 0 0 0 0 0 0 0 0 0]\n",
      " [1 5 1 0 0 0 1 1 0 0 0 0 0 0 0 0 0 0 0 0 0 0 0 0]\n",
      " [3 1 3 0 0 0 1 1 0 0 0 0 0 0 0 0 0 0 0 0 0 0 0 0]\n",
      " [1 1 1 0 2 0 1 1 0 0 0 0 0 0 0 0 0 0 0 0 0 0 0 0]\n",
      " [5 3 1 0 0 0 1 1 0 0 0 0 0 0 0 0 0 0 0 0 0 0 0 0]\n",
      " [1 1 1 0 0 2 1 1 0 0 0 0 0 0 0 0 0 0 0 0 0 0 0 0]\n",
      " [3 1 1 2 0 0 1 1 0 0 0 0 0 0 0 0 0 0 0 0 0 0 0 0]\n",
      " [1 3 3 0 0 0 1 1 0 0 0 0 0 0 0 0 0 0 0 0 0 0 0 0]\n",
      " [9 1 1 0 0 0 1 1 0 0 0 0 0 0 0 0 0 0 0 0 0 0 0 0]\n",
      " [1 1 1 0 0 0 3 1 0 0 0 0 0 0 0 0 0 0 0 0 0 0 0 0]\n",
      " [3 5 1 0 0 0 1 1 0 0 0 0 0 0 0 0 0 0 0 0 0 0 0 0]\n",
      " [1 1 1 0 0 0 1 3 0 0 0 0 0 0 0 0 0 0 0 0 0 0 0 0]\n",
      " [5 1 3 0 0 0 1 1 0 0 0 0 0 0 0 0 0 0 0 0 0 0 0 0]\n",
      " [1 3 1 2 0 0 1 1 0 0 0 0 0 0 0 0 0 0 0 0 0 0 0 0]\n",
      " [3 1 1 0 2 0 1 1 0 0 0 0 0 0 0 0 0 0 0 0 0 0 0 0]\n",
      " [1 1 1 0 0 0 1 1 2 0 0 0 0 0 0 0 0 0 0 0 0 0 0 0]\n",
      " [7 3 1 0 0 0 1 1 0 0 0 0 0 0 0 0 0 0 0 0 0 0 0 0]\n",
      " [1 1 5 0 0 0 1 1 0 0 0 0 0 0 0 0 0 0 0 0 0 0 0 0]\n",
      " [3 1 1 0 0 2 1 1 0 0 0 0 0 0 0 0 0 0 0 0 0 0 0 0]\n",
      " [1 7 1 0 0 0 1 1 0 0 0 0 0 0 0 0 0 0 0 0 0 0 0 0]\n",
      " [5 1 1 2 0 0 1 1 0 0 0 0 0 0 0 0 0 0 0 0 0 0 0 0]]\n",
      "[[1 1 1 0 0 0 1 1 0 0 0 0 0 0 0 0 0 0 0 0 0 0 0 0]]\n"
     ]
    }
   ],
   "source": [
    "y_v  = np.zeros(size_of_bound)\n",
    "indices = np.argwhere(v==1)[0]\n",
    "print(indices)\n",
    "print(store_pows)\n",
    "store_pows = store_pows[indices]\n",
    "print(store_pows)\n"
   ]
  },
  {
   "cell_type": "code",
   "execution_count": 24,
   "metadata": {},
   "outputs": [
    {
     "name": "stdout",
     "output_type": "stream",
     "text": [
      "y_v:  [0.5 0.5 0.5 0.  0.  0.  0.5 0.5 0.  0.  0.  0.  0.  0.  0.  0.  0.  0.\n",
      " 0.  0.  0.  0.  0.  0. ]\n",
      "[1.41421356 1.73205081 2.23606798 1.         1.         1.\n",
      " 4.12310563 4.35889894 1.         1.         1.         1.\n",
      " 1.         1.         1.         1.         1.         1.\n",
      " 1.         1.         1.         1.         1.         1.        ]\n"
     ]
    },
    {
     "ename": "NameError",
     "evalue": "name 'x' is not defined",
     "output_type": "error",
     "traceback": [
      "\u001b[1;31m---------------------------------------------------------------------------\u001b[0m",
      "\u001b[1;31mNameError\u001b[0m                                 Traceback (most recent call last)",
      "\u001b[1;32m<ipython-input-24-4f0f64431043>\u001b[0m in \u001b[0;36m<module>\u001b[1;34m\u001b[0m\n\u001b[0;32m     13\u001b[0m \u001b[0my\u001b[0m \u001b[1;33m=\u001b[0m \u001b[0mnp\u001b[0m\u001b[1;33m.\u001b[0m\u001b[0mprod\u001b[0m\u001b[1;33m(\u001b[0m\u001b[0my\u001b[0m\u001b[1;33m)\u001b[0m   \u001b[1;31m# no need to check y_v == 0, since anything raised to 0 is 1, and on multiplication, 1 has no effect\u001b[0m\u001b[1;33m\u001b[0m\u001b[1;33m\u001b[0m\u001b[0m\n\u001b[0;32m     14\u001b[0m \u001b[1;33m\u001b[0m\u001b[0m\n\u001b[1;32m---> 15\u001b[1;33m \u001b[0mprint\u001b[0m\u001b[1;33m(\u001b[0m\u001b[1;34m\"x is \"\u001b[0m\u001b[1;33m,\u001b[0m \u001b[0mx\u001b[0m\u001b[1;33m,\u001b[0m \u001b[1;34m\", y is \"\u001b[0m\u001b[1;33m,\u001b[0m \u001b[0my\u001b[0m\u001b[1;33m)\u001b[0m\u001b[1;33m\u001b[0m\u001b[1;33m\u001b[0m\u001b[0m\n\u001b[0m",
      "\u001b[1;31mNameError\u001b[0m: name 'x' is not defined"
     ]
    }
   ],
   "source": [
    "for row in store_pows:\n",
    "    y_v = np.add(y_v, row)\n",
    "\n",
    "y_v = y_v/2\n",
    "print(\"y_v: \", y_v)\n",
    "\n",
    "y = 1\n",
    "z = np.power(primes, y_v)\n",
    "print(z)\n",
    "y = y*z\n",
    "\n",
    "\n",
    "y = np.prod(y)   # no need to check y_v == 0, since anything raised to 0 is 1, and on multiplication, 1 has no effect\n",
    "    \n",
    "print(\"x is \", x, \", y is \", y)"
   ]
  },
  {
   "cell_type": "code",
   "execution_count": 20,
   "metadata": {},
   "outputs": [
    {
     "name": "stdout",
     "output_type": "stream",
     "text": [
      "1\n",
      "95775679\n"
     ]
    }
   ],
   "source": [
    "k = math.gcd(x -int(y), the_number)\n",
    "print(k)\n",
    "print (int(the_number/k)) "
   ]
  },
  {
   "cell_type": "code",
   "execution_count": null,
   "metadata": {},
   "outputs": [],
   "source": []
  }
 ],
 "metadata": {
  "kernelspec": {
   "display_name": "Python 3",
   "language": "python",
   "name": "python3"
  },
  "language_info": {
   "codemirror_mode": {
    "name": "ipython",
    "version": 3
   },
   "file_extension": ".py",
   "mimetype": "text/x-python",
   "name": "python",
   "nbconvert_exporter": "python",
   "pygments_lexer": "ipython3",
   "version": "3.7.6"
  }
 },
 "nbformat": 4,
 "nbformat_minor": 4
}
