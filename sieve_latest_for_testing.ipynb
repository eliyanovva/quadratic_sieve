{
 "cells": [
  {
   "cell_type": "code",
   "execution_count": 1,
   "metadata": {},
   "outputs": [],
   "source": [
    "import math\n",
    "import numpy as np\n",
    "import sympy\n",
    "import time "
   ]
  },
  {
   "cell_type": "code",
   "execution_count": 2,
   "metadata": {},
   "outputs": [],
   "source": [
    "def calc_time(start, end):\n",
    "    seconds = end - start\n",
    "    mins = seconds / 60\n",
    "    print('Time:', str(seconds), '    ', str(mins))\n",
    "    return seconds, mins"
   ]
  },
  {
   "cell_type": "code",
   "execution_count": 21,
   "metadata": {},
   "outputs": [
    {
     "name": "stdout",
     "output_type": "stream",
     "text": [
      "3276.67097683093\n"
     ]
    }
   ],
   "source": [
    "## I have kept the generator cell, but I generate more numbers in the next one. The prime number is set in this cell.\n",
    "## bound is commented out, as it is already set, and the array of primes is already created\n",
    "\n",
    "# n = 16921456439215439701\n",
    "# n = 12110279\n",
    "n = 62615533\n",
    "the_number = n\n",
    "s_const = int(math.sqrt(n)) + 1\n",
    "A_const = (math.sqrt(2)-1)*math.sqrt(n)-1      \n",
    "\n",
    "print(A_const)"
   ]
  },
  {
   "cell_type": "code",
   "execution_count": 4,
   "metadata": {},
   "outputs": [],
   "source": [
    "def f(x):\n",
    "    return (x+s_const)**2 - the_number"
   ]
  },
  {
   "cell_type": "code",
   "execution_count": 5,
   "metadata": {},
   "outputs": [],
   "source": [
    "# Final optimized version \n",
    "def get_primes_less_thanB(bound):                      # eratosthenes way\n",
    "    check_until = int(bound**0.5)\n",
    "    unmarked = np.array([x for x in range(2, bound)])\n",
    "    q = 2\n",
    "    i = 0\n",
    "    while True:\n",
    "        u = unmarked[i]\n",
    "        if u> check_until:               # only check numbers up to sqrt(bound)\n",
    "            break\n",
    "        u_idx = np.where(unmarked == u)[0][0]\n",
    "        max_idx = bound//u\n",
    "        listof_multiples = [u*i for i in range(q, max_idx+1)]\n",
    "        u_multiples = np.array(listof_multiples)\n",
    "        unmarked = np.setdiff1d(unmarked, u_multiples)   # numpy set diff without changing order of elements in list\n",
    "        q = u\n",
    "        i +=1\n",
    "    print(\"Number of elements less than bound = \", bound, \" is: \", len(unmarked))\n",
    "    return (unmarked)"
   ]
  },
  {
   "cell_type": "code",
   "execution_count": 6,
   "metadata": {},
   "outputs": [],
   "source": [
    "# Correct optimized version\n",
    "def check_Bsmooth(primes, num):\n",
    "    powers_of_primes= []\n",
    "    num_remaining= num                         \n",
    "    for prime in primes: \n",
    "        i = 0                                   # i = power of prime\n",
    "        if (num_remaining%prime == 0):\n",
    "            while (num_remaining%prime ==0):   #keep dividing for each power of the prime\n",
    "                quotient = num_remaining/prime\n",
    "                num_remaining = quotient\n",
    "                i +=1\n",
    "        powers_of_primes.append(i)\n",
    "        if num_remaining == 1:     \n",
    "            diff = len(primes)-len(powers_of_primes)\n",
    "            if diff>0:\n",
    "                zeros = [0 for k in range(diff)]\n",
    "                return powers_of_primes + zeros\n",
    "            return powers_of_primes\n",
    "    #print(\"Number is not B smooth\")\n",
    "    return []"
   ]
  },
  {
   "cell_type": "markdown",
   "metadata": {},
   "source": [
    "#### Start Choosing parameters for testing: bound, n, etc;"
   ]
  },
  {
   "cell_type": "code",
   "execution_count": 9,
   "metadata": {},
   "outputs": [
    {
     "name": "stdout",
     "output_type": "stream",
     "text": [
      "Number of elements less than bound =  40  is:  12\n"
     ]
    }
   ],
   "source": [
    "# A first simulation\n",
    "n = 62615533\n",
    "bound = 40\n",
    "primes = np.array(get_primes_less_thanB(bound))"
   ]
  },
  {
   "cell_type": "code",
   "execution_count": 10,
   "metadata": {},
   "outputs": [
    {
     "name": "stdout",
     "output_type": "stream",
     "text": [
      "iterations,  11368\n",
      "B smooth numbers found:  [36, 937251, 22521996, 34781628, 119350, 455455, 859375, 1691690, 41204735, 144, 3749004, 35360, 16344835, 27287936, 47580416, 58679296] total:  16\n",
      "Time: 0.3793299198150635      0.006322165330251058\n",
      "[[2, 2, 0, 0, 0, 0, 0, 0, 0, 0, 0, 0], [0, 5, 0, 1, 0, 0, 0, 1, 0, 1, 0, 0], [2, 3, 0, 1, 0, 0, 0, 0, 0, 0, 3, 0], [2, 1, 0, 1, 0, 0, 0, 2, 0, 0, 1, 1], [1, 0, 2, 1, 1, 0, 0, 0, 0, 0, 1, 0], [0, 0, 1, 2, 1, 2, 0, 0, 0, 0, 0, 0], [0, 0, 7, 0, 1, 0, 0, 0, 0, 0, 0, 0], [1, 0, 1, 1, 1, 3, 0, 0, 0, 0, 0, 0], [0, 0, 1, 0, 2, 3, 0, 0, 0, 0, 1, 0], [4, 2, 0, 0, 0, 0, 0, 0, 0, 0, 0, 0], [2, 5, 0, 1, 0, 0, 0, 1, 0, 1, 0, 0], [5, 0, 1, 0, 0, 1, 1, 0, 0, 0, 0, 0], [0, 0, 1, 0, 0, 2, 0, 0, 1, 2, 0, 0], [7, 0, 0, 0, 0, 1, 0, 0, 2, 0, 1, 0], [8, 0, 0, 0, 0, 1, 1, 0, 0, 2, 0, 0], [13, 0, 0, 0, 0, 1, 0, 1, 0, 1, 0, 0]]\n"
     ]
    }
   ],
   "source": [
    "## this is the generator cell, it works for the small tests I am doing, but we will have to update it later\n",
    "nums = []\n",
    "results=[]\n",
    "size_of_bound = len(primes)\n",
    "\n",
    "numbers = []\n",
    "count_found = 0\n",
    "begin = int(math.sqrt(n)) + 1\n",
    "i = 0\n",
    "start = time.time()\n",
    "while(True):\n",
    "    temp = check_Bsmooth(primes, (begin**2)%n)\n",
    "    if temp!=[]:\n",
    "        exponents = np.array(temp)\n",
    "        result = np.power(primes, exponents)\n",
    "        the_num = np.prod(result)\n",
    "        numbers.append(the_num)\n",
    "        \n",
    "        nums.append(begin)\n",
    "        results.append(temp)\n",
    "        count_found = count_found +1\n",
    "            \n",
    "    if count_found> size_of_bound +3:\n",
    "        break\n",
    "    begin +=1\n",
    "    i +=1\n",
    "end = time.time()\n",
    "print(\"iterations, \", i)\n",
    "print(\"B smooth numbers found: \", numbers, \"total: \", len(numbers))\n",
    "calc_time(start, end)\n",
    "print (results)"
   ]
  },
  {
   "cell_type": "code",
   "execution_count": 11,
   "metadata": {},
   "outputs": [
    {
     "name": "stdout",
     "output_type": "stream",
     "text": [
      "[[0 0 0 0 1 0 0 1 0 0 0 1 0 1 0 1]\n",
      " [0 1 1 1 0 0 0 0 0 0 1 0 0 0 0 0]\n",
      " [0 0 0 0 0 1 1 1 1 0 0 1 1 0 0 0]\n",
      " [0 1 1 1 1 0 0 1 0 0 1 0 0 0 0 0]\n",
      " [0 0 0 0 1 1 1 1 0 0 0 0 0 0 0 0]\n",
      " [0 0 0 0 0 0 0 1 1 0 0 1 0 1 1 1]\n",
      " [0 0 0 0 0 0 0 0 0 0 0 1 0 0 1 0]\n",
      " [0 1 0 0 0 0 0 0 0 0 1 0 0 0 0 1]\n",
      " [0 0 0 0 0 0 0 0 0 0 0 0 1 0 0 0]\n",
      " [0 1 0 0 0 0 0 0 0 0 1 0 0 0 0 1]\n",
      " [0 0 1 1 1 0 0 0 1 0 0 0 0 1 0 0]\n",
      " [0 0 0 1 0 0 0 0 0 0 0 0 0 0 0 0]]\n",
      "Number of rows, number of columns:  12 16\n"
     ]
    }
   ],
   "source": [
    "## store_pows is the original matrix of powers, which we use later in the computation of y\n",
    "## We don't need to concatenate the 0 row\n",
    "\n",
    "np_array = np.array(results)\n",
    "store_pows = np_array.copy()\n",
    "\n",
    "matrixA = (np.transpose(np_array))%2\n",
    "print(matrixA)\n",
    "print(\"Number of rows, number of columns: \", len(matrixA), len(matrixA[0]))\n",
    "# print(store_pows)"
   ]
  },
  {
   "cell_type": "code",
   "execution_count": 12,
   "metadata": {},
   "outputs": [],
   "source": [
    "def drop_zero_rows(A): \n",
    "    return A[~np.all(A == 0, axis=1)]"
   ]
  },
  {
   "cell_type": "code",
   "execution_count": 13,
   "metadata": {},
   "outputs": [
    {
     "name": "stdout",
     "output_type": "stream",
     "text": [
      "Reduced row echelon form is: \n",
      "[[0 1 0 0 0 0 0 0 0 0 1 0 0 0 0 1]\n",
      " [0 0 1 0 0 0 0 0 0 0 0 0 0 0 0 -1]\n",
      " [0 0 0 1 0 0 0 0 0 0 0 0 0 0 0 0]\n",
      " [0 0 0 0 1 0 0 0 0 0 0 0 0 0 0 0]\n",
      " [0 0 0 0 0 1 1 0 0 0 0 0 0 0 0 0]\n",
      " [0 0 0 0 0 0 0 1 0 0 0 0 0 0 0 0]\n",
      " [0 0 0 0 0 0 0 0 1 0 0 0 0 0 0 0]\n",
      " [0 0 0 0 0 0 0 0 0 0 0 1 0 0 0 0]\n",
      " [0 0 0 0 0 0 0 0 0 0 0 0 1 0 0 0]\n",
      " [0 0 0 0 0 0 0 0 0 0 0 0 0 1 0 1]\n",
      " [0 0 0 0 0 0 0 0 0 0 0 0 0 0 1 0]]\n",
      "Number of rows, number of columns:  11 16\n"
     ]
    }
   ],
   "source": [
    "from sympy import *\n",
    "\n",
    "col_num = len(matrixA[0])\n",
    "row_num = len(matrixA)\n",
    "L = Matrix(matrixA)\n",
    "\n",
    "aug_matrix = np.array(L.rref()[0])\n",
    "aug_matrix  = drop_zero_rows(aug_matrix)\n",
    "\n",
    "print(\"Reduced row echelon form is: \")\n",
    "print(aug_matrix)\n",
    "\n",
    "print(\"Number of rows, number of columns: \", len(aug_matrix), len(aug_matrix[0]))"
   ]
  },
  {
   "cell_type": "code",
   "execution_count": 14,
   "metadata": {},
   "outputs": [
    {
     "name": "stdout",
     "output_type": "stream",
     "text": [
      "[1 0 0 0 0 0 1 0 0 1 1 0 0 0 0 1]\n"
     ]
    }
   ],
   "source": [
    "# v: 0s are non-free variables, 1s are fixed variables which will be 1 (free or non-free),\n",
    "# 2s are fixed variables which will be 0 (free or non-free)\n",
    "\n",
    "v = np.ones(col_num, dtype = 'int')\n",
    "\n",
    "row_num = len(aug_matrix)   # the row_num has changed after dropping the 0 rows\n",
    "# find the leading entries, aka the non-free variables, set them to 0 in the v vector\n",
    "for i in range(0, row_num):\n",
    "    check_main = 1\n",
    "    for j in range(i, col_num):\n",
    "        if(aug_matrix[i][j]==1 and check_main ==1):\n",
    "            v[j]=0\n",
    "            break\n",
    "\n",
    "print(v)"
   ]
  },
  {
   "cell_type": "code",
   "execution_count": 15,
   "metadata": {},
   "outputs": [
    {
     "name": "stdout",
     "output_type": "stream",
     "text": [
      "[1 0 0 0 0 0 2 0 0 2 2 0 0 0 0 2]\n"
     ]
    }
   ],
   "source": [
    "# set one of the free variable to 1, all the rest of the free variables to 2.\n",
    "## THIS IS A HUGE PLACE FOR OPTIMIZATION, IF WE PICK THE RIGHT FREE VARIABLE LIFE WILL BE EASIER LATER\n",
    "\n",
    "delete_ones = False\n",
    "for i in range(0, col_num):\n",
    "    if(delete_ones==True and v[i]==1):\n",
    "        v[i]=2\n",
    "    if(v[i]==1):\n",
    "        delete_ones = True\n",
    "\n",
    "print(v)"
   ]
  },
  {
   "cell_type": "code",
   "execution_count": 16,
   "metadata": {},
   "outputs": [
    {
     "name": "stdout",
     "output_type": "stream",
     "text": [
      "final v vector is  [1 0 0 0 0 0 0 0 0 0 0 0 0 0 0 0]\n"
     ]
    }
   ],
   "source": [
    "# Optimized with numpy\n",
    "\n",
    "for i in reversed(range(0, row_num)):\n",
    "    sum = np.multiply(v, aug_matrix[i]).sum()        # equal to sum = sum + sum + v[j]*aug_matrix[i][j] for all j\n",
    "    sum = sum%2;\n",
    "    zer =(np.argwhere(v == 0).flatten())\n",
    "    if(len(zer)!=0):\n",
    "        index = zer[len(zer)-1]   # last entry\n",
    "        if(sum==0):\n",
    "            v[index] = 2\n",
    "        else:\n",
    "            v[index] = 1\n",
    "        \n",
    "print(\"final v vector is \", v%2)\n",
    "        "
   ]
  },
  {
   "cell_type": "code",
   "execution_count": 17,
   "metadata": {},
   "outputs": [
    {
     "name": "stdout",
     "output_type": "stream",
     "text": [
      "16\n",
      "[7913    0    0    0    0    0    0    0    0    0    0    0    0    0\n",
      "    0    0]\n",
      "7913\n"
     ]
    }
   ],
   "source": [
    "# optimized with numpy\n",
    "\n",
    "v = v%2\n",
    "print(len(v))\n",
    "x = np.multiply(nums, v)     # element-wise multiplication of two arrays\n",
    "print(x)\n",
    "x[x==0] = 1\n",
    "x = np.prod(x)      # prod is essentially multiplying elements of an array together\n",
    "print(x)"
   ]
  },
  {
   "cell_type": "code",
   "execution_count": 18,
   "metadata": {},
   "outputs": [
    {
     "name": "stdout",
     "output_type": "stream",
     "text": [
      "[0]\n",
      "[[ 2  2  0  0  0  0  0  0  0  0  0  0]\n",
      " [ 0  5  0  1  0  0  0  1  0  1  0  0]\n",
      " [ 2  3  0  1  0  0  0  0  0  0  3  0]\n",
      " [ 2  1  0  1  0  0  0  2  0  0  1  1]\n",
      " [ 1  0  2  1  1  0  0  0  0  0  1  0]\n",
      " [ 0  0  1  2  1  2  0  0  0  0  0  0]\n",
      " [ 0  0  7  0  1  0  0  0  0  0  0  0]\n",
      " [ 1  0  1  1  1  3  0  0  0  0  0  0]\n",
      " [ 0  0  1  0  2  3  0  0  0  0  1  0]\n",
      " [ 4  2  0  0  0  0  0  0  0  0  0  0]\n",
      " [ 2  5  0  1  0  0  0  1  0  1  0  0]\n",
      " [ 5  0  1  0  0  1  1  0  0  0  0  0]\n",
      " [ 0  0  1  0  0  2  0  0  1  2  0  0]\n",
      " [ 7  0  0  0  0  1  0  0  2  0  1  0]\n",
      " [ 8  0  0  0  0  1  1  0  0  2  0  0]\n",
      " [13  0  0  0  0  1  0  1  0  1  0  0]]\n",
      "[[2 2 0 0 0 0 0 0 0 0 0 0]]\n"
     ]
    }
   ],
   "source": [
    "y_v  = np.zeros(size_of_bound)\n",
    "indices = np.argwhere(v==1)[0]\n",
    "print(indices)\n",
    "print(store_pows)\n",
    "store_pows = store_pows[indices]\n",
    "print(store_pows)\n"
   ]
  },
  {
   "cell_type": "code",
   "execution_count": 19,
   "metadata": {},
   "outputs": [
    {
     "name": "stdout",
     "output_type": "stream",
     "text": [
      "y_v:  [1. 1. 0. 0. 0. 0. 0. 0. 0. 0. 0. 0.]\n",
      "[2. 3. 1. 1. 1. 1. 1. 1. 1. 1. 1. 1.]\n",
      "x is  7913 , y is  6.0\n"
     ]
    }
   ],
   "source": [
    "for row in store_pows:\n",
    "    y_v = np.add(y_v, row)\n",
    "\n",
    "y_v = y_v/2\n",
    "print(\"y_v: \", y_v)\n",
    "\n",
    "y = 1\n",
    "z = np.power(primes, y_v)\n",
    "print(z)\n",
    "y = y*z\n",
    "\n",
    "\n",
    "y = np.prod(y)   # no need to check y_v == 0, since anything raised to 0 is 1, and on multiplication, 1 has no effect\n",
    "    \n",
    "print(\"x is \", x, \", y is \", y)"
   ]
  },
  {
   "cell_type": "code",
   "execution_count": 22,
   "metadata": {},
   "outputs": [
    {
     "name": "stdout",
     "output_type": "stream",
     "text": [
      "7907\n",
      "7919\n"
     ]
    }
   ],
   "source": [
    "k = math.gcd(x -int(y), the_number)\n",
    "print(k)\n",
    "print (int(the_number/k)) "
   ]
  },
  {
   "cell_type": "code",
   "execution_count": null,
   "metadata": {},
   "outputs": [],
   "source": []
  }
 ],
 "metadata": {
  "kernelspec": {
   "display_name": "Python 3",
   "language": "python",
   "name": "python3"
  },
  "language_info": {
   "codemirror_mode": {
    "name": "ipython",
    "version": 3
   },
   "file_extension": ".py",
   "mimetype": "text/x-python",
   "name": "python",
   "nbconvert_exporter": "python",
   "pygments_lexer": "ipython3",
   "version": "3.7.6"
  }
 },
 "nbformat": 4,
 "nbformat_minor": 4
}
