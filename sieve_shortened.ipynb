{
 "cells": [
  {
   "cell_type": "code",
   "execution_count": 2,
   "metadata": {},
   "outputs": [],
   "source": [
    "import math\n",
    "import numpy as np\n",
    "import sympy\n",
    "import time "
   ]
  },
  {
   "cell_type": "code",
   "execution_count": 3,
   "metadata": {},
   "outputs": [],
   "source": [
    "def calc_time(start, end):\n",
    "    seconds = end - start\n",
    "    mins = seconds / 60\n",
    "    print('Time:', str(seconds), '    ', str(mins))\n",
    "    return seconds, mins"
   ]
  },
  {
   "cell_type": "code",
   "execution_count": 3,
   "metadata": {},
   "outputs": [
    {
     "name": "stdout",
     "output_type": "stream",
     "text": [
      "1440.4559959137964\n"
     ]
    }
   ],
   "source": [
    "## I have kept the generator cell, but I generate more numbers in the next one. The prime number is set in this cell.\n",
    "## bound is commented out, as it is already set, and the array of primes is already created\n",
    "\n",
    "# n = 16921456439215439701\n",
    "n = 12110279\n",
    "the_number = n\n",
    "s_const = int(math.sqrt(n)) + 1\n",
    "A_const = (math.sqrt(2)-1)*math.sqrt(n)-1      \n",
    "\n",
    "print(A_const)"
   ]
  },
  {
   "cell_type": "code",
   "execution_count": 4,
   "metadata": {},
   "outputs": [],
   "source": [
    "def f(x):\n",
    "    return (x+s_const)**2 - the_number"
   ]
  },
  {
   "cell_type": "code",
   "execution_count": 4,
   "metadata": {},
   "outputs": [],
   "source": [
    "# Final optimized version (200-500 times faster than the correct one above)\n",
    "def get_primes_less_thanB(bound):                      # eratosthenes way\n",
    "    check_until = int(bound**0.5)\n",
    "    unmarked = np.array([x for x in range(2, bound)])\n",
    "    q = 2\n",
    "    i = 0\n",
    "    while True:\n",
    "        u = unmarked[i]\n",
    "        if u> check_until:               # only check numbers up to sqrt(bound)\n",
    "            break\n",
    "        u_idx = np.where(unmarked == u)[0][0]\n",
    "        max_idx = bound//u\n",
    "        listof_multiples = [u*i for i in range(q, max_idx+1)]\n",
    "        u_multiples = np.array(listof_multiples)\n",
    "        unmarked = np.setdiff1d(unmarked, u_multiples)\n",
    "        q = u\n",
    "        i +=1\n",
    "    # print(\"final unmarked elements (for eye balling!): \", unmarked)\n",
    "    print(\"Number of elements less than bound = \", bound, \" is: \", len(unmarked))\n",
    "    return (unmarked)"
   ]
  },
  {
   "cell_type": "code",
   "execution_count": 24,
   "metadata": {},
   "outputs": [
    {
     "name": "stdout",
     "output_type": "stream",
     "text": [
      "Number of elements less than bound =  10000  is:  1229\n",
      "Time: 0.023897886276245117      0.00039829810460408527\n"
     ]
    },
    {
     "data": {
      "text/plain": [
       "(0.023897886276245117, 0.00039829810460408527)"
      ]
     },
     "execution_count": 24,
     "metadata": {},
     "output_type": "execute_result"
    }
   ],
   "source": [
    "start = time.time()\n",
    "bound = 10000\n",
    "primes_less_thanB = get_primes_less_thanB(bound)\n",
    "end = time.time()\n",
    "\n",
    "calc_time(start, end)"
   ]
  },
  {
   "cell_type": "code",
   "execution_count": 16,
   "metadata": {},
   "outputs": [
    {
     "name": "stdout",
     "output_type": "stream",
     "text": [
      "number of elements less than bound =  100  is:  25\n",
      "the primes in this factor base with bound= 100 are:  [ 2  3  5  7 11 13 17 19 23 29 31 37 41 43 47 53 59 61 67 71 73 79 83 89\n",
      " 97]\n"
     ]
    }
   ],
   "source": [
    "bound = 100\n",
    "primes = np.array(get_primes_less_thanB(bound))\n",
    "print(\"the primes in this factor base with bound=\", bound, \"are: \", primes)\n",
    "\n",
    "size_of_bound = len(primes)"
   ]
  },
  {
   "cell_type": "code",
   "execution_count": 13,
   "metadata": {},
   "outputs": [],
   "source": [
    "def check_Bsmooth(bounded_primes, Bsmooth_candidate):\n",
    "    num = Bsmooth_candidate\n",
    "    powers_of_primes= []\n",
    "    num_remaining= num                          # keep dividing by primes in B smooth primes, until == 1\n",
    "    for prime in primes:                        #_less_thanB:\n",
    "        print(\"current prime: \", prime)\n",
    "        i = 0                                   # i = power of prime\n",
    "        if (num_remaining%prime == 0):\n",
    "            while (num_remaining%prime ==0):       #keep dividing for each power of the prime\n",
    "                quotient = num_remaining/prime\n",
    "                num_remaining = quotient\n",
    "                i +=1\n",
    "        print(\"num remaining: \", num_remaining)\n",
    "        powers_of_primes.append(i)\n",
    "        if int(num_remaining) == 1:\n",
    "            return powers_of_primes\n",
    "    return []"
   ]
  },
  {
   "cell_type": "code",
   "execution_count": 16,
   "metadata": {},
   "outputs": [
    {
     "name": "stdout",
     "output_type": "stream",
     "text": [
      "Number of elements less than bound =  100  is:  25\n",
      "current prime:  2\n",
      "num remaining:  25.0\n",
      "current prime:  3\n",
      "num remaining:  25.0\n",
      "current prime:  5\n",
      "num remaining:  1.0\n",
      "Time: 0.0018439292907714844      3.073215484619141e-05\n"
     ]
    },
    {
     "data": {
      "text/plain": [
       "(0.0018439292907714844, 3.073215484619141e-05)"
      ]
     },
     "execution_count": 16,
     "metadata": {},
     "output_type": "execute_result"
    }
   ],
   "source": [
    "# I was just falling asleep when I realized that the INDENTATION for \"if num_remaining is 1\" MIGHT be wrong!\n",
    "# So it was unnecessarily checking, \n",
    "num = 100\n",
    "bound = 100\n",
    "primes = np.array(get_primes_less_thanB(bound))\n",
    "\n",
    "start = time.time()\n",
    "result = check_Bsmooth(primes, num)\n",
    "end = time.time()\n",
    "\n",
    "calc_time(start, end)\n"
   ]
  },
  {
   "cell_type": "code",
   "execution_count": null,
   "metadata": {},
   "outputs": [],
   "source": []
  },
  {
   "cell_type": "code",
   "execution_count": null,
   "metadata": {},
   "outputs": [],
   "source": []
  },
  {
   "cell_type": "code",
   "execution_count": 41,
   "metadata": {},
   "outputs": [],
   "source": [
    "def sieve(A_const, bounded_primes):\n",
    "    B_smooth_squares = []\n",
    "    powers_of_primes = []\n",
    "    for i in range(0, int(A_const)):\n",
    "        k = f(i)\n",
    "#         if i%100 ==0:\n",
    "#             print(\"in this iteration i=\", i, \" candidate k is: \", k)\n",
    "        exponents = check_Bsmooth(bounded_primes, k)\n",
    "        if len(exponents)>0:\n",
    "            B_smooth_squares.append(k)\n",
    "            powers_of_primes.append(exponents)\n",
    "            #print(\"found a B-smooth number(!) = \", k)\n",
    "            #print(\"with prime powers: \", exponents)\n",
    "        else:\n",
    "            continue\n",
    "    return (B_smooth_squares, powers_of_primes)"
   ]
  },
  {
   "cell_type": "code",
   "execution_count": 33,
   "metadata": {},
   "outputs": [
    {
     "name": "stdout",
     "output_type": "stream",
     "text": [
      "Number of elements less than bound =  100  is:  25\n"
     ]
    }
   ],
   "source": [
    "bound = 100\n",
    "primes = np.array(get_primes_less_thanB(bound))"
   ]
  },
  {
   "cell_type": "code",
   "execution_count": 30,
   "metadata": {},
   "outputs": [
    {
     "name": "stdout",
     "output_type": "stream",
     "text": [
      "found a B-smooth number(!) =  121\n",
      "found a B-smooth number(!) =  14045\n",
      "found a B-smooth number(!) =  153725\n",
      "found a B-smooth number(!) =  174746\n",
      "found a B-smooth number(!) =  237917\n",
      "found a B-smooth number(!) =  613210\n",
      "found a B-smooth number(!) =  763465\n",
      "found a B-smooth number(!) =  799370\n",
      "found a B-smooth number(!) =  1197625\n",
      "found a B-smooth number(!) =  1743005\n",
      "found a B-smooth number(!) =  1772797\n",
      "found a B-smooth number(!) =  2535650\n",
      "found a B-smooth number(!) =  2658370\n",
      "found a B-smooth number(!) =  3279650\n",
      "found a B-smooth number(!) =  3342482\n",
      "found a B-smooth number(!) =  3690346\n",
      "found a B-smooth number(!) =  3985865\n",
      "found a B-smooth number(!) =  4066205\n",
      "found a B-smooth number(!) =  7674425\n",
      "found a B-smooth number(!) =  8428745\n",
      "found a B-smooth number(!) =  8884445\n",
      "found a B-smooth number(!) =  9280346\n",
      "found a B-smooth number(!) =  9298850\n",
      "found a B-smooth number(!) =  10234250\n",
      "found a B-smooth number(!) =  11519042\n",
      "found a B-smooth number(!) =  11782265\n",
      "Time: 0.05980253219604492      0.000996708869934082\n"
     ]
    },
    {
     "data": {
      "text/plain": [
       "(0.05980253219604492, 0.000996708869934082)"
      ]
     },
     "execution_count": 30,
     "metadata": {},
     "output_type": "execute_result"
    }
   ],
   "source": [
    "start = time.time()\n",
    "result = sieve(A_const, primes)\n",
    "end = time.time()\n",
    "\n",
    "calc_time(start, end)"
   ]
  },
  {
   "cell_type": "code",
   "execution_count": 31,
   "metadata": {},
   "outputs": [
    {
     "name": "stdout",
     "output_type": "stream",
     "text": [
      "Number of B smooth candidates with bound:  100  are  26\n"
     ]
    }
   ],
   "source": [
    "print(\"Number of B smooth candidates with bound: \", bound, \" are \", len(result[0]))"
   ]
  },
  {
   "cell_type": "code",
   "execution_count": 34,
   "metadata": {},
   "outputs": [
    {
     "name": "stdout",
     "output_type": "stream",
     "text": [
      "Number of elements less than bound =  120  is:  30\n"
     ]
    }
   ],
   "source": [
    "bound = 120\n",
    "primes = np.array(get_primes_less_thanB(bound))"
   ]
  },
  {
   "cell_type": "code",
   "execution_count": 35,
   "metadata": {},
   "outputs": [
    {
     "name": "stdout",
     "output_type": "stream",
     "text": [
      "found a B-smooth number(!) =  121\n",
      "found a B-smooth number(!) =  14045\n",
      "found a B-smooth number(!) =  125725\n",
      "found a B-smooth number(!) =  153725\n",
      "found a B-smooth number(!) =  174746\n",
      "found a B-smooth number(!) =  237917\n",
      "found a B-smooth number(!) =  456746\n",
      "found a B-smooth number(!) =  613210\n",
      "found a B-smooth number(!) =  763465\n",
      "found a B-smooth number(!) =  799370\n",
      "found a B-smooth number(!) =  1197625\n",
      "found a B-smooth number(!) =  1483690\n",
      "found a B-smooth number(!) =  1743005\n",
      "found a B-smooth number(!) =  1772797\n",
      "found a B-smooth number(!) =  2231090\n",
      "found a B-smooth number(!) =  2238665\n",
      "found a B-smooth number(!) =  2535650\n",
      "found a B-smooth number(!) =  2658370\n",
      "found a B-smooth number(!) =  3279650\n",
      "found a B-smooth number(!) =  3342482\n",
      "found a B-smooth number(!) =  3690346\n",
      "found a B-smooth number(!) =  3801842\n",
      "found a B-smooth number(!) =  3985865\n",
      "found a B-smooth number(!) =  4066205\n",
      "found a B-smooth number(!) =  5454202\n",
      "found a B-smooth number(!) =  7674425\n",
      "found a B-smooth number(!) =  8428745\n",
      "found a B-smooth number(!) =  8884445\n",
      "found a B-smooth number(!) =  9003746\n",
      "found a B-smooth number(!) =  9280346\n",
      "found a B-smooth number(!) =  9298850\n",
      "found a B-smooth number(!) =  9745346\n",
      "found a B-smooth number(!) =  10234250\n",
      "found a B-smooth number(!) =  11519042\n",
      "found a B-smooth number(!) =  11782265\n",
      "Time: 0.07330584526062012      0.001221764087677002\n",
      "Number of B smooth candidates with bound:  120  are  35\n"
     ]
    }
   ],
   "source": [
    "start = time.time()\n",
    "result = sieve(A_const, primes)\n",
    "end = time.time()\n",
    "\n",
    "calc_time(start, end)\n",
    "print(\"Number of B smooth candidates with bound: \", bound, \" are \", len(result[0]))"
   ]
  },
  {
   "cell_type": "code",
   "execution_count": 37,
   "metadata": {},
   "outputs": [],
   "source": [
    "# Just checking how long this alternative you had takes; seems comparable in terms of time\n",
    "\n",
    "# But this method actually doesn't find ANY candidates k, because the check at (**) means you check \n",
    "# whether EVERY one of the primes in'B smooth primes' divide the candidate k! But that's too strict a requirement!\n",
    "# It also does not check if one prime repeatedly divides k - we need to do that; e.g. 11 goes into 2658370 3 times!\n",
    "\n",
    "\n",
    "def sieve2(A_const, primes):\n",
    "    sieve_array = []\n",
    "\n",
    "    for i in range(0, int(A_const)):\n",
    "        k = f(i)\n",
    "        #print(k)\n",
    "        trigger = 0\n",
    "        flag_cont = 0\n",
    "\n",
    "        for j in range(0, len(primes)):\n",
    "            if(k%primes[j]!=0):   # if any prime does not divide k ----------------(**)\n",
    "                flag_cont = 1     # then set flag to 1\n",
    "\n",
    "        if flag_cont == 1:\n",
    "            flag_cont = 0\n",
    "            continue\n",
    "        else:\n",
    "            sieve_array.append(k)\n",
    "\n",
    "    print(len(sieve_array))\n",
    "    "
   ]
  },
  {
   "cell_type": "code",
   "execution_count": 40,
   "metadata": {},
   "outputs": [
    {
     "name": "stdout",
     "output_type": "stream",
     "text": [
      "0\n",
      "Time: 0.05785202980041504      0.000964200496673584\n"
     ]
    },
    {
     "data": {
      "text/plain": [
       "(0.05785202980041504, 0.000964200496673584)"
      ]
     },
     "execution_count": 40,
     "metadata": {},
     "output_type": "execute_result"
    }
   ],
   "source": [
    "start = time.time()\n",
    "result = sieve2(A_const, primes)\n",
    "end = time.time()\n",
    "calc_time(start, end)"
   ]
  },
  {
   "cell_type": "code",
   "execution_count": 43,
   "metadata": {},
   "outputs": [
    {
     "name": "stdout",
     "output_type": "stream",
     "text": [
      "Number of elements less than bound =  200  is:  46\n",
      "Time: 0.1254863739013672      0.0020914395650227864\n"
     ]
    },
    {
     "data": {
      "text/plain": [
       "(0.1254863739013672, 0.0020914395650227864)"
      ]
     },
     "execution_count": 43,
     "metadata": {},
     "output_type": "execute_result"
    }
   ],
   "source": [
    "# Try an actual run \n",
    "start = time.time()\n",
    "\n",
    "bound = 200\n",
    "primes = np.array(get_primes_less_thanB(bound))\n",
    "\n",
    "results = sieve(A_const, primes)\n",
    "end = time.time()\n",
    "\n",
    "calc_time(start, end)   # I like to time everything :)"
   ]
  },
  {
   "cell_type": "code",
   "execution_count": 47,
   "metadata": {},
   "outputs": [
    {
     "name": "stdout",
     "output_type": "stream",
     "text": [
      "Number of elements less than bound =  40  is:  12\n",
      "Time: 0.03968977928161621      0.0006614963213602702\n"
     ]
    },
    {
     "data": {
      "text/plain": [
       "(0.03968977928161621, 0.0006614963213602702)"
      ]
     },
     "execution_count": 47,
     "metadata": {},
     "output_type": "execute_result"
    }
   ],
   "source": [
    "# I decided to simulate what you simulated\n",
    "\n",
    "start = time.time()\n",
    "\n",
    "bound = 40\n",
    "primes = np.array(get_primes_less_thanB(bound))\n",
    "\n",
    "results = sieve(A_const, primes)\n",
    "end = time.time()\n",
    "\n",
    "calc_time(start, end)   # I like to time everything :)"
   ]
  },
  {
   "cell_type": "code",
   "execution_count": null,
   "metadata": {},
   "outputs": [],
   "source": [
    "# [3480, 3843, 3931, 4961, 6085, 6104, 6393, 6459, 6949, 6960, 7686, 7807, 7816, 7879, 7925, 7948]\n",
    "# have factors such as 2, 3, "
   ]
  },
  {
   "cell_type": "code",
   "execution_count": 46,
   "metadata": {},
   "outputs": [
    {
     "name": "stdout",
     "output_type": "stream",
     "text": [
      "[121, 14045, 21010, 34946, 125725, 153725, 174746, 237917, 336505, 456746, 613210, 727610, 763465, 799370, 1197625, 1270685, 1387997, 1483690, 1542746, 1743005, 1772797, 2231090, 2238665, 2482121, 2535650, 2658370, 3279650, 3342482, 3690346, 3801842, 3833770, 3985865, 4066205, 5454202, 5926730, 6638621, 6925490, 7585565, 7674425, 7897450, 8347250, 8428745, 8492242, 8884445, 9003746, 9280346, 9298850, 9745346, 9951530, 10234250, 10910525, 11519042, 11782265]\n",
      "[[0, 0, 0, 0, 2, 0, 0, 0, 0, 0, 0, 0, 0, 0, 0, 0, 0, 0, 0, 0, 0, 0, 0, 0, 0, 0, 0, 0, 0, 0, 0, 0, 0, 0, 0, 0, 0, 0, 0, 0, 0, 0, 0, 0, 0, 0], [0, 0, 1, 0, 0, 0, 0, 0, 0, 0, 0, 0, 0, 0, 0, 2, 0, 0, 0, 0, 0, 0, 0, 0, 0, 0, 0, 0, 0, 0, 0, 0, 0, 0, 0, 0, 0, 0, 0, 0, 0, 0, 0, 0, 0, 0], [1, 0, 1, 0, 1, 0, 0, 0, 0, 0, 0, 0, 0, 0, 0, 0, 0, 0, 0, 0, 0, 0, 0, 0, 0, 0, 0, 0, 0, 0, 0, 0, 0, 0, 0, 0, 0, 0, 0, 0, 0, 0, 1, 0, 0, 0], [1, 0, 0, 0, 0, 0, 0, 0, 0, 0, 0, 0, 0, 0, 0, 0, 0, 0, 0, 0, 0, 0, 0, 0, 0, 1, 0, 0, 0, 0, 0, 0, 0, 0, 0, 0, 0, 0, 0, 1, 0, 0, 0, 0, 0, 0], [0, 0, 2, 0, 0, 0, 0, 0, 0, 0, 0, 0, 0, 0, 1, 0, 0, 0, 0, 0, 0, 0, 0, 0, 0, 0, 0, 1, 0, 0, 0, 0, 0, 0, 0, 0, 0, 0, 0, 0, 0, 0, 0, 0, 0, 0], [0, 0, 2, 0, 1, 1, 0, 0, 0, 0, 0, 0, 0, 1, 0, 0, 0, 0, 0, 0, 0, 0, 0, 0, 0, 0, 0, 0, 0, 0, 0, 0, 0, 0, 0, 0, 0, 0, 0, 0, 0, 0, 0, 0, 0, 0], [1, 0, 0, 0, 1, 2, 0, 0, 0, 0, 0, 0, 0, 0, 1, 0, 0, 0, 0, 0, 0, 0, 0, 0, 0, 0, 0, 0, 0, 0, 0, 0, 0, 0, 0, 0, 0, 0, 0, 0, 0, 0, 0, 0, 0, 0], [0, 0, 0, 0, 0, 0, 0, 0, 0, 0, 0, 0, 0, 0, 0, 1, 0, 0, 2, 0, 0, 0, 0, 0, 0, 0, 0, 0, 0, 0, 0, 0, 0, 0, 0, 0, 0, 0, 0, 0, 0, 0, 0, 0, 0, 0], [0, 0, 1, 0, 0, 1, 0, 0, 0, 0, 1, 0, 0, 0, 0, 0, 0, 0, 0, 0, 0, 0, 0, 0, 0, 0, 0, 0, 0, 0, 0, 0, 0, 0, 0, 0, 0, 0, 1, 0, 0, 0, 0, 0, 0, 0], [1, 0, 0, 0, 0, 0, 0, 0, 0, 0, 0, 0, 0, 1, 1, 0, 0, 0, 0, 0, 0, 0, 0, 0, 0, 0, 0, 0, 0, 1, 0, 0, 0, 0, 0, 0, 0, 0, 0, 0, 0, 0, 0, 0, 0, 0], [1, 0, 1, 0, 0, 1, 0, 0, 0, 0, 0, 0, 0, 0, 0, 1, 0, 0, 0, 0, 0, 0, 0, 1, 0, 0, 0, 0, 0, 0, 0, 0, 0, 0, 0, 0, 0, 0, 0, 0, 0, 0, 0, 0, 0, 0], [1, 0, 1, 0, 0, 1, 0, 0, 0, 1, 0, 0, 0, 0, 0, 0, 0, 0, 0, 0, 0, 0, 0, 0, 0, 0, 0, 0, 0, 0, 0, 0, 0, 0, 0, 0, 0, 0, 0, 0, 0, 0, 0, 1, 0, 0], [0, 0, 1, 0, 0, 0, 0, 0, 0, 0, 0, 0, 0, 1, 0, 1, 0, 0, 1, 0, 0, 0, 0, 0, 0, 0, 0, 0, 0, 0, 0, 0, 0, 0, 0, 0, 0, 0, 0, 0, 0, 0, 0, 0, 0, 0], [1, 0, 1, 0, 1, 2, 0, 0, 0, 0, 0, 0, 0, 1, 0, 0, 0, 0, 0, 0, 0, 0, 0, 0, 0, 0, 0, 0, 0, 0, 0, 0, 0, 0, 0, 0, 0, 0, 0, 0, 0, 0, 0, 0, 0, 0], [0, 0, 3, 0, 1, 1, 0, 0, 0, 0, 0, 0, 0, 0, 0, 0, 0, 0, 1, 0, 0, 0, 0, 0, 0, 0, 0, 0, 0, 0, 0, 0, 0, 0, 0, 0, 0, 0, 0, 0, 0, 0, 0, 0, 0, 0], [0, 0, 1, 0, 0, 1, 0, 0, 0, 0, 0, 0, 0, 0, 0, 0, 0, 0, 0, 0, 0, 0, 0, 0, 0, 0, 0, 0, 0, 1, 0, 0, 0, 0, 0, 0, 0, 0, 0, 1, 0, 0, 0, 0, 0, 0], [0, 0, 0, 0, 0, 2, 0, 0, 0, 0, 0, 0, 0, 1, 0, 0, 0, 0, 0, 0, 0, 0, 0, 0, 0, 0, 0, 0, 0, 0, 0, 0, 0, 0, 0, 0, 0, 0, 0, 0, 0, 0, 1, 0, 0, 0], [1, 0, 1, 0, 0, 1, 0, 0, 0, 0, 0, 0, 0, 0, 0, 0, 0, 0, 0, 0, 0, 0, 0, 0, 0, 1, 0, 0, 0, 1, 0, 0, 0, 0, 0, 0, 0, 0, 0, 0, 0, 0, 0, 0, 0, 0], [1, 0, 0, 0, 0, 0, 0, 0, 0, 0, 1, 0, 0, 0, 0, 0, 0, 0, 0, 0, 0, 0, 0, 0, 0, 0, 0, 0, 0, 0, 0, 0, 0, 0, 1, 0, 0, 0, 1, 0, 0, 0, 0, 0, 0, 0], [0, 0, 1, 0, 2, 0, 0, 0, 0, 0, 0, 0, 0, 1, 0, 0, 0, 0, 1, 0, 0, 0, 0, 0, 0, 0, 0, 0, 0, 0, 0, 0, 0, 0, 0, 0, 0, 0, 0, 0, 0, 0, 0, 0, 0, 0], [0, 0, 0, 0, 0, 1, 0, 0, 0, 0, 1, 0, 0, 0, 0, 1, 0, 0, 0, 0, 0, 0, 1, 0, 0, 0, 0, 0, 0, 0, 0, 0, 0, 0, 0, 0, 0, 0, 0, 0, 0, 0, 0, 0, 0, 0], [1, 0, 1, 0, 0, 0, 0, 0, 0, 0, 0, 0, 0, 0, 2, 0, 0, 0, 0, 0, 0, 0, 0, 0, 0, 1, 0, 0, 0, 0, 0, 0, 0, 0, 0, 0, 0, 0, 0, 0, 0, 0, 0, 0, 0, 0], [0, 0, 1, 0, 1, 1, 0, 0, 0, 0, 1, 0, 0, 0, 0, 0, 0, 0, 0, 0, 0, 0, 0, 0, 0, 1, 0, 0, 0, 0, 0, 0, 0, 0, 0, 0, 0, 0, 0, 0, 0, 0, 0, 0, 0, 0], [0, 0, 0, 0, 0, 0, 0, 0, 0, 0, 0, 0, 0, 0, 0, 0, 0, 0, 0, 0, 0, 0, 0, 1, 0, 0, 0, 0, 0, 0, 0, 0, 0, 0, 0, 0, 0, 0, 2, 0, 0, 0, 0, 0, 0, 0], [1, 0, 2, 0, 0, 1, 0, 0, 0, 0, 0, 0, 0, 0, 1, 0, 0, 0, 0, 0, 0, 0, 1, 0, 0, 0, 0, 0, 0, 0, 0, 0, 0, 0, 0, 0, 0, 0, 0, 0, 0, 0, 0, 0, 0, 0], [1, 0, 1, 0, 2, 3, 0, 0, 0, 0, 0, 0, 0, 0, 0, 0, 0, 0, 0, 0, 0, 0, 0, 0, 0, 0, 0, 0, 0, 0, 0, 0, 0, 0, 0, 0, 0, 0, 0, 0, 0, 0, 0, 0, 0, 0], [1, 0, 2, 0, 1, 0, 0, 0, 0, 0, 0, 0, 0, 0, 0, 0, 0, 0, 1, 0, 0, 0, 0, 1, 0, 0, 0, 0, 0, 0, 0, 0, 0, 0, 0, 0, 0, 0, 0, 0, 0, 0, 0, 0, 0, 0], [1, 0, 0, 0, 1, 2, 0, 0, 0, 1, 1, 0, 0, 0, 0, 0, 0, 0, 0, 0, 0, 0, 0, 0, 0, 0, 0, 0, 0, 0, 0, 0, 0, 0, 0, 0, 0, 0, 0, 0, 0, 0, 0, 0, 0, 0], [1, 0, 0, 0, 1, 0, 0, 0, 0, 0, 0, 0, 0, 1, 1, 0, 0, 0, 0, 0, 0, 0, 1, 0, 0, 0, 0, 0, 0, 0, 0, 0, 0, 0, 0, 0, 0, 0, 0, 0, 0, 0, 0, 0, 0, 0], [1, 0, 0, 0, 1, 0, 0, 0, 0, 1, 0, 0, 0, 0, 0, 0, 1, 0, 0, 0, 0, 0, 0, 0, 0, 1, 0, 0, 0, 0, 0, 0, 0, 0, 0, 0, 0, 0, 0, 0, 0, 0, 0, 0, 0, 0], [1, 0, 1, 0, 0, 0, 0, 0, 0, 0, 1, 0, 0, 0, 0, 0, 0, 0, 0, 0, 0, 0, 1, 0, 0, 0, 0, 0, 0, 0, 0, 0, 0, 0, 1, 0, 0, 0, 0, 0, 0, 0, 0, 0, 0, 0], [0, 0, 1, 0, 0, 2, 0, 0, 0, 0, 0, 0, 0, 0, 0, 1, 0, 0, 0, 0, 0, 0, 0, 1, 0, 0, 0, 0, 0, 0, 0, 0, 0, 0, 0, 0, 0, 0, 0, 0, 0, 0, 0, 0, 0, 0], [0, 0, 1, 0, 3, 1, 0, 0, 0, 0, 0, 0, 0, 0, 1, 0, 0, 0, 0, 0, 0, 0, 0, 0, 0, 0, 0, 0, 0, 0, 0, 0, 0, 0, 0, 0, 0, 0, 0, 0, 0, 0, 0, 0, 0, 0], [1, 0, 0, 0, 0, 1, 0, 0, 0, 0, 1, 0, 0, 0, 0, 0, 0, 0, 1, 0, 0, 0, 0, 0, 0, 1, 0, 0, 0, 0, 0, 0, 0, 0, 0, 0, 0, 0, 0, 0, 0, 0, 0, 0, 0, 0], [1, 0, 1, 0, 0, 0, 0, 0, 0, 1, 0, 0, 0, 0, 0, 0, 0, 0, 0, 0, 0, 0, 0, 0, 0, 0, 0, 1, 0, 0, 0, 0, 0, 0, 0, 0, 0, 0, 0, 0, 0, 0, 1, 0, 0, 0], [0, 0, 0, 0, 1, 0, 0, 0, 0, 0, 0, 0, 0, 0, 0, 1, 1, 0, 0, 0, 0, 0, 0, 0, 0, 0, 0, 0, 0, 0, 0, 0, 0, 0, 0, 0, 0, 0, 0, 0, 0, 0, 0, 1, 0, 0], [1, 0, 1, 0, 1, 1, 0, 0, 0, 1, 0, 0, 0, 0, 0, 0, 0, 0, 0, 0, 0, 0, 0, 0, 0, 0, 0, 0, 0, 0, 0, 0, 0, 0, 0, 0, 0, 0, 1, 0, 0, 0, 0, 0, 0, 0], [0, 0, 1, 0, 0, 2, 0, 0, 0, 0, 0, 0, 0, 0, 1, 0, 0, 0, 0, 0, 0, 0, 0, 0, 0, 0, 0, 0, 0, 0, 0, 0, 0, 0, 0, 0, 0, 0, 0, 0, 0, 0, 1, 0, 0, 0], [0, 0, 2, 0, 2, 0, 0, 0, 0, 0, 0, 0, 0, 1, 0, 0, 1, 0, 0, 0, 0, 0, 0, 0, 0, 0, 0, 0, 0, 0, 0, 0, 0, 0, 0, 0, 0, 0, 0, 0, 0, 0, 0, 0, 0, 0], [1, 0, 2, 0, 1, 0, 0, 0, 0, 0, 0, 0, 0, 0, 0, 0, 0, 0, 0, 0, 0, 0, 1, 0, 0, 0, 0, 0, 0, 0, 0, 0, 0, 0, 0, 0, 0, 0, 0, 1, 0, 0, 0, 0, 0, 0], [1, 0, 3, 0, 0, 0, 0, 0, 0, 0, 0, 0, 0, 0, 0, 0, 0, 0, 0, 0, 0, 0, 0, 0, 0, 0, 0, 0, 0, 0, 0, 0, 0, 0, 0, 0, 0, 0, 0, 1, 0, 0, 0, 1, 0, 0], [0, 0, 1, 0, 0, 1, 0, 0, 0, 0, 1, 0, 0, 0, 1, 0, 0, 0, 0, 0, 0, 0, 0, 1, 0, 0, 0, 0, 0, 0, 0, 0, 0, 0, 0, 0, 0, 0, 0, 0, 0, 0, 0, 0, 0, 0], [1, 0, 0, 0, 1, 0, 0, 0, 0, 0, 0, 0, 0, 1, 1, 0, 0, 0, 0, 0, 0, 0, 0, 0, 0, 0, 0, 0, 0, 0, 0, 0, 0, 0, 0, 0, 0, 0, 0, 0, 0, 0, 1, 0, 0, 0], [0, 0, 1, 0, 0, 0, 0, 0, 0, 0, 2, 0, 0, 2, 0, 0, 0, 0, 0, 0, 0, 0, 0, 0, 0, 0, 0, 0, 0, 0, 0, 0, 0, 0, 0, 0, 0, 0, 0, 0, 0, 0, 0, 0, 0, 0], [1, 0, 0, 0, 0, 0, 0, 0, 0, 2, 0, 0, 0, 0, 0, 1, 0, 0, 0, 0, 0, 0, 0, 0, 0, 1, 0, 0, 0, 0, 0, 0, 0, 0, 0, 0, 0, 0, 0, 0, 0, 0, 0, 0, 0, 0], [1, 0, 0, 0, 0, 0, 0, 0, 0, 0, 1, 0, 0, 1, 0, 0, 2, 0, 0, 0, 0, 0, 0, 0, 0, 0, 0, 0, 0, 0, 0, 0, 0, 0, 0, 0, 0, 0, 0, 0, 0, 0, 0, 0, 0, 0], [1, 0, 2, 0, 2, 0, 0, 0, 0, 1, 0, 0, 0, 0, 0, 1, 0, 0, 0, 0, 0, 0, 0, 0, 0, 0, 0, 0, 0, 0, 0, 0, 0, 0, 0, 0, 0, 0, 0, 0, 0, 0, 0, 0, 0, 0], [1, 0, 0, 0, 0, 1, 0, 0, 0, 0, 1, 0, 0, 0, 0, 0, 0, 0, 0, 0, 0, 0, 0, 0, 0, 0, 0, 1, 0, 1, 0, 0, 0, 0, 0, 0, 0, 0, 0, 0, 0, 0, 0, 0, 0, 0], [1, 0, 1, 0, 0, 0, 0, 0, 0, 0, 0, 0, 0, 0, 0, 0, 1, 0, 0, 0, 0, 0, 0, 0, 0, 1, 0, 0, 0, 0, 0, 0, 0, 0, 0, 0, 0, 0, 1, 0, 0, 0, 0, 0, 0, 0], [1, 0, 3, 0, 0, 1, 0, 0, 0, 0, 0, 0, 0, 0, 1, 0, 0, 0, 1, 0, 0, 0, 0, 0, 0, 0, 0, 0, 0, 0, 0, 0, 0, 0, 0, 0, 0, 0, 0, 0, 0, 0, 0, 0, 0, 0], [0, 0, 2, 0, 0, 0, 0, 0, 0, 1, 0, 0, 0, 0, 0, 0, 0, 0, 0, 0, 0, 0, 0, 0, 0, 1, 0, 0, 0, 0, 0, 0, 0, 0, 1, 0, 0, 0, 0, 0, 0, 0, 0, 0, 0, 0], [1, 0, 0, 0, 0, 0, 0, 0, 0, 0, 1, 0, 0, 0, 1, 0, 1, 0, 1, 0, 0, 0, 0, 0, 0, 0, 0, 0, 0, 0, 0, 0, 0, 0, 0, 0, 0, 0, 0, 0, 0, 0, 0, 0, 0, 0], [0, 0, 1, 0, 1, 0, 0, 0, 0, 1, 0, 0, 0, 0, 0, 0, 0, 0, 0, 0, 0, 0, 1, 1, 0, 0, 0, 0, 0, 0, 0, 0, 0, 0, 0, 0, 0, 0, 0, 0, 0, 0, 0, 0, 0, 0]]\n"
     ]
    }
   ],
   "source": [
    "B_smooth_squares = results[0]\n",
    "print(B_smooth_squares)\n",
    "powers_of_primes = results[1]\n",
    "print(powers_of_primes)"
   ]
  },
  {
   "cell_type": "code",
   "execution_count": 45,
   "metadata": {},
   "outputs": [
    {
     "name": "stdout",
     "output_type": "stream",
     "text": [
      "num rows:  53 num columns  46\n",
      "num rows:  46 num columns  53\n"
     ]
    }
   ],
   "source": [
    "exp_array = (np.array(powers_of_primes))%2\n",
    "rownum = len(exp_array)\n",
    "colnum = len(exp_array[0])\n",
    "print(\"num rows: \", rownum, \"num columns \", colnum)\n",
    "\n",
    "exp_array = np.transpose(exp_array)\n",
    "rownum = len(exp_array)\n",
    "colnum = len(exp_array[0])\n",
    "print(\"num rows: \", rownum, \"num columns \", colnum)\n",
    "# print(exp_array)"
   ]
  },
  {
   "cell_type": "code",
   "execution_count": 48,
   "metadata": {},
   "outputs": [
    {
     "name": "stdout",
     "output_type": "stream",
     "text": [
      "[121, 2658370, 3342482]\n",
      "[[0, 0, 0, 0, 2, 0, 0, 0, 0, 0, 0, 0], [1, 0, 1, 0, 2, 3, 0, 0, 0, 0, 0, 0], [1, 0, 0, 0, 1, 2, 0, 0, 0, 1, 1, 0]]\n"
     ]
    }
   ],
   "source": [
    "B_smooth_squares = results[0]\n",
    "print(B_smooth_squares)\n",
    "powers_of_primes = results[1]\n",
    "print(powers_of_primes)"
   ]
  }
 ],
 "metadata": {
  "kernelspec": {
   "display_name": "Python 3",
   "language": "python",
   "name": "python3"
  },
  "language_info": {
   "codemirror_mode": {
    "name": "ipython",
    "version": 3
   },
   "file_extension": ".py",
   "mimetype": "text/x-python",
   "name": "python",
   "nbconvert_exporter": "python",
   "pygments_lexer": "ipython3",
   "version": "3.7.6"
  }
 },
 "nbformat": 4,
 "nbformat_minor": 4
}
