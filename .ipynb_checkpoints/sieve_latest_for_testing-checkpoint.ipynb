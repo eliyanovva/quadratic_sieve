{
 "cells": [
  {
   "cell_type": "code",
   "execution_count": 94,
   "metadata": {},
   "outputs": [],
   "source": [
    "import math\n",
    "import numpy as np\n",
    "import sympy\n",
    "import time "
   ]
  },
  {
   "cell_type": "code",
   "execution_count": 95,
   "metadata": {},
   "outputs": [],
   "source": [
    "def calc_time(start, end):\n",
    "    seconds = end - start\n",
    "    mins = seconds / 60\n",
    "    print('Time in seconds: ', str(seconds), ', Time in minutes: ', str(mins))\n",
    "    return seconds, mins"
   ]
  },
  {
   "cell_type": "code",
   "execution_count": 96,
   "metadata": {},
   "outputs": [],
   "source": [
    "def f(x):\n",
    "    return (x+s_const)**2 - the_number"
   ]
  },
  {
   "cell_type": "code",
   "execution_count": 97,
   "metadata": {},
   "outputs": [],
   "source": [
    "# Final optimized version \n",
    "def get_primes_less_thanB(bound):                      # eratosthenes way\n",
    "    check_until = int(bound**0.5)\n",
    "    unmarked = np.array([x for x in range(2, bound)])\n",
    "    q = 2\n",
    "    i = 0\n",
    "    while True:\n",
    "        u = unmarked[i]\n",
    "        if u> check_until:               # only check numbers up to sqrt(bound)\n",
    "            break\n",
    "        u_idx = np.where(unmarked == u)[0][0]\n",
    "        max_idx = bound//u\n",
    "        listof_multiples = [u*i for i in range(q, max_idx+1)]\n",
    "        u_multiples = np.array(listof_multiples)\n",
    "        unmarked = np.setdiff1d(unmarked, u_multiples)   # numpy set diff without changing order of elements in list\n",
    "        q = u\n",
    "        i +=1\n",
    "    print(\"Number of elements less than bound = \", bound, \" is: \", len(unmarked))\n",
    "    return (unmarked)"
   ]
  },
  {
   "cell_type": "code",
   "execution_count": 98,
   "metadata": {},
   "outputs": [],
   "source": [
    "# Correct optimized version\n",
    "def check_Bsmooth(primes, num):\n",
    "    powers_of_primes= []\n",
    "    num_remaining= num                         \n",
    "    for prime in primes: \n",
    "        i = 0                                   # i = power of prime\n",
    "        if (num_remaining%prime == 0):\n",
    "            while (num_remaining%prime ==0):   #keep dividing for each power of the prime\n",
    "                quotient = num_remaining/prime\n",
    "                num_remaining = quotient\n",
    "                i +=1\n",
    "        powers_of_primes.append(i)\n",
    "        if num_remaining == 1:     \n",
    "            diff = len(primes)-len(powers_of_primes)\n",
    "            if diff>0:\n",
    "                zeros = [0 for k in range(diff)]\n",
    "                return powers_of_primes + zeros\n",
    "            return powers_of_primes\n",
    "    #print(\"Number is not B smooth\")\n",
    "    return []"
   ]
  },
  {
   "cell_type": "markdown",
   "metadata": {},
   "source": [
    "#### Start Choosing parameters for testing: bound, n, etc;"
   ]
  },
  {
   "cell_type": "code",
   "execution_count": 10,
   "metadata": {},
   "outputs": [
    {
     "name": "stdout",
     "output_type": "stream",
     "text": [
      "4052.703075635406\n"
     ]
    }
   ],
   "source": [
    "## I have kept the generator cell, but I generate more numbers in the next one. The prime number is set in this cell.\n",
    "## bound is commented out, as it is already set, and the array of primes is already created\n",
    "\n",
    "# n = 169214564391\n",
    "# n = 12110279\n",
    "# n = 62615533\n",
    "#n = 95775679\n",
    "the_number = n\n",
    "s_const = int(math.sqrt(n)) + 1\n",
    "A_const = (math.sqrt(2)-1)*math.sqrt(n)-1      \n",
    "\n",
    "print(A_const)"
   ]
  },
  {
   "cell_type": "code",
   "execution_count": 104,
   "metadata": {},
   "outputs": [
    {
     "name": "stdout",
     "output_type": "stream",
     "text": [
      "Number of elements less than bound =  120  is:  30\n"
     ]
    }
   ],
   "source": [
    "# A first simulation\n",
    "bound = 120\n",
    "primes = np.array(get_primes_less_thanB(bound))"
   ]
  },
  {
   "cell_type": "code",
   "execution_count": 32,
   "metadata": {},
   "outputs": [],
   "source": [
    "def a_congruent_b(a, b, n):\n",
    "    if a==(b%n):\n",
    "        return True\n",
    "    return False"
   ]
  },
  {
   "cell_type": "code",
   "execution_count": 28,
   "metadata": {},
   "outputs": [
    {
     "name": "stdout",
     "output_type": "stream",
     "text": [
      "True\n"
     ]
    }
   ],
   "source": [
    "a = 11\n",
    "b = 911\n",
    "print(a_congruent_b(a, b, 100))"
   ]
  },
  {
   "cell_type": "code",
   "execution_count": 102,
   "metadata": {},
   "outputs": [],
   "source": [
    "def generate_BSsquares(primes, n, multiple):\n",
    "    exponents_list = []\n",
    "    residues = []\n",
    "    ceil_sqrtN = int(math.sqrt(n)) +1\n",
    "    iters = 0\n",
    "    while(True):\n",
    "        if iters>100000000:\n",
    "            break\n",
    "        candidate = ((multiple*ceil_sqrtN)**2)%n\n",
    "        #print(candidate)\n",
    "        exp_vec = check_Bsmooth(primes, candidate)\n",
    "        if exp_vec != []:\n",
    "            exp_arr = np.array(exp_vec)\n",
    "            residue_vec = np.power(primes, exp_arr)\n",
    "            #print(\"Residue vector: \", residue_vec)\n",
    "            pythlist = residue_vec.tolist()         # numpy leads to overflow, convert to python list again\n",
    "            residue = 1\n",
    "            for i in range(len(pythlist)):\n",
    "                residue *= pythlist[i]\n",
    "            residues.append(residue)\n",
    "            exponents_list.append(exp_vec)\n",
    "            print(\"Found B-smooth square! with exponents: \", exp_arr, \" and quadratic residue: \", residue)\n",
    "\n",
    "        if len(residues) > len(primes) + 3:\n",
    "            print(\"Breaking, len of residues: \", len(residues), \" len of primes: \", len(primes))\n",
    "            break\n",
    "        iters += 1\n",
    "        multiple += 1\n",
    "    return [exponents_list, residues, iters]"
   ]
  },
  {
   "cell_type": "markdown",
   "metadata": {},
   "source": [
    "#### Test 1: a simple test on a small prime! "
   ]
  },
  {
   "cell_type": "code",
   "execution_count": 87,
   "metadata": {},
   "outputs": [
    {
     "name": "stdout",
     "output_type": "stream",
     "text": [
      "Found B-smooth square! with exponents:  [1 1 1 0 0 0 1 1 0 0 0 0 0 0 0]  and quadratic residue:  9690\n",
      "Found B-smooth square! with exponents:  [3 1 1 0 0 0 1 1 0 0 0 0 0 0 0]  and quadratic residue:  38760\n",
      "Found B-smooth square! with exponents:  [1 3 1 0 0 0 1 1 0 0 0 0 0 0 0]  and quadratic residue:  87210\n",
      "Found B-smooth square! with exponents:  [5 1 1 0 0 0 1 1 0 0 0 0 0 0 0]  and quadratic residue:  155040\n",
      "Found B-smooth square! with exponents:  [1 1 3 0 0 0 1 1 0 0 0 0 0 0 0]  and quadratic residue:  242250\n",
      "Found B-smooth square! with exponents:  [3 3 1 0 0 0 1 1 0 0 0 0 0 0 0]  and quadratic residue:  348840\n",
      "Found B-smooth square! with exponents:  [1 1 1 2 0 0 1 1 0 0 0 0 0 0 0]  and quadratic residue:  474810\n",
      "Found B-smooth square! with exponents:  [7 1 1 0 0 0 1 1 0 0 0 0 0 0 0]  and quadratic residue:  620160\n",
      "Found B-smooth square! with exponents:  [1 5 1 0 0 0 1 1 0 0 0 0 0 0 0]  and quadratic residue:  784890\n",
      "Found B-smooth square! with exponents:  [3 1 3 0 0 0 1 1 0 0 0 0 0 0 0]  and quadratic residue:  969000\n",
      "Found B-smooth square! with exponents:  [1 1 1 0 2 0 1 1 0 0 0 0 0 0 0]  and quadratic residue:  1172490\n",
      "Found B-smooth square! with exponents:  [5 3 1 0 0 0 1 1 0 0 0 0 0 0 0]  and quadratic residue:  1395360\n",
      "Found B-smooth square! with exponents:  [1 1 1 0 0 2 1 1 0 0 0 0 0 0 0]  and quadratic residue:  1637610\n",
      "Found B-smooth square! with exponents:  [3 1 1 2 0 0 1 1 0 0 0 0 0 0 0]  and quadratic residue:  1899240\n",
      "Found B-smooth square! with exponents:  [1 3 3 0 0 0 1 1 0 0 0 0 0 0 0]  and quadratic residue:  2180250\n",
      "Found B-smooth square! with exponents:  [9 1 1 0 0 0 1 1 0 0 0 0 0 0 0]  and quadratic residue:  2480640\n",
      "Found B-smooth square! with exponents:  [1 1 1 0 0 0 3 1 0 0 0 0 0 0 0]  and quadratic residue:  2800410\n",
      "Found B-smooth square! with exponents:  [3 5 1 0 0 0 1 1 0 0 0 0 0 0 0]  and quadratic residue:  3139560\n",
      "Found B-smooth square! with exponents:  [1 1 1 0 0 0 1 3 0 0 0 0 0 0 0]  and quadratic residue:  3498090\n",
      "Breaking, len of residues:  19  len of primes:  15\n",
      "Time in seconds:  0.00504755973815918 , Time in minutes:  8.412599563598633e-05\n",
      "iterations,  18\n",
      "B smooth numbers found:  [9690, 38760, 87210, 155040, 242250, 348840, 474810, 620160, 784890, 969000, 1172490, 1395360, 1637610, 1899240, 2180250, 2480640, 2800410, 3139560, 3498090] \n",
      "total:  19\n"
     ]
    }
   ],
   "source": [
    "# Sample test of the function above\n",
    "n = 95775679\n",
    "multiple = 1\n",
    "start = time.time()\n",
    "\n",
    "results = generate_BSsquares(primes, n, multiple)\n",
    "\n",
    "end = time.time()\n",
    "calc_time(start, end)\n",
    "print(\"iterations, \", results[2])\n",
    "print(\"B smooth numbers found: \", results[1], \"\\ntotal: \", len(results[1]))"
   ]
  },
  {
   "cell_type": "markdown",
   "metadata": {},
   "source": [
    "##### Test 2: on larger prime - just copy paste the block from above and change n"
   ]
  },
  {
   "cell_type": "code",
   "execution_count": 88,
   "metadata": {},
   "outputs": [
    {
     "name": "stdout",
     "output_type": "stream",
     "text": [
      "Found B-smooth square! with exponents:  [2 2 0 0 0 0 0 0 0 0 0 0 0 0 0]  and quadratic residue:  36\n",
      "Found B-smooth square! with exponents:  [4 2 0 0 0 0 0 0 0 0 0 0 0 0 0]  and quadratic residue:  144\n",
      "Found B-smooth square! with exponents:  [2 4 0 0 0 0 0 0 0 0 0 0 0 0 0]  and quadratic residue:  324\n",
      "Found B-smooth square! with exponents:  [6 2 0 0 0 0 0 0 0 0 0 0 0 0 0]  and quadratic residue:  576\n",
      "Found B-smooth square! with exponents:  [2 2 2 0 0 0 0 0 0 0 0 0 0 0 0]  and quadratic residue:  900\n",
      "Found B-smooth square! with exponents:  [4 4 0 0 0 0 0 0 0 0 0 0 0 0 0]  and quadratic residue:  1296\n",
      "Found B-smooth square! with exponents:  [2 2 0 2 0 0 0 0 0 0 0 0 0 0 0]  and quadratic residue:  1764\n",
      "Found B-smooth square! with exponents:  [8 2 0 0 0 0 0 0 0 0 0 0 0 0 0]  and quadratic residue:  2304\n",
      "Found B-smooth square! with exponents:  [2 6 0 0 0 0 0 0 0 0 0 0 0 0 0]  and quadratic residue:  2916\n",
      "Found B-smooth square! with exponents:  [4 2 2 0 0 0 0 0 0 0 0 0 0 0 0]  and quadratic residue:  3600\n",
      "Found B-smooth square! with exponents:  [2 2 0 0 2 0 0 0 0 0 0 0 0 0 0]  and quadratic residue:  4356\n",
      "Found B-smooth square! with exponents:  [6 4 0 0 0 0 0 0 0 0 0 0 0 0 0]  and quadratic residue:  5184\n",
      "Found B-smooth square! with exponents:  [2 2 0 0 0 2 0 0 0 0 0 0 0 0 0]  and quadratic residue:  6084\n",
      "Found B-smooth square! with exponents:  [4 2 0 2 0 0 0 0 0 0 0 0 0 0 0]  and quadratic residue:  7056\n",
      "Found B-smooth square! with exponents:  [2 4 2 0 0 0 0 0 0 0 0 0 0 0 0]  and quadratic residue:  8100\n",
      "Found B-smooth square! with exponents:  [10  2  0  0  0  0  0  0  0  0  0  0  0  0  0]  and quadratic residue:  9216\n",
      "Found B-smooth square! with exponents:  [2 2 0 0 0 0 2 0 0 0 0 0 0 0 0]  and quadratic residue:  10404\n",
      "Found B-smooth square! with exponents:  [4 6 0 0 0 0 0 0 0 0 0 0 0 0 0]  and quadratic residue:  11664\n",
      "Found B-smooth square! with exponents:  [2 2 0 0 0 0 0 2 0 0 0 0 0 0 0]  and quadratic residue:  12996\n",
      "Breaking, len of residues:  19  len of primes:  15\n",
      "Time in seconds:  0.010944366455078125 , Time in minutes:  0.00018240610758463543\n",
      "iterations,  18\n",
      "B smooth numbers found:  [36, 144, 324, 576, 900, 1296, 1764, 2304, 2916, 3600, 4356, 5184, 6084, 7056, 8100, 9216, 10404, 11664, 12996] \n",
      "total:  19\n"
     ]
    }
   ],
   "source": [
    "n = 62615533\n",
    "multiple = 1\n",
    "start = time.time()\n",
    "\n",
    "results = generate_BSsquares(primes, n, multiple)\n",
    "\n",
    "end = time.time()\n",
    "calc_time(start, end)\n",
    "print(\"iterations, \", results[2])\n",
    "print(\"B smooth numbers found: \", results[1], \"\\ntotal: \", len(results[1]))"
   ]
  },
  {
   "cell_type": "markdown",
   "metadata": {},
   "source": [
    "#### # Test 3: on even larger prime - again copy paste the block from above and change n\n",
    "#### Trials 1, 2: oops, did not work? - Changed break point to be 100 fold more than for the other 2\n",
    "##### Result: Not bad!"
   ]
  },
  {
   "cell_type": "code",
   "execution_count": 93,
   "metadata": {},
   "outputs": [
    {
     "name": "stdout",
     "output_type": "stream",
     "text": [
      "Found B-smooth square! with exponents:  [0 2 0 2 0 0 0 0 0 1 1 0 2 1 0]  and quadratic residue:  28657245897\n",
      "Found B-smooth square! with exponents:  [2 2 0 2 0 0 0 0 0 1 1 0 2 1 0]  and quadratic residue:  114628983588\n",
      "Found B-smooth square! with exponents:  [0 2 3 0 0 1 0 3 0 0 0 0 1 0 0]  and quadratic residue:  4112827875\n",
      "Found B-smooth square! with exponents:  [6 6 0 0 0 1 0 0 0 1 0 0 1 0 1]  and quadratic residue:  33894604224\n",
      "Found B-smooth square! with exponents:  [2 2 3 0 0 1 0 3 0 0 0 0 1 0 0]  and quadratic residue:  16451311500\n",
      "Found B-smooth square! with exponents:  [3 5 0 2 0 0 1 0 0 0 0 0 1 2 0]  and quadratic residue:  122761455768\n",
      "Found B-smooth square! with exponents:  [0 2 0 1 0 2 1 2 0 1 0 0 0 1 0]  and quadratic residue:  81479776833\n",
      "Found B-smooth square! with exponents:  [0 4 3 0 0 1 0 3 0 0 0 0 1 0 0]  and quadratic residue:  37015450875\n",
      "Found B-smooth square! with exponents:  [8 6 0 0 0 1 0 0 0 1 0 0 1 0 1]  and quadratic residue:  135578416896\n",
      "Found B-smooth square! with exponents:  [16  5  0  1  0  0  0  0  1  0  0  1  0  0  0]  and quadratic residue:  94866702336\n",
      "Found B-smooth square! with exponents:  [6 1 0 1 0 0 0 1 0 1 0 1 1 0 0]  and quadratic residue:  1123405248\n",
      "Found B-smooth square! with exponents:  [4 2 3 0 0 1 0 3 0 0 0 0 1 0 0]  and quadratic residue:  65805246000\n",
      "Found B-smooth square! with exponents:  [8 1 3 2 0 0 0 1 0 0 1 0 1 0 0]  and quadratic residue:  113596896000\n",
      "Found B-smooth square! with exponents:  [1 1 3 0 2 0 0 0 1 2 0 0 0 1 0]  and quadratic residue:  75481221750\n",
      "Found B-smooth square! with exponents:  [0 2 5 0 0 1 0 3 0 0 0 0 1 0 0]  and quadratic residue:  102820696875\n",
      "Found B-smooth square! with exponents:  [0 1 0 0 1 0 0 1 0 1 2 1 0 0 1]  and quadratic residue:  30387047757\n",
      "Found B-smooth square! with exponents:  [2 4 3 0 0 1 0 3 0 0 0 0 1 0 0]  and quadratic residue:  148061803500\n",
      "Found B-smooth square! with exponents:  [0 1 0 1 3 0 0 1 0 0 0 1 0 0 2]  and quadratic residue:  43405862577\n",
      "Found B-smooth square! with exponents:  [1 1 1 0 1 0 0 1 2 0 0 0 0 1 1]  and quadratic residue:  6703313430\n",
      "Breaking, len of residues:  19  len of primes:  15\n",
      "Time in seconds:  9.145801305770874 , Time in minutes:  0.1524300217628479\n",
      "iterations,  315273\n",
      "B smooth numbers found:  [28657245897, 114628983588, 4112827875, 33894604224, 16451311500, 122761455768, 81479776833, 37015450875, 135578416896, 94866702336, 1123405248, 65805246000, 113596896000, 75481221750, 102820696875, 30387047757, 148061803500, 43405862577, 6703313430] \n",
      "total:  19\n"
     ]
    }
   ],
   "source": [
    "n = 169214564391    # 12 digits :))\n",
    "multiple = 2\n",
    "start = time.time()\n",
    "\n",
    "results = generate_BSsquares(primes, n, multiple)\n",
    "\n",
    "end = time.time()\n",
    "calc_time(start, end)\n",
    "print(\"iterations, \", results[2])\n",
    "print(\"B smooth numbers found: \", results[1], \"\\ntotal: \", len(results[1]))"
   ]
  },
  {
   "cell_type": "code",
   "execution_count": 105,
   "metadata": {},
   "outputs": [
    {
     "name": "stdout",
     "output_type": "stream",
     "text": [
      "Found B-smooth square! with exponents:  [0 0 1 0 1 0 0 0 0 0 0 0 1 0 1 0 0 0 2 1 0 0 0 0 0 0 0 0 1 0]  and quadratic residue:  3681958220435\n",
      "Found B-smooth square! with exponents:  [4 1 0 0 0 0 0 0 0 1 0 0 0 0 1 0 0 2 0 0 1 0 0 0 0 0 0 0 0 1]  and quadratic residue:  2008158865296\n",
      "Found B-smooth square! with exponents:  [6 1 0 0 0 0 0 0 0 1 0 0 0 0 1 0 0 2 0 0 1 0 0 0 0 0 0 0 0 1]  and quadratic residue:  8032635461184\n",
      "Found B-smooth square! with exponents:  [1 1 2 0 1 0 0 1 0 0 0 0 0 1 3 0 0 0 0 0 0 0 0 0 0 0 0 0 0 0]  and quadratic residue:  139958595150\n",
      "Found B-smooth square! with exponents:  [0 1 3 0 0 1 1 0 0 0 0 0 0 2 0 0 0 0 0 0 1 0 0 0 0 0 0 0 0 0]  and quadratic residue:  11186218875\n",
      "Found B-smooth square! with exponents:  [3 1 2 0 1 0 0 1 0 0 0 0 0 1 3 0 0 0 0 0 0 0 0 0 0 0 0 0 0 0]  and quadratic residue:  559834380600\n",
      "Found B-smooth square! with exponents:  [0 1 1 3 0 2 0 0 1 1 0 0 0 1 0 0 0 0 0 0 0 0 0 0 1 0 0 0 0 0]  and quadratic residue:  2419012471785\n",
      "Found B-smooth square! with exponents:  [1 3 2 0 1 0 0 1 0 0 0 0 0 1 3 0 0 0 0 0 0 0 0 0 0 0 0 0 0 0]  and quadratic residue:  1259627356350\n",
      "Found B-smooth square! with exponents:  [2 1 3 0 0 1 1 0 0 0 0 0 0 2 0 0 0 0 0 0 1 0 0 0 0 0 0 0 0 0]  and quadratic residue:  44744875500\n",
      "Found B-smooth square! with exponents:  [5 1 2 0 1 0 0 1 0 0 0 0 0 1 3 0 0 0 0 0 0 0 0 0 0 0 0 0 0 0]  and quadratic residue:  2239337522400\n",
      "Found B-smooth square! with exponents:  [2 1 1 3 0 2 0 0 1 1 0 0 0 1 0 0 0 0 0 0 0 0 0 0 1 0 0 0 0 0]  and quadratic residue:  9676049887140\n",
      "Found B-smooth square! with exponents:  [0 3 3 0 0 1 1 0 0 0 0 0 0 2 0 0 0 0 0 0 1 0 0 0 0 0 0 0 0 0]  and quadratic residue:  100675969875\n",
      "Found B-smooth square! with exponents:  [1 1 4 0 1 0 0 1 0 0 0 0 0 1 3 0 0 0 0 0 0 0 0 0 0 0 0 0 0 0]  and quadratic residue:  3498964878750\n",
      "Found B-smooth square! with exponents:  [3 4 0 0 0 1 0 0 1 0 1 0 0 1 0 0 1 0 0 1 0 0 0 0 0 0 0 0 0 0]  and quadratic residue:  1081898961624\n",
      "Found B-smooth square! with exponents:  [3 3 2 0 1 0 0 1 0 0 0 0 0 1 3 0 0 0 0 0 0 0 0 0 0 0 0 0 0 0]  and quadratic residue:  5038509425400\n",
      "Found B-smooth square! with exponents:  [4 1 3 0 0 1 1 0 0 0 0 0 0 2 0 0 0 0 0 0 1 0 0 0 0 0 0 0 0 0]  and quadratic residue:  178979502000\n",
      "Found B-smooth square! with exponents:  [3 1 2 0 0 0 0 1 1 0 0 0 0 0 2 0 0 0 0 0 0 0 1 0 1 0 0 0 0 0]  and quadratic residue:  4663137589800\n",
      "Found B-smooth square! with exponents:  [0 0 0 0 0 0 0 0 0 0 0 0 0 0 0 1 1 1 0 1 0 1 0 1 0 1 0 0 0 0]  and quadratic residue:  9617330407847\n",
      "Found B-smooth square! with exponents:  [1 1 2 2 1 0 0 1 0 0 0 0 0 1 3 0 0 0 0 0 0 0 0 0 0 0 0 0 0 0]  and quadratic residue:  6857971162350\n",
      "Found B-smooth square! with exponents:  [0 1 5 0 0 1 1 0 0 0 0 0 0 2 0 0 0 0 0 0 1 0 0 0 0 0 0 0 0 0]  and quadratic residue:  279655471875\n",
      "Found B-smooth square! with exponents:  [7 1 2 0 1 0 0 1 0 0 0 0 0 1 3 0 0 0 0 0 0 0 0 0 0 0 0 0 0 0]  and quadratic residue:  8957350089600\n",
      "Found B-smooth square! with exponents:  [2 3 3 0 0 1 1 0 0 0 0 0 0 2 0 0 0 0 0 0 1 0 0 0 0 0 0 0 0 0]  and quadratic residue:  402703879500\n",
      "Found B-smooth square! with exponents:  [0 0 0 2 1 0 0 0 0 0 0 3 1 0 0 0 0 0 0 0 0 0 1 0 1 0 0 0 0 0]  and quadratic residue:  9012133588997\n",
      "Found B-smooth square! with exponents:  [2 6 2 2 0 0 0 0 0 0 1 0 0 0 0 0 0 0 0 0 1 0 0 0 0 0 0 0 0 0]  and quadratic residue:  8083662300\n",
      "Found B-smooth square! with exponents:  [0 1 3 2 0 1 1 0 0 0 0 0 0 2 0 0 0 0 0 0 1 0 0 0 0 0 0 0 0 0]  and quadratic residue:  548124724875\n",
      "Found B-smooth square! with exponents:  [2 0 0 0 0 1 0 0 0 0 2 0 0 0 0 1 0 0 0 1 1 0 0 0 0 0 0 0 0 0]  and quadratic residue:  13727258428\n",
      "Found B-smooth square! with exponents:  [5 4 0 0 0 1 0 0 1 0 1 0 0 1 0 0 1 0 0 1 0 0 0 0 0 0 0 0 0 0]  and quadratic residue:  4327595846496\n",
      "Found B-smooth square! with exponents:  [0 3 0 0 1 0 0 0 1 0 1 1 0 0 0 0 0 0 0 1 0 1 0 0 0 0 0 0 0 1]  and quadratic residue:  4966055704269\n",
      "Found B-smooth square! with exponents:  [6 1 3 0 0 1 1 0 0 0 0 0 0 2 0 0 0 0 0 0 1 0 0 0 0 0 0 0 0 0]  and quadratic residue:  715918008000\n",
      "Found B-smooth square! with exponents:  [0 2 2 0 0 0 0 0 0 0 0 0 0 1 0 0 0 0 2 0 0 0 0 0 0 1 1 0 0 0]  and quadratic residue:  451813473225\n",
      "Found B-smooth square! with exponents:  [2 0 1 0 0 2 0 0 0 0 0 0 0 0 0 0 1 0 0 1 0 1 0 0 0 0 0 0 0 0]  and quadratic residue:  1118546780\n",
      "Found B-smooth square! with exponents:  [1 0 1 0 0 1 1 0 0 0 0 0 3 0 0 0 0 0 0 0 0 1 0 0 0 0 0 0 1 0]  and quadratic residue:  1311587995510\n",
      "Found B-smooth square! with exponents:  [0 5 3 0 0 1 1 0 0 0 0 0 0 2 0 0 0 0 0 0 1 0 0 0 0 0 0 0 0 0]  and quadratic residue:  906083728875\n",
      "Found B-smooth square! with exponents:  [2 1 5 0 0 1 1 0 0 0 0 0 0 2 0 0 0 0 0 0 1 0 0 0 0 0 0 0 0 0]  and quadratic residue:  1118621887500\n",
      "Breaking, len of residues:  34  len of primes:  30\n",
      "Time in seconds:  36.52166128158569 , Time in minutes:  0.6086943546930949\n",
      "iterations,  563488\n",
      "B smooth numbers found:  [3681958220435, 2008158865296, 8032635461184, 139958595150, 11186218875, 559834380600, 2419012471785, 1259627356350, 44744875500, 2239337522400, 9676049887140, 100675969875, 3498964878750, 1081898961624, 5038509425400, 178979502000, 4663137589800, 9617330407847, 6857971162350, 279655471875, 8957350089600, 402703879500, 9012133588997, 8083662300, 548124724875, 13727258428, 4327595846496, 4966055704269, 715918008000, 451813473225, 1118546780, 1311587995510, 906083728875, 1118621887500] \n",
      "total:  34\n"
     ]
    }
   ],
   "source": [
    "n = 10710336959293   # 13 digits :))\n",
    "multiple = 2\n",
    "start = time.time()\n",
    "\n",
    "results = generate_BSsquares(primes, n, multiple)\n",
    "\n",
    "end = time.time()\n",
    "calc_time(start, end)\n",
    "print(\"iterations, \", results[2])\n",
    "print(\"B smooth numbers found: \", results[1], \"\\ntotal: \", len(results[1]))\n"
   ]
  },
  {
   "cell_type": "markdown",
   "metadata": {},
   "source": [
    "#### Try for 16 digits, professor's number!"
   ]
  },
  {
   "cell_type": "code",
   "execution_count": 106,
   "metadata": {},
   "outputs": [
    {
     "name": "stdout",
     "output_type": "stream",
     "text": [
      "Number of elements less than bound =  150  is:  35\n"
     ]
    }
   ],
   "source": [
    "# Try a bigger bound - does it help runtime?\n",
    "bound = 150\n",
    "primes = np.array(get_primes_less_thanB(bound))"
   ]
  },
  {
   "cell_type": "code",
   "execution_count": 108,
   "metadata": {},
   "outputs": [
    {
     "name": "stdout",
     "output_type": "stream",
     "text": [
      "Found B-smooth square! with exponents:  [1 0 0 0 3 1 0 0 0 0 0 0 0 0 0 0 2 0 0 3 0 0 0 0 0 0 0 0 1 0 0 0 0 0 0]  and quadratic residue:  4699557534414314\n",
      "Found B-smooth square! with exponents:  [1 1 4 2 0 0 2 0 0 0 0 0 0 0 0 0 0 0 0 1 0 0 0 2 0 0 0 0 1 0 0 0 0 0 0]  and quadratic residue:  3255292746221250\n",
      "Found B-smooth square! with exponents:  [6 5 1 0 0 2 2 0 0 0 0 1 0 0 0 0 1 0 0 0 0 0 0 0 0 0 1 0 0 0 0 0 0 0 0]  and quadratic residue:  853948656699840\n",
      "Found B-smooth square! with exponents:  [4 0 0 0 0 0 0 3 1 2 0 0 0 0 0 0 0 0 0 0 0 0 0 0 0 1 1 0 0 1 0 0 0 0 0]  and quadratic residue:  2495408553045488\n",
      "Found B-smooth square! with exponents:  [0 0 1 3 0 0 0 0 0 2 0 0 0 0 1 0 0 1 1 0 0 0 0 1 0 0 0 0 0 0 1 0 0 0 0]  and quadratic residue:  3131528318733605\n",
      "Found B-smooth square! with exponents:  [11  0  0  1  1  0  0  1  1  0  0  0  0  0  0  0  0  0  0  0  0  2  0  0\n",
      "  1  0  0  0  0  1  0  0  0  0  0]  and quadratic residue:  4714183405668352\n",
      "Found B-smooth square! with exponents:  [8 5 1 0 0 2 2 0 0 0 0 1 0 0 0 0 1 0 0 0 0 0 0 0 0 0 1 0 0 0 0 0 0 0 0]  and quadratic residue:  3415794626799360\n",
      "Found B-smooth square! with exponents:  [3 1 0 0 0 0 0 0 0 0 0 2 0 0 1 0 1 0 0 2 0 0 0 0 1 0 0 0 0 0 1 0 0 0 0]  and quadratic residue:  5657918822465352\n",
      "Found B-smooth square! with exponents:  [2 0 0 0 1 1 0 1 0 0 0 0 0 0 1 0 1 1 0 0 1 0 0 0 0 0 0 0 0 0 0 0 0 0 2]  and quadratic residue:  2979371995263092\n",
      "Found B-smooth square! with exponents:  [1 1 0 0 1 0 0 1 0 0 1 0 1 0 2 2 0 0 0 0 1 0 0 0 0 0 0 0 0 0 0 0 0 0 0]  and quadratic residue:  721960442150442\n",
      "Found B-smooth square! with exponents:  [1 0 1 2 0 1 1 0 0 0 0 0 0 0 0 0 0 1 0 0 0 0 0 0 0 0 0 0 0 1 0 0 0 1 2]  and quadratic residue:  2303477472398830\n",
      "Found B-smooth square! with exponents:  [2 1 0 1 0 1 0 2 0 1 0 0 1 1 0 0 0 0 0 0 0 0 1 0 0 0 0 1 0 0 0 0 0 0 0]  and quadratic residue:  178995461962044\n",
      "Found B-smooth square! with exponents:  [0 0 0 7 1 1 1 1 1 0 0 1 0 0 0 0 0 0 0 0 0 0 0 0 0 0 0 0 0 0 0 0 0 0 0]  and quadratic residue:  32370872110577\n",
      "Found B-smooth square! with exponents:  [2 0 0 2 1 4 0 0 0 0 0 0 0 0 0 0 0 0 0 0 0 0 0 0 2 0 1 1 0 0 0 0 0 0 0]  and quadratic residue:  6385378368292924\n",
      "Found B-smooth square! with exponents:  [6 7 1 0 1 0 0 0 0 0 0 0 0 0 0 0 0 2 0 0 0 2 0 0 0 0 0 0 0 0 0 0 0 0 0]  and quadratic residue:  178774387640640\n",
      "Found B-smooth square! with exponents:  [1 0 0 0 0 0 0 0 0 0 0 0 0 1 2 1 0 0 1 0 0 1 0 0 0 0 0 0 1 0 0 0 0 1 0]  and quadratic residue:  807445519343146\n",
      "Found B-smooth square! with exponents:  [3 1 0 0 1 0 0 1 0 0 1 0 1 0 2 2 0 0 0 0 1 0 0 0 0 0 0 0 0 0 0 0 0 0 0]  and quadratic residue:  2887841768601768\n",
      "Found B-smooth square! with exponents:  [5 3 0 0 0 0 0 1 0 0 0 0 0 1 0 0 1 0 0 0 0 0 1 0 0 0 0 0 0 0 0 1 0 1 0]  and quadratic residue:  62943660957024\n",
      "Found B-smooth square! with exponents:  [1 2 0 1 0 0 0 0 1 0 0 0 0 1 0 0 0 1 2 0 0 0 0 0 1 0 0 0 0 0 0 0 0 0 0]  and quadratic residue:  3309923919582\n",
      "Found B-smooth square! with exponents:  [0 0 0 4 0 0 0 0 1 0 1 0 0 0 0 1 0 0 0 0 0 0 1 0 0 0 0 0 0 0 0 1 1 0 0]  and quadratic residue:  135153567785789\n",
      "Found B-smooth square! with exponents:  [0 0 5 3 1 0 2 0 0 0 0 0 0 0 0 0 0 1 0 0 0 0 0 0 0 0 0 1 0 0 0 0 0 0 0]  and quadratic residue:  22240691309375\n",
      "Found B-smooth square! with exponents:  [1 0 0 1 1 0 0 0 0 1 0 2 1 1 0 1 1 0 0 0 0 0 0 0 0 0 0 0 0 0 0 0 0 0 1]  and quadratic residue:  5022137844962546\n",
      "Found B-smooth square! with exponents:  [4 1 0 1 0 1 0 2 0 1 0 0 1 1 0 0 0 0 0 0 0 0 1 0 0 0 0 1 0 0 0 0 0 0 0]  and quadratic residue:  715981847848176\n",
      "Found B-smooth square! with exponents:  [2 0 0 7 1 1 1 1 1 0 0 1 0 0 0 0 0 0 0 0 0 0 0 0 0 0 0 0 0 0 0 0 0 0 0]  and quadratic residue:  129483488442308\n",
      "Found B-smooth square! with exponents:  [1 3 0 0 1 0 0 1 0 0 1 0 1 0 2 2 0 0 0 0 1 0 0 0 0 0 0 0 0 0 0 0 0 0 0]  and quadratic residue:  6497643979353978\n",
      "Found B-smooth square! with exponents:  [1 1 1 0 0 1 0 0 0 0 0 0 0 1 0 0 0 0 1 0 0 1 0 0 0 1 0 0 0 1 0 0 0 0 1]  and quadratic residue:  150945803058570\n",
      "Found B-smooth square! with exponents:  [8 7 1 0 1 0 0 0 0 0 0 0 0 0 0 0 0 2 0 0 0 2 0 0 0 0 0 0 0 0 0 0 0 0 0]  and quadratic residue:  715097550562560\n",
      "Found B-smooth square! with exponents:  [3 0 0 0 0 0 0 0 0 0 0 0 0 1 2 1 0 0 1 0 0 1 0 0 0 0 0 0 1 0 0 0 0 1 0]  and quadratic residue:  3229782077372584\n",
      "Found B-smooth square! with exponents:  [1 2 0 0 0 2 1 0 1 0 0 3 0 0 0 0 0 0 0 0 0 0 0 0 0 0 0 0 0 1 0 0 0 0 1]  and quadratic residue:  1014392083433742\n"
     ]
    },
    {
     "ename": "KeyboardInterrupt",
     "evalue": "",
     "output_type": "error",
     "traceback": [
      "\u001b[1;31m---------------------------------------------------------------------------\u001b[0m",
      "\u001b[1;31mKeyboardInterrupt\u001b[0m                         Traceback (most recent call last)",
      "\u001b[1;32m<ipython-input-108-e56b61e8f866>\u001b[0m in \u001b[0;36m<module>\u001b[1;34m\u001b[0m\n\u001b[0;32m      3\u001b[0m \u001b[0mstart\u001b[0m \u001b[1;33m=\u001b[0m \u001b[0mtime\u001b[0m\u001b[1;33m.\u001b[0m\u001b[0mtime\u001b[0m\u001b[1;33m(\u001b[0m\u001b[1;33m)\u001b[0m\u001b[1;33m\u001b[0m\u001b[1;33m\u001b[0m\u001b[0m\n\u001b[0;32m      4\u001b[0m \u001b[1;33m\u001b[0m\u001b[0m\n\u001b[1;32m----> 5\u001b[1;33m \u001b[0mresults\u001b[0m \u001b[1;33m=\u001b[0m \u001b[0mgenerate_BSsquares\u001b[0m\u001b[1;33m(\u001b[0m\u001b[0mprimes\u001b[0m\u001b[1;33m,\u001b[0m \u001b[0mn\u001b[0m\u001b[1;33m,\u001b[0m \u001b[0mmultiple\u001b[0m\u001b[1;33m)\u001b[0m\u001b[1;33m\u001b[0m\u001b[1;33m\u001b[0m\u001b[0m\n\u001b[0m\u001b[0;32m      6\u001b[0m \u001b[1;33m\u001b[0m\u001b[0m\n\u001b[0;32m      7\u001b[0m \u001b[0mend\u001b[0m \u001b[1;33m=\u001b[0m \u001b[0mtime\u001b[0m\u001b[1;33m.\u001b[0m\u001b[0mtime\u001b[0m\u001b[1;33m(\u001b[0m\u001b[1;33m)\u001b[0m\u001b[1;33m\u001b[0m\u001b[1;33m\u001b[0m\u001b[0m\n",
      "\u001b[1;32m<ipython-input-102-e526b43ddd00>\u001b[0m in \u001b[0;36mgenerate_BSsquares\u001b[1;34m(primes, n, multiple)\u001b[0m\n\u001b[0;32m      9\u001b[0m         \u001b[0mcandidate\u001b[0m \u001b[1;33m=\u001b[0m \u001b[1;33m(\u001b[0m\u001b[1;33m(\u001b[0m\u001b[0mmultiple\u001b[0m\u001b[1;33m*\u001b[0m\u001b[0mfloor_sqrtN\u001b[0m\u001b[1;33m)\u001b[0m\u001b[1;33m**\u001b[0m\u001b[1;36m2\u001b[0m\u001b[1;33m)\u001b[0m\u001b[1;33m%\u001b[0m\u001b[0mn\u001b[0m\u001b[1;33m\u001b[0m\u001b[1;33m\u001b[0m\u001b[0m\n\u001b[0;32m     10\u001b[0m         \u001b[1;31m#print(candidate)\u001b[0m\u001b[1;33m\u001b[0m\u001b[1;33m\u001b[0m\u001b[1;33m\u001b[0m\u001b[0m\n\u001b[1;32m---> 11\u001b[1;33m         \u001b[0mexp_vec\u001b[0m \u001b[1;33m=\u001b[0m \u001b[0mcheck_Bsmooth\u001b[0m\u001b[1;33m(\u001b[0m\u001b[0mprimes\u001b[0m\u001b[1;33m,\u001b[0m \u001b[0mcandidate\u001b[0m\u001b[1;33m)\u001b[0m\u001b[1;33m\u001b[0m\u001b[1;33m\u001b[0m\u001b[0m\n\u001b[0m\u001b[0;32m     12\u001b[0m         \u001b[1;32mif\u001b[0m \u001b[0mexp_vec\u001b[0m \u001b[1;33m!=\u001b[0m \u001b[1;33m[\u001b[0m\u001b[1;33m]\u001b[0m\u001b[1;33m:\u001b[0m\u001b[1;33m\u001b[0m\u001b[1;33m\u001b[0m\u001b[0m\n\u001b[0;32m     13\u001b[0m             \u001b[0mexp_arr\u001b[0m \u001b[1;33m=\u001b[0m \u001b[0mnp\u001b[0m\u001b[1;33m.\u001b[0m\u001b[0marray\u001b[0m\u001b[1;33m(\u001b[0m\u001b[0mexp_vec\u001b[0m\u001b[1;33m)\u001b[0m\u001b[1;33m\u001b[0m\u001b[1;33m\u001b[0m\u001b[0m\n",
      "\u001b[1;32m<ipython-input-98-e3e59b94d584>\u001b[0m in \u001b[0;36mcheck_Bsmooth\u001b[1;34m(primes, num)\u001b[0m\n\u001b[0;32m      5\u001b[0m     \u001b[1;32mfor\u001b[0m \u001b[0mprime\u001b[0m \u001b[1;32min\u001b[0m \u001b[0mprimes\u001b[0m\u001b[1;33m:\u001b[0m\u001b[1;33m\u001b[0m\u001b[1;33m\u001b[0m\u001b[0m\n\u001b[0;32m      6\u001b[0m         \u001b[0mi\u001b[0m \u001b[1;33m=\u001b[0m \u001b[1;36m0\u001b[0m                                   \u001b[1;31m# i = power of prime\u001b[0m\u001b[1;33m\u001b[0m\u001b[1;33m\u001b[0m\u001b[0m\n\u001b[1;32m----> 7\u001b[1;33m         \u001b[1;32mif\u001b[0m \u001b[1;33m(\u001b[0m\u001b[0mnum_remaining\u001b[0m\u001b[1;33m%\u001b[0m\u001b[0mprime\u001b[0m \u001b[1;33m==\u001b[0m \u001b[1;36m0\u001b[0m\u001b[1;33m)\u001b[0m\u001b[1;33m:\u001b[0m\u001b[1;33m\u001b[0m\u001b[1;33m\u001b[0m\u001b[0m\n\u001b[0m\u001b[0;32m      8\u001b[0m             \u001b[1;32mwhile\u001b[0m \u001b[1;33m(\u001b[0m\u001b[0mnum_remaining\u001b[0m\u001b[1;33m%\u001b[0m\u001b[0mprime\u001b[0m \u001b[1;33m==\u001b[0m\u001b[1;36m0\u001b[0m\u001b[1;33m)\u001b[0m\u001b[1;33m:\u001b[0m   \u001b[1;31m#keep dividing for each power of the prime\u001b[0m\u001b[1;33m\u001b[0m\u001b[1;33m\u001b[0m\u001b[0m\n\u001b[0;32m      9\u001b[0m                 \u001b[0mquotient\u001b[0m \u001b[1;33m=\u001b[0m \u001b[0mnum_remaining\u001b[0m\u001b[1;33m/\u001b[0m\u001b[0mprime\u001b[0m\u001b[1;33m\u001b[0m\u001b[1;33m\u001b[0m\u001b[0m\n",
      "\u001b[1;31mKeyboardInterrupt\u001b[0m: "
     ]
    }
   ],
   "source": [
    "n = 6817540046645387   # 16 digits\n",
    "multiple = 2\n",
    "start = time.time()\n",
    "\n",
    "results = generate_BSsquares(primes, n, multiple)\n",
    "\n",
    "end = time.time()\n",
    "calc_time(start, end)\n",
    "print(\"iterations, \", results[2])\n",
    "print(\"B smooth numbers found: \", results[1], \"\\ntotal: \", len(results[1]))\n"
   ]
  },
  {
   "cell_type": "code",
   "execution_count": null,
   "metadata": {},
   "outputs": [],
   "source": []
  },
  {
   "cell_type": "code",
   "execution_count": 112,
   "metadata": {},
   "outputs": [
    {
     "name": "stdout",
     "output_type": "stream",
     "text": [
      "30\n"
     ]
    }
   ],
   "source": [
    "print(len(results[0][1]))"
   ]
  },
  {
   "cell_type": "code",
   "execution_count": 119,
   "metadata": {},
   "outputs": [
    {
     "name": "stdout",
     "output_type": "stream",
     "text": [
      "[0 0 0 0 0 0 0 0 0 0 0 0 0 0 0 0 0 0 0 0 0 0 0 0 0 0 0 0 0 0]\n",
      "Current rowsum:  [0 0 1 0 1 0 0 0 0 0 0 0 1 0 1 0 0 0 0 1 0 0 0 0 0 0 0 0 1 0]\n",
      "Current rowsum:  [0 1 1 0 1 0 0 0 0 1 0 0 1 0 0 0 0 0 0 1 1 0 0 0 0 0 0 0 1 1]\n",
      "Current rowsum:  [0 0 1 0 1 0 0 0 0 0 0 0 1 0 1 0 0 0 0 1 0 0 0 0 0 0 0 0 1 0]\n",
      "Current rowsum:  [1 1 1 0 0 0 0 1 0 0 0 0 1 1 0 0 0 0 0 1 0 0 0 0 0 0 0 0 1 0]\n",
      "Current rowsum:  [1 0 0 0 0 1 1 1 0 0 0 0 1 1 0 0 0 0 0 1 1 0 0 0 0 0 0 0 1 0]\n",
      "Current rowsum:  [0 1 0 0 1 1 1 0 0 0 0 0 1 0 1 0 0 0 0 1 1 0 0 0 0 0 0 0 1 0]\n",
      "Current rowsum:  [0 0 1 1 1 1 1 0 1 1 0 0 1 1 1 0 0 0 0 1 1 0 0 0 1 0 0 0 1 0]\n",
      "Current rowsum:  [1 1 1 1 0 1 1 1 1 1 0 0 1 0 0 0 0 0 0 1 1 0 0 0 1 0 0 0 1 0]\n",
      "Current rowsum:  [1 0 0 1 0 0 0 1 1 1 0 0 1 0 0 0 0 0 0 1 0 0 0 0 1 0 0 0 1 0]\n",
      "Current rowsum:  [0 1 0 1 1 0 0 0 1 1 0 0 1 1 1 0 0 0 0 1 0 0 0 0 1 0 0 0 1 0]\n",
      "Current rowsum:  [0 0 1 0 1 0 0 0 0 0 0 0 1 0 1 0 0 0 0 1 0 0 0 0 0 0 0 0 1 0]\n",
      "Current rowsum:  [0 1 0 0 1 1 1 0 0 0 0 0 1 0 1 0 0 0 0 1 1 0 0 0 0 0 0 0 1 0]\n",
      "Current rowsum:  [1 0 0 0 0 1 1 1 0 0 0 0 1 1 0 0 0 0 0 1 1 0 0 0 0 0 0 0 1 0]\n",
      "Current rowsum:  [0 0 0 0 0 0 1 1 1 0 1 0 1 0 0 0 1 0 0 0 1 0 0 0 0 0 0 0 1 0]\n",
      "Current rowsum:  [1 1 0 0 1 0 1 0 1 0 1 0 1 1 1 0 1 0 0 0 1 0 0 0 0 0 0 0 1 0]\n",
      "Current rowsum:  [1 0 1 0 1 1 0 0 1 0 1 0 1 1 1 0 1 0 0 0 0 0 0 0 0 0 0 0 1 0]\n",
      "Current rowsum:  [0 1 1 0 1 1 0 1 0 0 1 0 1 1 1 0 1 0 0 0 0 0 1 0 1 0 0 0 1 0]\n",
      "Current rowsum:  [0 1 1 0 1 1 0 1 0 0 1 0 1 1 1 1 0 1 0 1 0 1 1 1 1 1 0 0 1 0]\n",
      "Current rowsum:  [1 0 1 0 0 1 0 0 0 0 1 0 1 0 0 1 0 1 0 1 0 1 1 1 1 1 0 0 1 0]\n",
      "Current rowsum:  [1 1 0 0 0 0 1 0 0 0 1 0 1 0 0 1 0 1 0 1 1 1 1 1 1 1 0 0 1 0]\n",
      "Current rowsum:  [0 0 0 0 1 0 1 1 0 0 1 0 1 1 1 1 0 1 0 1 1 1 1 1 1 1 0 0 1 0]\n",
      "Current rowsum:  [0 1 1 0 1 1 0 1 0 0 1 0 1 1 1 1 0 1 0 1 0 1 1 1 1 1 0 0 1 0]\n",
      "Current rowsum:  [0 1 1 0 0 1 0 1 0 0 1 1 0 1 1 1 0 1 0 1 0 1 0 1 0 1 0 0 1 0]\n",
      "Current rowsum:  [0 1 1 0 0 1 0 1 0 0 0 1 0 1 1 1 0 1 0 1 1 1 0 1 0 1 0 0 1 0]\n",
      "Current rowsum:  [0 0 0 0 0 0 1 1 0 0 0 1 0 1 1 1 0 1 0 1 0 1 0 1 0 1 0 0 1 0]\n",
      "Current rowsum:  [0 0 0 0 0 1 1 1 0 0 0 1 0 1 1 0 0 1 0 0 1 1 0 1 0 1 0 0 1 0]\n",
      "Current rowsum:  [1 0 0 0 0 0 1 1 1 0 1 1 0 0 1 0 1 1 0 1 1 1 0 1 0 1 0 0 1 0]\n",
      "Current rowsum:  [1 1 0 0 1 0 1 1 0 0 0 0 0 0 1 0 1 1 0 0 1 0 0 1 0 1 0 0 1 1]\n",
      "Current rowsum:  [1 0 1 0 1 1 0 1 0 0 0 0 0 0 1 0 1 1 0 0 0 0 0 1 0 1 0 0 1 1]\n",
      "Current rowsum:  [1 0 1 0 1 1 0 1 0 0 0 0 0 1 1 0 1 1 0 0 0 0 0 1 0 0 1 0 1 1]\n",
      "Current rowsum:  [1 0 0 0 1 1 0 1 0 0 0 0 0 1 1 0 0 1 0 1 0 1 0 1 0 0 1 0 1 1]\n",
      "Current rowsum:  [0 0 1 0 1 0 1 1 0 0 0 0 1 1 1 0 0 1 0 1 0 0 0 1 0 0 1 0 0 1]\n",
      "Current rowsum:  [0 1 0 0 1 1 0 1 0 0 0 0 1 1 1 0 0 1 0 1 1 0 0 1 0 0 1 0 0 1]\n",
      "Current rowsum:  [0 0 1 0 1 0 1 1 0 0 0 0 1 1 1 0 0 1 0 1 0 0 0 1 0 0 1 0 0 1]\n",
      "[0 0 1 0 1 0 1 1 0 0 0 0 1 1 1 0 0 1 0 1 0 0 0 1 0 0 1 0 0 1]\n"
     ]
    }
   ],
   "source": [
    "rowsum = np.array([0 for k in range(30)])\n",
    "print(rowsum)\n",
    "i = 0\n",
    "for row in results[0]:\n",
    "    row = np.array(row)\n",
    "    rowsum = np.add(rowsum, row)%2\n",
    "    if (rowsum.sum() ==0):\n",
    "        print(\"Breaking: found 0 row, with number additions additions: \", i)\n",
    "        break\n",
    "    print(\"Current rowsum: \", rowsum)\n",
    "    i +=1\n",
    "print(rowsum)"
   ]
  },
  {
   "cell_type": "code",
   "execution_count": 109,
   "metadata": {},
   "outputs": [
    {
     "name": "stdout",
     "output_type": "stream",
     "text": [
      "Time in seconds:  1805.153309583664 , Time in minutes:  30.085888493061066\n",
      "iterations,  563488\n",
      "B smooth numbers found:  [3681958220435, 2008158865296, 8032635461184, 139958595150, 11186218875, 559834380600, 2419012471785, 1259627356350, 44744875500, 2239337522400, 9676049887140, 100675969875, 3498964878750, 1081898961624, 5038509425400, 178979502000, 4663137589800, 9617330407847, 6857971162350, 279655471875, 8957350089600, 402703879500, 9012133588997, 8083662300, 548124724875, 13727258428, 4327595846496, 4966055704269, 715918008000, 451813473225, 1118546780, 1311587995510, 906083728875, 1118621887500] \n",
      "total:  34\n"
     ]
    }
   ],
   "source": [
    "end = time.time()\n",
    "calc_time(start, end)\n",
    "print(\"iterations, \", results[2])\n",
    "print(\"B smooth numbers found: \", results[1], \"\\ntotal: \", len(results[1]))"
   ]
  },
  {
   "cell_type": "code",
   "execution_count": 120,
   "metadata": {},
   "outputs": [
    {
     "name": "stdout",
     "output_type": "stream",
     "text": [
      "[[0 0 1 ... 0 1 0]\n",
      " [4 1 0 ... 0 0 1]\n",
      " [6 1 0 ... 0 0 1]\n",
      " ...\n",
      " [1 0 1 ... 0 1 0]\n",
      " [0 5 3 ... 0 0 0]\n",
      " [2 1 5 ... 0 0 0]]\n"
     ]
    }
   ],
   "source": [
    "from sympy import *\n",
    "np_array = np.array(results[0])\n",
    "#A = Matrix(np_array)\n",
    "#print(A)\n",
    "print(np_array)\n",
    "#print(numbers)"
   ]
  },
  {
   "cell_type": "code",
   "execution_count": 121,
   "metadata": {},
   "outputs": [],
   "source": [
    "## store_pows is the original matrix of powers, which we use later in the computation of y\n",
    "## We don't need to concatenate the 0 row\n",
    "\n",
    "store_pows = np_array.copy()\n",
    "matrixA = (np.transpose(np_array))%2\n",
    "#print(matrixA)\n",
    "#print(\"Number of rows, number of columns: \", len(matrixA), len(matrixA[0]))\n",
    "# print(store_pows)"
   ]
  },
  {
   "cell_type": "code",
   "execution_count": 125,
   "metadata": {},
   "outputs": [
    {
     "name": "stdout",
     "output_type": "stream",
     "text": [
      "[[1 0 0 ... 0 0 0]\n",
      " [0 1 1 ... 0 0 0]\n",
      " [0 0 0 ... 0 0 0]\n",
      " ...\n",
      " [0 0 0 ... 0 0 0]\n",
      " [0 0 0 ... 0 0 0]\n",
      " [0 0 0 ... 0 0 0]]\n",
      "Solution vector with only 1's in indices corresponding to equations which will be 0 mod 2:  [0 0 1 0 0 1 0 1 1 1 1 1 1 0 1 1 0 0 1 1 1 1 0 0 1 0 1 0 1 0 0 0 1 1]\n"
     ]
    }
   ],
   "source": [
    "col_num = len(matrixA[0])\n",
    "row_num = len(matrixA)\n",
    "solution_vec = np.ones(col_num, dtype = 'int')\n",
    "v = solution_vec\n",
    "L = Matrix(matrixA)\n",
    "A = np.array(L.rref()[0])\n",
    "A = A%2\n",
    "print(A)\n",
    "\n",
    "for i in range(row_num):\n",
    "    for j in range(i, col_num):\n",
    "        if A[i][j] == 1:\n",
    "            if(A[i].sum()!= 0):\n",
    "                v[j] = 0 # we're gonna ignore this equation, pivot == 1 or sum isn't 0 mod 2\n",
    "                break    # done with columns for this row\n",
    "print(\"Solution vector with only 1's in indices corresponding to equations which will be 0 mod 2: \", v)"
   ]
  },
  {
   "cell_type": "code",
   "execution_count": 132,
   "metadata": {},
   "outputs": [
    {
     "name": "stdout",
     "output_type": "stream",
     "text": [
      "19\n",
      "19\n",
      "34\n"
     ]
    }
   ],
   "source": [
    "# print(results[0])\n",
    "v = np.array(v)\n",
    "residue_arr = results[1]\n",
    "\n",
    "select_residues = []\n",
    "for i in v:\n",
    "    if i ==0:\n",
    "        continue\n",
    "    select_residues.append(residue_arr[i])\n",
    "\n",
    "print(len(select_residues))\n",
    "print(v.sum())\n",
    "print(len(residue_arr))\n"
   ]
  },
  {
   "cell_type": "code",
   "execution_count": 136,
   "metadata": {},
   "outputs": [
    {
     "name": "stdout",
     "output_type": "stream",
     "text": [
      "[2008158865296, 2008158865296, 2008158865296, 2008158865296, 2008158865296, 2008158865296, 2008158865296, 2008158865296, 2008158865296, 2008158865296, 2008158865296, 2008158865296, 2008158865296, 2008158865296, 2008158865296, 2008158865296, 2008158865296, 2008158865296, 2008158865296]\n",
      "y squared:  2008158865296\n",
      "y squared mod n:  2008158865296\n",
      "y squared:  4032702028266918273167616\n",
      "y squared mod n:  4032702028266918273167616\n",
      "y squared:  8098306329161372316859047510173454336\n",
      "y squared mod n:  8098306329161372316859047510173454336\n",
      "y squared:  16262685648788116507097851418801278075522431123456\n",
      "y squared mod n:  16262685648788116507097851418801278075522431123456\n",
      "y squared:  32658056359135887622422668235219578260655687877274715449982976\n",
      "y squared mod n:  32658056359135887622422668235219578260655687877274715449982976\n",
      "y squared:  65582565400935141150916076729747211103321995488576335482909093126677200896\n",
      "y squared mod n:  65582565400935141150916076729747211103321995488576335482909093126677200896\n",
      "y squared:  131700210118742622350915224136533229898167670676457884993836546654388480538184794505216\n",
      "y squared mod n:  131700210118742622350915224136533229898167670676457884993836546654388480538184794505216\n",
      "y squared:  264474944511298961922485364429112082331502291175187079069754865483171936156334756333155498313383936\n",
      "y squared mod n:  264474944511298961922485364429112082331502291175187079069754865483171936156334756333155498313383936\n",
      "y squared:  531107704469032686625280920140132760083633371161387879055239561901561672094576559940316195236128526727754285056\n",
      "y squared mod n:  531107704469032686625280920140132760083633371161387879055239561901561672094576559940316195236128526727754285056\n",
      "y squared:  1066548645156495988144158488135847796800345792692331892892097963131688239483809292205344500108835863017623252988358689816576\n",
      "y squared mod n:  1066548645156495988144158488135847796800345792692331892892097963131688239483809292205344500108835863017623252988358689816576\n",
      "y squared:  2141799117040455129894949578405670989923543986513460862870427253407403897622634372998745508765334175180981202171926727639496490531946496\n",
      "y squared mod n:  2141799117040455129894949578405670989923543986513460862870427253407403897622634372998745508765334175180981202171926727639496490531946496\n",
      "y squared:  4301072884567935071377244233052265839896369141751815893611782250677326060655037194487447201713669699171689296393482348082585712979407882845543202816\n",
      "y squared mod n:  4301072884567935071377244233052265839896369141751815893611782250677326060655037194487447201713669699171689296393482348082585712979407882845543202816\n",
      "y squared:  8637237643429338082162729547001697947708035061930675982562934899656412129400429162968587238909033369780757248533004137255531026674388873429063741797724151873536\n",
      "y squared mod n:  8637237643429338082162729547001697947708035061930675982562934899656412129400429162968587238909033369780757248533004137255531026674388873429063741797724151873536\n",
      "y squared:  17344945345320956613232267784729061849654699633868489368157823230001538202047296948722425212579750112823124652509664648877140626126362668529556408276173659981574026251206656\n",
      "y squared mod n:  17344945345320956613232267784729061849654699633868489368157823230001538202047296948722425212579750112823124652509664648877140626126362668529556408276173659981574026251206656\n",
      "y squared:  34831405763280869115357758013474328440797184566163052260449454291405238580157895824670388511763372571474113981332972459962602980274939428346088565682106200421241020824649274963762610176\n",
      "y squared mod n:  34831405763280869115357758013474328440797184566163052260449454291405238580157895824670388511763372571474113981332972459962602980274939428346088565682106200421241020824649274963762610176\n",
      "y squared:  69946996274254664904841526659429158480296895072057479063864123988790761632440042219785063556994208411185546390790590900749318591463470232532612112040098553689285325595356394198398624769747342852096\n",
      "y squared mod n:  69946996274254664904841526659429158480296895072057479063864123988790761632440042219785063556994208411185546390790590900749318591463470232532612112040098553689285325595356394198398624769747342852096\n",
      "y squared:  140464680668970787493441273993099592332889168581094921312979655546453109302968407807837906273622731187450105834245801207602094178778479374197163603229350331228685954000754802220174259817902703290476179715260416\n",
      "y squared mod n:  140464680668970787493441273993099592332889168581094921312979655546453109302968407807837906273622731187450105834245801207602094178778479374197163603229350331228685954000754802220174259817902703290476179715260416\n",
      "y squared:  282075393746365362809000576824195512273134894279140431541141631558898208795320099307923556677534623556582235207714157611010607975129118103432116242442722922403459738871289015153988043155306180226333610540514329369704923136\n",
      "y squared mod n:  282075393746365362809000576824195512273134894279140431541141631558898208795320099307923556677534623556582235207714157611010607975129118103432116242442722922403459738871289015153988043155306180226333610540514329369704923136\n",
      "y squared:  566452202633623481402759957531085935204474010920341570885894747371743130566376897741301804479466473416138693306634643614041564667154377999677410116587749699126260766316388212464501977451911138384770175801386040903295045323134657888256\n",
      "y squared mod n:  566452202633623481402759957531085935204474010920341570885894747371743130566376897741301804479466473416138693306634643614041564667154377999677410116587749699126260766316388212464501977451911138384770175801386040903295045323134657888256\n",
      "566452202633623481402759957531085935204474010920341570885894747371743130566376897741301804479466473416138693306634643614041564667154377999677410116587749699126260766316388212464501977451911138384770175801386040903295045323134657888256\n"
     ]
    }
   ],
   "source": [
    "y_square = 1\n",
    "n = 6817540046645387 \n",
    "print(select_residues)\n",
    "for resd in select_residues:\n",
    "    y_square *= resd\n",
    "    print(\"y squared: \", y_square)\n",
    "    y_sqaure = (y_square)%n\n",
    "    print(\"y squared mod n: \", y_square)\n",
    "    \n",
    "print(y_square)"
   ]
  },
  {
   "cell_type": "code",
   "execution_count": 129,
   "metadata": {},
   "outputs": [
    {
     "name": "stdout",
     "output_type": "stream",
     "text": [
      "[2008158865296, 2008158865296, 2008158865296, 2008158865296, 2008158865296, 2008158865296, 2008158865296, 2008158865296, 2008158865296, 2008158865296, 2008158865296, 2008158865296, 2008158865296, 2008158865296, 2008158865296, 2008158865296, 2008158865296, 2008158865296, 2008158865296]\n",
      "y squared:  2008158865296\n",
      "y squared mod n:  2008158865296\n",
      "y squared:  3966081052065739008\n",
      "y squared mod n:  3966081052065739008\n",
      "y squared:  -4429324869175177216\n",
      "y squared mod n:  -4429324869175177216\n",
      "y squared:  -6361062748337405952\n",
      "y squared mod n:  -6361062748337405952\n",
      "y squared:  3164164965536890880\n",
      "y squared mod n:  3164164965536890880\n",
      "y squared:  7895586705070096384\n",
      "y squared mod n:  7895586705070096384\n",
      "y squared:  5685115205583896576\n",
      "y squared mod n:  5685115205583896576\n",
      "y squared:  -875568867571662848\n",
      "y squared mod n:  -875568867571662848\n",
      "y squared:  8842487533817298944\n",
      "y squared mod n:  8842487533817298944\n",
      "y squared:  9072484956663447552\n",
      "y squared mod n:  9072484956663447552\n",
      "y squared:  4219468230567133184\n",
      "y squared mod n:  4219468230567133184\n",
      "y squared:  -7052355541485486080\n",
      "y squared mod n:  -7052355541485486080\n",
      "y squared:  6453658266021920768\n",
      "y squared mod n:  6453658266021920768\n",
      "y squared:  5836665117072162816\n",
      "y squared mod n:  5836665117072162816\n",
      "y squared:  -8070450532247928832\n",
      "y squared mod n:  -8070450532247928832\n",
      "y squared:  0\n",
      "y squared mod n:  0\n",
      "y squared:  0\n",
      "y squared mod n:  0\n",
      "y squared:  0\n",
      "y squared mod n:  0\n",
      "y squared:  0\n",
      "y squared mod n:  0\n",
      "0\n"
     ]
    },
    {
     "name": "stderr",
     "output_type": "stream",
     "text": [
      "C:\\Users\\samia\\anaconda3\\lib\\site-packages\\ipykernel_launcher.py:4: RuntimeWarning: overflow encountered in longlong_scalars\n",
      "  after removing the cwd from sys.path.\n"
     ]
    }
   ],
   "source": [
    "y_square = 1\n",
    "print(select_residues)\n",
    "select_resd_list = select_residues\n",
    "for resd in select_resd_list:\n",
    "    y_square *= resd\n",
    "    print(\"y squared: \", y_square)\n",
    "    y_sqaure = y_square%n\n",
    "    print(\"y squared mod n: \", y_square)\n",
    "    \n",
    "print(y_square)\n"
   ]
  },
  {
   "cell_type": "code",
   "execution_count": null,
   "metadata": {},
   "outputs": [],
   "source": [
    "final_square = check_Bsmooth(primes, y_square)"
   ]
  },
  {
   "cell_type": "code",
   "execution_count": 122,
   "metadata": {},
   "outputs": [],
   "source": [
    "def drop_zero_rows(A): \n",
    "    return A[~np.all(A == 0, axis=1)]"
   ]
  },
  {
   "cell_type": "code",
   "execution_count": 123,
   "metadata": {},
   "outputs": [
    {
     "name": "stdout",
     "output_type": "stream",
     "text": [
      "Old num rows and num columns:  30 34\n",
      "Reduced row echelon form AND mod 2 is: \n",
      "[[1 0 0 0 0 0 0 0 0 0 0 0 0 0 0 0 0 0 0 0 0 0 0 0 0 0 0 0 0 0 0 0 0 0]\n",
      " [0 1 1 0 0 0 0 0 0 0 0 0 0 0 0 0 0 0 0 0 0 0 0 0 0 0 0 0 0 0 0 0 0 0]\n",
      " [0 0 0 1 0 1 0 1 0 1 0 0 1 0 1 0 0 0 1 0 1 0 0 0 0 0 0 0 0 0 0 0 0 0]\n",
      " [0 0 0 0 1 0 0 0 1 0 0 1 0 0 0 1 0 0 0 1 0 1 0 0 1 0 0 0 1 0 0 0 1 1]\n",
      " [0 0 0 0 0 0 1 0 0 0 1 0 0 0 0 0 0 0 0 0 0 0 0 0 0 0 0 0 0 0 0 0 0 0]\n",
      " [0 0 0 0 0 0 0 0 0 0 0 0 0 1 0 0 0 0 0 0 0 0 0 0 0 0 1 0 0 0 0 0 0 0]\n",
      " [0 0 0 0 0 0 0 0 0 0 0 0 0 0 0 0 1 0 0 0 0 0 0 0 0 0 0 0 0 0 0 0 0 0]\n",
      " [0 0 0 0 0 0 0 0 0 0 0 0 0 0 0 0 0 1 0 0 0 0 0 0 0 0 0 0 0 0 0 0 0 0]\n",
      " [0 0 0 0 0 0 0 0 0 0 0 0 0 0 0 0 0 0 0 0 0 0 1 0 0 0 0 0 0 0 0 0 0 0]\n",
      " [0 0 0 0 0 0 0 0 0 0 0 0 0 0 0 0 0 0 0 0 0 0 0 1 0 0 0 0 0 0 0 0 0 0]\n",
      " [0 0 0 0 0 0 0 0 0 0 0 0 0 0 0 0 0 0 0 0 0 0 0 0 0 1 0 0 0 0 0 0 0 0]\n",
      " [0 0 0 0 0 0 0 0 0 0 0 0 0 0 0 0 0 0 0 0 0 0 0 0 0 0 0 1 0 0 0 0 0 0]\n",
      " [0 0 0 0 0 0 0 0 0 0 0 0 0 0 0 0 0 0 0 0 0 0 0 0 0 0 0 0 0 1 0 0 0 0]\n",
      " [0 0 0 0 0 0 0 0 0 0 0 0 0 0 0 0 0 0 0 0 0 0 0 0 0 0 0 0 0 0 1 0 0 0]\n",
      " [0 0 0 0 0 0 0 0 0 0 0 0 0 0 0 0 0 0 0 0 0 0 0 0 0 0 0 0 0 0 0 1 0 0]]\n",
      "New num rows, num columns:  15 34\n"
     ]
    }
   ],
   "source": [
    "from sympy import *\n",
    "\n",
    "col_num = len(matrixA[0])\n",
    "row_num = len(matrixA)\n",
    "print(\"Old num rows and num columns: \", row_num, col_num)\n",
    "L = Matrix(matrixA)\n",
    "\n",
    "aug_matrix = np.array(L.rref()[0])\n",
    "aug_matrix  = drop_zero_rows(aug_matrix)\n",
    "aug_matrix = aug_matrix %2\n",
    "\n",
    "print(\"Reduced row echelon form AND mod 2 is: \")\n",
    "print(aug_matrix)\n",
    "\n",
    "print(\"New num rows, num columns: \", len(aug_matrix), len(aug_matrix[0]))"
   ]
  },
  {
   "cell_type": "code",
   "execution_count": null,
   "metadata": {},
   "outputs": [],
   "source": []
  },
  {
   "cell_type": "code",
   "execution_count": 22,
   "metadata": {},
   "outputs": [],
   "source": [
    "v = aug_matrix[0]"
   ]
  },
  {
   "cell_type": "code",
   "execution_count": 19,
   "metadata": {},
   "outputs": [
    {
     "name": "stdout",
     "output_type": "stream",
     "text": [
      "[0 1 1 1 1 1 1 1 1 1 1 1 1 1 1 1 1 1 1 1 1 1 1 1 1 1 1 1]\n"
     ]
    }
   ],
   "source": [
    "# v: 0s are non-free variables, 1s are fixed variables which will be 1 (free or non-free),\n",
    "# 2s are fixed variables which will be 0 (free or non-free)\n",
    "\n",
    "v = np.ones(col_num, dtype = 'int')\n",
    "\n",
    "row_num = len(aug_matrix)   # the row_num has changed after dropping the 0 rows\n",
    "# find the leading entries, aka the non-free variables, set them to 0 in the v vector\n",
    "for i in range(0, row_num):\n",
    "    check_main = 1\n",
    "    for j in range(i, col_num):\n",
    "        if(aug_matrix[i][j]==1 and check_main ==1):\n",
    "            v[j]=0\n",
    "            break\n",
    "\n",
    "print(v)"
   ]
  },
  {
   "cell_type": "code",
   "execution_count": 23,
   "metadata": {},
   "outputs": [
    {
     "name": "stdout",
     "output_type": "stream",
     "text": [
      "28\n"
     ]
    }
   ],
   "source": [
    "print(v.sum())"
   ]
  },
  {
   "cell_type": "code",
   "execution_count": null,
   "metadata": {},
   "outputs": [],
   "source": [
    "for i in range(len(store_pows)):\n",
    "    \n",
    "    newnum = np.multiply()"
   ]
  },
  {
   "cell_type": "code",
   "execution_count": 20,
   "metadata": {},
   "outputs": [
    {
     "name": "stdout",
     "output_type": "stream",
     "text": [
      "[0 1 2 2 2 2 2 2 2 2 2 2 2 2 2 2 2 2 2 2 2 2 2 2 2 2 2 2]\n"
     ]
    }
   ],
   "source": [
    "# set one of the free variable to 1, all the rest of the free variables to 2.\n",
    "## THIS IS A HUGE PLACE FOR OPTIMIZATION, IF WE PICK THE RIGHT FREE VARIABLE LIFE WILL BE EASIER LATER\n",
    "\n",
    "delete_ones = False\n",
    "for i in range(0, col_num):\n",
    "    if(delete_ones==True and v[i]==1):\n",
    "        v[i]=2\n",
    "    if(v[i]==1):\n",
    "        delete_ones = True\n",
    "\n",
    "print(v)"
   ]
  },
  {
   "cell_type": "code",
   "execution_count": 3,
   "metadata": {},
   "outputs": [
    {
     "name": "stdout",
     "output_type": "stream",
     "text": [
      "[1 0 0 0 0 0 1 0 0 1 1 0 0 0 0 1]\n"
     ]
    }
   ],
   "source": [
    "a = np.array([1, 0, 0, 0, 0, 0, 1, 0, 0, 1, 1, 0, 0, 0, 0, 1])\n",
    "first = np.where(a==1)\n",
    "print(first)\n",
    "a[a==1] = 2\n",
    "a[first] = 1\n",
    "print(a)"
   ]
  },
  {
   "cell_type": "code",
   "execution_count": 21,
   "metadata": {},
   "outputs": [
    {
     "name": "stdout",
     "output_type": "stream",
     "text": [
      "final v vector is  [1 1 0 0 0 0 0 0 0 0 0 0 0 0 0 0 0 0 0 0 0 0 0 0 0 0 0 0]\n"
     ]
    }
   ],
   "source": [
    "# Optimized with numpy\n",
    "\n",
    "for i in reversed(range(0, row_num)):\n",
    "    sum = np.multiply(v, aug_matrix[i]).sum()        # equal to sum = sum + sum + v[j]*aug_matrix[i][j] for all j\n",
    "    sum = sum%2;\n",
    "    zer =(np.argwhere(v == 0).flatten())\n",
    "    if(len(zer)!=0):\n",
    "        index = zer[len(zer)-1]   # last entry\n",
    "        if(sum==0):\n",
    "            v[index] = 2\n",
    "        else:\n",
    "            v[index] = 1\n",
    "        \n",
    "print(\"final v vector is \", v%2)\n",
    "        "
   ]
  },
  {
   "cell_type": "code",
   "execution_count": 22,
   "metadata": {},
   "outputs": [
    {
     "name": "stdout",
     "output_type": "stream",
     "text": [
      "28\n"
     ]
    },
    {
     "ename": "ValueError",
     "evalue": "operands could not be broadcast together with shapes (0,) (28,) ",
     "output_type": "error",
     "traceback": [
      "\u001b[1;31m---------------------------------------------------------------------------\u001b[0m",
      "\u001b[1;31mValueError\u001b[0m                                Traceback (most recent call last)",
      "\u001b[1;32m<ipython-input-22-1a6ae5b7f379>\u001b[0m in \u001b[0;36m<module>\u001b[1;34m\u001b[0m\n\u001b[0;32m      3\u001b[0m \u001b[0mv\u001b[0m \u001b[1;33m=\u001b[0m \u001b[0mv\u001b[0m\u001b[1;33m%\u001b[0m\u001b[1;36m2\u001b[0m\u001b[1;33m\u001b[0m\u001b[1;33m\u001b[0m\u001b[0m\n\u001b[0;32m      4\u001b[0m \u001b[0mprint\u001b[0m\u001b[1;33m(\u001b[0m\u001b[0mlen\u001b[0m\u001b[1;33m(\u001b[0m\u001b[0mv\u001b[0m\u001b[1;33m)\u001b[0m\u001b[1;33m)\u001b[0m\u001b[1;33m\u001b[0m\u001b[1;33m\u001b[0m\u001b[0m\n\u001b[1;32m----> 5\u001b[1;33m \u001b[0mx\u001b[0m \u001b[1;33m=\u001b[0m \u001b[0mnp\u001b[0m\u001b[1;33m.\u001b[0m\u001b[0mmultiply\u001b[0m\u001b[1;33m(\u001b[0m\u001b[0mnums\u001b[0m\u001b[1;33m,\u001b[0m \u001b[0mv\u001b[0m\u001b[1;33m)\u001b[0m     \u001b[1;31m# element-wise multiplication of two arrays\u001b[0m\u001b[1;33m\u001b[0m\u001b[1;33m\u001b[0m\u001b[0m\n\u001b[0m\u001b[0;32m      6\u001b[0m \u001b[0mprint\u001b[0m\u001b[1;33m(\u001b[0m\u001b[0mx\u001b[0m\u001b[1;33m)\u001b[0m\u001b[1;33m\u001b[0m\u001b[1;33m\u001b[0m\u001b[0m\n\u001b[0;32m      7\u001b[0m \u001b[0mx\u001b[0m\u001b[1;33m[\u001b[0m\u001b[0mx\u001b[0m\u001b[1;33m==\u001b[0m\u001b[1;36m0\u001b[0m\u001b[1;33m]\u001b[0m \u001b[1;33m=\u001b[0m \u001b[1;36m1\u001b[0m\u001b[1;33m\u001b[0m\u001b[1;33m\u001b[0m\u001b[0m\n",
      "\u001b[1;31mValueError\u001b[0m: operands could not be broadcast together with shapes (0,) (28,) "
     ]
    }
   ],
   "source": [
    "# optimized with numpy\n",
    "\n",
    "v = v%2\n",
    "print(len(v))\n",
    "x = np.multiply(nums, v)     # element-wise multiplication of two arrays\n",
    "print(x)\n",
    "x[x==0] = 1\n",
    "x = np.prod(x)      # prod is essentially multiplying elements of an array together\n",
    "print(x)"
   ]
  },
  {
   "cell_type": "code",
   "execution_count": 23,
   "metadata": {},
   "outputs": [
    {
     "name": "stdout",
     "output_type": "stream",
     "text": [
      "[0]\n",
      "[[1 1 1 0 0 0 1 1 0 0 0 0 0 0 0 0 0 0 0 0 0 0 0 0]\n",
      " [3 1 1 0 0 0 1 1 0 0 0 0 0 0 0 0 0 0 0 0 0 0 0 0]\n",
      " [1 3 1 0 0 0 1 1 0 0 0 0 0 0 0 0 0 0 0 0 0 0 0 0]\n",
      " [5 1 1 0 0 0 1 1 0 0 0 0 0 0 0 0 0 0 0 0 0 0 0 0]\n",
      " [1 1 3 0 0 0 1 1 0 0 0 0 0 0 0 0 0 0 0 0 0 0 0 0]\n",
      " [3 3 1 0 0 0 1 1 0 0 0 0 0 0 0 0 0 0 0 0 0 0 0 0]\n",
      " [1 1 1 2 0 0 1 1 0 0 0 0 0 0 0 0 0 0 0 0 0 0 0 0]\n",
      " [7 1 1 0 0 0 1 1 0 0 0 0 0 0 0 0 0 0 0 0 0 0 0 0]\n",
      " [1 5 1 0 0 0 1 1 0 0 0 0 0 0 0 0 0 0 0 0 0 0 0 0]\n",
      " [3 1 3 0 0 0 1 1 0 0 0 0 0 0 0 0 0 0 0 0 0 0 0 0]\n",
      " [1 1 1 0 2 0 1 1 0 0 0 0 0 0 0 0 0 0 0 0 0 0 0 0]\n",
      " [5 3 1 0 0 0 1 1 0 0 0 0 0 0 0 0 0 0 0 0 0 0 0 0]\n",
      " [1 1 1 0 0 2 1 1 0 0 0 0 0 0 0 0 0 0 0 0 0 0 0 0]\n",
      " [3 1 1 2 0 0 1 1 0 0 0 0 0 0 0 0 0 0 0 0 0 0 0 0]\n",
      " [1 3 3 0 0 0 1 1 0 0 0 0 0 0 0 0 0 0 0 0 0 0 0 0]\n",
      " [9 1 1 0 0 0 1 1 0 0 0 0 0 0 0 0 0 0 0 0 0 0 0 0]\n",
      " [1 1 1 0 0 0 3 1 0 0 0 0 0 0 0 0 0 0 0 0 0 0 0 0]\n",
      " [3 5 1 0 0 0 1 1 0 0 0 0 0 0 0 0 0 0 0 0 0 0 0 0]\n",
      " [1 1 1 0 0 0 1 3 0 0 0 0 0 0 0 0 0 0 0 0 0 0 0 0]\n",
      " [5 1 3 0 0 0 1 1 0 0 0 0 0 0 0 0 0 0 0 0 0 0 0 0]\n",
      " [1 3 1 2 0 0 1 1 0 0 0 0 0 0 0 0 0 0 0 0 0 0 0 0]\n",
      " [3 1 1 0 2 0 1 1 0 0 0 0 0 0 0 0 0 0 0 0 0 0 0 0]\n",
      " [1 1 1 0 0 0 1 1 2 0 0 0 0 0 0 0 0 0 0 0 0 0 0 0]\n",
      " [7 3 1 0 0 0 1 1 0 0 0 0 0 0 0 0 0 0 0 0 0 0 0 0]\n",
      " [1 1 5 0 0 0 1 1 0 0 0 0 0 0 0 0 0 0 0 0 0 0 0 0]\n",
      " [3 1 1 0 0 2 1 1 0 0 0 0 0 0 0 0 0 0 0 0 0 0 0 0]\n",
      " [1 7 1 0 0 0 1 1 0 0 0 0 0 0 0 0 0 0 0 0 0 0 0 0]\n",
      " [5 1 1 2 0 0 1 1 0 0 0 0 0 0 0 0 0 0 0 0 0 0 0 0]]\n",
      "[[1 1 1 0 0 0 1 1 0 0 0 0 0 0 0 0 0 0 0 0 0 0 0 0]]\n"
     ]
    }
   ],
   "source": [
    "y_v  = np.zeros(size_of_bound)\n",
    "indices = np.argwhere(v==1)[0]\n",
    "print(indices)\n",
    "print(store_pows)\n",
    "store_pows = store_pows[indices]\n",
    "print(store_pows)\n"
   ]
  },
  {
   "cell_type": "code",
   "execution_count": 24,
   "metadata": {},
   "outputs": [
    {
     "name": "stdout",
     "output_type": "stream",
     "text": [
      "y_v:  [0.5 0.5 0.5 0.  0.  0.  0.5 0.5 0.  0.  0.  0.  0.  0.  0.  0.  0.  0.\n",
      " 0.  0.  0.  0.  0.  0. ]\n",
      "[1.41421356 1.73205081 2.23606798 1.         1.         1.\n",
      " 4.12310563 4.35889894 1.         1.         1.         1.\n",
      " 1.         1.         1.         1.         1.         1.\n",
      " 1.         1.         1.         1.         1.         1.        ]\n"
     ]
    },
    {
     "ename": "NameError",
     "evalue": "name 'x' is not defined",
     "output_type": "error",
     "traceback": [
      "\u001b[1;31m---------------------------------------------------------------------------\u001b[0m",
      "\u001b[1;31mNameError\u001b[0m                                 Traceback (most recent call last)",
      "\u001b[1;32m<ipython-input-24-4f0f64431043>\u001b[0m in \u001b[0;36m<module>\u001b[1;34m\u001b[0m\n\u001b[0;32m     13\u001b[0m \u001b[0my\u001b[0m \u001b[1;33m=\u001b[0m \u001b[0mnp\u001b[0m\u001b[1;33m.\u001b[0m\u001b[0mprod\u001b[0m\u001b[1;33m(\u001b[0m\u001b[0my\u001b[0m\u001b[1;33m)\u001b[0m   \u001b[1;31m# no need to check y_v == 0, since anything raised to 0 is 1, and on multiplication, 1 has no effect\u001b[0m\u001b[1;33m\u001b[0m\u001b[1;33m\u001b[0m\u001b[0m\n\u001b[0;32m     14\u001b[0m \u001b[1;33m\u001b[0m\u001b[0m\n\u001b[1;32m---> 15\u001b[1;33m \u001b[0mprint\u001b[0m\u001b[1;33m(\u001b[0m\u001b[1;34m\"x is \"\u001b[0m\u001b[1;33m,\u001b[0m \u001b[0mx\u001b[0m\u001b[1;33m,\u001b[0m \u001b[1;34m\", y is \"\u001b[0m\u001b[1;33m,\u001b[0m \u001b[0my\u001b[0m\u001b[1;33m)\u001b[0m\u001b[1;33m\u001b[0m\u001b[1;33m\u001b[0m\u001b[0m\n\u001b[0m",
      "\u001b[1;31mNameError\u001b[0m: name 'x' is not defined"
     ]
    }
   ],
   "source": [
    "for row in store_pows:\n",
    "    y_v = np.add(y_v, row)\n",
    "\n",
    "y_v = y_v/2\n",
    "print(\"y_v: \", y_v)\n",
    "\n",
    "y = 1\n",
    "z = np.power(primes, y_v)\n",
    "print(z)\n",
    "y = y*z\n",
    "\n",
    "\n",
    "y = np.prod(y)   # no need to check y_v == 0, since anything raised to 0 is 1, and on multiplication, 1 has no effect\n",
    "    \n",
    "print(\"x is \", x, \", y is \", y)"
   ]
  },
  {
   "cell_type": "code",
   "execution_count": 20,
   "metadata": {},
   "outputs": [
    {
     "name": "stdout",
     "output_type": "stream",
     "text": [
      "1\n",
      "95775679\n"
     ]
    }
   ],
   "source": [
    "k = math.gcd(x -int(y), the_number)\n",
    "print(k)\n",
    "print (int(the_number/k)) "
   ]
  },
  {
   "cell_type": "code",
   "execution_count": null,
   "metadata": {},
   "outputs": [],
   "source": []
  }
 ],
 "metadata": {
  "kernelspec": {
   "display_name": "Python 3",
   "language": "python",
   "name": "python3"
  },
  "language_info": {
   "codemirror_mode": {
    "name": "ipython",
    "version": 3
   },
   "file_extension": ".py",
   "mimetype": "text/x-python",
   "name": "python",
   "nbconvert_exporter": "python",
   "pygments_lexer": "ipython3",
   "version": "3.7.6"
  }
 },
 "nbformat": 4,
 "nbformat_minor": 4
}
