{
 "cells": [
  {
   "cell_type": "markdown",
   "metadata": {},
   "source": [
    "I got quite frustrated about the Gaussian elimination. I don't understand what others were exactly doing,\n",
    " but solving Ax=0 when rank(A) is smaller than #rows in matrix A seems to be almost always solved by the \n",
    " method of 'inspection', in the resources I found online.\n",
    " Hence, I decided to assume we will generate a square matrix for now"
   ]
  },
  {
   "cell_type": "code",
   "execution_count": null,
   "metadata": {},
   "outputs": [],
   "source": [
    "import math\n",
    "def gcd(a, b):\n",
    "    if (a==0 or b==0):\n",
    "        return 0\n",
    "    r = b%a\n",
    "    if r==0:\n",
    "        return b//a\n",
    "    if r==1:\n",
    "        return 1\n",
    "    return gcd(b, r)"
   ]
  },
  {
   "cell_type": "code",
   "execution_count": null,
   "metadata": {},
   "outputs": [],
   "source": [
    "print(\"gcd of 7 and 14 is: \", str(gcd(7, 14)))\n",
    "print(\"gcd of 57 and 768 is: \", str(gcd(57, 768)))"
   ]
  },
  {
   "cell_type": "code",
   "execution_count": 19,
   "metadata": {},
   "outputs": [],
   "source": [
    "# got rid of the inefficiency of last time\n",
    "\n",
    "def get_primes_less_thanB(bound):                      # eratosthenes way\n",
    "    start = 2\n",
    "    unmarked = set([x for x in range(bound)])\n",
    "    unmarked.remove(0)\n",
    "    unmarked.remove(1)\n",
    "    repeat_list = []\n",
    "    q = 2\n",
    "    i = 0\n",
    "    while True:\n",
    "        u = list(unmarked)[i]\n",
    "        print(\"In this iteration, u = \", u)\n",
    "        if u> int(bound**0.5):               # only check numbers up to sqrt(bound)\n",
    "            break\n",
    "        while u*q<= bound:\n",
    "            repeat_list.append(u*q)\n",
    "            unmarked = unmarked - set(repeat_list)\n",
    "            q+=1\n",
    "        q = 2\n",
    "        i +=1\n",
    "        print(\"Elements still unmarked: \", unmarked)\n",
    "    return (list(unmarked))"
   ]
  },
  {
   "cell_type": "code",
   "execution_count": 20,
   "metadata": {},
   "outputs": [
    {
     "name": "stdout",
     "output_type": "stream",
     "text": [
      "In this iteration, u =  2\n",
      "Elements still unmarked:  {2, 3, 5, 7, 9, 11, 13, 15, 17, 19, 21, 23, 25, 27, 29}\n",
      "In this iteration, u =  3\n",
      "Elements still unmarked:  {2, 3, 5, 7, 11, 13, 17, 19, 23, 25, 29}\n",
      "In this iteration, u =  5\n",
      "Elements still unmarked:  {2, 3, 5, 7, 11, 13, 17, 19, 23, 29}\n",
      "In this iteration, u =  7\n"
     ]
    },
    {
     "data": {
      "text/plain": [
       "[2, 3, 5, 7, 11, 13, 17, 19, 23, 29]"
      ]
     },
     "execution_count": 20,
     "metadata": {},
     "output_type": "execute_result"
    }
   ],
   "source": [
    "bound = 30\n",
    "get_primes_less_thanB(bound)"
   ]
  },
  {
   "cell_type": "code",
   "execution_count": 11,
   "metadata": {},
   "outputs": [],
   "source": [
    "def check_Bsmooth(num, bound):\n",
    "    primes_less_thanB = get_primes_less_thanB(bound)\n",
    "    powers_of_primes= []\n",
    "    num_remaining= num                          # keep dividing by primes in B smooth primes, until == 1\n",
    "    for prime in primes_less_thanB:\n",
    "        i = 0                                   # i = power of prime\n",
    "        if (num_remaining%prime == 0):\n",
    "            while (num_remaining%prime ==0):   #keep dividing for each power of the prime\n",
    "                quotient = num_remaining/prime\n",
    "                num_remaining = quotient\n",
    "                i +=1\n",
    "        powers_of_primes.append(i)\n",
    "    if num_remaining == 1:\n",
    "        print(\"Number is B smooth, using primes:\", primes_less_thanB, \"with corresponding powers:\", powers_of_primes)\n",
    "        return powers_of_primes\n",
    "    print(\"Number is not B smooth\")\n",
    "    return []"
   ]
  },
  {
   "cell_type": "code",
   "execution_count": 12,
   "metadata": {},
   "outputs": [
    {
     "name": "stdout",
     "output_type": "stream",
     "text": [
      "Number is B smooth, using primes: [2, 3, 5, 7, 11, 13, 17, 19] with corresponding powers: [4, 0, 1, 0, 0, 0, 1, 0]\n",
      "Number is B smooth, using primes: [2, 3, 5, 7, 11, 13, 17, 19] with corresponding powers: [0, 1, 2, 1, 1, 0, 0, 0]\n",
      "Number is B smooth, using primes: [2, 3, 5, 7, 11, 13, 17, 19] with corresponding powers: [3, 0, 0, 2, 0, 0, 1, 0]\n",
      "Number is B smooth, using primes: [2, 3, 5, 7, 11, 13, 17, 19] with corresponding powers: [8, 1, 0, 0, 1, 0, 0, 0]\n",
      "Number is B smooth, using primes: [2, 3, 5, 7, 11, 13, 17, 19] with corresponding powers: [11, 0, 1, 0, 0, 0, 0, 0]\n"
     ]
    }
   ],
   "source": [
    "# Some tests\n",
    "bound = 20\n",
    "n = 63787\n",
    "num1 =  (439**2)%n\n",
    "num2 = (444**2)%n\n",
    "num3 = (445**2)%n\n",
    "num4 = (447**2)%n\n",
    "num5 = (449**2)%n\n",
    "\n",
    "result1 = check_Bsmooth(num1, bound)\n",
    "result2 = check_Bsmooth(num2, bound)\n",
    "result3 = check_Bsmooth(num3, bound)\n",
    "result4 = check_Bsmooth(num4, bound)\n",
    "result5 = check_Bsmooth(num5, bound)\n",
    "\n",
    "results = [result1, result2, result3, result4, result5]\n"
   ]
  },
  {
   "cell_type": "code",
   "execution_count": null,
   "metadata": {},
   "outputs": [],
   "source": [
    "# If we wanna save the result in a stupid way; \n",
    "# was going to try geopandas (gpd) \"to_file\" method, but my BASE environment is not downloading geopandas!\n",
    "# (need to try in the custom environment; that already has gpd library installed)\n",
    "with open (\"./Data/example1.txt\", \"w\") as filehandle:\n",
    "    for row in results:\n",
    "        for col in row:\n",
    "            filehandle.write(str(col))\n",
    "        filehandle.write(\"\\n\")\n"
   ]
  },
  {
   "cell_type": "code",
   "execution_count": 21,
   "metadata": {},
   "outputs": [],
   "source": [
    "# Using numpy\n",
    "import numpy as np\n",
    "# import geopandas as gpd\n",
    "\n",
    "matrix = []\n",
    "for result in results:\n",
    "    if result != \"[]\":\n",
    "        matrix.append(result)\n",
    "np_array = np.array(matrix)\n",
    "# print(np_array)\n"
   ]
  },
  {
   "cell_type": "code",
   "execution_count": 22,
   "metadata": {},
   "outputs": [
    {
     "name": "stdout",
     "output_type": "stream",
     "text": [
      "[[0 0 1 0 0 0 1 0 0]\n",
      " [0 1 0 1 1 0 0 0 0]\n",
      " [1 0 0 0 0 0 1 0 0]\n",
      " [0 1 0 0 1 0 0 0 0]\n",
      " [1 0 1 0 0 0 0 0 0]]\n"
     ]
    }
   ],
   "source": [
    "import numpy.linalg\n",
    "a = (np_array%2)\n",
    "n = len(a)            # row number + number of equations we have\n",
    "m = len(a[0])        # column number + number of primes (in factor base)\n",
    "\n",
    "b =  np.array([[0 for i in range(n)]])     # all zeros\n",
    "# r = np.array([[i] for i in range(n)])\n",
    "a = np.concatenate((a, b.T), axis=1)\n",
    "# a = np.concatenate((a, r.T), axis=1)\n",
    "print(a)"
   ]
  },
  {
   "cell_type": "code",
   "execution_count": 23,
   "metadata": {},
   "outputs": [],
   "source": [
    "# Ignore for now; was trying to create a different kind of augmented matrix\n",
    "\n",
    "# rules = [[i] for i in range(10)]\n",
    "# print(rules)"
   ]
  },
  {
   "cell_type": "code",
   "execution_count": 24,
   "metadata": {},
   "outputs": [],
   "source": [
    "def zero_row(A):\n",
    "    bool_rows = ~A.any(axis=1)\n",
    "    return bool_rows.any(axis=0)"
   ]
  },
  {
   "cell_type": "code",
   "execution_count": null,
   "metadata": {},
   "outputs": [],
   "source": [
    "zero_row_idx(A):\n",
    "    return np.where(~A.any(axis=1))[0][0]     # return first instance of zero entry"
   ]
  },
  {
   "cell_type": "code",
   "execution_count": 25,
   "metadata": {},
   "outputs": [],
   "source": [
    "def upp_triangular(num_rows, num_cols, aug_matA):\n",
    "    A = aug_matA\n",
    "    n = num_rows\n",
    "    m = num_cols\n",
    "    row_adds = []\n",
    "    swaps = []\n",
    "    for i in range(m):            # column\n",
    "        if i>=n:    \n",
    "            break\n",
    "        print(\"row num: \", i)\n",
    "        A = A%2\n",
    "        print(\"current matrix \", A)\n",
    "        maxi = i\n",
    "        for k in range(i, n):                 # first row at i or below where entry is 1 - pivot for that column\n",
    "            if A[k][i] ==1:\n",
    "                maxi = k\n",
    "                break\n",
    "        print(\"finished looping through rows\")\n",
    "        if A[maxi][i] != 1:                    # no '1'- entry in any row for this column\n",
    "            print(\"No pivots in this column\")\n",
    "            continue\n",
    "        else:                                 # some row = maxi row has a 1 entry\n",
    "            print(\"found a row with a 1 entry, which is: row \", maxi)\n",
    "            if maxi != i:            # need to swap rows\n",
    "                print (\"Swapping rows for row = \", i, \"and maxi = \", maxi)\n",
    "                currenti = A[i].copy()\n",
    "                A[i] = A[maxi]\n",
    "                A[maxi] = currenti\n",
    "                print(\"matrix overall after swap: \", A)\n",
    "                swaps.append((i,maxi))\n",
    "            for j in range(i+1, n):          # check every entry directly below pivot/A[i][i] \n",
    "                belowi = A[j][i]\n",
    "                print(\"belowi: \", belowi)\n",
    "                if belowi !=0:              # if entry is 1 for any row\n",
    "                    A[j]+= A[i]             # nullify it \n",
    "                    row_adds.append((i,j))\n",
    "                    print(\"belowi non zero: \", belowi, \"for row = \", j)\n",
    "                    print(\"A[j] after adding row A[i] to it\", A[j])\n",
    "    # should have upper triangular matrix at the end of this \n",
    "    if zero_row(A):\n",
    "        zero_idx = zero_row_idx(A)\n",
    "        return (swaps, row_adds, zero_idx)\n",
    "    return []\n",
    "    \n"
   ]
  },
  {
   "cell_type": "code",
   "execution_count": 26,
   "metadata": {},
   "outputs": [
    {
     "name": "stdout",
     "output_type": "stream",
     "text": [
      "row num:  0\n",
      "current matrix  [[0 0 1 0 0 0 1 0 0]\n",
      " [0 1 0 1 1 0 0 0 0]\n",
      " [1 0 0 0 0 0 1 0 0]\n",
      " [0 1 0 0 1 0 0 0 0]\n",
      " [1 0 1 0 0 0 0 0 0]]\n",
      "finished looping through rows\n",
      "found a row with a 1 entry, which is: row  2\n",
      "Swapping rows for row =  0 and maxi =  2\n",
      "matrix overall after swap:  [[1 0 0 0 0 0 1 0 0]\n",
      " [0 1 0 1 1 0 0 0 0]\n",
      " [0 0 1 0 0 0 1 0 0]\n",
      " [0 1 0 0 1 0 0 0 0]\n",
      " [1 0 1 0 0 0 0 0 0]]\n",
      "belowi:  0\n",
      "belowi:  0\n",
      "belowi:  0\n",
      "belowi:  1\n",
      "belowi non zero:  1 for row =  4\n",
      "A[j] after adding row A[i] to it [2 0 1 0 0 0 1 0 0]\n",
      "row num:  1\n",
      "current matrix  [[1 0 0 0 0 0 1 0 0]\n",
      " [0 1 0 1 1 0 0 0 0]\n",
      " [0 0 1 0 0 0 1 0 0]\n",
      " [0 1 0 0 1 0 0 0 0]\n",
      " [0 0 1 0 0 0 1 0 0]]\n",
      "finished looping through rows\n",
      "found a row with a 1 entry, which is: row  1\n",
      "belowi:  0\n",
      "belowi:  1\n",
      "belowi non zero:  1 for row =  3\n",
      "A[j] after adding row A[i] to it [0 2 0 1 2 0 0 0 0]\n",
      "belowi:  0\n",
      "row num:  2\n",
      "current matrix  [[1 0 0 0 0 0 1 0 0]\n",
      " [0 1 0 1 1 0 0 0 0]\n",
      " [0 0 1 0 0 0 1 0 0]\n",
      " [0 0 0 1 0 0 0 0 0]\n",
      " [0 0 1 0 0 0 1 0 0]]\n",
      "finished looping through rows\n",
      "found a row with a 1 entry, which is: row  2\n",
      "belowi:  0\n",
      "belowi:  1\n",
      "belowi non zero:  1 for row =  4\n",
      "A[j] after adding row A[i] to it [0 0 2 0 0 0 2 0 0]\n",
      "row num:  3\n",
      "current matrix  [[1 0 0 0 0 0 1 0 0]\n",
      " [0 1 0 1 1 0 0 0 0]\n",
      " [0 0 1 0 0 0 1 0 0]\n",
      " [0 0 0 1 0 0 0 0 0]\n",
      " [0 0 0 0 0 0 0 0 0]]\n",
      "finished looping through rows\n",
      "found a row with a 1 entry, which is: row  3\n",
      "belowi:  0\n"
     ]
    },
    {
     "data": {
      "text/plain": [
       "([(0, 2)], [(0, 4), (1, 3), (2, 4)])"
      ]
     },
     "execution_count": 26,
     "metadata": {},
     "output_type": "execute_result"
    }
   ],
   "source": [
    "aug_matrix = a\n",
    "row_num = len(a)\n",
    "col_num = len(a[0])\n",
    "\n",
    "result = upp_triangular(row_num, col_num,  aug_matrix)"
   ]
  },
  {
   "cell_type": "code",
   "execution_count": null,
   "metadata": {},
   "outputs": [],
   "source": [
    "swaps = results[0]\n",
    "row_adds = results[1]\n",
    "zero_row_idx = results[2]\n",
    "for item in swaps:\n",
    "    first = item[0]\n",
    "    second = item[1]\n",
    "    if (first == zero_row_idx) or (second == zero_row_idx):\n",
    "        for row_add in row_adds:\n",
    "            rowi = row_add[0]\n",
    "            rowj = row_add[1]\n",
    "            if (rowi == zero_row_idx) or (rowj == zero_row_idx):\n",
    "                \n",
    "        \n",
    "    "
   ]
  },
  {
   "cell_type": "code",
   "execution_count": 38,
   "metadata": {},
   "outputs": [
    {
     "data": {
      "text/plain": [
       "2"
      ]
     },
     "execution_count": 38,
     "metadata": {},
     "output_type": "execute_result"
    }
   ],
   "source": [
    "a = np.array([[0, 1, 0],[1, 0, 1],[0, 0, 0],[1, 1, 0],[0, 0, 0]])\n",
    "np.where(~a.any(axis=1))[0][0]\n"
   ]
  },
  {
   "cell_type": "code",
   "execution_count": null,
   "metadata": {},
   "outputs": [],
   "source": [
    "original = a\n",
    "z = results[2]\n",
    "for row in result[0:z, :]:\n",
    "    prime_left = primes * row      # element wise; only non-free prime remains\n",
    "    any1s = row.any(axis=0)\n",
    "    if len(any1s)==0:     # this equation will not have any odd primes\n",
    "        continue\n",
    "    elif len(any1s)==1:\n",
    "        "
   ]
  },
  {
   "cell_type": "code",
   "execution_count": null,
   "metadata": {},
   "outputs": [],
   "source": [
    "# some set of combinations led to our current zero row: how exactly was this zero row found?\n",
    "notfree = []\n",
    "for row in result:\n",
    "    if row.any(axis=0):\n",
    "        indices = np.where(a.any(axis=0))[0]\n",
    "        notfree.append(indices)\n",
    "for "
   ]
  }
 ],
 "metadata": {
  "kernelspec": {
   "display_name": "Python 3",
   "language": "python",
   "name": "python3"
  },
  "language_info": {
   "codemirror_mode": {
    "name": "ipython",
    "version": 3
   },
   "file_extension": ".py",
   "mimetype": "text/x-python",
   "name": "python",
   "nbconvert_exporter": "python",
   "pygments_lexer": "ipython3",
   "version": "3.7.6"
  }
 },
 "nbformat": 4,
 "nbformat_minor": 4
}
