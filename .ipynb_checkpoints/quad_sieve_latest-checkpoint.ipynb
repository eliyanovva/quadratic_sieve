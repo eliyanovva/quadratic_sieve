{
 "cells": [
  {
   "cell_type": "markdown",
   "metadata": {},
   "source": [
    "I got quite frustrated about the Gaussian elimination. I don't understand what others were exactly doing,\n",
    " but solving Ax=0 when rank(A) is smaller than #rows in matrix A seems to be almost always solved by the \n",
    " method of 'inspection', in the resources I found online.\n",
    " Hence, I decided to assume we will generate a square matrix for now"
   ]
  },
  {
   "cell_type": "code",
   "execution_count": 43,
   "metadata": {},
   "outputs": [],
   "source": [
    "import numpy as np\n",
    "import time"
   ]
  },
  {
   "cell_type": "code",
   "execution_count": null,
   "metadata": {},
   "outputs": [],
   "source": [
    "import math\n",
    "def gcd(a, b):\n",
    "    if (a==0 or b==0):\n",
    "        return 0\n",
    "    r = b%a\n",
    "    if r==0:\n",
    "        return b//a\n",
    "    if r==1:\n",
    "        return 1\n",
    "    return gcd(b, r)"
   ]
  },
  {
   "cell_type": "code",
   "execution_count": null,
   "metadata": {},
   "outputs": [],
   "source": [
    "print(\"gcd of 7 and 14 is: \", str(gcd(7, 14)))\n",
    "print(\"gcd of 57 and 768 is: \", str(gcd(57, 768)))"
   ]
  },
  {
   "cell_type": "code",
   "execution_count": 11,
   "metadata": {},
   "outputs": [],
   "source": [
    "def calc_time(start, end):\n",
    "    seconds = end - start\n",
    "    mins = seconds / 60\n",
    "    print('Time:', str(seconds), '    ', str(mins))\n",
    "    # return seconds, mins"
   ]
  },
  {
   "cell_type": "code",
   "execution_count": 54,
   "metadata": {},
   "outputs": [],
   "source": [
    "# got rid of the inefficiency of last time\n",
    "\n",
    "def get_primes_less_thanB(bound):                      # eratosthenes way\n",
    "    check_until = int(bound**0.5)\n",
    "    unmarked = np.array([x for x in range(2, bound)])\n",
    "#     unmarked = [x for x in range(2, bound+1)]\n",
    "    q = 2\n",
    "    i = 0\n",
    "    while True:\n",
    "        u = unmarked[i]\n",
    "#         if i%5 ==0:\n",
    "#             print(\"In this iteration, u = \", u)\n",
    "        #print(\"current unmarked elements\", unmarked)\n",
    "        if u> check_until:               # only check numbers up to sqrt(bound)\n",
    "            break\n",
    "        u_idx = np.where(unmarked == u)[0][0]\n",
    "        #print(\"u index \", u_idx)\n",
    "        max_idx = bound//u\n",
    "        #print(\"max index of u: \", max_idx)\n",
    "        listm = [u*i for i in range(q, max_idx+1)]\n",
    "        #print(listm)\n",
    "        u_multiples = np.array(listm)\n",
    "        unmarked = np.setdiff1d(unmarked, u_multiples)\n",
    "#         while u*q<= bound:\n",
    "#             if u*q in unmarked:\n",
    "#                 unmarked.remove(u*q)\n",
    "#             q+=1\n",
    "        q = u\n",
    "        i +=1\n",
    "#         print(\"Elements still unmarked: \", unmarked)\n",
    "    # print(\"final unmarked elements (for eye balling!): \", unmarked)\n",
    "    print(\"number of elements less than bound = \", bound, \" is: \", len(unmarked))\n",
    "    return (list(unmarked))"
   ]
  },
  {
   "cell_type": "code",
   "execution_count": 55,
   "metadata": {},
   "outputs": [
    {
     "name": "stdout",
     "output_type": "stream",
     "text": [
      "In this iteration, u =  2\n",
      "In this iteration, u =  13\n",
      "In this iteration, u =  31\n",
      "In this iteration, u =  53\n",
      "In this iteration, u =  73\n",
      "In this iteration, u =  101\n",
      "In this iteration, u =  127\n",
      "In this iteration, u =  151\n",
      "In this iteration, u =  179\n",
      "In this iteration, u =  199\n",
      "In this iteration, u =  233\n",
      "In this iteration, u =  263\n",
      "In this iteration, u =  283\n",
      "In this iteration, u =  317\n",
      "number of elements less than bound =  100000  is:  9592\n",
      "Time: 0.16432452201843262      0.0027387420336405436\n"
     ]
    }
   ],
   "source": [
    "start = time.time()\n",
    "bound = 100000\n",
    "x = get_primes_less_thanB(bound)\n",
    "end = time.time()\n",
    "calc_time(start, end)"
   ]
  },
  {
   "cell_type": "code",
   "execution_count": 45,
   "metadata": {},
   "outputs": [
    {
     "name": "stdout",
     "output_type": "stream",
     "text": [
      "final unmarked elements (for eye balling!):  [   2    3    5 ... 9949 9967 9973]\n",
      "number of elements less than bound is:  1229\n",
      "Time: 0.021973609924316406      0.0003662268320719401\n"
     ]
    }
   ],
   "source": [
    "start = time.time()\n",
    "bound = 10000\n",
    "x = get_primes_less_thanB(bound)\n",
    "end = time.time()\n",
    "calc_time(start, end)"
   ]
  },
  {
   "cell_type": "code",
   "execution_count": null,
   "metadata": {},
   "outputs": [],
   "source": [
    "############\n",
    "##########\n",
    "#######\n",
    "####\n",
    "##\n",
    "#"
   ]
  },
  {
   "cell_type": "code",
   "execution_count": 26,
   "metadata": {},
   "outputs": [
    {
     "name": "stdout",
     "output_type": "stream",
     "text": [
      "final unmarked elements (for eye balling!):  [2, 3, 5, 7, 11, 13, 17, 19, 23, 29, 31, 37, 41, 43, 47, 53, 59, 61, 67, 71, 73, 79, 83, 89, 97, 101, 103, 107, 109, 113, 127, 131, 137, 139, 149, 151, 157, 163, 167, 173, 179, 181, 191, 193, 197, 199, 211, 223, 227, 229, 233, 239, 241, 251, 257, 263, 269, 271, 277, 281, 283, 293, 307, 311, 313, 317, 331, 337, 347, 349, 353, 359, 367, 373, 379, 383, 389, 397, 401, 409, 419, 421, 431, 433, 439, 443, 449, 457, 461, 463, 467, 479, 487, 491, 499, 503, 509, 521, 523, 541, 547, 557, 563, 569, 571, 577, 587, 593, 599, 601, 607, 613, 617, 619, 631, 641, 643, 647, 653, 659, 661, 673, 677, 683, 691, 701, 709, 719, 727, 733, 739, 743, 751, 757, 761, 769, 773, 787, 797, 809, 811, 821, 823, 827, 829, 839, 853, 857, 859, 863, 877, 881, 883, 887, 907, 911, 919, 929, 937, 941, 947, 953, 967, 971, 977, 983, 991, 997, 1009, 1013, 1019, 1021, 1031, 1033, 1039, 1049, 1051, 1061, 1063, 1069, 1087, 1091, 1093, 1097, 1103, 1109, 1117, 1123, 1129, 1151, 1153, 1163, 1171, 1181, 1187, 1193, 1201, 1213, 1217, 1223, 1229, 1231, 1237, 1249, 1259, 1277, 1279, 1283, 1289, 1291, 1297, 1301, 1303, 1307, 1319, 1321, 1327, 1361, 1367, 1373, 1381, 1399, 1409, 1423, 1427, 1429, 1433, 1439, 1447, 1451, 1453, 1459, 1471, 1481, 1483, 1487, 1489, 1493, 1499, 1511, 1523, 1531, 1543, 1549, 1553, 1559, 1567, 1571, 1579, 1583, 1597, 1601, 1607, 1609, 1613, 1619, 1621, 1627, 1637, 1657, 1663, 1667, 1669, 1693, 1697, 1699, 1709, 1721, 1723, 1733, 1741, 1747, 1753, 1759, 1777, 1783, 1787, 1789, 1801, 1811, 1823, 1831, 1847, 1861, 1867, 1871, 1873, 1877, 1879, 1889, 1901, 1907, 1913, 1931, 1933, 1949, 1951, 1973, 1979, 1987, 1993, 1997, 1999, 2003, 2011, 2017, 2027, 2029, 2039, 2053, 2063, 2069, 2081, 2083, 2087, 2089, 2099, 2111, 2113, 2129, 2131, 2137, 2141, 2143, 2153, 2161, 2179, 2203, 2207, 2213, 2221, 2237, 2239, 2243, 2251, 2267, 2269, 2273, 2281, 2287, 2293, 2297, 2309, 2311, 2333, 2339, 2341, 2347, 2351, 2357, 2371, 2377, 2381, 2383, 2389, 2393, 2399, 2411, 2417, 2423, 2437, 2441, 2447, 2459, 2467, 2473, 2477, 2503, 2521, 2531, 2539, 2543, 2549, 2551, 2557, 2579, 2591, 2593, 2609, 2617, 2621, 2633, 2647, 2657, 2659, 2663, 2671, 2677, 2683, 2687, 2689, 2693, 2699, 2707, 2711, 2713, 2719, 2729, 2731, 2741, 2749, 2753, 2767, 2777, 2789, 2791, 2797, 2801, 2803, 2819, 2833, 2837, 2843, 2851, 2857, 2861, 2879, 2887, 2897, 2903, 2909, 2917, 2927, 2939, 2953, 2957, 2963, 2969, 2971, 2999, 3001, 3011, 3019, 3023, 3037, 3041, 3049, 3061, 3067, 3079, 3083, 3089, 3109, 3119, 3121, 3137, 3163, 3167, 3169, 3181, 3187, 3191, 3203, 3209, 3217, 3221, 3229, 3251, 3253, 3257, 3259, 3271, 3299, 3301, 3307, 3313, 3319, 3323, 3329, 3331, 3343, 3347, 3359, 3361, 3371, 3373, 3389, 3391, 3407, 3413, 3433, 3449, 3457, 3461, 3463, 3467, 3469, 3491, 3499, 3511, 3517, 3527, 3529, 3533, 3539, 3541, 3547, 3557, 3559, 3571, 3581, 3583, 3593, 3607, 3613, 3617, 3623, 3631, 3637, 3643, 3659, 3671, 3673, 3677, 3691, 3697, 3701, 3709, 3719, 3727, 3733, 3739, 3761, 3767, 3769, 3779, 3793, 3797, 3803, 3821, 3823, 3833, 3847, 3851, 3853, 3863, 3877, 3881, 3889, 3907, 3911, 3917, 3919, 3923, 3929, 3931, 3943, 3947, 3967, 3989, 4001, 4003, 4007, 4013, 4019, 4021, 4027, 4049, 4051, 4057, 4073, 4079, 4091, 4093, 4099, 4111, 4127, 4129, 4133, 4139, 4153, 4157, 4159, 4177, 4201, 4211, 4217, 4219, 4229, 4231, 4241, 4243, 4253, 4259, 4261, 4271, 4273, 4283, 4289, 4297, 4327, 4337, 4339, 4349, 4357, 4363, 4373, 4391, 4397, 4409, 4421, 4423, 4441, 4447, 4451, 4457, 4463, 4481, 4483, 4493, 4507, 4513, 4517, 4519, 4523, 4547, 4549, 4561, 4567, 4583, 4591, 4597, 4603, 4621, 4637, 4639, 4643, 4649, 4651, 4657, 4663, 4673, 4679, 4691, 4703, 4721, 4723, 4729, 4733, 4751, 4759, 4783, 4787, 4789, 4793, 4799, 4801, 4813, 4817, 4831, 4861, 4871, 4877, 4889, 4903, 4909, 4919, 4931, 4933, 4937, 4943, 4951, 4957, 4967, 4969, 4973, 4987, 4993, 4999, 5003, 5009, 5011, 5021, 5023, 5039, 5051, 5059, 5077, 5081, 5087, 5099, 5101, 5107, 5113, 5119, 5147, 5153, 5167, 5171, 5179, 5189, 5197, 5209, 5227, 5231, 5233, 5237, 5261, 5273, 5279, 5281, 5297, 5303, 5309, 5323, 5333, 5347, 5351, 5381, 5387, 5393, 5399, 5407, 5413, 5417, 5419, 5431, 5437, 5441, 5443, 5449, 5471, 5477, 5479, 5483, 5501, 5503, 5507, 5519, 5521, 5527, 5531, 5557, 5563, 5569, 5573, 5581, 5591, 5623, 5639, 5641, 5647, 5651, 5653, 5657, 5659, 5669, 5683, 5689, 5693, 5701, 5711, 5717, 5737, 5741, 5743, 5749, 5779, 5783, 5791, 5801, 5807, 5813, 5821, 5827, 5839, 5843, 5849, 5851, 5857, 5861, 5867, 5869, 5879, 5881, 5897, 5903, 5923, 5927, 5939, 5953, 5981, 5987, 6007, 6011, 6029, 6037, 6043, 6047, 6053, 6067, 6073, 6079, 6089, 6091, 6101, 6113, 6121, 6131, 6133, 6143, 6151, 6163, 6173, 6197, 6199, 6203, 6211, 6217, 6221, 6229, 6247, 6257, 6263, 6269, 6271, 6277, 6287, 6299, 6301, 6311, 6317, 6323, 6329, 6337, 6343, 6353, 6359, 6361, 6367, 6373, 6379, 6389, 6397, 6421, 6427, 6449, 6451, 6469, 6473, 6481, 6491, 6521, 6529, 6547, 6551, 6553, 6563, 6569, 6571, 6577, 6581, 6599, 6607, 6619, 6637, 6653, 6659, 6661, 6673, 6679, 6689, 6691, 6701, 6703, 6709, 6719, 6733, 6737, 6761, 6763, 6779, 6781, 6791, 6793, 6803, 6823, 6827, 6829, 6833, 6841, 6857, 6863, 6869, 6871, 6883, 6899, 6907, 6911, 6917, 6947, 6949, 6959, 6961, 6967, 6971, 6977, 6983, 6991, 6997, 7001, 7013, 7019, 7027, 7039, 7043, 7057, 7069, 7079, 7103, 7109, 7121, 7127, 7129, 7151, 7159, 7177, 7187, 7193, 7207, 7211, 7213, 7219, 7229, 7237, 7243, 7247, 7253, 7283, 7297, 7307, 7309, 7321, 7331, 7333, 7349, 7351, 7369, 7393, 7411, 7417, 7433, 7451, 7457, 7459, 7477, 7481, 7487, 7489, 7499, 7507, 7517, 7523, 7529, 7537, 7541, 7547, 7549, 7559, 7561, 7573, 7577, 7583, 7589, 7591, 7603, 7607, 7621, 7639, 7643, 7649, 7669, 7673, 7681, 7687, 7691, 7699, 7703, 7717, 7723, 7727, 7741, 7753, 7757, 7759, 7789, 7793, 7817, 7823, 7829, 7841, 7853, 7867, 7873, 7877, 7879, 7883, 7901, 7907, 7919, 7927, 7933, 7937, 7949, 7951, 7963, 7993, 8009, 8011, 8017, 8039, 8053, 8059, 8069, 8081, 8087, 8089, 8093, 8101, 8111, 8117, 8123, 8147, 8161, 8167, 8171, 8179, 8191, 8209, 8219, 8221, 8231, 8233, 8237, 8243, 8263, 8269, 8273, 8287, 8291, 8293, 8297, 8311, 8317, 8329, 8353, 8363, 8369, 8377, 8387, 8389, 8419, 8423, 8429, 8431, 8443, 8447, 8461, 8467, 8501, 8513, 8521, 8527, 8537, 8539, 8543, 8563, 8573, 8581, 8597, 8599, 8609, 8623, 8627, 8629, 8641, 8647, 8663, 8669, 8677, 8681, 8689, 8693, 8699, 8707, 8713, 8719, 8731, 8737, 8741, 8747, 8753, 8761, 8779, 8783, 8803, 8807, 8819, 8821, 8831, 8837, 8839, 8849, 8861, 8863, 8867, 8887, 8893, 8923, 8929, 8933, 8941, 8951, 8963, 8969, 8971, 8999, 9001, 9007, 9011, 9013, 9029, 9041, 9043, 9049, 9059, 9067, 9091, 9103, 9109, 9127, 9133, 9137, 9151, 9157, 9161, 9173, 9181, 9187, 9199, 9203, 9209, 9221, 9227, 9239, 9241, 9257, 9277, 9281, 9283, 9293, 9311, 9319, 9323, 9337, 9341, 9343, 9349, 9371, 9377, 9391, 9397, 9403, 9413, 9419, 9421, 9431, 9433, 9437, 9439, 9461, 9463, 9467, 9473, 9479, 9491, 9497, 9511, 9521, 9533, 9539, 9547, 9551, 9587, 9601, 9613, 9619, 9623, 9629, 9631, 9643, 9649, 9661, 9677, 9679, 9689, 9697, 9719, 9721, 9733, 9739, 9743, 9749, 9767, 9769, 9781, 9787, 9791, 9803, 9811, 9817, 9829, 9833, 9839, 9851, 9857, 9859, 9871, 9883, 9887, 9901, 9907, 9923, 9929, 9931, 9941, 9949, 9967, 9973]\n",
      "Time: 1.8169879913330078      0.030283133188883465\n"
     ]
    }
   ],
   "source": [
    "start = time.time()\n",
    "bound = 10000\n",
    "x = get_primes_less_thanB(bound)\n",
    "end = time.time()\n",
    "calc_time(start, end)"
   ]
  },
  {
   "cell_type": "code",
   "execution_count": 27,
   "metadata": {},
   "outputs": [
    {
     "name": "stdout",
     "output_type": "stream",
     "text": [
      "1229\n"
     ]
    }
   ],
   "source": [
    "# Fixed the bug!!\n",
    "print(len(x))"
   ]
  },
  {
   "cell_type": "code",
   "execution_count": 11,
   "metadata": {},
   "outputs": [],
   "source": [
    "def check_Bsmooth(num, bound):\n",
    "    primes_less_thanB = get_primes_less_thanB(bound)\n",
    "    powers_of_primes= []\n",
    "    num_remaining= num                          # keep dividing by primes in B smooth primes, until == 1\n",
    "    for prime in primes_less_thanB:\n",
    "        i = 0                                   # i = power of prime\n",
    "        if (num_remaining%prime == 0):\n",
    "            while (num_remaining%prime ==0):   #keep dividing for each power of the prime\n",
    "                quotient = num_remaining/prime\n",
    "                num_remaining = quotient\n",
    "                i +=1\n",
    "        powers_of_primes.append(i)\n",
    "    if num_remaining == 1:\n",
    "        print(\"Number is B smooth, using primes:\", primes_less_thanB, \"with corresponding powers:\", powers_of_primes)\n",
    "        return powers_of_primes\n",
    "    print(\"Number is not B smooth\")\n",
    "    return []"
   ]
  },
  {
   "cell_type": "code",
   "execution_count": 12,
   "metadata": {},
   "outputs": [
    {
     "name": "stdout",
     "output_type": "stream",
     "text": [
      "Number is B smooth, using primes: [2, 3, 5, 7, 11, 13, 17, 19] with corresponding powers: [4, 0, 1, 0, 0, 0, 1, 0]\n",
      "Number is B smooth, using primes: [2, 3, 5, 7, 11, 13, 17, 19] with corresponding powers: [0, 1, 2, 1, 1, 0, 0, 0]\n",
      "Number is B smooth, using primes: [2, 3, 5, 7, 11, 13, 17, 19] with corresponding powers: [3, 0, 0, 2, 0, 0, 1, 0]\n",
      "Number is B smooth, using primes: [2, 3, 5, 7, 11, 13, 17, 19] with corresponding powers: [8, 1, 0, 0, 1, 0, 0, 0]\n",
      "Number is B smooth, using primes: [2, 3, 5, 7, 11, 13, 17, 19] with corresponding powers: [11, 0, 1, 0, 0, 0, 0, 0]\n"
     ]
    }
   ],
   "source": [
    "# Some tests\n",
    "bound = 20\n",
    "n = 63787\n",
    "num1 =  (439**2)%n\n",
    "num2 = (444**2)%n\n",
    "num3 = (445**2)%n\n",
    "num4 = (447**2)%n\n",
    "num5 = (449**2)%n\n",
    "\n",
    "result1 = check_Bsmooth(num1, bound)\n",
    "result2 = check_Bsmooth(num2, bound)\n",
    "result3 = check_Bsmooth(num3, bound)\n",
    "result4 = check_Bsmooth(num4, bound)\n",
    "result5 = check_Bsmooth(num5, bound)\n",
    "\n",
    "results = [result1, result2, result3, result4, result5]\n"
   ]
  },
  {
   "cell_type": "code",
   "execution_count": null,
   "metadata": {},
   "outputs": [],
   "source": [
    "# If we wanna save the result in a stupid way; \n",
    "# was going to try geopandas (gpd) \"to_file\" method, but my BASE environment is not downloading geopandas!\n",
    "# (need to try in the custom environment; that already has gpd library installed)\n",
    "with open (\"./Data/example1.txt\", \"w\") as filehandle:\n",
    "    for row in results:\n",
    "        for col in row:\n",
    "            filehandle.write(str(col))\n",
    "        filehandle.write(\"\\n\")\n"
   ]
  },
  {
   "cell_type": "code",
   "execution_count": 21,
   "metadata": {},
   "outputs": [],
   "source": [
    "# Using numpy\n",
    "import numpy as np\n",
    "# import geopandas as gpd\n",
    "\n",
    "matrix = []\n",
    "for result in results:\n",
    "    if result != \"[]\":\n",
    "        matrix.append(result)\n",
    "np_array = np.array(matrix)\n",
    "# print(np_array)\n"
   ]
  },
  {
   "cell_type": "code",
   "execution_count": 22,
   "metadata": {},
   "outputs": [
    {
     "name": "stdout",
     "output_type": "stream",
     "text": [
      "[[0 0 1 0 0 0 1 0 0]\n",
      " [0 1 0 1 1 0 0 0 0]\n",
      " [1 0 0 0 0 0 1 0 0]\n",
      " [0 1 0 0 1 0 0 0 0]\n",
      " [1 0 1 0 0 0 0 0 0]]\n"
     ]
    }
   ],
   "source": [
    "import numpy.linalg\n",
    "a = (np_array%2)\n",
    "n = len(a)            # row number + number of equations we have\n",
    "m = len(a[0])        # column number + number of primes (in factor base)\n",
    "\n",
    "b =  np.array([[0 for i in range(n)]])     # all zeros\n",
    "# r = np.array([[i] for i in range(n)])\n",
    "a = np.concatenate((a, b.T), axis=1)\n",
    "# a = np.concatenate((a, r.T), axis=1)\n",
    "print(a)"
   ]
  },
  {
   "cell_type": "code",
   "execution_count": 23,
   "metadata": {},
   "outputs": [],
   "source": [
    "# Ignore for now; was trying to create a different kind of augmented matrix\n",
    "\n",
    "# rules = [[i] for i in range(10)]\n",
    "# print(rules)"
   ]
  },
  {
   "cell_type": "code",
   "execution_count": 24,
   "metadata": {},
   "outputs": [],
   "source": [
    "def zero_row(A):\n",
    "    bool_rows = ~A.any(axis=1)\n",
    "    return bool_rows.any(axis=0)"
   ]
  },
  {
   "cell_type": "code",
   "execution_count": null,
   "metadata": {},
   "outputs": [],
   "source": [
    "zero_row_idx(A):\n",
    "    return np.where(~A.any(axis=1))[0][0]     # return first instance of zero entry"
   ]
  },
  {
   "cell_type": "code",
   "execution_count": 25,
   "metadata": {},
   "outputs": [],
   "source": [
    "def upp_triangular(num_rows, num_cols, aug_matA):\n",
    "    A = aug_matA\n",
    "    n = num_rows\n",
    "    m = num_cols\n",
    "    row_adds = []\n",
    "    swaps = []\n",
    "    for i in range(m):            # column\n",
    "        if i>=n:    \n",
    "            break\n",
    "        print(\"row num: \", i)\n",
    "        A = A%2\n",
    "        print(\"current matrix \", A)\n",
    "        maxi = i\n",
    "        for k in range(i, n):                 # first row at i or below where entry is 1 - pivot for that column\n",
    "            if A[k][i] ==1:\n",
    "                maxi = k\n",
    "                break\n",
    "        print(\"finished looping through rows\")\n",
    "        if A[maxi][i] != 1:                    # no '1'- entry in any row for this column\n",
    "            print(\"No pivots in this column\")\n",
    "            continue\n",
    "        else:                                 # some row = maxi row has a 1 entry\n",
    "            print(\"found a row with a 1 entry, which is: row \", maxi)\n",
    "            if maxi != i:            # need to swap rows\n",
    "                print (\"Swapping rows for row = \", i, \"and maxi = \", maxi)\n",
    "                currenti = A[i].copy()\n",
    "                A[i] = A[maxi]\n",
    "                A[maxi] = currenti\n",
    "                print(\"matrix overall after swap: \", A)\n",
    "                swaps.append((i,maxi))\n",
    "            for j in range(i+1, n):          # check every entry directly below pivot/A[i][i] \n",
    "                belowi = A[j][i]\n",
    "                print(\"belowi: \", belowi)\n",
    "                if belowi !=0:              # if entry is 1 for any row\n",
    "                    A[j]+= A[i]             # nullify it \n",
    "                    row_adds.append((i,j))\n",
    "                    print(\"belowi non zero: \", belowi, \"for row = \", j)\n",
    "                    print(\"A[j] after adding row A[i] to it\", A[j])\n",
    "    # should have upper triangular matrix at the end of this \n",
    "    if zero_row(A):\n",
    "        zero_idx = zero_row_idx(A)\n",
    "        return (swaps, row_adds, zero_idx)\n",
    "    return []\n",
    "    \n"
   ]
  },
  {
   "cell_type": "code",
   "execution_count": 26,
   "metadata": {},
   "outputs": [
    {
     "name": "stdout",
     "output_type": "stream",
     "text": [
      "row num:  0\n",
      "current matrix  [[0 0 1 0 0 0 1 0 0]\n",
      " [0 1 0 1 1 0 0 0 0]\n",
      " [1 0 0 0 0 0 1 0 0]\n",
      " [0 1 0 0 1 0 0 0 0]\n",
      " [1 0 1 0 0 0 0 0 0]]\n",
      "finished looping through rows\n",
      "found a row with a 1 entry, which is: row  2\n",
      "Swapping rows for row =  0 and maxi =  2\n",
      "matrix overall after swap:  [[1 0 0 0 0 0 1 0 0]\n",
      " [0 1 0 1 1 0 0 0 0]\n",
      " [0 0 1 0 0 0 1 0 0]\n",
      " [0 1 0 0 1 0 0 0 0]\n",
      " [1 0 1 0 0 0 0 0 0]]\n",
      "belowi:  0\n",
      "belowi:  0\n",
      "belowi:  0\n",
      "belowi:  1\n",
      "belowi non zero:  1 for row =  4\n",
      "A[j] after adding row A[i] to it [2 0 1 0 0 0 1 0 0]\n",
      "row num:  1\n",
      "current matrix  [[1 0 0 0 0 0 1 0 0]\n",
      " [0 1 0 1 1 0 0 0 0]\n",
      " [0 0 1 0 0 0 1 0 0]\n",
      " [0 1 0 0 1 0 0 0 0]\n",
      " [0 0 1 0 0 0 1 0 0]]\n",
      "finished looping through rows\n",
      "found a row with a 1 entry, which is: row  1\n",
      "belowi:  0\n",
      "belowi:  1\n",
      "belowi non zero:  1 for row =  3\n",
      "A[j] after adding row A[i] to it [0 2 0 1 2 0 0 0 0]\n",
      "belowi:  0\n",
      "row num:  2\n",
      "current matrix  [[1 0 0 0 0 0 1 0 0]\n",
      " [0 1 0 1 1 0 0 0 0]\n",
      " [0 0 1 0 0 0 1 0 0]\n",
      " [0 0 0 1 0 0 0 0 0]\n",
      " [0 0 1 0 0 0 1 0 0]]\n",
      "finished looping through rows\n",
      "found a row with a 1 entry, which is: row  2\n",
      "belowi:  0\n",
      "belowi:  1\n",
      "belowi non zero:  1 for row =  4\n",
      "A[j] after adding row A[i] to it [0 0 2 0 0 0 2 0 0]\n",
      "row num:  3\n",
      "current matrix  [[1 0 0 0 0 0 1 0 0]\n",
      " [0 1 0 1 1 0 0 0 0]\n",
      " [0 0 1 0 0 0 1 0 0]\n",
      " [0 0 0 1 0 0 0 0 0]\n",
      " [0 0 0 0 0 0 0 0 0]]\n",
      "finished looping through rows\n",
      "found a row with a 1 entry, which is: row  3\n",
      "belowi:  0\n"
     ]
    },
    {
     "data": {
      "text/plain": [
       "([(0, 2)], [(0, 4), (1, 3), (2, 4)])"
      ]
     },
     "execution_count": 26,
     "metadata": {},
     "output_type": "execute_result"
    }
   ],
   "source": [
    "aug_matrix = a\n",
    "row_num = len(a)\n",
    "col_num = len(a[0])\n",
    "\n",
    "result = upp_triangular(row_num, col_num,  aug_matrix)"
   ]
  },
  {
   "cell_type": "code",
   "execution_count": null,
   "metadata": {},
   "outputs": [],
   "source": [
    "swaps = results[0]\n",
    "row_adds = results[1]\n",
    "zero_row_idx = results[2]\n",
    "for item in swaps:\n",
    "    first = item[0]\n",
    "    second = item[1]\n",
    "    if (first == zero_row_idx) or (second == zero_row_idx):\n",
    "        for row_add in row_adds:\n",
    "            rowi = row_add[0]\n",
    "            rowj = row_add[1]\n",
    "            if (rowi == zero_row_idx) or (rowj == zero_row_idx):\n",
    "                \n",
    "        \n",
    "    "
   ]
  },
  {
   "cell_type": "code",
   "execution_count": 38,
   "metadata": {},
   "outputs": [
    {
     "data": {
      "text/plain": [
       "2"
      ]
     },
     "execution_count": 38,
     "metadata": {},
     "output_type": "execute_result"
    }
   ],
   "source": [
    "a = np.array([[0, 1, 0],[1, 0, 1],[0, 0, 0],[1, 1, 0],[0, 0, 0]])\n",
    "np.where(~a.any(axis=1))[0][0]\n"
   ]
  },
  {
   "cell_type": "code",
   "execution_count": null,
   "metadata": {},
   "outputs": [],
   "source": [
    "original = a\n",
    "z = results[2]\n",
    "for row in result[0:z, :]:\n",
    "    prime_left = primes * row      # element wise; only non-free prime remains\n",
    "    any1s = row.any(axis=0)\n",
    "    if len(any1s)==0:     # this equation will not have any odd primes\n",
    "        continue\n",
    "    elif len(any1s)==1:\n",
    "        "
   ]
  },
  {
   "cell_type": "code",
   "execution_count": null,
   "metadata": {},
   "outputs": [],
   "source": [
    "# some set of combinations led to our current zero row: how exactly was this zero row found?\n",
    "notfree = []\n",
    "for row in result:\n",
    "    if row.any(axis=0):\n",
    "        indices = np.where(a.any(axis=0))[0]\n",
    "        notfree.append(indices)\n",
    "for "
   ]
  }
 ],
 "metadata": {
  "kernelspec": {
   "display_name": "Python 3",
   "language": "python",
   "name": "python3"
  },
  "language_info": {
   "codemirror_mode": {
    "name": "ipython",
    "version": 3
   },
   "file_extension": ".py",
   "mimetype": "text/x-python",
   "name": "python",
   "nbconvert_exporter": "python",
   "pygments_lexer": "ipython3",
   "version": "3.7.6"
  }
 },
 "nbformat": 4,
 "nbformat_minor": 4
}
