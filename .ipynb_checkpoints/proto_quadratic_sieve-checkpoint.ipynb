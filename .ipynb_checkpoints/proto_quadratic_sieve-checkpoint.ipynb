{
 "cells": [
  {
   "cell_type": "markdown",
   "metadata": {},
   "source": [
    "### A naive approach to implementing Quadratic Sieve"
   ]
  },
  {
   "cell_type": "code",
   "execution_count": 1,
   "metadata": {},
   "outputs": [],
   "source": [
    "def choose_B():\n",
    "    return 20"
   ]
  },
  {
   "cell_type": "code",
   "execution_count": 5,
   "metadata": {},
   "outputs": [],
   "source": [
    "def get_primes_less_thanB(bound):                      # eratosthenes way\n",
    "    start = 2\n",
    "    unmarked = set([x for x in range(bound)])\n",
    "    unmarked.remove(0)\n",
    "    unmarked.remove(1)\n",
    "    \n",
    "    repeat_list = []\n",
    "    q = 2\n",
    "    for u in unmarked:\n",
    "        if u> int(bound**0.5):      # only check numbers up to sqrt(bound)\n",
    "            break\n",
    "        while u*q<= bound:\n",
    "            repeat_list.append(u*q)\n",
    "            unmarked = unmarked - set(repeat_list)\n",
    "            q+=1\n",
    "        q = 2\n",
    "    return (list(unmarked))"
   ]
  },
  {
   "cell_type": "code",
   "execution_count": 35,
   "metadata": {},
   "outputs": [],
   "source": [
    "def check_Bsmooth(num, bound):\n",
    "    primes_less_thanB = get_primes_less_thanB(bound)\n",
    "    powers_of_primes= []\n",
    "    num_remaining= num                          # keep dividing by primes in B smooth primes, until == 1\n",
    "    for prime in primes_less_thanB:\n",
    "        i = 0                                   # i = power of prime\n",
    "        if (num_remaining%prime == 0):\n",
    "            # print(prime)\n",
    "            while (num_remaining%prime ==0):   #keep dividing for each power of the prime\n",
    "                quotient = num_remaining/prime\n",
    "                num_remaining = quotient\n",
    "                i +=1\n",
    "        # print(i)\n",
    "        powers_of_primes.append(i)\n",
    "    if num_remaining == 1:\n",
    "        print(\"Number is B smooth, using primes:\", primes_less_thanB, \"with corresponding powers:\", powers_of_primes)\n",
    "        return powers_of_primes\n",
    "    print(\"Number is not B smooth\")\n",
    "    return []"
   ]
  },
  {
   "cell_type": "code",
   "execution_count": 36,
   "metadata": {},
   "outputs": [
    {
     "name": "stdout",
     "output_type": "stream",
     "text": [
      "Number is B smooth, using primes: [2, 3, 5, 7, 11, 13, 17, 19] with corresponding powers: [4, 0, 1, 0, 0, 0, 1, 0]\n",
      "Number is B smooth, using primes: [2, 3, 5, 7, 11, 13, 17, 19] with corresponding powers: [0, 1, 2, 1, 1, 0, 0, 0]\n",
      "Number is B smooth, using primes: [2, 3, 5, 7, 11, 13, 17, 19] with corresponding powers: [3, 0, 0, 2, 0, 0, 1, 0]\n",
      "Number is B smooth, using primes: [2, 3, 5, 7, 11, 13, 17, 19] with corresponding powers: [8, 1, 0, 0, 1, 0, 0, 0]\n",
      "Number is B smooth, using primes: [2, 3, 5, 7, 11, 13, 17, 19] with corresponding powers: [11, 0, 1, 0, 0, 0, 0, 0]\n"
     ]
    }
   ],
   "source": [
    "# test functions\n",
    "bound = choose_B()\n",
    "n = 63787\n",
    "num1 =  (439**2)%n\n",
    "num2 = (444**2)%n\n",
    "num3 = (445**2)%n\n",
    "num4 = (447**2)%n\n",
    "num5 = (449**2)%n\n",
    "\n",
    "result = check_Bsmooth(num1, bound)\n",
    "result = check_Bsmooth(num2, bound)\n",
    "result = check_Bsmooth(num3, bound)\n",
    "result = check_Bsmooth(num4, bound)\n",
    "result = check_Bsmooth(num5, bound)"
   ]
  },
  {
   "cell_type": "code",
   "execution_count": 37,
   "metadata": {},
   "outputs": [
    {
     "name": "stdout",
     "output_type": "stream",
     "text": [
      "Number is B smooth, using primes: [2, 3, 5, 7, 11, 13, 17, 19] with corresponding powers: [4, 0, 1, 0, 0, 0, 1, 0]\n",
      "Number is B smooth, using primes: [2, 3, 5, 7, 11, 13, 17, 19] with corresponding powers: [0, 1, 2, 1, 1, 0, 0, 0]\n",
      "Number is B smooth, using primes: [2, 3, 5, 7, 11, 13, 17, 19] with corresponding powers: [3, 0, 0, 2, 0, 0, 1, 0]\n",
      "Number is B smooth, using primes: [2, 3, 5, 7, 11, 13, 17, 19] with corresponding powers: [8, 1, 0, 0, 1, 0, 0, 0]\n",
      "Number is B smooth, using primes: [2, 3, 5, 7, 11, 13, 17, 19] with corresponding powers: [11, 0, 1, 0, 0, 0, 0, 0]\n",
      "[[4, 0, 1, 0, 0, 0, 1, 0], [0, 1, 2, 1, 1, 0, 0, 0], [3, 0, 0, 2, 0, 0, 1, 0], [8, 1, 0, 0, 1, 0, 0, 0], [11, 0, 1, 0, 0, 0, 0, 0]]\n"
     ]
    }
   ],
   "source": [
    "matrix = []\n",
    "numlist = [num1, num2, num3, num4, num5]\n",
    "for num in numlist:\n",
    "    result = check_Bsmooth(num, bound)\n",
    "    if result != \"[]\":\n",
    "        matrix.append(result)\n",
    "print(matrix)"
   ]
  },
  {
   "cell_type": "code",
   "execution_count": 45,
   "metadata": {},
   "outputs": [],
   "source": [
    "import numpy as np\n",
    "import numpy.linalg\n",
    "\n",
    "def Gaussian_elm_mod2(matA, matB):\n",
    "    #copy = matA.copy() ----- ignoring reduction mod 2 for now; will need to optimize\n",
    "    #for entry in copy:\n",
    "        #entry = entry%2 ----- this line does not work for a list; will convert to a numpy array later\n",
    "\n",
    "    return np.linalg.solve(matA, matB)\n"
   ]
  },
  {
   "cell_type": "code",
   "execution_count": 46,
   "metadata": {},
   "outputs": [
    {
     "ename": "LinAlgError",
     "evalue": "Singular matrix",
     "output_type": "error",
     "traceback": [
      "\u001b[1;31m---------------------------------------------------------------------------\u001b[0m",
      "\u001b[1;31mLinAlgError\u001b[0m                               Traceback (most recent call last)",
      "\u001b[1;32m<ipython-input-46-e0792c72ff91>\u001b[0m in \u001b[0;36m<module>\u001b[1;34m\u001b[0m\n\u001b[0;32m      2\u001b[0m \u001b[0mmatB\u001b[0m \u001b[1;33m=\u001b[0m \u001b[1;33m[\u001b[0m\u001b[1;36m0\u001b[0m\u001b[1;33m,\u001b[0m \u001b[1;36m0\u001b[0m\u001b[1;33m,\u001b[0m \u001b[1;36m0\u001b[0m\u001b[1;33m,\u001b[0m \u001b[1;36m0\u001b[0m\u001b[1;33m,\u001b[0m \u001b[1;36m0\u001b[0m\u001b[1;33m,\u001b[0m \u001b[1;36m0\u001b[0m\u001b[1;33m,\u001b[0m \u001b[1;36m0\u001b[0m\u001b[1;33m,\u001b[0m \u001b[1;36m0\u001b[0m\u001b[1;33m]\u001b[0m\u001b[1;33m\u001b[0m\u001b[1;33m\u001b[0m\u001b[0m\n\u001b[0;32m      3\u001b[0m \u001b[1;33m\u001b[0m\u001b[0m\n\u001b[1;32m----> 4\u001b[1;33m \u001b[0mprint\u001b[0m\u001b[1;33m(\u001b[0m\u001b[0mGaussian_elm_mod2\u001b[0m\u001b[1;33m(\u001b[0m\u001b[0mmatA\u001b[0m\u001b[1;33m,\u001b[0m \u001b[0mmatB\u001b[0m\u001b[1;33m)\u001b[0m\u001b[1;33m)\u001b[0m\u001b[1;33m\u001b[0m\u001b[1;33m\u001b[0m\u001b[0m\n\u001b[0m",
      "\u001b[1;32m<ipython-input-45-90e10cc938c0>\u001b[0m in \u001b[0;36mGaussian_elm_mod2\u001b[1;34m(matA, matB)\u001b[0m\n\u001b[0;32m     11\u001b[0m             \u001b[0mzero_matrix\u001b[0m \u001b[1;33m=\u001b[0m \u001b[1;33m[\u001b[0m\u001b[1;36m0\u001b[0m \u001b[1;32mfor\u001b[0m \u001b[0mi\u001b[0m \u001b[1;32min\u001b[0m \u001b[0mrange\u001b[0m\u001b[1;33m(\u001b[0m\u001b[0mlen\u001b[0m\u001b[1;33m(\u001b[0m\u001b[0mmatA\u001b[0m\u001b[1;33m[\u001b[0m\u001b[1;36m0\u001b[0m\u001b[1;33m]\u001b[0m\u001b[1;33m)\u001b[0m\u001b[1;33m)\u001b[0m\u001b[1;33m]\u001b[0m\u001b[1;33m\u001b[0m\u001b[1;33m\u001b[0m\u001b[0m\n\u001b[0;32m     12\u001b[0m             \u001b[0mmatA\u001b[0m\u001b[1;33m.\u001b[0m\u001b[0mappend\u001b[0m\u001b[1;33m(\u001b[0m\u001b[0mzero_matrix\u001b[0m\u001b[1;33m)\u001b[0m\u001b[1;33m\u001b[0m\u001b[1;33m\u001b[0m\u001b[0m\n\u001b[1;32m---> 13\u001b[1;33m     \u001b[1;32mreturn\u001b[0m \u001b[0mnp\u001b[0m\u001b[1;33m.\u001b[0m\u001b[0mlinalg\u001b[0m\u001b[1;33m.\u001b[0m\u001b[0msolve\u001b[0m\u001b[1;33m(\u001b[0m\u001b[0mmatA\u001b[0m\u001b[1;33m,\u001b[0m \u001b[0mmatB\u001b[0m\u001b[1;33m)\u001b[0m\u001b[1;33m\u001b[0m\u001b[1;33m\u001b[0m\u001b[0m\n\u001b[0m",
      "\u001b[1;32m<__array_function__ internals>\u001b[0m in \u001b[0;36msolve\u001b[1;34m(*args, **kwargs)\u001b[0m\n",
      "\u001b[1;32m~\\anaconda3\\envs\\gurobi_py3.7.6\\lib\\site-packages\\numpy\\linalg\\linalg.py\u001b[0m in \u001b[0;36msolve\u001b[1;34m(a, b)\u001b[0m\n\u001b[0;32m    397\u001b[0m     \u001b[0msignature\u001b[0m \u001b[1;33m=\u001b[0m \u001b[1;34m'DD->D'\u001b[0m \u001b[1;32mif\u001b[0m \u001b[0misComplexType\u001b[0m\u001b[1;33m(\u001b[0m\u001b[0mt\u001b[0m\u001b[1;33m)\u001b[0m \u001b[1;32melse\u001b[0m \u001b[1;34m'dd->d'\u001b[0m\u001b[1;33m\u001b[0m\u001b[1;33m\u001b[0m\u001b[0m\n\u001b[0;32m    398\u001b[0m     \u001b[0mextobj\u001b[0m \u001b[1;33m=\u001b[0m \u001b[0mget_linalg_error_extobj\u001b[0m\u001b[1;33m(\u001b[0m\u001b[0m_raise_linalgerror_singular\u001b[0m\u001b[1;33m)\u001b[0m\u001b[1;33m\u001b[0m\u001b[1;33m\u001b[0m\u001b[0m\n\u001b[1;32m--> 399\u001b[1;33m     \u001b[0mr\u001b[0m \u001b[1;33m=\u001b[0m \u001b[0mgufunc\u001b[0m\u001b[1;33m(\u001b[0m\u001b[0ma\u001b[0m\u001b[1;33m,\u001b[0m \u001b[0mb\u001b[0m\u001b[1;33m,\u001b[0m \u001b[0msignature\u001b[0m\u001b[1;33m=\u001b[0m\u001b[0msignature\u001b[0m\u001b[1;33m,\u001b[0m \u001b[0mextobj\u001b[0m\u001b[1;33m=\u001b[0m\u001b[0mextobj\u001b[0m\u001b[1;33m)\u001b[0m\u001b[1;33m\u001b[0m\u001b[1;33m\u001b[0m\u001b[0m\n\u001b[0m\u001b[0;32m    400\u001b[0m \u001b[1;33m\u001b[0m\u001b[0m\n\u001b[0;32m    401\u001b[0m     \u001b[1;32mreturn\u001b[0m \u001b[0mwrap\u001b[0m\u001b[1;33m(\u001b[0m\u001b[0mr\u001b[0m\u001b[1;33m.\u001b[0m\u001b[0mastype\u001b[0m\u001b[1;33m(\u001b[0m\u001b[0mresult_t\u001b[0m\u001b[1;33m,\u001b[0m \u001b[0mcopy\u001b[0m\u001b[1;33m=\u001b[0m\u001b[1;32mFalse\u001b[0m\u001b[1;33m)\u001b[0m\u001b[1;33m)\u001b[0m\u001b[1;33m\u001b[0m\u001b[1;33m\u001b[0m\u001b[0m\n",
      "\u001b[1;32m~\\anaconda3\\envs\\gurobi_py3.7.6\\lib\\site-packages\\numpy\\linalg\\linalg.py\u001b[0m in \u001b[0;36m_raise_linalgerror_singular\u001b[1;34m(err, flag)\u001b[0m\n\u001b[0;32m     95\u001b[0m \u001b[1;33m\u001b[0m\u001b[0m\n\u001b[0;32m     96\u001b[0m \u001b[1;32mdef\u001b[0m \u001b[0m_raise_linalgerror_singular\u001b[0m\u001b[1;33m(\u001b[0m\u001b[0merr\u001b[0m\u001b[1;33m,\u001b[0m \u001b[0mflag\u001b[0m\u001b[1;33m)\u001b[0m\u001b[1;33m:\u001b[0m\u001b[1;33m\u001b[0m\u001b[1;33m\u001b[0m\u001b[0m\n\u001b[1;32m---> 97\u001b[1;33m     \u001b[1;32mraise\u001b[0m \u001b[0mLinAlgError\u001b[0m\u001b[1;33m(\u001b[0m\u001b[1;34m\"Singular matrix\"\u001b[0m\u001b[1;33m)\u001b[0m\u001b[1;33m\u001b[0m\u001b[1;33m\u001b[0m\u001b[0m\n\u001b[0m\u001b[0;32m     98\u001b[0m \u001b[1;33m\u001b[0m\u001b[0m\n\u001b[0;32m     99\u001b[0m \u001b[1;32mdef\u001b[0m \u001b[0m_raise_linalgerror_nonposdef\u001b[0m\u001b[1;33m(\u001b[0m\u001b[0merr\u001b[0m\u001b[1;33m,\u001b[0m \u001b[0mflag\u001b[0m\u001b[1;33m)\u001b[0m\u001b[1;33m:\u001b[0m\u001b[1;33m\u001b[0m\u001b[1;33m\u001b[0m\u001b[0m\n",
      "\u001b[1;31mLinAlgError\u001b[0m: Singular matrix"
     ]
    }
   ],
   "source": [
    "matA = matrix\n",
    "matB = [0, 0, 0, 0, 0, 0, 0, 0]\n",
    "    if (len(matA)<len(matA[0])):   # pad with zeroes\n",
    "        diff = len(matA[0])-len(matA)\n",
    "        for i in range(diff):\n",
    "            zero_matrix = [0 for i in range(len(matA[0]))]\n",
    "            matA.append(zero_matrix)\n",
    "\n",
    "print(Gaussian_elm_mod2(matA, matB))"
   ]
  },
  {
   "cell_type": "code",
   "execution_count": null,
   "metadata": {},
   "outputs": [],
   "source": []
  }
 ],
 "metadata": {
  "kernelspec": {
   "display_name": "Python 3",
   "language": "python",
   "name": "python3"
  },
  "language_info": {
   "codemirror_mode": {
    "name": "ipython",
    "version": 3
   },
   "file_extension": ".py",
   "mimetype": "text/x-python",
   "name": "python",
   "nbconvert_exporter": "python",
   "pygments_lexer": "ipython3",
   "version": "3.7.6"
  }
 },
 "nbformat": 4,
 "nbformat_minor": 4
}
