{
 "cells": [
  {
   "cell_type": "code",
   "execution_count": 1,
   "metadata": {},
   "outputs": [],
   "source": [
    "def choose_B():\n",
    "    return 20"
   ]
  },
  {
   "cell_type": "code",
   "execution_count": 2,
   "metadata": {},
   "outputs": [],
   "source": [
    "def get_primes_less_thanB(bound):                      # eratosthenes way\n",
    "    start = 2\n",
    "    unmarked = set([x for x in range(bound)])\n",
    "    unmarked.remove(0)\n",
    "    unmarked.remove(1)\n",
    "    \n",
    "    repeat_list = []\n",
    "    q = 2\n",
    "    for u in unmarked:           # this is still heavily inefficient, since unmarked has all numbers up to bound, so it--\n",
    "                                # --checks numbers that are non-prime, as well!\n",
    "        if u> int(bound**0.5):      # only check numbers up to sqrt(bound)\n",
    "            break\n",
    "        while u*q<= bound:\n",
    "            repeat_list.append(u*q)\n",
    "            unmarked = unmarked - set(repeat_list)\n",
    "            q+=1\n",
    "        q = 2\n",
    "    return (list(unmarked))"
   ]
  },
  {
   "cell_type": "code",
   "execution_count": null,
   "metadata": {},
   "outputs": [],
   "source": []
  },
  {
   "cell_type": "code",
   "execution_count": 3,
   "metadata": {},
   "outputs": [],
   "source": [
    "def check_Bsmooth(num, bound):\n",
    "    primes_less_thanB = get_primes_less_thanB(bound)\n",
    "    powers_of_primes= []\n",
    "    num_remaining= num                          # keep dividing by primes in B smooth primes, until == 1\n",
    "    for prime in primes_less_thanB:\n",
    "        i = 0                                   # i = power of prime\n",
    "        if (num_remaining%prime == 0):\n",
    "            # print(prime)\n",
    "            while (num_remaining%prime ==0):   #keep dividing for each power of the prime\n",
    "                quotient = num_remaining/prime\n",
    "                num_remaining = quotient\n",
    "                i +=1\n",
    "        # print(i)\n",
    "        powers_of_primes.append(i)\n",
    "    if num_remaining == 1:\n",
    "        print(\"Number is B smooth, using primes:\", primes_less_thanB, \"with corresponding powers:\", powers_of_primes)\n",
    "        return powers_of_primes\n",
    "    print(\"Number is not B smooth\")\n",
    "    return []"
   ]
  },
  {
   "cell_type": "code",
   "execution_count": 4,
   "metadata": {},
   "outputs": [
    {
     "name": "stdout",
     "output_type": "stream",
     "text": [
      "Number is B smooth, using primes: [2, 3, 5, 7, 11, 13, 17, 19] with corresponding powers: [4, 0, 1, 0, 0, 0, 1, 0]\n",
      "Number is B smooth, using primes: [2, 3, 5, 7, 11, 13, 17, 19] with corresponding powers: [0, 1, 2, 1, 1, 0, 0, 0]\n",
      "Number is B smooth, using primes: [2, 3, 5, 7, 11, 13, 17, 19] with corresponding powers: [3, 0, 0, 2, 0, 0, 1, 0]\n",
      "Number is B smooth, using primes: [2, 3, 5, 7, 11, 13, 17, 19] with corresponding powers: [8, 1, 0, 0, 1, 0, 0, 0]\n",
      "Number is B smooth, using primes: [2, 3, 5, 7, 11, 13, 17, 19] with corresponding powers: [11, 0, 1, 0, 0, 0, 0, 0]\n"
     ]
    }
   ],
   "source": [
    "bound = choose_B()\n",
    "n = 63787\n",
    "num1 =  (439**2)%n\n",
    "num2 = (444**2)%n\n",
    "num3 = (445**2)%n\n",
    "num4 = (447**2)%n\n",
    "num5 = (449**2)%n\n",
    "\n",
    "result1 = check_Bsmooth(num1, bound)\n",
    "result2 = check_Bsmooth(num2, bound)\n",
    "result3 = check_Bsmooth(num3, bound)\n",
    "result4 = check_Bsmooth(num4, bound)\n",
    "result5 = check_Bsmooth(num5, bound)\n",
    "\n",
    "results = [result1, result2, result3, result4, result5]\n"
   ]
  },
  {
   "cell_type": "code",
   "execution_count": 15,
   "metadata": {},
   "outputs": [],
   "source": [
    "with open (\"./Data/example1.txt\", \"w\") as filehandle:\n",
    "    for row in results:\n",
    "        for col in row:\n",
    "            filehandle.write(str(col))\n",
    "        filehandle.write(\"\\n\")"
   ]
  },
  {
   "cell_type": "code",
   "execution_count": 6,
   "metadata": {},
   "outputs": [
    {
     "name": "stdout",
     "output_type": "stream",
     "text": [
      "[[ 4  0  1  0  0  0  1  0]\n",
      " [ 0  1  2  1  1  0  0  0]\n",
      " [ 3  0  0  2  0  0  1  0]\n",
      " [ 8  1  0  0  1  0  0  0]\n",
      " [11  0  1  0  0  0  0  0]]\n"
     ]
    }
   ],
   "source": [
    "import numpy as np\n",
    "import numpy.linalg\n",
    "\n",
    "matrix = []\n",
    "for result in results:\n",
    "    if result != \"[]\":\n",
    "        matrix.append(result)\n",
    "np_array = np.array(matrix)\n",
    "print(np_array)\n"
   ]
  },
  {
   "cell_type": "code",
   "execution_count": 8,
   "metadata": {},
   "outputs": [],
   "source": [
    "np_array_mod2 = (np_array%2)"
   ]
  },
  {
   "cell_type": "code",
   "execution_count": 9,
   "metadata": {},
   "outputs": [
    {
     "name": "stdout",
     "output_type": "stream",
     "text": [
      "[[0 0 1 0 0 0 1 0]\n",
      " [0 1 0 1 1 0 0 0]\n",
      " [1 0 0 0 0 0 1 0]\n",
      " [0 1 0 0 1 0 0 0]\n",
      " [1 0 1 0 0 0 0 0]]\n"
     ]
    }
   ],
   "source": [
    "print(np_array_mod2)"
   ]
  },
  {
   "cell_type": "code",
   "execution_count": 16,
   "metadata": {},
   "outputs": [],
   "source": [
    "matA = np_array_mod2\n",
    "zeros = np.array([[0 for i in range(len(matA))]]) # all zeroes is what we want\n",
    "# np.linalg.lstsq(matA, matB)"
   ]
  },
  {
   "cell_type": "code",
   "execution_count": 34,
   "metadata": {},
   "outputs": [],
   "source": [
    "# import geopandas as gdp\n",
    "\n",
    "# matA.to_file(\"example\")"
   ]
  },
  {
   "cell_type": "code",
   "execution_count": 60,
   "metadata": {},
   "outputs": [],
   "source": [
    "def upp_triangular(num_rows, num_cols, aug_matA):\n",
    "    A = aug_matA\n",
    "    n = num_rows\n",
    "    m = num_cols\n",
    "    for i in range(m): # for each column\n",
    "        if i>=n:       # for non-augmented matrix\n",
    "            break\n",
    "        print(\"row num: \", i)\n",
    "        print(\"current matrix \", A)\n",
    "        A = A%2\n",
    "        # print(\"A mod 2: \", A)\n",
    "        maxi = i\n",
    "        for k in range(i, n): # find the row at i or below where entry is 1\n",
    "            if A[k][i] ==1:\n",
    "                maxi = k\n",
    "                break\n",
    "        print(\"finished looping through rows\")\n",
    "        if A[maxi][i] != 1:  # whole loop was executed without finding a '1'- entry in any row\n",
    "            print(\"No column entry has a 1\")\n",
    "            continue\n",
    "    #         print(\"Getting rid of the entire column i of zeros\", str(i), \"...\")\n",
    "    #         for j in range(n):\n",
    "    #             A[j].pop(i)\n",
    "        else:                  # some row = maxi row has a 1 entry\n",
    "            print(\"found a row with a 1 entry = \", maxi)\n",
    "            if maxi != i:    # need to swap rows\n",
    "                print (\"Swapping rows for row = \", i, \"and maxi = \", maxi)\n",
    "#                 print(\"A[i] before swap: \", A[i])\n",
    "#                 print(\"A[maxi] before swap: \", A[maxi])\n",
    "                currenti = A[i].copy()\n",
    "                # currentmaxi = A[maxi]\n",
    "                A[i] = A[maxi]\n",
    "                A[maxi] = currenti\n",
    "#                 print(\"A[i] after swap: \", A[i])\n",
    "#                 print(\"A[maxi] after swap: \", A[maxi])\n",
    "                print(\"matrix overall after swap: \", A)\n",
    "            for j in range(i+1, n):    # check every entry directly below A[i][i] \n",
    "                belowi = A[j][i]\n",
    "                print(\"belowi: \", belowi)\n",
    "                if belowi !=0: # if entry is 1 for any row, nullify it\n",
    "                    A[j]+= -A[i]\n",
    "                    print(\"belowi non zero: \", belowi, \"for j = \", j)\n",
    "                    print(\"A[j] after adding row -A[i] to it\", A[j])\n",
    "\n",
    "    # should have upper triangular matrix at the end of this \n",
    "    return A\n"
   ]
  },
  {
   "cell_type": "code",
   "execution_count": 31,
   "metadata": {},
   "outputs": [],
   "source": [
    "def upp_triangular(num_rows, num_cols, aug_matA):\n",
    "    A = aug_matA\n",
    "    n = num_rows\n",
    "    m = num_cols\n",
    "    all_actions = []\n",
    "    row_adds = []\n",
    "    swaps = []\n",
    "    for i in range(m):            # for each column\n",
    "        if i>=n:    \n",
    "            break\n",
    "        print(\"row num: \", i)\n",
    "        A = A%2\n",
    "        print(\"current matrix \", A)\n",
    "        maxi = i\n",
    "        for k in range(i, n):        # find the row at i or below where entry is 1\n",
    "            if A[k][i] ==1:\n",
    "                maxi = k\n",
    "                break\n",
    "        print(\"finished looping through rows\")\n",
    "        if A[maxi][i] != 1:                    # no '1'- entry in any row for this column\n",
    "            print(\"No row entry has a 1\")\n",
    "            continue\n",
    "        else:                       # some row = maxi row has a 1 entry\n",
    "            print(\"found a row with a 1 entry, which is: row \", maxi)\n",
    "            if maxi != i:            # need to swap rows\n",
    "                print (\"Swapping rows for row = \", i, \"and maxi = \", maxi)\n",
    "                currenti = A[i].copy()\n",
    "                A[i] = A[maxi]\n",
    "                A[maxi] = currenti\n",
    "                print(\"matrix overall after swap: \", A)\n",
    "                action = \"swapped row \" + str(i) + \" with row \" + str(maxi)\n",
    "                swaps.append((i,maxi))\n",
    "                all_actions.append(action)\n",
    "            for j in range(i+1, n):    # check every entry directly below A[i][i] \n",
    "                belowi = A[j][i]\n",
    "                print(\"belowi: \", belowi)\n",
    "                if belowi !=0:          # if entry is 1 for any row, nullify it\n",
    "                    A[j]+= A[i]\n",
    "                    row_adds.append((i,j))\n",
    "                    print(\"belowi non zero: \", belowi, \"for row = \", j)\n",
    "                    print(\"A[j] after adding row A[i] to it\", A[j])\n",
    "                    action = \"added row \" + str(i) + \" to row \" + str(j)\n",
    "                    all_actions.append(action)\n",
    "    # should have upper triangular matrix at the end of this \n",
    "        if zero_row(A):\n",
    "            return (swaps, row_adds)\n",
    "    for action in all_actions:\n",
    "        print(action)\n",
    "    for tup in whichRow_addedto_which:\n",
    "        print(tup)\n",
    "    return []\n",
    "    \n"
   ]
  },
  {
   "cell_type": "code",
   "execution_count": 28,
   "metadata": {},
   "outputs": [],
   "source": [
    "def zero_row(A):\n",
    "    bool_rows = ~A.any(axis=1)\n",
    "    return bool_rows.any(axis=0)"
   ]
  },
  {
   "cell_type": "code",
   "execution_count": 26,
   "metadata": {},
   "outputs": [
    {
     "name": "stdout",
     "output_type": "stream",
     "text": [
      "[False False  True False  True]\n",
      "True\n"
     ]
    }
   ],
   "source": [
    "a = [[0, 1, 0],\n",
    "       [1, 0, 1],\n",
    "       [0, 0, 0],\n",
    "       [1, 1, 0],\n",
    "       [0, 0, 0]]\n",
    "A = np.array(a)\n",
    "b = ~A.any(axis=1)\n",
    "print(b)\n",
    "print(b.any(axis=0))"
   ]
  },
  {
   "cell_type": "code",
   "execution_count": 29,
   "metadata": {},
   "outputs": [
    {
     "name": "stdout",
     "output_type": "stream",
     "text": [
      "[[0 0 1 0 0 0 1 0 0]\n",
      " [0 1 0 1 1 0 0 0 0]\n",
      " [1 0 0 0 0 0 1 0 0]\n",
      " [0 1 0 0 1 0 0 0 0]\n",
      " [1 0 1 0 0 0 0 0 0]]\n"
     ]
    }
   ],
   "source": [
    "a = matA\n",
    "b = zeros\n",
    "n = len(matA)     # row number + number of unknowns\n",
    "m = len(matA[0])        # column number + number of unknowns\n",
    "a = np.concatenate((a, b.T), axis=1)\n",
    "print(a)"
   ]
  },
  {
   "cell_type": "code",
   "execution_count": 32,
   "metadata": {},
   "outputs": [
    {
     "name": "stdout",
     "output_type": "stream",
     "text": [
      "row num:  0\n",
      "current matrix  [[0 0 1 0 0 0 1 0 0]\n",
      " [0 1 0 1 1 0 0 0 0]\n",
      " [1 0 0 0 0 0 1 0 0]\n",
      " [0 1 0 0 1 0 0 0 0]\n",
      " [1 0 1 0 0 0 0 0 0]]\n",
      "finished looping through rows\n",
      "found a row with a 1 entry, which is: row  2\n",
      "Swapping rows for row =  0 and maxi =  2\n",
      "matrix overall after swap:  [[1 0 0 0 0 0 1 0 0]\n",
      " [0 1 0 1 1 0 0 0 0]\n",
      " [0 0 1 0 0 0 1 0 0]\n",
      " [0 1 0 0 1 0 0 0 0]\n",
      " [1 0 1 0 0 0 0 0 0]]\n",
      "belowi:  0\n",
      "belowi:  0\n",
      "belowi:  0\n",
      "belowi:  1\n",
      "belowi non zero:  1 for row =  4\n",
      "A[j] after adding row A[i] to it [2 0 1 0 0 0 1 0 0]\n",
      "row num:  1\n",
      "current matrix  [[1 0 0 0 0 0 1 0 0]\n",
      " [0 1 0 1 1 0 0 0 0]\n",
      " [0 0 1 0 0 0 1 0 0]\n",
      " [0 1 0 0 1 0 0 0 0]\n",
      " [0 0 1 0 0 0 1 0 0]]\n",
      "finished looping through rows\n",
      "found a row with a 1 entry, which is: row  1\n",
      "belowi:  0\n",
      "belowi:  1\n",
      "belowi non zero:  1 for row =  3\n",
      "A[j] after adding row A[i] to it [0 2 0 1 2 0 0 0 0]\n",
      "belowi:  0\n",
      "row num:  2\n",
      "current matrix  [[1 0 0 0 0 0 1 0 0]\n",
      " [0 1 0 1 1 0 0 0 0]\n",
      " [0 0 1 0 0 0 1 0 0]\n",
      " [0 0 0 1 0 0 0 0 0]\n",
      " [0 0 1 0 0 0 1 0 0]]\n",
      "finished looping through rows\n",
      "found a row with a 1 entry, which is: row  2\n",
      "belowi:  0\n",
      "belowi:  1\n",
      "belowi non zero:  1 for row =  4\n",
      "A[j] after adding row A[i] to it [0 0 2 0 0 0 2 0 0]\n",
      "row num:  3\n",
      "current matrix  [[1 0 0 0 0 0 1 0 0]\n",
      " [0 1 0 1 1 0 0 0 0]\n",
      " [0 0 1 0 0 0 1 0 0]\n",
      " [0 0 0 1 0 0 0 0 0]\n",
      " [0 0 0 0 0 0 0 0 0]]\n",
      "finished looping through rows\n",
      "found a row with a 1 entry, which is: row  3\n",
      "belowi:  0\n"
     ]
    },
    {
     "data": {
      "text/plain": [
       "([(0, 2)], [(0, 4), (1, 3), (2, 4)])"
      ]
     },
     "execution_count": 32,
     "metadata": {},
     "output_type": "execute_result"
    }
   ],
   "source": [
    "aug_matrix = a\n",
    "row_num = len(a)\n",
    "col_num = len(a[0])\n",
    "\n",
    "upp_triangular(row_num, col_num,  aug_matrix)"
   ]
  },
  {
   "cell_type": "code",
   "execution_count": null,
   "metadata": {},
   "outputs": [],
   "source": [
    "def make_squares(Gaussian_matrix, primes):\n",
    "    n = len(Gaussian_matrix)\n",
    "    for i in range(-1, -n):\n",
    "        \n",
    "        "
   ]
  },
  {
   "cell_type": "code",
   "execution_count": 62,
   "metadata": {},
   "outputs": [
    {
     "name": "stdout",
     "output_type": "stream",
     "text": [
      "row num:  0\n",
      "current matrix  [[0 0 1 0 0 0 1 0 0]\n",
      " [0 1 0 1 1 0 0 0 0]\n",
      " [1 0 0 0 0 0 1 0 0]\n",
      " [0 1 0 0 1 0 0 0 0]\n",
      " [1 0 1 0 0 0 0 0 0]]\n",
      "A mod 2:  [[0 0 1 0 0 0 1 0 0]\n",
      " [0 1 0 1 1 0 0 0 0]\n",
      " [1 0 0 0 0 0 1 0 0]\n",
      " [0 1 0 0 1 0 0 0 0]\n",
      " [1 0 1 0 0 0 0 0 0]]\n",
      "finished looping through rows\n",
      "found a row with a 1 entry =  2\n",
      "Swapping rows for row =  0 and maxi =  2\n",
      "A[i] before swap:  [0 0 1 0 0 0 1 0 0]\n",
      "A[maxi] before swap:  [1 0 0 0 0 0 1 0 0]\n",
      "A[i] after swap:  [1 0 0 0 0 0 1 0 0]\n",
      "A[maxi] after swap:  [0 0 1 0 0 0 1 0 0]\n",
      "matrix overall after swap:  [[1 0 0 0 0 0 1 0 0]\n",
      " [0 1 0 1 1 0 0 0 0]\n",
      " [0 0 1 0 0 0 1 0 0]\n",
      " [0 1 0 0 1 0 0 0 0]\n",
      " [1 0 1 0 0 0 0 0 0]]\n",
      "belowi:  0\n",
      "belowi:  0\n",
      "belowi:  0\n",
      "belowi:  1\n",
      "belowi non zero:  1 for j =  4\n",
      "A[j] after adding row -A[i] to it [ 0  0  1  0  0  0 -1  0  0]\n",
      "row num:  1\n",
      "current matrix  [[ 1  0  0  0  0  0  1  0  0]\n",
      " [ 0  1  0  1  1  0  0  0  0]\n",
      " [ 0  0  1  0  0  0  1  0  0]\n",
      " [ 0  1  0  0  1  0  0  0  0]\n",
      " [ 0  0  1  0  0  0 -1  0  0]]\n",
      "A mod 2:  [[1 0 0 0 0 0 1 0 0]\n",
      " [0 1 0 1 1 0 0 0 0]\n",
      " [0 0 1 0 0 0 1 0 0]\n",
      " [0 1 0 0 1 0 0 0 0]\n",
      " [0 0 1 0 0 0 1 0 0]]\n",
      "finished looping through rows\n",
      "found a row with a 1 entry =  1\n",
      "belowi:  0\n",
      "belowi:  1\n",
      "belowi non zero:  1 for j =  3\n",
      "A[j] after adding row -A[i] to it [ 0  0  0 -1  0  0  0  0  0]\n",
      "belowi:  0\n",
      "row num:  2\n",
      "current matrix  [[ 1  0  0  0  0  0  1  0  0]\n",
      " [ 0  1  0  1  1  0  0  0  0]\n",
      " [ 0  0  1  0  0  0  1  0  0]\n",
      " [ 0  0  0 -1  0  0  0  0  0]\n",
      " [ 0  0  1  0  0  0  1  0  0]]\n",
      "A mod 2:  [[1 0 0 0 0 0 1 0 0]\n",
      " [0 1 0 1 1 0 0 0 0]\n",
      " [0 0 1 0 0 0 1 0 0]\n",
      " [0 0 0 1 0 0 0 0 0]\n",
      " [0 0 1 0 0 0 1 0 0]]\n",
      "finished looping through rows\n",
      "found a row with a 1 entry =  2\n",
      "belowi:  0\n",
      "belowi:  1\n",
      "belowi non zero:  1 for j =  4\n",
      "A[j] after adding row -A[i] to it [0 0 0 0 0 0 0 0 0]\n",
      "row num:  3\n",
      "current matrix  [[1 0 0 0 0 0 1 0 0]\n",
      " [0 1 0 1 1 0 0 0 0]\n",
      " [0 0 1 0 0 0 1 0 0]\n",
      " [0 0 0 1 0 0 0 0 0]\n",
      " [0 0 0 0 0 0 0 0 0]]\n",
      "A mod 2:  [[1 0 0 0 0 0 1 0 0]\n",
      " [0 1 0 1 1 0 0 0 0]\n",
      " [0 0 1 0 0 0 1 0 0]\n",
      " [0 0 0 1 0 0 0 0 0]\n",
      " [0 0 0 0 0 0 0 0 0]]\n",
      "finished looping through rows\n",
      "found a row with a 1 entry =  3\n",
      "belowi:  0\n",
      "row num:  4\n",
      "current matrix  [[1 0 0 0 0 0 1 0 0]\n",
      " [0 1 0 1 1 0 0 0 0]\n",
      " [0 0 1 0 0 0 1 0 0]\n",
      " [0 0 0 1 0 0 0 0 0]\n",
      " [0 0 0 0 0 0 0 0 0]]\n",
      "A mod 2:  [[1 0 0 0 0 0 1 0 0]\n",
      " [0 1 0 1 1 0 0 0 0]\n",
      " [0 0 1 0 0 0 1 0 0]\n",
      " [0 0 0 1 0 0 0 0 0]\n",
      " [0 0 0 0 0 0 0 0 0]]\n",
      "finished looping through rows\n",
      "No column entry has a 1\n"
     ]
    },
    {
     "data": {
      "text/plain": [
       "array([[1, 0, 0, 0, 0, 0, 1, 0, 0],\n",
       "       [0, 1, 0, 1, 1, 0, 0, 0, 0],\n",
       "       [0, 0, 1, 0, 0, 0, 1, 0, 0],\n",
       "       [0, 0, 0, 1, 0, 0, 0, 0, 0],\n",
       "       [0, 0, 0, 0, 0, 0, 0, 0, 0]], dtype=int32)"
      ]
     },
     "execution_count": 62,
     "metadata": {},
     "output_type": "execute_result"
    }
   ],
   "source": [
    "aug_matrix = a\n",
    "row_num = len(a)\n",
    "col_num = len(a[0])\n",
    "\n",
    "upp_triangular(row_num, col_num,  aug_matrix)"
   ]
  },
  {
   "cell_type": "code",
   "execution_count": null,
   "metadata": {},
   "outputs": [],
   "source": [
    "def make_squares(combinations, primes):\n",
    "    swaps = combinations[0]\n",
    "    row_adds = combinations[1]\n",
    "    for (i, j) in swaps:\n",
    "        newj = row_adds.index(i)\n",
    "        newi = "
   ]
  },
  {
   "cell_type": "code",
   "execution_count": 14,
   "metadata": {},
   "outputs": [],
   "source": [
    "# Some optimizations would be to get rid of rows such as the 8th and the 6th row which are all zeros\n",
    "# Equivalent to getting rid of primes under B which don't appear in the factorization for any of the f(x)\n",
    "# np.linalg.solve(matA, matB)"
   ]
  },
  {
   "cell_type": "code",
   "execution_count": 28,
   "metadata": {},
   "outputs": [
    {
     "name": "stdout",
     "output_type": "stream",
     "text": [
      "[[0 0 1 0 0 0 1 0 0]\n",
      " [0 1 0 1 1 0 0 0 0]\n",
      " [1 0 0 0 0 0 1 0 0]\n",
      " [0 1 0 0 1 0 0 0 0]\n",
      " [1 0 1 0 0 0 0 0 0]]\n",
      "Divide by zero detected!\n",
      "0.0\n",
      "1.0\n",
      "0.0\n",
      "Divide by zero detected!\n",
      "-0.0\n",
      "Divide by zero detected!\n",
      "[[ 0  0  1  0  0  0  1  0  0]\n",
      " [ 0  1  0  1  1  0  0  0  0]\n",
      " [ 1  0  0  0  0  0  1  0  0]\n",
      " [ 0  0  0 -1  0  0  0  0  0]\n",
      " [ 1  0  1  0  0  0  0  0  0]]\n"
     ]
    },
    {
     "ename": "IndexError",
     "evalue": "index 7 is out of bounds for axis 0 with size 5",
     "output_type": "error",
     "traceback": [
      "\u001b[1;31m---------------------------------------------------------------------------\u001b[0m",
      "\u001b[1;31mIndexError\u001b[0m                                Traceback (most recent call last)",
      "\u001b[1;32m<ipython-input-28-451500f72ad4>\u001b[0m in \u001b[0;36m<module>\u001b[1;34m\u001b[0m\n\u001b[0;32m     27\u001b[0m \u001b[1;33m\u001b[0m\u001b[0m\n\u001b[0;32m     28\u001b[0m \u001b[1;31m# Back Substitution\u001b[0m\u001b[1;33m\u001b[0m\u001b[1;33m\u001b[0m\u001b[1;33m\u001b[0m\u001b[0m\n\u001b[1;32m---> 29\u001b[1;33m \u001b[0mx\u001b[0m\u001b[1;33m[\u001b[0m\u001b[0mn\u001b[0m\u001b[1;33m-\u001b[0m\u001b[1;36m1\u001b[0m\u001b[1;33m]\u001b[0m \u001b[1;33m=\u001b[0m \u001b[0ma\u001b[0m\u001b[1;33m[\u001b[0m\u001b[0mn\u001b[0m\u001b[1;33m-\u001b[0m\u001b[1;36m1\u001b[0m\u001b[1;33m]\u001b[0m\u001b[1;33m[\u001b[0m\u001b[0mn\u001b[0m\u001b[1;33m]\u001b[0m\u001b[1;33m/\u001b[0m\u001b[0ma\u001b[0m\u001b[1;33m[\u001b[0m\u001b[0mn\u001b[0m\u001b[1;33m-\u001b[0m\u001b[1;36m1\u001b[0m\u001b[1;33m]\u001b[0m\u001b[1;33m[\u001b[0m\u001b[0mn\u001b[0m\u001b[1;33m-\u001b[0m\u001b[1;36m1\u001b[0m\u001b[1;33m]\u001b[0m\u001b[1;33m\u001b[0m\u001b[1;33m\u001b[0m\u001b[0m\n\u001b[0m\u001b[0;32m     30\u001b[0m \u001b[1;33m\u001b[0m\u001b[0m\n\u001b[0;32m     31\u001b[0m \u001b[1;32mfor\u001b[0m \u001b[0mi\u001b[0m \u001b[1;32min\u001b[0m \u001b[0mrange\u001b[0m\u001b[1;33m(\u001b[0m\u001b[0mn\u001b[0m\u001b[1;33m-\u001b[0m\u001b[1;36m2\u001b[0m\u001b[1;33m,\u001b[0m\u001b[1;33m-\u001b[0m\u001b[1;36m1\u001b[0m\u001b[1;33m,\u001b[0m\u001b[1;33m-\u001b[0m\u001b[1;36m1\u001b[0m\u001b[1;33m)\u001b[0m\u001b[1;33m:\u001b[0m\u001b[1;33m\u001b[0m\u001b[1;33m\u001b[0m\u001b[0m\n",
      "\u001b[1;31mIndexError\u001b[0m: index 7 is out of bounds for axis 0 with size 5"
     ]
    }
   ],
   "source": [
    "# Making numpy array of n x n+1 size and initializing \n",
    "# to zero for storing augmented matrix\n",
    "# a = np.zeros((n,n+1))\n",
    "a = matA\n",
    "b = zeros\n",
    "n = len(matA[0])     # number of unknowns\n",
    "m = len(matA)\n",
    "a = np.concatenate((a, b.T), axis=1)\n",
    "#print(a)\n",
    "# Making numpy array of n size and initializing \n",
    "# to zero for storing solution vector\n",
    "x = np.zeros(n)\n",
    "\n",
    "# Applying Gauss Elimination\n",
    "for i in range(m):   # m = #columns\n",
    "    if a[i][i] == 0:\n",
    "        #print('Divide by zero detected!')\n",
    "        continue\n",
    "        \n",
    "    for j in range(i+1, m):\n",
    "        ratio = a[j][i]/a[i][i]\n",
    "        print(ratio)\n",
    "        \n",
    "        for k in range(n+1):\n",
    "            a[j][k] = a[j][k] - ratio * a[i][k]\n",
    "print(a)\n",
    "\n",
    "# Back Substitution -->not yet working\n",
    "x[n-1] = a[n-1][n]/a[n-1][n-1]\n",
    "\n",
    "for i in range(n-2,-1,-1):\n",
    "    x[i] = a[i][n]\n",
    "    \n",
    "    for j in range(i+1,n):\n",
    "        x[i] = x[i] - a[i][j]*x[j]\n",
    "    \n",
    "    x[i] = x[i]/a[i][i]\n",
    "\n",
    "# Displaying solution\n",
    "print('\\nRequired solution is: ')\n",
    "for i in range(n):\n",
    "    print('X%d = %0.2f' %(i,x[i]), end = '\\t')"
   ]
  },
  {
   "cell_type": "code",
   "execution_count": 21,
   "metadata": {},
   "outputs": [
    {
     "ename": "SyntaxError",
     "evalue": "invalid syntax (<ipython-input-21-86b886617551>, line 10)",
     "output_type": "error",
     "traceback": [
      "\u001b[1;36m  File \u001b[1;32m\"<ipython-input-21-86b886617551>\"\u001b[1;36m, line \u001b[1;32m10\u001b[0m\n\u001b[1;33m    if matA[k][]\u001b[0m\n\u001b[1;37m               ^\u001b[0m\n\u001b[1;31mSyntaxError\u001b[0m\u001b[1;31m:\u001b[0m invalid syntax\n"
     ]
    }
   ],
   "source": [
    "# Noticing the failures with linalg.solve and linalg.lstsq, I proceed to implement Guassian myself!\n",
    "\n",
    "def Gauss_elm(matA): # only with row swaps and addition\n",
    "    matB = [0 for i in range(len(matA))]\n",
    "    for i in range(len(matA)):     # for each equation, check if some combination of adding other rows nullifies it\n",
    "        for col in range(i, len(matA[0])): # for columns of this row not yet nullified\n",
    "            if col[i] ==0:\n",
    "                continue\n",
    "            for k in range(len(matA)):\n",
    "                if matA[k][]\n",
    "            \n",
    "    "
   ]
  },
  {
   "cell_type": "code",
   "execution_count": null,
   "metadata": {},
   "outputs": [],
   "source": []
  }
 ],
 "metadata": {
  "kernelspec": {
   "display_name": "Python 3",
   "language": "python",
   "name": "python3"
  },
  "language_info": {
   "codemirror_mode": {
    "name": "ipython",
    "version": 3
   },
   "file_extension": ".py",
   "mimetype": "text/x-python",
   "name": "python",
   "nbconvert_exporter": "python",
   "pygments_lexer": "ipython3",
   "version": "3.7.6"
  }
 },
 "nbformat": 4,
 "nbformat_minor": 4
}
