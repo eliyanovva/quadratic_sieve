{
 "cells": [
  {
   "cell_type": "code",
   "execution_count": 3,
   "metadata": {},
   "outputs": [],
   "source": [
    "def choose_B():\n",
    "    return 20"
   ]
  },
  {
   "cell_type": "code",
   "execution_count": 4,
   "metadata": {},
   "outputs": [],
   "source": [
    "def get_primes_less_thanB(bound):                      # eratosthenes way\n",
    "    start = 2\n",
    "    unmarked = set([x for x in range(bound)])\n",
    "    unmarked.remove(0)\n",
    "    unmarked.remove(1)\n",
    "    \n",
    "    repeat_list = []\n",
    "    q = 2\n",
    "    for u in unmarked:           # this is still heavily inefficient, since unmarked has all numbers up to bound, so it--\n",
    "                                    # --checks numbers that are non-prime, as well!\n",
    "        if u> int(bound**0.5):      # only check numbers up to sqrt(bound)\n",
    "            break\n",
    "        while u*q<= bound:\n",
    "            repeat_list.append(u*q)\n",
    "            unmarked = unmarked - set(repeat_list)\n",
    "            q+=1\n",
    "        q = 2\n",
    "    return (list(unmarked))"
   ]
  },
  {
   "cell_type": "code",
   "execution_count": 5,
   "metadata": {},
   "outputs": [],
   "source": [
    "def check_Bsmooth(num, bound):\n",
    "    primes_less_thanB = get_primes_less_thanB(bound)\n",
    "    powers_of_primes= []\n",
    "    num_remaining= num                          # keep dividing by primes in B smooth primes, until == 1\n",
    "    for prime in primes_less_thanB:\n",
    "        i = 0                                   # i = power of prime\n",
    "        if (num_remaining%prime == 0):\n",
    "            # print(prime)\n",
    "            while (num_remaining%prime ==0):   #keep dividing for each power of the prime\n",
    "                quotient = num_remaining/prime\n",
    "                num_remaining = quotient\n",
    "                i +=1\n",
    "        # print(i)\n",
    "        powers_of_primes.append(i)\n",
    "    if num_remaining == 1:\n",
    "        print(\"Number is B smooth, using primes:\", primes_less_thanB, \"with corresponding powers:\", powers_of_primes)\n",
    "        return powers_of_primes\n",
    "    print(\"Number is not B smooth\")\n",
    "    return []"
   ]
  },
  {
   "cell_type": "code",
   "execution_count": 6,
   "metadata": {},
   "outputs": [
    {
     "name": "stdout",
     "output_type": "stream",
     "text": [
      "Number is B smooth, using primes: [2, 3, 5, 7, 11, 13, 17, 19] with corresponding powers: [4, 0, 1, 0, 0, 0, 1, 0]\n",
      "Number is B smooth, using primes: [2, 3, 5, 7, 11, 13, 17, 19] with corresponding powers: [0, 1, 2, 1, 1, 0, 0, 0]\n",
      "Number is B smooth, using primes: [2, 3, 5, 7, 11, 13, 17, 19] with corresponding powers: [3, 0, 0, 2, 0, 0, 1, 0]\n",
      "Number is B smooth, using primes: [2, 3, 5, 7, 11, 13, 17, 19] with corresponding powers: [8, 1, 0, 0, 1, 0, 0, 0]\n",
      "Number is B smooth, using primes: [2, 3, 5, 7, 11, 13, 17, 19] with corresponding powers: [11, 0, 1, 0, 0, 0, 0, 0]\n"
     ]
    }
   ],
   "source": [
    "bound = choose_B()\n",
    "n = 63787\n",
    "num1 =  (439**2)%n\n",
    "num2 = (444**2)%n\n",
    "num3 = (445**2)%n\n",
    "num4 = (447**2)%n\n",
    "num5 = (449**2)%n\n",
    "\n",
    "result1 = check_Bsmooth(num1, bound)\n",
    "result2 = check_Bsmooth(num2, bound)\n",
    "result3 = check_Bsmooth(num3, bound)\n",
    "result4 = check_Bsmooth(num4, bound)\n",
    "result5 = check_Bsmooth(num5, bound)\n",
    "\n",
    "results = [result1, result2, result3, result4, result5]"
   ]
  },
  {
   "cell_type": "code",
   "execution_count": 7,
   "metadata": {},
   "outputs": [
    {
     "name": "stdout",
     "output_type": "stream",
     "text": [
      "[[ 4  0  1  0  0  0  1  0]\n",
      " [ 0  1  2  1  1  0  0  0]\n",
      " [ 3  0  0  2  0  0  1  0]\n",
      " [ 8  1  0  0  1  0  0  0]\n",
      " [11  0  1  0  0  0  0  0]]\n"
     ]
    }
   ],
   "source": [
    "import numpy as np\n",
    "import numpy.linalg\n",
    "\n",
    "matrix = []\n",
    "for result in results:\n",
    "    if result != \"[]\":\n",
    "        matrix.append(result)\n",
    "np_array = np.array(matrix)\n",
    "print(np_array)"
   ]
  },
  {
   "cell_type": "code",
   "execution_count": 8,
   "metadata": {},
   "outputs": [],
   "source": [
    "np_array_mod2 = (np_array%2)"
   ]
  },
  {
   "cell_type": "code",
   "execution_count": 9,
   "metadata": {},
   "outputs": [
    {
     "name": "stdout",
     "output_type": "stream",
     "text": [
      "[[0 0 1 0 0 0 1 0]\n",
      " [0 1 0 1 1 0 0 0]\n",
      " [1 0 0 0 0 0 1 0]\n",
      " [0 1 0 0 1 0 0 0]\n",
      " [1 0 1 0 0 0 0 0]]\n"
     ]
    }
   ],
   "source": [
    "print(np_array_mod2)"
   ]
  },
  {
   "cell_type": "code",
   "execution_count": 13,
   "metadata": {},
   "outputs": [],
   "source": [
    "matA = np_array_mod2\n",
    "zeros = np.array([[0 for i in range(len(matA))]]) # all zeroes is what we want\n",
    "# np.linalg.lstsq(matA, matB)"
   ]
  },
  {
   "cell_type": "code",
   "execution_count": 14,
   "metadata": {},
   "outputs": [],
   "source": [
    "# Some optimizations would be to get rid of rows such as the 8th and the 6th row which are all zeros\n",
    "# Equivalent to getting rid of primes under B which don't appear in the factorization for any of the f(x)\n",
    "# np.linalg.solve(matA, matB)"
   ]
  },
  {
   "cell_type": "code",
   "execution_count": 28,
   "metadata": {},
   "outputs": [
    {
     "name": "stdout",
     "output_type": "stream",
     "text": [
      "[[0 0 1 0 0 0 1 0 0]\n",
      " [0 1 0 1 1 0 0 0 0]\n",
      " [1 0 0 0 0 0 1 0 0]\n",
      " [0 1 0 0 1 0 0 0 0]\n",
      " [1 0 1 0 0 0 0 0 0]]\n",
      "Divide by zero detected!\n",
      "0.0\n",
      "1.0\n",
      "0.0\n",
      "Divide by zero detected!\n",
      "-0.0\n",
      "Divide by zero detected!\n",
      "[[ 0  0  1  0  0  0  1  0  0]\n",
      " [ 0  1  0  1  1  0  0  0  0]\n",
      " [ 1  0  0  0  0  0  1  0  0]\n",
      " [ 0  0  0 -1  0  0  0  0  0]\n",
      " [ 1  0  1  0  0  0  0  0  0]]\n"
     ]
    },
    {
     "ename": "IndexError",
     "evalue": "index 7 is out of bounds for axis 0 with size 5",
     "output_type": "error",
     "traceback": [
      "\u001b[1;31m---------------------------------------------------------------------------\u001b[0m",
      "\u001b[1;31mIndexError\u001b[0m                                Traceback (most recent call last)",
      "\u001b[1;32m<ipython-input-28-451500f72ad4>\u001b[0m in \u001b[0;36m<module>\u001b[1;34m\u001b[0m\n\u001b[0;32m     27\u001b[0m \u001b[1;33m\u001b[0m\u001b[0m\n\u001b[0;32m     28\u001b[0m \u001b[1;31m# Back Substitution\u001b[0m\u001b[1;33m\u001b[0m\u001b[1;33m\u001b[0m\u001b[1;33m\u001b[0m\u001b[0m\n\u001b[1;32m---> 29\u001b[1;33m \u001b[0mx\u001b[0m\u001b[1;33m[\u001b[0m\u001b[0mn\u001b[0m\u001b[1;33m-\u001b[0m\u001b[1;36m1\u001b[0m\u001b[1;33m]\u001b[0m \u001b[1;33m=\u001b[0m \u001b[0ma\u001b[0m\u001b[1;33m[\u001b[0m\u001b[0mn\u001b[0m\u001b[1;33m-\u001b[0m\u001b[1;36m1\u001b[0m\u001b[1;33m]\u001b[0m\u001b[1;33m[\u001b[0m\u001b[0mn\u001b[0m\u001b[1;33m]\u001b[0m\u001b[1;33m/\u001b[0m\u001b[0ma\u001b[0m\u001b[1;33m[\u001b[0m\u001b[0mn\u001b[0m\u001b[1;33m-\u001b[0m\u001b[1;36m1\u001b[0m\u001b[1;33m]\u001b[0m\u001b[1;33m[\u001b[0m\u001b[0mn\u001b[0m\u001b[1;33m-\u001b[0m\u001b[1;36m1\u001b[0m\u001b[1;33m]\u001b[0m\u001b[1;33m\u001b[0m\u001b[1;33m\u001b[0m\u001b[0m\n\u001b[0m\u001b[0;32m     30\u001b[0m \u001b[1;33m\u001b[0m\u001b[0m\n\u001b[0;32m     31\u001b[0m \u001b[1;32mfor\u001b[0m \u001b[0mi\u001b[0m \u001b[1;32min\u001b[0m \u001b[0mrange\u001b[0m\u001b[1;33m(\u001b[0m\u001b[0mn\u001b[0m\u001b[1;33m-\u001b[0m\u001b[1;36m2\u001b[0m\u001b[1;33m,\u001b[0m\u001b[1;33m-\u001b[0m\u001b[1;36m1\u001b[0m\u001b[1;33m,\u001b[0m\u001b[1;33m-\u001b[0m\u001b[1;36m1\u001b[0m\u001b[1;33m)\u001b[0m\u001b[1;33m:\u001b[0m\u001b[1;33m\u001b[0m\u001b[1;33m\u001b[0m\u001b[0m\n",
      "\u001b[1;31mIndexError\u001b[0m: index 7 is out of bounds for axis 0 with size 5"
     ]
    }
   ],
   "source": [
    "# Making numpy array of n x n+1 size and initializing \n",
    "# to zero for storing augmented matrix\n",
    "# a = np.zeros((n,n+1))\n",
    "a = matA\n",
    "b = zeros\n",
    "n = len(matA[0])     # number of unknowns\n",
    "m = len(matA)\n",
    "a = np.concatenate((a, b.T), axis=1)\n",
    "#print(a)\n",
    "# Making numpy array of n size and initializing \n",
    "# to zero for storing solution vector\n",
    "x = np.zeros(n)\n",
    "\n",
    "# Applying Gauss Elimination\n",
    "for i in range(m):\n",
    "    if a[i][i] == 0.0:\n",
    "        #print('Divide by zero detected!')\n",
    "        continue\n",
    "        \n",
    "    for j in range(i+1, m):\n",
    "        ratio = a[j][i]/a[i][i]\n",
    "        print(ratio)\n",
    "        \n",
    "        for k in range(n+1):\n",
    "            a[j][k] = a[j][k] - ratio * a[i][k]\n",
    "print(a)\n",
    "\n",
    "# Back Substitution -->not yet working\n",
    "x[n-1] = a[n-1][n]/a[n-1][n-1]\n",
    "\n",
    "for i in range(n-2,-1,-1):\n",
    "    x[i] = a[i][n]\n",
    "    \n",
    "    for j in range(i+1,n):\n",
    "        x[i] = x[i] - a[i][j]*x[j]\n",
    "    \n",
    "    x[i] = x[i]/a[i][i]\n",
    "\n",
    "# Displaying solution\n",
    "print('\\nRequired solution is: ')\n",
    "for i in range(n):\n",
    "    print('X%d = %0.2f' %(i,x[i]), end = '\\t')"
   ]
  },
  {
   "cell_type": "code",
   "execution_count": 21,
   "metadata": {},
   "outputs": [
    {
     "ename": "SyntaxError",
     "evalue": "invalid syntax (<ipython-input-21-86b886617551>, line 10)",
     "output_type": "error",
     "traceback": [
      "\u001b[1;36m  File \u001b[1;32m\"<ipython-input-21-86b886617551>\"\u001b[1;36m, line \u001b[1;32m10\u001b[0m\n\u001b[1;33m    if matA[k][]\u001b[0m\n\u001b[1;37m               ^\u001b[0m\n\u001b[1;31mSyntaxError\u001b[0m\u001b[1;31m:\u001b[0m invalid syntax\n"
     ]
    }
   ],
   "source": [
    "# Noticing the failures with linalg.solve and linalg.lstsq, I proceed to implement Guassian myself!\n",
    "\n",
    "def Gauss_elm(matA): # only with row swaps and addition\n",
    "    matB = [0 for i in range(len(matA))]\n",
    "    for i in range(len(matA)):     # for each equation, check if some combination of adding other rows nullifies it\n",
    "        for col in range(i, len(matA[0])): # for columns of this row not yet nullified\n",
    "            if col[i] ==0:\n",
    "                continue\n",
    "            for k in range(len(matA)):\n",
    "                if matA[k][]\n",
    "            \n",
    "    "
   ]
  },
  {
   "cell_type": "code",
   "execution_count": null,
   "metadata": {},
   "outputs": [],
   "source": []
  }
 ],
 "metadata": {
  "kernelspec": {
   "display_name": "Python 3",
   "language": "python",
   "name": "python3"
  },
  "language_info": {
   "codemirror_mode": {
    "name": "ipython",
    "version": 3
   },
   "file_extension": ".py",
   "mimetype": "text/x-python",
   "name": "python",
   "nbconvert_exporter": "python",
   "pygments_lexer": "ipython3",
   "version": "3.7.6"
  }
 },
 "nbformat": 4,
 "nbformat_minor": 4
}
