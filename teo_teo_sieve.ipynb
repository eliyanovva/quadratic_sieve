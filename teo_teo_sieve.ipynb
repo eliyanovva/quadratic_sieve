{
 "cells": [
  {
   "cell_type": "markdown",
   "metadata": {},
   "source": [
    "### This can be the final functionized version, where running the tests is easy - just change 'n' and 'bound'\n",
    "### It is fast at sieving, but is not factoring properly - can you take a look at anything that looks off? \n",
    "#### Need to only check after B smooth numbers have already been generated"
   ]
  },
  {
   "cell_type": "code",
   "execution_count": 234,
   "metadata": {},
   "outputs": [],
   "source": [
    "import math\n",
    "import numpy as np\n",
    "import sympy\n",
    "import time "
   ]
  },
  {
   "cell_type": "code",
   "execution_count": 235,
   "metadata": {},
   "outputs": [],
   "source": [
    "def calc_time(start, end):\n",
    "    seconds = end - start\n",
    "    mins = seconds / 60\n",
    "    print('Time in seconds: ', str(seconds), ', Time in minutes: ', str(mins))\n",
    "    return seconds, mins"
   ]
  },
  {
   "cell_type": "code",
   "execution_count": 236,
   "metadata": {},
   "outputs": [],
   "source": [
    "# Final optimized version \n",
    "def get_primes_less_thanB(bound):                      # eratosthenes way\n",
    "    check_until = int(bound**0.5)\n",
    "    unmarked = np.array([x for x in range(2, bound)])\n",
    "    q = 2\n",
    "    i = 0\n",
    "    while True:\n",
    "        u = unmarked[i]\n",
    "        if u> check_until:               # only check numbers up to sqrt(bound)\n",
    "            break\n",
    "        u_idx = np.where(unmarked == u)[0][0]\n",
    "        max_idx = bound//u\n",
    "        listof_multiples = [u*i for i in range(q, max_idx+1)]\n",
    "        u_multiples = np.array(listof_multiples)\n",
    "        unmarked = np.setdiff1d(unmarked, u_multiples)   # numpy set diff without changing order of elements in list\n",
    "        q = u\n",
    "        i +=1\n",
    "    print(\"Number of elements less than bound = \", bound, \" is: \", len(unmarked))\n",
    "    return (unmarked)"
   ]
  },
  {
   "cell_type": "code",
   "execution_count": 237,
   "metadata": {},
   "outputs": [],
   "source": [
    "# Correct optimized version\n",
    "def check_Bsmooth(primes, num):\n",
    "    powers_of_primes= []\n",
    "    num_remaining= num                         \n",
    "    for prime in primes: \n",
    "        i = 0                                   # i = power of prime\n",
    "        if (num_remaining%prime == 0):\n",
    "            while (num_remaining%prime ==0):   #keep dividing for each power of the prime\n",
    "                quotient = num_remaining/prime\n",
    "                num_remaining = quotient\n",
    "                i +=1\n",
    "        powers_of_primes.append(i)\n",
    "        if num_remaining == 1:     \n",
    "            diff = len(primes)-len(powers_of_primes)\n",
    "            if diff>0:\n",
    "                zeros = [0 for k in range(diff)]\n",
    "                return powers_of_primes + zeros\n",
    "            return powers_of_primes\n",
    "    #print(\"Number is not B smooth\")\n",
    "    return []"
   ]
  },
  {
   "cell_type": "code",
   "execution_count": 238,
   "metadata": {},
   "outputs": [],
   "source": [
    "# Correct optimized version\n",
    "def check_Bsmooth(primes, num):\n",
    "    powers_of_primes= []\n",
    "    num_remaining= num                         \n",
    "    for prime in primes: \n",
    "        i = 0                                   # i = power of prime\n",
    "        if (num_remaining%prime == 0):\n",
    "            while (num_remaining%prime ==0):   #keep dividing for each power of the prime\n",
    "                quotient = num_remaining/prime\n",
    "                num_remaining = quotient\n",
    "                i +=1\n",
    "        powers_of_primes.append(i)\n",
    "        if num_remaining == 1:     \n",
    "            diff = len(primes)-len(powers_of_primes)\n",
    "            if diff>0:\n",
    "                zeros = [0 for k in range(diff)]\n",
    "                return powers_of_primes + zeros\n",
    "            return powers_of_primes\n",
    "    #print(\"Number is not B smooth\")\n",
    "    return []"
   ]
  },
  {
   "cell_type": "code",
   "execution_count": 239,
   "metadata": {},
   "outputs": [],
   "source": [
    "def a_congruent_b(a, b, n):\n",
    "    if a%n==(b%n):\n",
    "        return True\n",
    "    return False"
   ]
  },
  {
   "cell_type": "code",
   "execution_count": 240,
   "metadata": {},
   "outputs": [],
   "source": [
    "def generate_BSsquares(primes, n, multiple):\n",
    "    exponents_list = []             # Add other fancy ways of finding candidates for xsquare\n",
    "    xsquares = []           # the x\n",
    "    x_vals = []\n",
    "    residues = []           # the y\n",
    "    iters = 0\n",
    "    while(True):\n",
    "       # if iters>100000000:\n",
    "       #     break\n",
    "        x = int(math.sqrt(n*multiple)) +1\n",
    "        xsquare = x**2\n",
    "        residue = xsquare%n\n",
    "        exp_vec = check_Bsmooth(primes, residue)\n",
    "        if exp_vec != []:\n",
    "            residues.append(residue)   # x^2\n",
    "            xsquares.append(xsquare)\n",
    "            exponents_list.append(exp_vec)\n",
    "            x_vals.append(x)\n",
    "            print(\"Found B-smooth square! with exponents: \", exp_vec, \" and quadratic residue: \", residue)\n",
    "        if len(residues) > len(primes)+10 :\n",
    "            print(\"Breaking, len of residues: \", len(residues), \" len of primes: \", len(primes))\n",
    "            break\n",
    "        multiple += 1\n",
    "        iters += 1\n",
    "    return [exponents_list, residues, iters, xsquares, x_vals]"
   ]
  },
  {
   "cell_type": "code",
   "execution_count": 241,
   "metadata": {},
   "outputs": [],
   "source": [
    "def drop_zero_rows(A): \n",
    "    sums = np.sum(A, axis = 1)\n",
    "    evens = []\n",
    "    \n",
    "    for i in range(0, len(sums)):\n",
    "        if(sums[i]==0):\n",
    "            evens.append(i)\n",
    "    \n",
    "    \n",
    "    return [A[~np.all(A == 0, axis=1)], evens]"
   ]
  },
  {
   "cell_type": "code",
   "execution_count": 242,
   "metadata": {},
   "outputs": [],
   "source": [
    "def get_product(v, num_list):  # just multiply all RELEVANT (depends on v) numbers in a list together\n",
    "    product= 1       \n",
    "    for i in range(len(v)):\n",
    "        if v[i] ==0:\n",
    "            continue\n",
    "        product = product * num_list[i]\n",
    "#         product = product%n    # not reducing mod n yet\n",
    "    return product"
   ]
  },
  {
   "cell_type": "code",
   "execution_count": 243,
   "metadata": {},
   "outputs": [],
   "source": [
    "def get_root_modN(square, n): # xsq is the number left after multiplying all RELEVANT x squares found, check next func\n",
    "    result = int(math.sqrt(square))%n\n",
    "    return result"
   ]
  },
  {
   "cell_type": "code",
   "execution_count": 244,
   "metadata": {},
   "outputs": [],
   "source": [
    "# Choose a subset of columns (equations) to be 1 - those with 0 in pivot or 1 but the rowsum adds to 0mod2\n",
    "def getA_solution(L):\n",
    "    #L = reduced_matrix\n",
    "    col_num = len(L[0])\n",
    "    row_num = len(L)\n",
    "    v = np.ones(col_num, dtype = 'int')\n",
    "    for i in reversed(range(row_num)):\n",
    "        for j in range(col_num):\n",
    "            if L[i][j] ==1:\n",
    "                if (L[i].sum()%2) !=0:                     # the exponents for this prime doesn't add up to zero\n",
    "                    v[j] = 0                  # can't use this equation\n",
    "                    break     # no need to  check cells above, as reduced echelon form\n",
    "    return(v)\n"
   ]
  },
  {
   "cell_type": "code",
   "execution_count": 245,
   "metadata": {},
   "outputs": [],
   "source": [
    "#aug_matrix is the row reduced matrix mod 2. \n",
    "# It is not augmented, I just kept the name like that because I used some old code from a previous implementation\n",
    "# v_combs is set up to be [0...01], which means that the last free variable only will be set to 1\n",
    "# indicies_of_free_vars includes all indices of columns which don't have a pivot\n",
    "\n",
    "def set_v_comb_array(aug_matrix):\n",
    "   \n",
    "    # first set v to have all 0s for pivot nums, 1 for free nums\n",
    "    col_num = len(aug_matrix[0])\n",
    "    row_num = len(aug_matrix)\n",
    "    v = np.ones(col_num, dtype = 'int')\n",
    "    \n",
    "    for i in range(0, row_num):\n",
    "        check_main = 1\n",
    "        for j in range(i, col_num):\n",
    "            if(aug_matrix[i][j]==1 and check_main ==1):\n",
    "                v[j]=0\n",
    "                break\n",
    "    \n",
    "    # generate v_combs\n",
    "    count_free = np.sum(v); # gives us the count of the free variables.\n",
    "    v_combs = np.zeros(count_free, dtype = 'int')\n",
    "    v_combs[count_free-1] = 1;\n",
    "    indices_of_free_vars = np.zeros(count_free, dtype= 'int')\n",
    "    \n",
    "    # generate indices_of_free_vars\n",
    "    k=0;\n",
    "    for i in range(0, col_num):\n",
    "        if(v[i]==1):\n",
    "            indices_of_free_vars[k] = i;\n",
    "            k+=1;\n",
    "    \n",
    "    return [v_combs, indices_of_free_vars]"
   ]
  },
  {
   "cell_type": "code",
   "execution_count": 246,
   "metadata": {},
   "outputs": [],
   "source": [
    "#input - the row reduced matrix, the combination array, the indices array from the function above, rows and columns numbers\n",
    "#output - the vector used to calculate x, y. It has 0s for the variables that are not used, 1s for the variables that are used.\n",
    "\n",
    "def calc_v(L, v_combs, v_indices, rows, cols):\n",
    "    # create r, such that the only 1s are the free variables specified by v_combs\n",
    "    # the rest of the free variables are 2s, and the non-free ones are 0s\n",
    "    \n",
    "    r = np.zeros(cols, dtype ='int')\n",
    "    for i in range(0, len(v_combs)):\n",
    "        if(v_combs[i]==1):\n",
    "            r[v_indices[i]] = 1;\n",
    "        else:\n",
    "            r[v_indices[i]] =2;  \n",
    "    \n",
    "    # I am using the code from a previous implementation to calculate the rest of the values in r. \n",
    "    \n",
    "    for i in reversed(range(0, rows)):\n",
    "    #for j in range(0, col_num):\n",
    "        sum =0\n",
    "        for j in range(0, cols):\n",
    "            sum = sum + r[j]*L[i][j];\n",
    "        zer =(np.argwhere(r == 0).flatten())\n",
    "        sum = sum%2;\n",
    "        if(len(zer)!=0):\n",
    "            index = zer[len(zer)-1]\n",
    "    \n",
    "            if(sum==0):\n",
    "                r[index] = 2\n",
    "            else:\n",
    "                r[index] = 1\n",
    "\n",
    "    print(\"final r vector is \", r%2)\n",
    "    return r%2"
   ]
  },
  {
   "cell_type": "code",
   "execution_count": 265,
   "metadata": {},
   "outputs": [],
   "source": [
    "# I use this function to do the combinations of free variables.\n",
    "# It works on the following principle:\n",
    "# Each index of the array from which we want to generate combinations is either represented or not in the combination\n",
    "# Hence, the indices of the array can be represented in an array of 0s and 1s\n",
    "# Example:\n",
    "# Array: [2, 3, 4, 5, 6]\n",
    "# comb_arr: [0, 0, 1, 0, 0]\n",
    "# combination: [4]\n",
    "\n",
    "# comb_arr: [0, 0, 1, 1, 0]\n",
    "# combination: [4, 5]\n",
    "\n",
    "# comb_arr: [1, 0, 1, 1, 0]\n",
    "# combination: [2, 4, 5]\n",
    "\n",
    "# Hence, by starting from comb_arr = [0,0,0,...,0, 1] and incrementing the array similarly to a binary number, we get \n",
    "# an exhaustive list of all possible combinations of k elements.\n",
    "\n",
    "def binary_add_arr(comb_arr):\n",
    "    #for i in reverse(range(0, len(comb_arr))):\n",
    "    i = len(comb_arr) -1\n",
    "    while(comb_arr[i]==1):\n",
    "        comb_arr[i] = 0;\n",
    "        i-=1;\n",
    "    if(i>=0):\n",
    "        comb_arr[i] = 1;\n",
    "    else:\n",
    "        return -1\n",
    "    return comb_arr        "
   ]
  },
  {
   "cell_type": "code",
   "execution_count": 248,
   "metadata": {},
   "outputs": [
    {
     "name": "stdout",
     "output_type": "stream",
     "text": [
      "final_pows:  [2. 2. 2. 2.]\n",
      "44100.0\n"
     ]
    }
   ],
   "source": [
    "# This function overflows for very large nums, and I am still trying to understand why.\n",
    "# Instead of squaring the y, I add all of the powers of its primes, and then divide the sums by 2\n",
    "# and multiply the prime**power_of_the_prime, like what we did before.\n",
    "# Since this method uses only addition, multiplication, and division, I though it would work better than squaring,\n",
    "# but it still gives wrong answers. I think it might be because the np library uses a 32-bit int instead of a big int?\n",
    "# Or we have a float creeping in in some of the operations which ruins everything?\n",
    "\n",
    "def generate_y(pows, r, primes_arr):\n",
    "    primes = len(pows[0])\n",
    "    final_pows = np.zeros(primes)\n",
    "    \n",
    "    for i in range(0, len(r)):\n",
    "        container = 0\n",
    "        for j in range(0, primes):\n",
    "            final_pows[j]+=r[i]*pows[i][j]\n",
    "    final_pows//=2;\n",
    "    final_num = 1;\n",
    "    #final_pows = int(final_pows)\n",
    "    \n",
    "    print(\"final_pows: \",final_pows)\n",
    "    \n",
    "    for i in range(0, len(final_pows)):\n",
    "        if(primes_arr[i]!=0 and final_pows[i]!=0):\n",
    "            final_num*=primes_arr[i]**(final_pows[i]);\n",
    "    return final_num\n",
    "\n",
    "k = generate_y([[1, 1, 1, 1], [2, 2, 2, 2], [3, 3, 3, 3]], [1, 0, 1], [2, 3, 5, 7])\n",
    "print(k)"
   ]
  },
  {
   "cell_type": "code",
   "execution_count": 249,
   "metadata": {},
   "outputs": [
    {
     "name": "stdout",
     "output_type": "stream",
     "text": [
      "2657534116917949869600\n"
     ]
    }
   ],
   "source": [
    "# That's a function I found here https://riptutorial.com/python/example/8751/computing-large-integer-roots\n",
    "# It calculates accuretely roots of large nums, but I have not invested time to understand how and why it works\n",
    "# so we can do our own implementation.\n",
    "\n",
    "def nth_root(x, n):\n",
    "    # Start with some reasonable bounds around the nth root.\n",
    "    upper_bound = 1\n",
    "    while upper_bound ** n <= x:\n",
    "        upper_bound *= 2\n",
    "    lower_bound = upper_bound // 2\n",
    "    # Keep searching for a better result as long as the bounds make sense.\n",
    "    while lower_bound < upper_bound:\n",
    "        mid = (lower_bound + upper_bound) // 2\n",
    "        mid_nth = mid ** n\n",
    "        if lower_bound < mid and mid_nth < x:\n",
    "            lower_bound = mid\n",
    "        elif upper_bound > mid and mid_nth > x:\n",
    "            upper_bound = mid\n",
    "        else:\n",
    "            # Found perfect nth root.\n",
    "            return mid\n",
    "    return mid + 1\n",
    "\n",
    "print(nth_root(7062487582582867647322134510298657004160000, 2))"
   ]
  },
  {
   "cell_type": "markdown",
   "metadata": {},
   "source": [
    "#### Choose the bound value and a N of your liking (8-15 digits)"
   ]
  },
  {
   "cell_type": "code",
   "execution_count": 266,
   "metadata": {},
   "outputs": [
    {
     "name": "stdout",
     "output_type": "stream",
     "text": [
      "Number of elements less than bound =  57  is:  16\n"
     ]
    }
   ],
   "source": [
    "#n = 95775679 - works\n",
    "n = 6817540046645387\n",
    "#n = 6817540046645387\n",
    "k = math.log(n)\n",
    "k = k*math.log(k)\n",
    "k = math.exp(math.sqrt(k))\n",
    "k = math.pow(k, math.sqrt(2)/4)\n",
    "bound = int(k)\n",
    "\n",
    "primes = np.array(get_primes_less_thanB(bound))"
   ]
  },
  {
   "cell_type": "code",
   "execution_count": 252,
   "metadata": {},
   "outputs": [
    {
     "name": "stdout",
     "output_type": "stream",
     "text": [
      "Found B-smooth square! with exponents:  [1, 10, 2, 0, 0, 0, 0, 0, 0, 0, 0, 0, 1, 0, 1, 0]  and quadratic residue:  5689371150\n",
      "Found B-smooth square! with exponents:  [0, 0, 1, 0, 0, 2, 1, 2, 0, 1, 0, 0, 0, 0, 0, 1]  and quadratic residue:  7970520805\n",
      "Found B-smooth square! with exponents:  [5, 0, 0, 1, 0, 1, 0, 0, 1, 3, 0, 0, 0, 0, 0, 0]  and quadratic residue:  1633477664\n",
      "Found B-smooth square! with exponents:  [0, 5, 0, 3, 1, 0, 1, 0, 0, 0, 0, 2, 0, 0, 0, 0]  and quadratic residue:  21337594047\n",
      "Found B-smooth square! with exponents:  [1, 0, 0, 0, 1, 0, 0, 1, 0, 0, 0, 0, 0, 0, 1, 1]  and quadratic residue:  1041238\n",
      "Found B-smooth square! with exponents:  [0, 6, 0, 0, 0, 0, 1, 0, 0, 0, 2, 0, 0, 0, 1, 0]  and quadratic residue:  559754631\n",
      "Found B-smooth square! with exponents:  [0, 0, 2, 2, 1, 4, 1, 0, 0, 0, 0, 0, 0, 0, 0, 0]  and quadratic residue:  6542611075\n",
      "Found B-smooth square! with exponents:  [4, 0, 0, 1, 1, 1, 0, 1, 0, 1, 0, 0, 1, 1, 0, 0]  and quadratic residue:  15558150608\n",
      "Found B-smooth square! with exponents:  [7, 9, 1, 0, 1, 0, 0, 0, 0, 0, 1, 0, 0, 0, 0, 0]  and quadratic residue:  4295617920\n",
      "Found B-smooth square! with exponents:  [2, 0, 2, 0, 0, 0, 1, 1, 0, 1, 1, 1, 0, 1, 0, 0]  and quadratic residue:  46198980700\n",
      "Found B-smooth square! with exponents:  [3, 5, 3, 1, 1, 0, 1, 0, 0, 0, 0, 0, 1, 0, 0, 0]  and quadratic residue:  13041567000\n",
      "Found B-smooth square! with exponents:  [2, 0, 1, 0, 0, 2, 1, 2, 0, 1, 0, 0, 0, 0, 0, 1]  and quadratic residue:  31882083220\n",
      "Found B-smooth square! with exponents:  [0, 0, 5, 0, 0, 0, 0, 0, 0, 0, 1, 2, 1, 0, 0, 0]  and quadratic residue:  5437496875\n",
      "Found B-smooth square! with exponents:  [1, 1, 0, 1, 0, 0, 5, 2, 0, 0, 0, 0, 0, 0, 0, 0]  and quadratic residue:  21527871834\n",
      "Found B-smooth square! with exponents:  [7, 0, 0, 1, 0, 1, 0, 0, 1, 3, 0, 0, 0, 0, 0, 0]  and quadratic residue:  6533910656\n",
      "Found B-smooth square! with exponents:  [3, 0, 0, 0, 1, 0, 0, 1, 0, 0, 0, 0, 0, 0, 1, 1]  and quadratic residue:  4164952\n",
      "Found B-smooth square! with exponents:  [2, 6, 0, 0, 0, 0, 1, 0, 0, 0, 2, 0, 0, 0, 1, 0]  and quadratic residue:  2239018524\n",
      "Found B-smooth square! with exponents:  [1, 0, 2, 1, 2, 0, 0, 1, 1, 0, 0, 0, 0, 0, 2, 0]  and quadratic residue:  40881852550\n",
      "Found B-smooth square! with exponents:  [2, 0, 2, 2, 1, 4, 1, 0, 0, 0, 0, 0, 0, 0, 0, 0]  and quadratic residue:  26170444300\n",
      "Found B-smooth square! with exponents:  [0, 4, 0, 2, 0, 0, 0, 0, 0, 1, 1, 0, 0, 1, 0, 1]  and quadratic residue:  8131770549\n",
      "Found B-smooth square! with exponents:  [1, 0, 0, 1, 3, 0, 1, 0, 0, 0, 0, 0, 0, 1, 0, 2]  and quadratic residue:  38262664286\n",
      "Found B-smooth square! with exponents:  [1, 0, 2, 2, 0, 2, 0, 0, 2, 0, 0, 0, 0, 1, 0, 0]  and quadratic residue:  9418395350\n",
      "Found B-smooth square! with exponents:  [0, 2, 1, 0, 0, 2, 1, 2, 0, 1, 0, 0, 0, 0, 0, 1]  and quadratic residue:  71734687245\n",
      "Found B-smooth square! with exponents:  [15, 0, 1, 1, 0, 0, 1, 0, 0, 0, 0, 0, 0, 1, 0, 0]  and quadratic residue:  838369280\n",
      "Found B-smooth square! with exponents:  [5, 2, 0, 1, 0, 1, 0, 0, 1, 3, 0, 0, 0, 0, 0, 0]  and quadratic residue:  14701298976\n",
      "Found B-smooth square! with exponents:  [5, 0, 0, 2, 0, 0, 3, 0, 0, 0, 1, 0, 0, 0, 1, 0]  and quadratic residue:  11224121888\n",
      "Found B-smooth square! with exponents:  [6, 0, 0, 1, 1, 1, 0, 1, 0, 1, 0, 0, 1, 1, 0, 0]  and quadratic residue:  62232602432\n",
      "Breaking, len of residues:  27  len of primes:  16\n",
      "Time in seconds:  9.853996276855469 , Time in minutes:  0.1642332712809245\n",
      "iterations,  376395\n",
      "B smooth numbers found:  [5422550159, 14892555617, 16348333935, 16764028031, 17525907944, 17796123323, 20279241867, 25328318161, 26719903561, 26878137327, 27190338271, 29785111234, 29811879437, 31276533554, 32696667870, 35051815888, 35592246646, 36560368388, 40558483734, 41683630766, 42157615146, 43740447139, 44677666851, 48500973911, 49045001805, 50417522985, 50656636322] \n",
      "total:  27\n"
     ]
    }
   ],
   "source": [
    "# A test on a small prime!\n",
    "# n = 10710336959293\n",
    "    \n",
    "# n = 1147\n",
    "#n = 1147\n",
    "multiple = 1\n",
    "start = time.time()\n",
    "\n",
    "results = generate_BSsquares(primes, n, multiple)\n",
    "\n",
    "end = time.time()\n",
    "calc_time(start, end)\n",
    "print(\"iterations, \", results[2])\n",
    "print(\"B smooth numbers found: \", results[4], \"\\ntotal: \", len(results[1]))"
   ]
  },
  {
   "cell_type": "markdown",
   "metadata": {},
   "source": [
    "### The following uses (results, n) produced from last run cell "
   ]
  },
  {
   "cell_type": "code",
   "execution_count": 253,
   "metadata": {},
   "outputs": [
    {
     "name": "stdout",
     "output_type": "stream",
     "text": [
      "[[1 0 1 0 1 0 0 0 1 0 1 0 0 1 1 1 0 1 0 0 1 1 0 1 1 1 0]\n",
      " [0 0 0 1 0 0 0 0 1 0 1 0 0 1 0 0 0 0 0 0 0 0 0 0 0 0 0]\n",
      " [0 1 0 0 0 0 0 0 1 0 1 1 1 0 0 0 0 0 0 0 0 0 1 1 0 0 0]\n",
      " [0 0 1 1 0 0 0 1 0 0 1 0 0 1 1 0 0 1 0 0 1 0 0 1 1 0 1]\n",
      " [0 0 0 1 1 0 1 1 1 0 1 0 0 0 0 1 0 0 1 0 1 0 0 0 0 0 1]\n",
      " [0 0 1 0 0 0 0 1 0 0 0 0 0 0 1 0 0 0 0 0 0 0 0 0 1 0 1]\n",
      " [0 1 0 1 0 1 1 0 0 1 1 1 0 1 0 0 1 0 1 0 1 0 1 1 0 1 0]\n",
      " [0 0 0 0 1 0 0 1 0 1 0 0 0 0 0 1 0 1 0 0 0 0 0 0 0 0 1]\n",
      " [0 0 1 0 0 0 0 0 0 0 0 0 0 0 1 0 0 1 0 0 0 0 0 0 1 0 0]\n",
      " [0 1 1 0 0 0 0 1 0 1 0 1 0 0 1 0 0 0 0 1 0 0 1 0 1 0 1]\n",
      " [0 0 0 0 0 0 0 0 1 1 0 0 1 0 0 0 0 0 0 1 0 0 0 0 0 1 0]\n",
      " [0 0 0 0 0 0 0 0 0 1 0 0 0 0 0 0 0 0 0 0 0 0 0 0 0 0 0]\n",
      " [1 0 0 0 0 0 0 1 0 0 1 0 1 0 0 0 0 0 0 0 0 0 0 0 0 0 1]\n",
      " [0 0 0 0 0 0 0 1 0 1 0 0 0 0 0 0 0 0 0 1 1 1 0 1 0 0 1]\n",
      " [1 0 0 0 1 1 0 0 0 0 0 0 0 0 0 1 1 0 0 0 0 0 0 0 0 1 0]\n",
      " [0 1 0 0 1 0 0 0 0 0 0 1 0 0 0 1 0 0 0 1 0 0 1 0 0 0 0]]\n"
     ]
    }
   ],
   "source": [
    "from sympy import *          # Start using np arrays\n",
    "\n",
    "A = np.array(results[0])      # results = [exponents_list, residues, iters, xsquares]\n",
    "store_pows = A.copy()\n",
    "A = (np.transpose(A))%2\n",
    "print(A)"
   ]
  },
  {
   "cell_type": "code",
   "execution_count": 254,
   "metadata": {},
   "outputs": [
    {
     "name": "stdout",
     "output_type": "stream",
     "text": [
      "Old num rows and num columns:  16 27\n",
      "[[1 0 0 0 0 0 0 0 0 0 0 0 0 0 0 0 0 0 0 0 0 1 0 1 0 1 0]\n",
      " [0 1 0 0 0 0 0 0 0 0 0 1 0 0 0 0 0 0 0 0 0 1 1 0 0 1/2 0]\n",
      " [0 0 1 0 0 0 0 0 0 0 0 0 0 0 1 0 0 0 0 0 0 0 0 0 1 0 0]\n",
      " [0 0 0 1 0 0 0 0 0 0 0 0 0 0 0 0 0 0 0 0 0 0 0 1 0 1/2 0]\n",
      " [0 0 0 0 1 0 0 0 0 0 0 0 0 0 0 1 0 0 0 0 0 0 0 0 0 0 0]\n",
      " [0 0 0 0 0 1 0 0 0 0 0 0 0 0 0 0 1 0 0 0 0 1 0 1 0 0 0]\n",
      " [0 0 0 0 0 0 1 0 0 0 0 0 0 0 0 0 0 0 1 0 0 0 0 1 0 1/2 0]\n",
      " [0 0 0 0 0 0 0 1 0 0 0 0 0 0 0 0 0 0 0 0 0 0 0 0 0 0 1]\n",
      " [0 0 0 0 0 0 0 0 1 0 0 0 0 0 0 0 0 0 0 0 0 0 0 0 0 1/2 0]\n",
      " [0 0 0 0 0 0 0 0 0 1 0 0 0 0 0 0 0 0 0 0 0 0 0 0 0 0 0]\n",
      " [0 0 0 0 0 0 0 0 0 0 1 0 0 0 0 0 0 0 0 0 0 0 0 1 0 0 0]\n",
      " [0 0 0 0 0 0 0 0 0 0 0 0 1 0 0 0 0 0 0 0 0 1 0 0 0 1 0]\n",
      " [0 0 0 0 0 0 0 0 0 0 0 0 0 1 0 0 0 0 0 0 0 0 0 0 0 1 0]\n",
      " [0 0 0 0 0 0 0 0 0 0 0 0 0 0 0 0 0 1 0 0 0 0 0 0 0 0 0]\n",
      " [0 0 0 0 0 0 0 0 0 0 0 0 0 0 0 0 0 0 0 1 0 1 0 0 0 3/2 0]\n",
      " [0 0 0 0 0 0 0 0 0 0 0 0 0 0 0 0 0 0 0 0 1 0 0 1 0 1/2 0]]\n"
     ]
    }
   ],
   "source": [
    "col_num = len(A[0])\n",
    "row_num = len(A)\n",
    "print(\"Old num rows and num columns: \", row_num, col_num)\n",
    "L = Matrix(A)\n",
    "\n",
    "L = np.array(L.rref()[0])%2\n",
    "print(L)# reduced row echelon form\n",
    "L2  = drop_zero_rows(L)[0]        # get rid of primes we don't have to worry about in general\n",
    "L2 = L2 %2\n",
    "    "
   ]
  },
  {
   "cell_type": "code",
   "execution_count": 255,
   "metadata": {},
   "outputs": [
    {
     "name": "stdout",
     "output_type": "stream",
     "text": [
      "[]\n"
     ]
    }
   ],
   "source": [
    "# This cell is still a stub, I haven't worked on it a lot, but the idea is that 0-rows actually mean\n",
    "# that we have a b-smooth number which is already a square. Hence, we can combine those numbers\n",
    "# and look for a solution among them too. \n",
    "\n",
    "# This will help us when working with no so large numbers, since they tend to have smaller matrices \n",
    "# and more zero rows.\n",
    "\n",
    "\n",
    "# check for a case where many of the rows have disappeared because they are already even\n",
    "even_arr = drop_zero_rows(L)[1]\n",
    "print(even_arr)"
   ]
  },
  {
   "cell_type": "code",
   "execution_count": 267,
   "metadata": {},
   "outputs": [
    {
     "name": "stdout",
     "output_type": "stream",
     "text": [
      "Reduced row echelon form AND mod 2 is: \n",
      "[[1 0 0 0 0 0 0 0 0 0 0 0 0 0 0 0 0 0 0 0 0 1 0 1 0 1 0]\n",
      " [0 1 0 0 0 0 0 0 0 0 0 1 0 0 0 0 0 0 0 0 0 1 1 0 0 1/2 0]\n",
      " [0 0 1 0 0 0 0 0 0 0 0 0 0 0 1 0 0 0 0 0 0 0 0 0 1 0 0]\n",
      " [0 0 0 1 0 0 0 0 0 0 0 0 0 0 0 0 0 0 0 0 0 0 0 1 0 1/2 0]\n",
      " [0 0 0 0 1 0 0 0 0 0 0 0 0 0 0 1 0 0 0 0 0 0 0 0 0 0 0]\n",
      " [0 0 0 0 0 1 0 0 0 0 0 0 0 0 0 0 1 0 0 0 0 1 0 1 0 0 0]\n",
      " [0 0 0 0 0 0 1 0 0 0 0 0 0 0 0 0 0 0 1 0 0 0 0 1 0 1/2 0]\n",
      " [0 0 0 0 0 0 0 1 0 0 0 0 0 0 0 0 0 0 0 0 0 0 0 0 0 0 1]\n",
      " [0 0 0 0 0 0 0 0 1 0 0 0 0 0 0 0 0 0 0 0 0 0 0 0 0 1/2 0]\n",
      " [0 0 0 0 0 0 0 0 0 1 0 0 0 0 0 0 0 0 0 0 0 0 0 0 0 0 0]\n",
      " [0 0 0 0 0 0 0 0 0 0 1 0 0 0 0 0 0 0 0 0 0 0 0 1 0 0 0]\n",
      " [0 0 0 0 0 0 0 0 0 0 0 0 1 0 0 0 0 0 0 0 0 1 0 0 0 1 0]\n",
      " [0 0 0 0 0 0 0 0 0 0 0 0 0 1 0 0 0 0 0 0 0 0 0 0 0 1 0]\n",
      " [0 0 0 0 0 0 0 0 0 0 0 0 0 0 0 0 0 1 0 0 0 0 0 0 0 0 0]\n",
      " [0 0 0 0 0 0 0 0 0 0 0 0 0 0 0 0 0 0 0 1 0 1 0 0 0 3/2 0]\n",
      " [0 0 0 0 0 0 0 0 0 0 0 0 0 0 0 0 0 0 0 0 1 0 0 1 0 1/2 0]]\n",
      "New num rows, num columns:  16 27\n"
     ]
    }
   ],
   "source": [
    "print(\"Reduced row echelon form AND mod 2 is: \")\n",
    "print(L2)\n",
    "print(\"New num rows, num columns: \", len(L2), len(L2[0]))"
   ]
  },
  {
   "cell_type": "code",
   "execution_count": 257,
   "metadata": {},
   "outputs": [
    {
     "name": "stdout",
     "output_type": "stream",
     "text": [
      "final r vector is  [0 1 0 1 0 0 1 1 1 0 0 0 0 0 0 0 0 0 0 1 1 0 0 0 0 0 1]\n"
     ]
    }
   ],
   "source": [
    "col_num = len(L2[0])\n",
    "row_num = len(L2)\n",
    "\n",
    "# initialize the combination array, and the corresponding free variables indices array\n",
    "\n",
    "v_combs, v_indices = set_v_comb_array(L2)\n",
    "\n",
    "#calculate the inital v vector\n",
    "v = calc_v(L2, v_combs, v_indices, row_num, col_num)     # tells you which equations we can choose\n"
   ]
  },
  {
   "cell_type": "code",
   "execution_count": 264,
   "metadata": {},
   "outputs": [
    {
     "name": "stdout",
     "output_type": "stream",
     "text": [
      "[5689371150, 7970520805, 1633477664, 21337594047, 1041238, 559754631, 6542611075, 15558150608, 4295617920, 46198980700, 13041567000, 31882083220, 5437496875, 21527871834, 6533910656, 4164952, 2239018524, 40881852550, 26170444300, 8131770549, 38262664286, 9418395350, 71734687245, 838369280, 14701298976, 11224121888, 62232602432]\n",
      "final x squared mod n:  3310072439289510  final y squared mod n:  3310072439289510\n",
      "11116958414832437956949500413229220511894268565568949474866694297138932449931545160258849600000000000\n"
     ]
    }
   ],
   "source": [
    "# results is of form: [exponents_list, residues, iters, xsquares, x_vals (x before squaring)]\n",
    "residues = results[1]    # x%n, RHS\n",
    "xsquares = results[3]\n",
    "\n",
    "#print(residues)\n",
    "#print(xsquares)\n",
    "ysq = get_product(v, residues) \n",
    "xsq = get_product(v, xsquares)\n",
    "\n",
    "print(\"final x squared mod n: \", xsq%n, \" final y squared mod n: \", ysq%n) # just a check - they have to be equal\n",
    "print(ysq)"
   ]
  },
  {
   "cell_type": "code",
   "execution_count": 259,
   "metadata": {},
   "outputs": [
    {
     "name": "stdout",
     "output_type": "stream",
     "text": [
      "[5422550159, 14892555617, 16348333935, 16764028031, 17525907944, 17796123323, 20279241867, 25328318161, 26719903561, 26878137327, 27190338271, 29785111234, 29811879437, 31276533554, 32696667870, 35051815888, 35592246646, 36560368388, 40558483734, 41683630766, 42157615146, 43740447139, 44677666851, 48500973911, 49045001805, 50417522985, 50656636322] [ 2  3  5  7 11 13 17 19 23 29 31 37 41 43 47 53]\n",
      "y is  37946574498079355288904032530380365606400\n",
      "final r vector is  [1 1 0 1 0 0 1 0 1 0 0 0 1 1 0 0 0 0 0 1 1 0 0 0 0 1 0]\n",
      "\n",
      "\n",
      "Found x not congruent y mod n! A Factor!!\n",
      "60599471676432879734326550311821361450101657591890632775761692862764647163909659840473167974103305930280 105436987887706835595207564356767653609127576201429\n",
      "current combs are:  [0 0 0 0 0 0 0 0 0 1 0]\n"
     ]
    }
   ],
   "source": [
    "x_vals = results[4]\n",
    "#print(x_vals, primes)\n",
    "x = get_product(v, x_vals)\n",
    "y = nth_root(ysq, 2)\n",
    "print('y is ', y)\n",
    "\n",
    "\n",
    "# here we check if the x and y are good, and until they become good we change the combination of free variables\n",
    "while ((x-y)%n==0 or (x+y)%n==0 or(y-x)%n==0):\n",
    "    v_combs = binary_add_arr(v_combs)\n",
    "    v = calc_v(L2, v_combs, v_indices, row_num, col_num)\n",
    "    x = get_product(v, x_vals)\n",
    "    ysq = get_product(v, residues) \n",
    "    y = nth_root(ysq, 2)\n",
    "    \n",
    "print(\"\\n\")\n",
    "print(\"Found x not congruent y mod n! A Factor!!\")  # THIS ISN'T TRUE! GCD(x-y)doesn't return the right value :\"(\n",
    "print(x, y)\n",
    "print('current combs are: ',v_combs)"
   ]
  },
  {
   "cell_type": "code",
   "execution_count": 260,
   "metadata": {},
   "outputs": [
    {
     "name": "stdout",
     "output_type": "stream",
     "text": [
      "x-y is:  60599471676432879734326550311821361450101657591890632670324704975057811568702095483705514364975729728851\n",
      "GCD found is:  1\n",
      "other factor of n is:  6817540046645387\n"
     ]
    }
   ],
   "source": [
    "diff = abs(x-y)\n",
    "\n",
    "print(\"x-y is: \", x-y)\n",
    "gcd = math.gcd(diff, n)\n",
    "print(\"GCD found is: \", gcd)\n",
    "print(\"other factor of n is: \", int(n/gcd))\n"
   ]
  },
  {
   "cell_type": "markdown",
   "metadata": {},
   "source": [
    "### THE END"
   ]
  }
 ],
 "metadata": {
  "kernelspec": {
   "display_name": "Python 3",
   "language": "python",
   "name": "python3"
  },
  "language_info": {
   "codemirror_mode": {
    "name": "ipython",
    "version": 3
   },
   "file_extension": ".py",
   "mimetype": "text/x-python",
   "name": "python",
   "nbconvert_exporter": "python",
   "pygments_lexer": "ipython3",
   "version": "3.7.4"
  }
 },
 "nbformat": 4,
 "nbformat_minor": 4
}
