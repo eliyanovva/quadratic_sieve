{
 "cells": [
  {
   "cell_type": "markdown",
   "metadata": {},
   "source": [
    "### This can be the final functionized version, where running the tests is easy - just change 'n' and 'bound'\n",
    "### It is fast at sieving, but is not factoring properly - can you take a look at anything that looks off? \n",
    "#### Need to only check after B smooth numbers have already been generated"
   ]
  },
  {
   "cell_type": "code",
   "execution_count": 324,
   "metadata": {},
   "outputs": [],
   "source": [
    "import math\n",
    "import numpy as np\n",
    "import sympy\n",
    "import time "
   ]
  },
  {
   "cell_type": "code",
   "execution_count": 325,
   "metadata": {},
   "outputs": [],
   "source": [
    "def calc_time(start, end):\n",
    "    seconds = end - start\n",
    "    mins = seconds / 60\n",
    "    print('Time in seconds: ', str(seconds), ', Time in minutes: ', str(mins))\n",
    "    return seconds, mins"
   ]
  },
  {
   "cell_type": "code",
   "execution_count": 326,
   "metadata": {},
   "outputs": [],
   "source": [
    "# Final optimized version \n",
    "def get_primes_less_thanB(bound):                      # eratosthenes way\n",
    "    check_until = int(bound**0.5)\n",
    "    unmarked = np.array([x for x in range(2, bound)])\n",
    "    q = 2\n",
    "    i = 0\n",
    "    while True:\n",
    "        u = unmarked[i]\n",
    "        if u> check_until:               # only check numbers up to sqrt(bound)\n",
    "            break\n",
    "        u_idx = np.where(unmarked == u)[0][0]\n",
    "        max_idx = bound//u\n",
    "        listof_multiples = [u*i for i in range(q, max_idx+1)]\n",
    "        u_multiples = np.array(listof_multiples)\n",
    "        unmarked = np.setdiff1d(unmarked, u_multiples)   # numpy set diff without changing order of elements in list\n",
    "        q = u\n",
    "        i +=1\n",
    "    print(\"Number of elements less than bound = \", bound, \" is: \", len(unmarked))\n",
    "    return (unmarked)"
   ]
  },
  {
   "cell_type": "code",
   "execution_count": 327,
   "metadata": {},
   "outputs": [],
   "source": [
    "# Correct optimized version\n",
    "def check_Bsmooth(primes, num):\n",
    "    powers_of_primes= []\n",
    "    num_remaining= num                         \n",
    "    for prime in primes: \n",
    "        i = 0                                   # i = power of prime\n",
    "        if (num_remaining%prime == 0):\n",
    "            while (num_remaining%prime ==0):   #keep dividing for each power of the prime\n",
    "                quotient = num_remaining/prime\n",
    "                num_remaining = quotient\n",
    "                i +=1\n",
    "        powers_of_primes.append(i)\n",
    "        if num_remaining == 1:     \n",
    "            diff = len(primes)-len(powers_of_primes)\n",
    "            if diff>0:\n",
    "                zeros = [0 for k in range(diff)]\n",
    "                return powers_of_primes + zeros\n",
    "            return powers_of_primes\n",
    "    #print(\"Number is not B smooth\")\n",
    "    return []"
   ]
  },
  {
   "cell_type": "code",
   "execution_count": 328,
   "metadata": {},
   "outputs": [],
   "source": [
    "# Correct optimized version\n",
    "def check_Bsmooth(primes, num):\n",
    "    powers_of_primes= []\n",
    "    num_remaining= num                         \n",
    "    for prime in primes: \n",
    "        i = 0                                   # i = power of prime\n",
    "        if (num_remaining%prime == 0):\n",
    "            while (num_remaining%prime ==0):   #keep dividing for each power of the prime\n",
    "                quotient = num_remaining/prime\n",
    "                num_remaining = quotient\n",
    "                i +=1\n",
    "        powers_of_primes.append(i)\n",
    "        if num_remaining == 1:     \n",
    "            diff = len(primes)-len(powers_of_primes)\n",
    "            if diff>0:\n",
    "                zeros = [0 for k in range(diff)]\n",
    "                return powers_of_primes + zeros\n",
    "            return powers_of_primes\n",
    "    #print(\"Number is not B smooth\")\n",
    "    return []"
   ]
  },
  {
   "cell_type": "code",
   "execution_count": 329,
   "metadata": {},
   "outputs": [],
   "source": [
    "def a_congruent_b(a, b, n):\n",
    "    if a%n==(b%n):\n",
    "        return True\n",
    "    return False"
   ]
  },
  {
   "cell_type": "code",
   "execution_count": 330,
   "metadata": {},
   "outputs": [],
   "source": [
    "def generate_BSsquares(primes, n, multiple):\n",
    "    exponents_list = []             # Add other fancy ways of finding candidates for xsquare\n",
    "    xsquares = []           # the x\n",
    "    x_vals = []\n",
    "    residues = []           # the y\n",
    "    iters = 0\n",
    "    while(True):\n",
    "        if iters>100000000:\n",
    "            break\n",
    "        x = int(math.sqrt(n*multiple)) +1\n",
    "        xsquare = x**2\n",
    "        residue = xsquare%n\n",
    "        exp_vec = check_Bsmooth(primes, residue)\n",
    "        if exp_vec != []:\n",
    "            residues.append(residue)   # x^2\n",
    "            xsquares.append(xsquare)\n",
    "            exponents_list.append(exp_vec)\n",
    "            x_vals.append(x)\n",
    "            print(\"Found B-smooth square! with exponents: \", exp_vec, \" and quadratic residue: \", residue)\n",
    "        if len(residues) > len(primes)+10 :\n",
    "            print(\"Breaking, len of residues: \", len(residues), \" len of primes: \", len(primes))\n",
    "            break\n",
    "        multiple += 1\n",
    "        iters += 1\n",
    "    return [exponents_list, residues, iters, xsquares, x_vals]"
   ]
  },
  {
   "cell_type": "code",
   "execution_count": 331,
   "metadata": {},
   "outputs": [],
   "source": [
    "def drop_zero_rows(A): \n",
    "    sums = np.sum(A, axis = 1)\n",
    "    evens = []\n",
    "    \n",
    "    for i in range(0, len(sums)):\n",
    "        if(sums[i]==0):\n",
    "            evens.append(i)\n",
    "    \n",
    "    \n",
    "    return [A[~np.all(A == 0, axis=1)], evens]"
   ]
  },
  {
   "cell_type": "code",
   "execution_count": 332,
   "metadata": {},
   "outputs": [],
   "source": [
    "def get_product(v, num_list):  # just multiply all RELEVANT (depends on v) numbers in a list together\n",
    "    product= 1       \n",
    "    for i in range(len(v)):\n",
    "        if v[i] ==0:\n",
    "            continue\n",
    "        product = product * num_list[i]\n",
    "#         product = product%n    # not reducing mod n yet\n",
    "    return product"
   ]
  },
  {
   "cell_type": "code",
   "execution_count": 333,
   "metadata": {},
   "outputs": [],
   "source": [
    "def get_root_modN(square, n): # xsq is the number left after multiplying all RELEVANT x squares found, check next func\n",
    "    result = int(math.sqrt(square))%n\n",
    "    return result"
   ]
  },
  {
   "cell_type": "code",
   "execution_count": 334,
   "metadata": {},
   "outputs": [],
   "source": [
    "# Choose a subset of columns (equations) to be 1 - those with 0 in pivot or 1 but the rowsum adds to 0mod2\n",
    "def getA_solution(L):\n",
    "    #L = reduced_matrix\n",
    "    col_num = len(L[0])\n",
    "    row_num = len(L)\n",
    "    v = np.ones(col_num, dtype = 'int')\n",
    "    for i in reversed(range(row_num)):\n",
    "        for j in range(col_num):\n",
    "            if L[i][j] ==1:\n",
    "                if (L[i].sum()%2) !=0:                     # the exponents for this prime doesn't add up to zero\n",
    "                    v[j] = 0                  # can't use this equation\n",
    "                    break     # no need to  check cells above, as reduced echelon form\n",
    "    return(v)\n"
   ]
  },
  {
   "cell_type": "code",
   "execution_count": 335,
   "metadata": {},
   "outputs": [],
   "source": [
    "# L - row reduced matrix, comb_iterator - this is for the case when we have reached a factor of gcd and the number itslef\n",
    "# so we can continue to the next possible combination\n",
    "def set_v_comb_array(aug_matrix):\n",
    "    # first set v go have all 0s for pivot nums, 1 for free nums\n",
    "    col_num = len(aug_matrix[0])\n",
    "    row_num = len(aug_matrix)\n",
    "    v = np.ones(col_num, dtype = 'int')\n",
    "    \n",
    "    for i in range(0, row_num):\n",
    "        check_main = 1\n",
    "        for j in range(i, col_num):\n",
    "            if(aug_matrix[i][j]==1 and check_main ==1):\n",
    "                v[j]=0\n",
    "                break\n",
    "    \n",
    "    count_free = np.sum(v); # gives us the count of the free variables.\n",
    "    v_combs = np.zeros(count_free, dtype = 'int')\n",
    "    v_combs[count_free-1] = 1;\n",
    "    indices_of_free_vars = np.zeros(count_free, dtype= 'int')\n",
    "    \n",
    "    k=0;\n",
    "    for i in range(0, col_num):\n",
    "        if(v[i]==1):\n",
    "            indices_of_free_vars[k] = i;\n",
    "            k+=1;\n",
    "    \n",
    "    \n",
    "# v has 1s for free variables and 0s for non-free variables\n",
    "# v_combs has the current combination of free variables, the initial free variable set to 1 is the last one.\n",
    "    return [v_combs, indices_of_free_vars]"
   ]
  },
  {
   "cell_type": "code",
   "execution_count": 336,
   "metadata": {},
   "outputs": [],
   "source": [
    "#input - the matrix, the v vector, and the combination of free variables\n",
    "#output - a vector that can be used to calculate x, y. 0s for the variables that are not used, 1s for the variables that are used.\n",
    "\n",
    "def calc_v(L, v_combs, v_indices, rows, cols):\n",
    "    # create r, such that the only 1s are the free variables specified by v_combs\n",
    "    r = np.zeros(cols, dtype ='int')\n",
    "    for i in range(0, len(v_combs)):\n",
    "        if(v_combs[i]==1):\n",
    "            r[v_indices[i]] = 1;\n",
    "        else:\n",
    "            r[v_indices[i]] =2;    \n",
    "    \n",
    "    for i in reversed(range(0, rows)):\n",
    "    #for j in range(0, col_num):\n",
    "        sum =0\n",
    "        for j in range(0, cols):\n",
    "            sum = sum + r[j]*L[i][j];\n",
    "        zer =(np.argwhere(r == 0).flatten())\n",
    "        sum = sum%2;\n",
    "        if(len(zer)!=0):\n",
    "            index = zer[len(zer)-1]\n",
    "    \n",
    "            if(sum==0):\n",
    "                r[index] = 2\n",
    "            else:\n",
    "                r[index] = 1\n",
    "\n",
    "    print(\"final r vector is \", r%2)\n",
    "    return r%2"
   ]
  },
  {
   "cell_type": "code",
   "execution_count": 337,
   "metadata": {},
   "outputs": [],
   "source": [
    "def binary_add_arr(comb_arr):\n",
    "    #for i in reverse(range(0, len(comb_arr))):\n",
    "    i = len(comb_arr) -1\n",
    "    while(comb_arr[i]==1):\n",
    "        comb_arr[i] = 0;\n",
    "        i-=1;\n",
    "    if(i>=0):\n",
    "        comb_arr[i] = 1;\n",
    "    else:\n",
    "        return -1\n",
    "    return comb_arr        "
   ]
  },
  {
   "cell_type": "markdown",
   "metadata": {},
   "source": [
    "#### Choose the bound value"
   ]
  },
  {
   "cell_type": "code",
   "execution_count": 338,
   "metadata": {},
   "outputs": [
    {
     "name": "stdout",
     "output_type": "stream",
     "text": [
      "Number of elements less than bound =  13  is:  5\n"
     ]
    }
   ],
   "source": [
    "k = math.log(n)\n",
    "k = k*math.log(k)\n",
    "k = math.exp(math.sqrt(k))\n",
    "k = math.pow(k, math.sqrt(2)/4)\n",
    "bound = int(k)\n",
    "\n",
    "primes = np.array(get_primes_less_thanB(bound))"
   ]
  },
  {
   "cell_type": "markdown",
   "metadata": {},
   "source": [
    "#### Test: Choose an N of your liking (8-15 digits)"
   ]
  },
  {
   "cell_type": "code",
   "execution_count": 339,
   "metadata": {},
   "outputs": [
    {
     "name": "stdout",
     "output_type": "stream",
     "text": [
      "Found B-smooth square! with exponents:  [8, 0, 0, 3, 0]  and quadratic residue:  87808\n",
      "Found B-smooth square! with exponents:  [1, 0, 1, 0, 2]  and quadratic residue:  1210\n",
      "Found B-smooth square! with exponents:  [10, 0, 0, 3, 0]  and quadratic residue:  351232\n",
      "Found B-smooth square! with exponents:  [1, 0, 0, 0, 5]  and quadratic residue:  322102\n",
      "Found B-smooth square! with exponents:  [4, 0, 1, 1, 1]  and quadratic residue:  6160\n",
      "Found B-smooth square! with exponents:  [0, 0, 3, 2, 1]  and quadratic residue:  67375\n",
      "Found B-smooth square! with exponents:  [1, 0, 1, 1, 0]  and quadratic residue:  70\n",
      "Found B-smooth square! with exponents:  [8, 2, 0, 3, 0]  and quadratic residue:  790272\n",
      "Found B-smooth square! with exponents:  [0, 0, 4, 3, 0]  and quadratic residue:  214375\n",
      "Found B-smooth square! with exponents:  [4, 2, 0, 1, 0]  and quadratic residue:  1008\n",
      "Found B-smooth square! with exponents:  [5, 8, 1, 0, 0]  and quadratic residue:  1049760\n",
      "Found B-smooth square! with exponents:  [3, 0, 1, 0, 2]  and quadratic residue:  4840\n",
      "Found B-smooth square! with exponents:  [7, 0, 3, 2, 0]  and quadratic residue:  784000\n",
      "Found B-smooth square! with exponents:  [12, 0, 0, 3, 0]  and quadratic residue:  1404928\n",
      "Found B-smooth square! with exponents:  [3, 0, 0, 0, 5]  and quadratic residue:  1288408\n",
      "Found B-smooth square! with exponents:  [6, 0, 1, 0, 3]  and quadratic residue:  425920\n",
      "Breaking, len of residues:  16  len of primes:  5\n",
      "Time in seconds:  0.05198478698730469 , Time in minutes:  0.0008664131164550781\n",
      "iterations,  5638\n",
      "B smooth numbers found:  [87808, 1210, 351232, 322102, 6160, 67375, 70, 790272, 214375, 1008, 1049760, 4840, 784000, 1404928, 1288408, 425920] \n",
      "total:  16\n"
     ]
    }
   ],
   "source": [
    "# A test on a small prime!\n",
    "# n = 10710336959293\n",
    "n = 95775679     \n",
    "# n = 1147\n",
    "#n = 1147\n",
    "multiple = 1\n",
    "start = time.time()\n",
    "\n",
    "results = generate_BSsquares(primes, n, multiple)\n",
    "\n",
    "end = time.time()\n",
    "calc_time(start, end)\n",
    "print(\"iterations, \", results[2])\n",
    "print(\"B smooth numbers found: \", results[1], \"\\ntotal: \", len(results[1]))"
   ]
  },
  {
   "cell_type": "markdown",
   "metadata": {},
   "source": [
    "### The following uses (results, n) produced from last run cell "
   ]
  },
  {
   "cell_type": "code",
   "execution_count": 340,
   "metadata": {},
   "outputs": [
    {
     "name": "stdout",
     "output_type": "stream",
     "text": [
      "[[0 1 0 1 0 0 1 0 0 0 1 1 1 0 1 0]\n",
      " [0 0 0 0 0 0 0 0 0 0 0 0 0 0 0 0]\n",
      " [0 1 0 0 1 1 1 0 0 0 1 1 1 0 0 1]\n",
      " [1 0 1 0 1 0 1 1 1 1 0 0 0 1 0 0]\n",
      " [0 0 0 1 1 1 0 0 0 0 0 0 0 0 1 1]]\n"
     ]
    }
   ],
   "source": [
    "from sympy import *          # Start using np arrays\n",
    "\n",
    "A = np.array(results[0])      # results = [exponents_list, residues, iters, xsquares]\n",
    "store_pows = A.copy()\n",
    "A = (np.transpose(A))%2\n",
    "print(A)"
   ]
  },
  {
   "cell_type": "code",
   "execution_count": 341,
   "metadata": {},
   "outputs": [
    {
     "name": "stdout",
     "output_type": "stream",
     "text": [
      "Old num rows and num columns:  5 16\n"
     ]
    }
   ],
   "source": [
    "col_num = len(A[0])\n",
    "row_num = len(A)\n",
    "print(\"Old num rows and num columns: \", row_num, col_num)\n",
    "L = Matrix(A)\n",
    "\n",
    "L = np.array(L.rref()[0])      # reduced row echelon form\n",
    "L2  = drop_zero_rows(L)[0]        # get rid of primes we don't have to worry about in general\n",
    "L2 = L2 %2\n",
    "    "
   ]
  },
  {
   "cell_type": "code",
   "execution_count": 342,
   "metadata": {},
   "outputs": [
    {
     "name": "stdout",
     "output_type": "stream",
     "text": [
      "[4]\n"
     ]
    }
   ],
   "source": [
    "# check for a case where many of the rows have disappeared because they are already even\n",
    "even_arr = drop_zero_rows(L)[1]\n",
    "print(even_arr)"
   ]
  },
  {
   "cell_type": "code",
   "execution_count": 343,
   "metadata": {},
   "outputs": [
    {
     "name": "stdout",
     "output_type": "stream",
     "text": [
      "Reduced row echelon form AND mod 2 is: \n",
      "[[1 0 1 0 0 1 1 1 1 1 0 0 0 1 0 1]\n",
      " [0 1 0 0 0 0 1 0 0 0 1 1 1 0 0 0]\n",
      " [0 0 0 1 0 0 0 0 0 0 0 0 0 0 1 0]\n",
      " [0 0 0 0 1 1 0 0 0 0 0 0 0 0 0 1]]\n",
      "New num rows, num columns:  4 16\n"
     ]
    }
   ],
   "source": [
    "\n",
    "print(\"Reduced row echelon form AND mod 2 is: \")\n",
    "print(L2)\n",
    "\n",
    "print(\"New num rows, num columns: \", len(L2), len(L2[0]))\n"
   ]
  },
  {
   "cell_type": "code",
   "execution_count": 344,
   "metadata": {},
   "outputs": [
    {
     "name": "stdout",
     "output_type": "stream",
     "text": [
      "final r vector is  [1 0 0 0 1 0 0 0 0 0 0 0 0 0 0 1]\n"
     ]
    }
   ],
   "source": [
    "col_num = len(L2[0])\n",
    "row_num = len(L2)\n",
    "v_combs, v_indices = set_v_comb_array(L2)\n",
    "#print(v_indices)\n",
    "\n",
    "#print(len(v_indices), col_num)\n",
    "v = calc_v(L2, v_combs, v_indices, row_num, col_num)     # tells you which equations we can choose\n",
    "#print(v)\n"
   ]
  },
  {
   "cell_type": "code",
   "execution_count": 345,
   "metadata": {},
   "outputs": [
    {
     "name": "stdout",
     "output_type": "stream",
     "text": [
      "final x:  3134715345558620462181613761911025  final y:  230378969497600\n",
      "final x squared mod n:  55455321  final y squared mod n:  55455321\n"
     ]
    }
   ],
   "source": [
    "# results is of form: [exponents_list, residues, iters, xsquares, x_vals (x before squaring)]\n",
    "residues = results[1]    # x%n, RHS\n",
    "xsquares = results[3]\n",
    "\n",
    "ysq = get_product(v, residues) \n",
    "xsq = get_product(v, xsquares)\n",
    "\n",
    "print(\"final x: \", xsq, \" final y: \", ysq) # just a check - they have to be equal\n",
    "print(\"final x squared mod n: \", xsq%n, \" final y squared mod n: \", ysq%n) # just a check - they have to be equal\n",
    "\n"
   ]
  },
  {
   "cell_type": "code",
   "execution_count": 346,
   "metadata": {},
   "outputs": [
    {
     "name": "stdout",
     "output_type": "stream",
     "text": [
      "80597439 15178240\n",
      "\n",
      "\n",
      "Found x not congruent y mod n! A Factor!!\n",
      "55988528696141145 15178240\n"
     ]
    }
   ],
   "source": [
    "x_vals = results[4]\n",
    "x = get_product(v, x_vals)\n",
    "y = get_root_modN(ysq, n)\n",
    "\n",
    "print(x%n, y%n)\n",
    "\n",
    "while (x%n==y%n):\n",
    "    v_combs = binary_add_arr(v_combs)\n",
    "    v = calc_v(L2, v_combs, v_indices, row_num, col_num)\n",
    "    x = get_product(v, x_vals)\n",
    "    y = get_root_modN(ysq, n)\n",
    "    \n",
    "print(\"\\n\")\n",
    "print(\"Found x not congruent y mod n! A Factor!!\")  # THIS ISN'T TRUE! GCD(x-y)doesn't return the right value :\"(\n",
    "print(x, y)"
   ]
  },
  {
   "cell_type": "code",
   "execution_count": 348,
   "metadata": {},
   "outputs": [
    {
     "name": "stdout",
     "output_type": "stream",
     "text": [
      "584579814.6830461\n",
      "x-y is:  55988528680962905\n",
      "GCD found is:  1\n",
      "other factor of n is:  95775679\n",
      "95775679\n"
     ]
    }
   ],
   "source": [
    "diff = abs(x-y)\n",
    "\n",
    "print(diff/n)\n",
    "print(\"x-y is: \", diff)\n",
    "gcd = math.gcd(diff, n)\n",
    "print(\"GCD found is: \", gcd)\n",
    "print(\"other factor of n is: \", int(n/gcd))\n",
    "print(n)"
   ]
  },
  {
   "cell_type": "markdown",
   "metadata": {},
   "source": [
    "### THE END"
   ]
  },
  {
   "cell_type": "code",
   "execution_count": null,
   "metadata": {},
   "outputs": [],
   "source": []
  }
 ],
 "metadata": {
  "kernelspec": {
   "display_name": "Python 3",
   "language": "python",
   "name": "python3"
  },
  "language_info": {
   "codemirror_mode": {
    "name": "ipython",
    "version": 3
   },
   "file_extension": ".py",
   "mimetype": "text/x-python",
   "name": "python",
   "nbconvert_exporter": "python",
   "pygments_lexer": "ipython3",
   "version": "3.7.4"
  }
 },
 "nbformat": 4,
 "nbformat_minor": 4
}
