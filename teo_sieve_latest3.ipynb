{
 "cells": [
  {
   "cell_type": "markdown",
   "metadata": {},
   "source": [
    "### This can be the final functionized version, where running the tests is easy - just change 'n' and 'bound'\n",
    "### It is fast at sieving, but is not factoring properly - can you take a look at anything that looks off? \n",
    "#### Need to only check after B smooth numbers have already been generated"
   ]
  },
  {
   "cell_type": "code",
   "execution_count": 560,
   "metadata": {},
   "outputs": [],
   "source": [
    "import math\n",
    "import numpy as np\n",
    "import sympy\n",
    "import time "
   ]
  },
  {
   "cell_type": "code",
   "execution_count": 561,
   "metadata": {},
   "outputs": [],
   "source": [
    "def calc_time(start, end):\n",
    "    seconds = end - start\n",
    "    mins = seconds / 60\n",
    "    print('Time in seconds: ', str(seconds), ', Time in minutes: ', str(mins))\n",
    "    return seconds, mins"
   ]
  },
  {
   "cell_type": "code",
   "execution_count": 562,
   "metadata": {},
   "outputs": [],
   "source": [
    "# Final optimized version \n",
    "def get_primes_less_thanB(bound):                      # eratosthenes way\n",
    "    check_until = int(bound**0.5)\n",
    "    unmarked = np.array([x for x in range(2, bound)])\n",
    "    q = 2\n",
    "    i = 0\n",
    "    while True:\n",
    "        u = unmarked[i]\n",
    "        if u> check_until:               # only check numbers up to sqrt(bound)\n",
    "            break\n",
    "        u_idx = np.where(unmarked == u)[0][0]\n",
    "        max_idx = bound//u\n",
    "        listof_multiples = [u*i for i in range(q, max_idx+1)]\n",
    "        u_multiples = np.array(listof_multiples)\n",
    "        unmarked = np.setdiff1d(unmarked, u_multiples)   # numpy set diff without changing order of elements in list\n",
    "        q = u\n",
    "        i +=1\n",
    "    print(\"Number of elements less than bound = \", bound, \" is: \", len(unmarked))\n",
    "    return (unmarked)"
   ]
  },
  {
   "cell_type": "code",
   "execution_count": 563,
   "metadata": {},
   "outputs": [],
   "source": [
    "# Correct optimized version\n",
    "def check_Bsmooth(primes, num):\n",
    "    powers_of_primes= []\n",
    "    num_remaining= num                         \n",
    "    for prime in primes: \n",
    "        i = 0                                   # i = power of prime\n",
    "        if (num_remaining%prime == 0):\n",
    "            while (num_remaining%prime ==0):   #keep dividing for each power of the prime\n",
    "                quotient = num_remaining/prime\n",
    "                num_remaining = quotient\n",
    "                i +=1\n",
    "        powers_of_primes.append(i)\n",
    "        if num_remaining == 1:     \n",
    "            diff = len(primes)-len(powers_of_primes)\n",
    "            if diff>0:\n",
    "                zeros = [0 for k in range(diff)]\n",
    "                return powers_of_primes + zeros\n",
    "            return powers_of_primes\n",
    "    #print(\"Number is not B smooth\")\n",
    "    return []"
   ]
  },
  {
   "cell_type": "code",
   "execution_count": 564,
   "metadata": {},
   "outputs": [],
   "source": [
    "# Correct optimized version\n",
    "def check_Bsmooth(primes, num):\n",
    "    powers_of_primes= []\n",
    "    num_remaining= num                         \n",
    "    for prime in primes: \n",
    "        i = 0                                   # i = power of prime\n",
    "        if (num_remaining%prime == 0):\n",
    "            while (num_remaining%prime ==0):   #keep dividing for each power of the prime\n",
    "                quotient = num_remaining/prime\n",
    "                num_remaining = quotient\n",
    "                i +=1\n",
    "        powers_of_primes.append(i)\n",
    "        if num_remaining == 1:     \n",
    "            diff = len(primes)-len(powers_of_primes)\n",
    "            if diff>0:\n",
    "                zeros = [0 for k in range(diff)]\n",
    "                return powers_of_primes + zeros\n",
    "            return powers_of_primes\n",
    "    #print(\"Number is not B smooth\")\n",
    "    return []"
   ]
  },
  {
   "cell_type": "code",
   "execution_count": 565,
   "metadata": {},
   "outputs": [],
   "source": [
    "def a_congruent_b(a, b, n):\n",
    "    if a%n==(b%n):\n",
    "        return True\n",
    "    return False"
   ]
  },
  {
   "cell_type": "code",
   "execution_count": 566,
   "metadata": {},
   "outputs": [],
   "source": [
    "def generate_BSsquares(primes, n, multiple):\n",
    "    exponents_list = []             # Add other fancy ways of finding candidates for xsquare\n",
    "    xsquares = []           # the x\n",
    "    x_vals = []\n",
    "    residues = []           # the y\n",
    "    iters = 0\n",
    "    while(True):\n",
    "       # if iters>100000000:\n",
    "       #     break\n",
    "        x = int(math.sqrt(n*multiple)) +1\n",
    "        xsquare = x**2\n",
    "        residue = xsquare%n\n",
    "        exp_vec = check_Bsmooth(primes, residue)\n",
    "        if exp_vec != []:\n",
    "            residues.append(residue)   # x^2\n",
    "            xsquares.append(xsquare)\n",
    "            exponents_list.append(exp_vec)\n",
    "            x_vals.append(x)\n",
    "            print(\"Found B-smooth square! with exponents: \", exp_vec, \" and quadratic residue: \", residue)\n",
    "        if len(residues) > len(primes)+10 :\n",
    "            print(\"Breaking, len of residues: \", len(residues), \" len of primes: \", len(primes))\n",
    "            break\n",
    "        multiple += 1\n",
    "        iters += 1\n",
    "    return [exponents_list, residues, iters, xsquares, x_vals]"
   ]
  },
  {
   "cell_type": "code",
   "execution_count": 567,
   "metadata": {},
   "outputs": [],
   "source": [
    "def drop_zero_rows(A): \n",
    "    sums = np.sum(A, axis = 1)\n",
    "    evens = []\n",
    "    \n",
    "    for i in range(0, len(sums)):\n",
    "        if(sums[i]==0):\n",
    "            evens.append(i)\n",
    "    \n",
    "    \n",
    "    return [A[~np.all(A == 0, axis=1)], evens]"
   ]
  },
  {
   "cell_type": "code",
   "execution_count": 568,
   "metadata": {},
   "outputs": [],
   "source": [
    "def get_product(v, num_list):  # just multiply all RELEVANT (depends on v) numbers in a list together\n",
    "    product= 1       \n",
    "    for i in range(len(v)):\n",
    "        if v[i] ==0:\n",
    "            continue\n",
    "        product = product * num_list[i]\n",
    "#         product = product%n    # not reducing mod n yet\n",
    "    return product"
   ]
  },
  {
   "cell_type": "code",
   "execution_count": 569,
   "metadata": {},
   "outputs": [],
   "source": [
    "def get_root_modN(square, n): # xsq is the number left after multiplying all RELEVANT x squares found, check next func\n",
    "    result = int(math.sqrt(square))%n\n",
    "    return result"
   ]
  },
  {
   "cell_type": "code",
   "execution_count": 570,
   "metadata": {},
   "outputs": [],
   "source": [
    "# Choose a subset of columns (equations) to be 1 - those with 0 in pivot or 1 but the rowsum adds to 0mod2\n",
    "def getA_solution(L):\n",
    "    #L = reduced_matrix\n",
    "    col_num = len(L[0])\n",
    "    row_num = len(L)\n",
    "    v = np.ones(col_num, dtype = 'int')\n",
    "    for i in reversed(range(row_num)):\n",
    "        for j in range(col_num):\n",
    "            if L[i][j] ==1:\n",
    "                if (L[i].sum()%2) !=0:                     # the exponents for this prime doesn't add up to zero\n",
    "                    v[j] = 0                  # can't use this equation\n",
    "                    break     # no need to  check cells above, as reduced echelon form\n",
    "    return(v)\n"
   ]
  },
  {
   "cell_type": "code",
   "execution_count": 571,
   "metadata": {},
   "outputs": [],
   "source": [
    "# L - row reduced matrix, comb_iterator - this is for the case when we have reached a factor of gcd and the number itslef\n",
    "# so we can continue to the next possible combination\n",
    "def set_v_comb_array(aug_matrix):\n",
    "    # first set v go have all 0s for pivot nums, 1 for free nums\n",
    "    col_num = len(aug_matrix[0])\n",
    "    row_num = len(aug_matrix)\n",
    "    v = np.ones(col_num, dtype = 'int')\n",
    "    \n",
    "    for i in range(0, row_num):\n",
    "        check_main = 1\n",
    "        for j in range(i, col_num):\n",
    "            if(aug_matrix[i][j]==1 and check_main ==1):\n",
    "                v[j]=0\n",
    "                break\n",
    "    \n",
    "    count_free = np.sum(v); # gives us the count of the free variables.\n",
    "    v_combs = np.zeros(count_free, dtype = 'int')\n",
    "    v_combs[count_free-1] = 1;\n",
    "    indices_of_free_vars = np.zeros(count_free, dtype= 'int')\n",
    "    \n",
    "    k=0;\n",
    "    for i in range(0, col_num):\n",
    "        if(v[i]==1):\n",
    "            indices_of_free_vars[k] = i;\n",
    "            k+=1;\n",
    "    \n",
    "    \n",
    "# v has 1s for free variables and 0s for non-free variables\n",
    "# v_combs has the current combination of free variables, the initial free variable set to 1 is the last one.\n",
    "    return [v_combs, indices_of_free_vars]"
   ]
  },
  {
   "cell_type": "code",
   "execution_count": 572,
   "metadata": {},
   "outputs": [],
   "source": [
    "#input - the matrix, the v vector, and the combination of free variables\n",
    "#output - a vector that can be used to calculate x, y. 0s for the variables that are not used, 1s for the variables that are used.\n",
    "\n",
    "def calc_v(L, v_combs, v_indices, rows, cols):\n",
    "    # create r, such that the only 1s are the free variables specified by v_combs\n",
    "    r = np.zeros(cols, dtype ='int')\n",
    "    for i in range(0, len(v_combs)):\n",
    "        if(v_combs[i]==1):\n",
    "            r[v_indices[i]] = 1;\n",
    "        else:\n",
    "            r[v_indices[i]] =2;    \n",
    "    \n",
    "    for i in reversed(range(0, rows)):\n",
    "    #for j in range(0, col_num):\n",
    "        sum =0\n",
    "        for j in range(0, cols):\n",
    "            sum = sum + r[j]*L[i][j];\n",
    "        zer =(np.argwhere(r == 0).flatten())\n",
    "        sum = sum%2;\n",
    "        if(len(zer)!=0):\n",
    "            index = zer[len(zer)-1]\n",
    "    \n",
    "            if(sum==0):\n",
    "                r[index] = 2\n",
    "            else:\n",
    "                r[index] = 1\n",
    "\n",
    "    print(\"final r vector is \", r%2)\n",
    "    return r%2"
   ]
  },
  {
   "cell_type": "code",
   "execution_count": 573,
   "metadata": {},
   "outputs": [],
   "source": [
    "def binary_add_arr(comb_arr):\n",
    "    #for i in reverse(range(0, len(comb_arr))):\n",
    "    i = len(comb_arr) -1\n",
    "    while(comb_arr[i]==1):\n",
    "        comb_arr[i] = 0;\n",
    "        i-=1;\n",
    "    if(i>=0):\n",
    "        comb_arr[i] = 1;\n",
    "    else:\n",
    "        return -1\n",
    "    return comb_arr        "
   ]
  },
  {
   "cell_type": "markdown",
   "metadata": {},
   "source": [
    "#### Choose the bound value"
   ]
  },
  {
   "cell_type": "markdown",
   "metadata": {},
   "source": [
    "#### Test: Choose an N of your liking (8-15 digits)"
   ]
  },
  {
   "cell_type": "code",
   "execution_count": 574,
   "metadata": {},
   "outputs": [
    {
     "name": "stdout",
     "output_type": "stream",
     "text": [
      "Number of elements less than bound =  13  is:  5\n"
     ]
    }
   ],
   "source": [
    "n = 95775679 \n",
    "k = math.log(n)\n",
    "k = k*math.log(k)\n",
    "k = math.exp(math.sqrt(k))\n",
    "k = math.pow(k, math.sqrt(2)/4)\n",
    "bound = int(k)\n",
    "\n",
    "primes = np.array(get_primes_less_thanB(bound))"
   ]
  },
  {
   "cell_type": "code",
   "execution_count": 575,
   "metadata": {},
   "outputs": [
    {
     "name": "stdout",
     "output_type": "stream",
     "text": [
      "Found B-smooth square! with exponents:  [8, 0, 0, 3, 0]  and quadratic residue:  87808\n",
      "Found B-smooth square! with exponents:  [1, 0, 1, 0, 2]  and quadratic residue:  1210\n",
      "Found B-smooth square! with exponents:  [10, 0, 0, 3, 0]  and quadratic residue:  351232\n",
      "Found B-smooth square! with exponents:  [1, 0, 0, 0, 5]  and quadratic residue:  322102\n",
      "Found B-smooth square! with exponents:  [4, 0, 1, 1, 1]  and quadratic residue:  6160\n",
      "Found B-smooth square! with exponents:  [0, 0, 3, 2, 1]  and quadratic residue:  67375\n",
      "Found B-smooth square! with exponents:  [1, 0, 1, 1, 0]  and quadratic residue:  70\n",
      "Found B-smooth square! with exponents:  [8, 2, 0, 3, 0]  and quadratic residue:  790272\n",
      "Found B-smooth square! with exponents:  [0, 0, 4, 3, 0]  and quadratic residue:  214375\n",
      "Found B-smooth square! with exponents:  [4, 2, 0, 1, 0]  and quadratic residue:  1008\n",
      "Found B-smooth square! with exponents:  [5, 8, 1, 0, 0]  and quadratic residue:  1049760\n",
      "Found B-smooth square! with exponents:  [3, 0, 1, 0, 2]  and quadratic residue:  4840\n",
      "Found B-smooth square! with exponents:  [7, 0, 3, 2, 0]  and quadratic residue:  784000\n",
      "Found B-smooth square! with exponents:  [12, 0, 0, 3, 0]  and quadratic residue:  1404928\n",
      "Found B-smooth square! with exponents:  [3, 0, 0, 0, 5]  and quadratic residue:  1288408\n",
      "Found B-smooth square! with exponents:  [6, 0, 1, 0, 3]  and quadratic residue:  425920\n",
      "Breaking, len of residues:  16  len of primes:  5\n",
      "Time in seconds:  0.04001450538635254 , Time in minutes:  0.0006669084231058757\n",
      "iterations,  5638\n",
      "B smooth numbers found:  [176971, 315757, 353942, 358379, 430495, 455467, 501027, 530913, 532983, 583837, 593599, 631514, 669429, 707884, 716758, 734901] \n",
      "total:  16\n"
     ]
    }
   ],
   "source": [
    "# A test on a small prime!\n",
    "# n = 10710336959293\n",
    "    \n",
    "# n = 1147\n",
    "#n = 1147\n",
    "multiple = 1\n",
    "start = time.time()\n",
    "\n",
    "results = generate_BSsquares(primes, n, multiple)\n",
    "\n",
    "end = time.time()\n",
    "calc_time(start, end)\n",
    "print(\"iterations, \", results[2])\n",
    "print(\"B smooth numbers found: \", results[4], \"\\ntotal: \", len(results[1]))"
   ]
  },
  {
   "cell_type": "markdown",
   "metadata": {},
   "source": [
    "### The following uses (results, n) produced from last run cell "
   ]
  },
  {
   "cell_type": "code",
   "execution_count": 576,
   "metadata": {},
   "outputs": [
    {
     "name": "stdout",
     "output_type": "stream",
     "text": [
      "[[0 1 0 1 0 0 1 0 0 0 1 1 1 0 1 0]\n",
      " [0 0 0 0 0 0 0 0 0 0 0 0 0 0 0 0]\n",
      " [0 1 0 0 1 1 1 0 0 0 1 1 1 0 0 1]\n",
      " [1 0 1 0 1 0 1 1 1 1 0 0 0 1 0 0]\n",
      " [0 0 0 1 1 1 0 0 0 0 0 0 0 0 1 1]]\n"
     ]
    }
   ],
   "source": [
    "from sympy import *          # Start using np arrays\n",
    "\n",
    "A = np.array(results[0])      # results = [exponents_list, residues, iters, xsquares]\n",
    "store_pows = A.copy()\n",
    "A = (np.transpose(A))%2\n",
    "print(A)"
   ]
  },
  {
   "cell_type": "code",
   "execution_count": 577,
   "metadata": {},
   "outputs": [
    {
     "name": "stdout",
     "output_type": "stream",
     "text": [
      "Old num rows and num columns:  5 16\n",
      "[[1 0 1 0 0 1 1 1 1 1 0 0 0 1 0 1]\n",
      " [0 1 0 0 0 0 1 0 0 0 1 1 1 0 0 0]\n",
      " [0 0 0 1 0 0 0 0 0 0 0 0 0 0 1 0]\n",
      " [0 0 0 0 1 1 0 0 0 0 0 0 0 0 0 1]\n",
      " [0 0 0 0 0 0 0 0 0 0 0 0 0 0 0 0]]\n"
     ]
    }
   ],
   "source": [
    "col_num = len(A[0])\n",
    "row_num = len(A)\n",
    "print(\"Old num rows and num columns: \", row_num, col_num)\n",
    "L = Matrix(A)\n",
    "\n",
    "L = np.array(L.rref()[0])%2\n",
    "print(L)# reduced row echelon form\n",
    "L2  = drop_zero_rows(L)[0]        # get rid of primes we don't have to worry about in general\n",
    "L2 = L2 %2\n",
    "    "
   ]
  },
  {
   "cell_type": "code",
   "execution_count": 578,
   "metadata": {},
   "outputs": [
    {
     "name": "stdout",
     "output_type": "stream",
     "text": [
      "[4]\n"
     ]
    }
   ],
   "source": [
    "# check for a case where many of the rows have disappeared because they are already even\n",
    "even_arr = drop_zero_rows(L)[1]\n",
    "print(even_arr)"
   ]
  },
  {
   "cell_type": "code",
   "execution_count": 579,
   "metadata": {},
   "outputs": [
    {
     "name": "stdout",
     "output_type": "stream",
     "text": [
      "Reduced row echelon form AND mod 2 is: \n",
      "[[1 0 1 0 0 1 1 1 1 1 0 0 0 1 0 1]\n",
      " [0 1 0 0 0 0 1 0 0 0 1 1 1 0 0 0]\n",
      " [0 0 0 1 0 0 0 0 0 0 0 0 0 0 1 0]\n",
      " [0 0 0 0 1 1 0 0 0 0 0 0 0 0 0 1]]\n",
      "New num rows, num columns:  4 16\n"
     ]
    }
   ],
   "source": [
    "print(\"Reduced row echelon form AND mod 2 is: \")\n",
    "print(L2)\n",
    "\n",
    "print(\"New num rows, num columns: \", len(L2), len(L2[0]))\n"
   ]
  },
  {
   "cell_type": "code",
   "execution_count": 580,
   "metadata": {},
   "outputs": [
    {
     "name": "stdout",
     "output_type": "stream",
     "text": [
      "final r vector is  [1 0 0 0 1 0 0 0 0 0 0 0 0 0 0 1]\n"
     ]
    }
   ],
   "source": [
    "col_num = len(L2[0])\n",
    "row_num = len(L2)\n",
    "v_combs, v_indices = set_v_comb_array(L2)\n",
    "#print(v_indices)\n",
    "\n",
    "#print(len(v_indices), col_num)\n",
    "v = calc_v(L2, v_combs, v_indices, row_num, col_num)     # tells you which equations we can choose\n",
    "#print(v)\n"
   ]
  },
  {
   "cell_type": "code",
   "execution_count": 581,
   "metadata": {},
   "outputs": [
    {
     "name": "stdout",
     "output_type": "stream",
     "text": [
      "[87808, 1210, 351232, 322102, 6160, 67375, 70, 790272, 214375, 1008, 1049760, 4840, 784000, 1404928, 1288408, 425920]\n",
      "final x squared mod n:  55455321  final y squared mod n:  55455321\n"
     ]
    }
   ],
   "source": [
    "# results is of form: [exponents_list, residues, iters, xsquares, x_vals (x before squaring)]\n",
    "residues = results[1]    # x%n, RHS\n",
    "xsquares = results[3]\n",
    "\n",
    "print(residues)\n",
    "#print(xsquares)\n",
    "ysq = get_product(v, residues) \n",
    "xsq = get_product(v, xsquares)\n",
    "\n",
    "print(\"final x squared mod n: \", xsq%n, \" final y squared mod n: \", ysq%n) # just a check - they have to be equal\n",
    "\n"
   ]
  },
  {
   "cell_type": "code",
   "execution_count": 582,
   "metadata": {},
   "outputs": [
    {
     "name": "stdout",
     "output_type": "stream",
     "text": [
      "[176971, 315757, 353942, 358379, 430495, 455467, 501027, 530913, 532983, 583837, 593599, 631514, 669429, 707884, 716758, 734901]\n",
      "final r vector is  [0 0 0 1 0 0 0 0 0 0 0 0 0 0 1 0]\n",
      "inside:  256871015282 644204\n",
      "final r vector is  [1 0 0 1 1 0 0 0 0 0 0 0 0 0 1 1]\n",
      "inside:  14381830210323167591723977890 9777882920960\n",
      "final r vector is  [1 0 0 0 0 0 0 0 0 0 0 0 0 1 0 0]\n",
      "inside:  125274939364 351232\n",
      "final r vector is  [0 0 0 0 1 0 0 0 0 0 0 0 0 1 0 1]\n",
      "inside:  223954114784564580 60712960\n",
      "final r vector is  [1 0 0 1 0 0 0 0 0 0 0 0 0 1 1 0]\n",
      "inside:  32179500863821667360648 226265059328\n",
      "final r vector is  [0 0 0 1 1 0 0 0 0 0 0 0 0 1 1 1]\n",
      "inside:  57527320841292670366895911560 39111531683840\n",
      "final r vector is  [0 1 0 0 0 0 0 0 0 0 0 0 1 0 0 0]\n",
      "inside:  211376892753 30800\n",
      "final r vector is  [1 1 0 0 1 0 0 0 0 0 0 0 1 0 0 1]\n",
      "inside:  11834681225602489731615622185 467489792000\n",
      "final r vector is  [0 1 0 1 0 0 0 0 0 0 0 0 1 0 1 0]\n",
      "inside:  54296597048617538051346 19841483200\n",
      "final r vector is  [1 1 0 1 1 0 0 0 0 0 0 0 1 0 1 1]\n",
      "inside:  3039986581959335629507084564833073231170 301158793965568000\n",
      "final r vector is  [1 1 0 0 0 0 0 0 0 0 0 0 1 1 0 0]\n",
      "inside:  26480227422582806029092 10817945600\n",
      "final r vector is  [0 1 0 0 1 0 0 0 0 0 0 0 1 1 0 1]\n",
      "inside:  47338724902409958926462488740 1869959168000\n",
      "final r vector is  [1 1 0 1 0 0 0 0 0 0 0 0 1 1 1 0]\n",
      "inside:  6802002902937103439409332868583944 6968963827302400\n",
      "final r vector is  [0 1 0 1 1 0 0 0 0 0 0 0 1 1 1 1]\n",
      "inside:  12159946327837342518028338259332292924680 1204635175862272000\n",
      "final r vector is  [0 1 0 0 0 0 0 0 0 0 0 1 0 0 0 0]\n",
      "inside:  199404966098 2420\n",
      "final r vector is  [1 1 0 0 1 0 0 0 0 0 0 1 0 0 0 1]\n",
      "inside:  11164390666530925162147902210 36731340800\n",
      "final r vector is  [0 1 0 1 0 0 0 0 0 0 0 1 0 0 1 0]\n",
      "inside:  51221356093866049909636 1558973680\n",
      "final r vector is  [1 1 0 1 1 0 0 0 0 0 0 1 0 0 1 1]\n",
      "inside:  2867808365516683443251692116529151573220 23662476668723200\n",
      "final r vector is  [1 1 0 0 0 0 0 0 0 0 0 1 0 1 0 0]\n",
      "inside:  24980445036807425681672 849981440\n",
      "final r vector is  [0 1 0 0 1 0 0 0 0 0 0 1 0 1 0 1]\n",
      "inside:  44657562666123700648591608840 146925363200\n",
      "final r vector is  [1 1 0 1 0 0 0 0 0 0 0 1 0 1 1 0]\n",
      "inside:  6416752278800921294767847579311504 547561443573760\n",
      "final r vector is  [0 1 0 1 1 0 0 0 0 0 0 1 0 1 1 1]\n",
      "inside:  11471233462066733773006768466116606292880 94649906674892800\n",
      "final r vector is  [0 0 0 0 0 0 0 0 0 0 0 1 1 0 0 0]\n",
      "inside:  422753785506 61600\n",
      "final r vector is  [1 0 0 0 1 0 0 0 0 0 0 1 1 0 0 1]\n",
      "inside:  23669362451204979463231244370 934979584000\n",
      "final r vector is  [0 0 0 1 0 0 0 0 0 0 0 1 1 0 1 0]\n",
      "inside:  108593194097235076102692 39682966400\n",
      "final r vector is  [1 0 0 1 1 0 0 0 0 0 0 1 1 0 1 1]\n",
      "inside:  6079973163918671259014169129666146462340 602317587931136000\n",
      "final r vector is  [1 0 0 0 0 0 0 0 0 0 0 1 1 1 0 0]\n",
      "inside:  52960454845165612058184 21635891200\n",
      "final r vector is  [0 0 0 0 1 0 0 0 0 0 0 1 1 1 0 1]\n",
      "inside:  94677449804819917852924977480 3739918336000\n",
      "final r vector is  [1 0 0 1 0 0 0 0 0 0 0 1 1 1 1 0]\n",
      "inside:  13604005805874206878818665737167888 13937927654604800\n",
      "final r vector is  [0 0 0 1 1 0 0 0 0 0 0 1 1 1 1 1]\n",
      "inside:  24319892655674685036056676518664585849360 2409270351724544000\n",
      "final r vector is  [0 1 0 0 0 0 0 0 0 0 1 0 0 0 0 0]\n",
      "inside:  187433039443 35640\n",
      "final r vector is  [1 1 0 0 1 0 0 0 0 0 1 0 0 0 0 1]\n",
      "inside:  10494100107459360592680182235 540952473600\n",
      "final r vector is  [0 1 0 1 0 0 0 0 0 0 1 0 0 0 1 0]\n",
      "inside:  48146115139114561767926 22959430560\n",
      "final r vector is  [1 1 0 1 1 0 0 0 0 0 1 0 0 0 1 1]\n",
      "inside:  2695630149074031256996299668225229915270 348483747303014400\n",
      "final r vector is  [1 1 0 0 0 0 0 0 0 0 1 0 0 1 0 0]\n",
      "inside:  23480662651032045334252 12517908480\n",
      "final r vector is  [0 1 0 0 1 0 0 0 0 0 1 0 0 1 0 1]\n",
      "inside:  41976400429837442370720728940 2163809894400\n",
      "final r vector is  [1 1 0 1 0 0 0 0 0 0 1 0 0 1 1 0]\n",
      "inside:  6031501654664739150126362290039064 8064086714449920\n",
      "final r vector is  [0 1 0 1 1 0 0 0 0 0 1 0 0 1 1 1]\n",
      "inside:  10782520596296125027985198672900919661080 1393934989212057600\n",
      "final r vector is  [0 0 0 0 0 0 0 0 0 0 1 0 1 0 0 0]\n",
      "inside:  397372384971 907200\n",
      "final r vector is  [1 0 0 0 1 0 0 0 0 0 1 0 1 0 0 1]\n",
      "inside:  22248295179002879753092731795 13769699328000\n",
      "final r vector is  [0 0 0 1 0 0 0 0 0 0 1 0 1 0 1 0]\n",
      "inside:  102073447972530528126822 584421868800\n",
      "final r vector is  [1 0 0 1 1 0 0 0 0 0 1 0 1 0 1 1]\n",
      "inside:  5714942170924095650578691495676572291190 8870495385894912000\n",
      "final r vector is  [1 0 0 0 0 0 0 0 0 0 1 0 1 1 0 0]\n",
      "inside:  49780801432170089898444 318637670400\n",
      "final r vector is  [0 0 0 0 1 0 0 0 0 0 1 0 1 1 0 1]\n",
      "inside:  88993180716011519012370927180 55078797312000\n",
      "final r vector is  [1 0 0 1 0 0 0 0 0 0 1 0 1 1 1 0]\n",
      "inside:  12787245005433170648726522552021208 205267661822361600\n",
      "final r vector is  [0 0 0 1 1 0 0 0 0 0 1 0 1 1 1 1]\n",
      "inside:  22859768683696382602314765982706289164760 35481981543579648000\n",
      "final r vector is  [0 0 0 0 0 0 0 0 0 0 1 1 0 0 0 0]\n",
      "inside:  374866078886 71280\n",
      "final r vector is  [1 0 0 0 1 0 0 0 0 0 1 1 0 0 0 1]\n",
      "inside:  20988200214918721185360364470 1081904947200\n",
      "final r vector is  [0 0 0 1 0 0 0 0 0 0 1 1 0 0 1 0]\n",
      "inside:  96292230278229123535852 45918861120\n",
      "final r vector is  [1 0 0 1 1 0 0 0 0 0 1 1 0 0 1 1]\n",
      "inside:  5391260298148062513992599336450459830540 696967494606028800\n",
      "final r vector is  [1 0 0 0 0 0 0 0 0 0 1 1 0 1 0 0]\n",
      "inside:  46961325302064090668504 25035816960\n",
      "final r vector is  [0 0 0 0 1 0 0 0 0 0 1 1 0 1 0 1]\n",
      "inside:  83952800859674884741441457880 4327619788800\n",
      "final r vector is  [1 0 0 1 0 0 0 0 0 0 1 1 0 1 1 0]\n",
      "inside:  12063003309329478300252724580078128 16128173428899840\n",
      "final r vector is  [0 0 0 1 1 0 0 0 0 0 1 1 0 1 1 1]\n",
      "inside:  21565041192592250055970397345801839322160 2787869978424115200\n",
      "final r vector is  [0 1 0 0 0 0 0 0 0 0 1 1 1 0 0 0]\n",
      "inside:  79238026953423659713158 2195424000\n",
      "final r vector is  [1 1 0 0 1 0 0 0 0 0 1 1 1 0 0 1]\n",
      "inside:  4436420545907366078609826794232181685910 33322672373760000\n",
      "final r vector is  [0 1 0 1 0 0 0 0 0 0 1 1 1 0 1 0]\n",
      "inside:  20353952432468416796398976354480556 1414300922496000\n",
      "final r vector is  [1 1 0 1 1 0 0 0 0 0 1 1 1 0 1 1]\n",
      "inside:  1139587849845149814534953231776587811297588134076620 21466598833865687040000\n",
      "final r vector is  [1 1 0 0 0 0 0 0 0 0 1 1 1 1 0 0]\n",
      "inside:  9926539021913146622768838082951512 771103162368000\n",
      "final r vector is  [0 1 0 0 1 0 0 0 0 0 1 1 1 1 0 1]\n",
      "inside:  17745682183629464314439307176928726743640 133290689495040000\n",
      "final r vector is  [1 1 0 1 0 0 0 0 0 0 1 1 1 1 1 0]\n",
      "inside:  2549840156795221219013960896359221422617006384 496747741610115072000\n",
      "final r vector is  [0 1 0 1 1 0 0 0 0 0 1 1 1 1 1 1]\n",
      "inside:  4558351399380599258139812927106351245190352536306480 85866395335462748160000\n",
      "final r vector is  [1 0 0 0 0 0 0 0 0 1 0 0 0 0 0 0]\n",
      "inside:  103322217727 9408\n",
      "\n",
      "\n",
      "Found x not congruent y mod n! A Factor!!\n",
      "103322217727 9408\n",
      "current combs are:  [0 0 0 0 0 1 0 0 0 0 0 0]\n"
     ]
    }
   ],
   "source": [
    "x_vals = results[4]\n",
    "print(x_vals)\n",
    "x = get_product(v, x_vals)\n",
    "y = sqrt(ysq)\n",
    "\n",
    "while ((x-y)%n==0 or (x+y)%n==0 or(y-x)%n==0):\n",
    "    v_combs = binary_add_arr(v_combs)\n",
    "    v = calc_v(L2, v_combs, v_indices, row_num, col_num)\n",
    "    x = get_product(v, x_vals)\n",
    "    ysq = get_product(v, residues) \n",
    "    y = sqrt(ysq)\n",
    "    print('inside: ', x, y)\n",
    "    \n",
    "print(\"\\n\")\n",
    "print(\"Found x not congruent y mod n! A Factor!!\")  # THIS ISN'T TRUE! GCD(x-y)doesn't return the right value :\"(\n",
    "print(x, y)\n",
    "print('current combs are: ',v_combs)"
   ]
  },
  {
   "cell_type": "code",
   "execution_count": 583,
   "metadata": {},
   "outputs": [
    {
     "name": "stdout",
     "output_type": "stream",
     "text": [
      "x-y is:  103322208319\n",
      "GCD found is:  7757\n",
      "other factor of n is:  12347\n",
      "95775679\n"
     ]
    }
   ],
   "source": [
    "diff = abs(x-y)\n",
    "\n",
    "print(\"x-y is: \", diff)\n",
    "gcd = math.gcd(diff, n)\n",
    "print(\"GCD found is: \", gcd)\n",
    "print(\"other factor of n is: \", int(n/gcd))\n",
    "print(n)"
   ]
  },
  {
   "cell_type": "markdown",
   "metadata": {},
   "source": [
    "### THE END"
   ]
  },
  {
   "cell_type": "code",
   "execution_count": 584,
   "metadata": {},
   "outputs": [
    {
     "data": {
      "text/plain": [
       "55988528696141145"
      ]
     },
     "execution_count": 584,
     "metadata": {},
     "output_type": "execute_result"
    }
   ],
   "source": [
    "176971*430495*734901"
   ]
  },
  {
   "cell_type": "code",
   "execution_count": 585,
   "metadata": {},
   "outputs": [
    {
     "data": {
      "text/plain": [
       "81241643"
      ]
     },
     "execution_count": 585,
     "metadata": {},
     "output_type": "execute_result"
    }
   ],
   "source": [
    "(256871015282-15178240)%n"
   ]
  },
  {
   "cell_type": "code",
   "execution_count": null,
   "metadata": {},
   "outputs": [],
   "source": []
  }
 ],
 "metadata": {
  "kernelspec": {
   "display_name": "Python 3",
   "language": "python",
   "name": "python3"
  },
  "language_info": {
   "codemirror_mode": {
    "name": "ipython",
    "version": 3
   },
   "file_extension": ".py",
   "mimetype": "text/x-python",
   "name": "python",
   "nbconvert_exporter": "python",
   "pygments_lexer": "ipython3",
   "version": "3.7.4"
  }
 },
 "nbformat": 4,
 "nbformat_minor": 4
}
