{
 "cells": [
  {
   "cell_type": "code",
   "execution_count": 477,
   "metadata": {},
   "outputs": [],
   "source": [
    "import math\n",
    "import numpy as np\n",
    "import sympy\n",
    "import time "
   ]
  },
  {
   "cell_type": "code",
   "execution_count": 478,
   "metadata": {},
   "outputs": [],
   "source": [
    "def calc_time(start, end):\n",
    "    seconds = end - start\n",
    "    mins = seconds / 60\n",
    "    print('Time:', str(seconds), '    ', str(mins))\n",
    "    return seconds"
   ]
  },
  {
   "cell_type": "code",
   "execution_count": 479,
   "metadata": {},
   "outputs": [],
   "source": [
    "def f(x):\n",
    "    return (x+s_const)**2 - the_number"
   ]
  },
  {
   "cell_type": "code",
   "execution_count": 480,
   "metadata": {},
   "outputs": [],
   "source": [
    "# Final optimized version \n",
    "def get_primes_less_thanB(bound):                      # eratosthenes way\n",
    "    check_until = int(bound**0.5)\n",
    "    unmarked = np.array([x for x in range(2, bound)])\n",
    "    q = 2\n",
    "    i = 0\n",
    "    while True:\n",
    "        u = unmarked[i]\n",
    "        if u> check_until:               # only check numbers up to sqrt(bound)\n",
    "            break\n",
    "        u_idx = np.where(unmarked == u)[0][0]\n",
    "        max_idx = bound//u\n",
    "        listof_multiples = [u*i for i in range(q, max_idx+1)]\n",
    "        u_multiples = np.array(listof_multiples)\n",
    "        unmarked = np.setdiff1d(unmarked, u_multiples)   # numpy set diff without changing order of elements in list\n",
    "        q = u\n",
    "        i +=1\n",
    "    print(\"Number of elements less than bound = \", bound, \" is: \", len(unmarked))\n",
    "    return (unmarked)"
   ]
  },
  {
   "cell_type": "code",
   "execution_count": 481,
   "metadata": {},
   "outputs": [],
   "source": [
    "# Correct optimized version\n",
    "def check_Bsmooth(primes, num):\n",
    "    powers_of_primes= []\n",
    "    num_remaining= num                         \n",
    "    for prime in primes: \n",
    "        i = 0                                   # i = power of prime\n",
    "        if (num_remaining%prime == 0):\n",
    "            while (num_remaining%prime ==0):   #keep dividing for each power of the prime\n",
    "                quotient = num_remaining/prime\n",
    "                num_remaining = quotient\n",
    "                i +=1\n",
    "        powers_of_primes.append(i)\n",
    "        if num_remaining == 1:     \n",
    "            diff = len(primes)-len(powers_of_primes)\n",
    "            if diff>0:\n",
    "                zeros = [0 for k in range(diff)]\n",
    "                return powers_of_primes + zeros\n",
    "            return powers_of_primes\n",
    "    #print(\"Number is not B smooth\")\n",
    "    return []"
   ]
  },
  {
   "cell_type": "markdown",
   "metadata": {},
   "source": [
    "#### Start Choosing parameters for testing: bound, n, etc;"
   ]
  },
  {
   "cell_type": "code",
   "execution_count": 482,
   "metadata": {},
   "outputs": [
    {
     "name": "stdout",
     "output_type": "stream",
     "text": [
      "170388.63978888164\n"
     ]
    }
   ],
   "source": [
    "## Input the number n in this cell:\n",
    "\n",
    "begin_time = time.time()\n",
    "#n = 1043302887923\n",
    "n = 169214564391\n",
    "\n",
    "the_number = n\n",
    "s_const = int(math.sqrt(n)) + 1\n",
    "A_const = (math.sqrt(2)-1)*math.sqrt(n)-1      \n",
    "\n",
    "print(A_const)"
   ]
  },
  {
   "cell_type": "code",
   "execution_count": 483,
   "metadata": {},
   "outputs": [
    {
     "name": "stdout",
     "output_type": "stream",
     "text": [
      "25\n",
      "Number of elements less than bound =  25  is:  9\n"
     ]
    }
   ],
   "source": [
    "# Calculation of the boundary\n",
    "\n",
    "k = math.log(n)\n",
    "k = k*math.log(k)\n",
    "k = math.exp(math.sqrt(k))\n",
    "k = math.pow(k, math.sqrt(2)/4)\n",
    "\n",
    "bound = int(k)\n",
    "print(bound)\n",
    "primes = np.array(get_primes_less_thanB(bound))"
   ]
  },
  {
   "cell_type": "code",
   "execution_count": 484,
   "metadata": {},
   "outputs": [
    {
     "name": "stdout",
     "output_type": "stream",
     "text": [
      "iterations,  4175629\n",
      "B smooth numbers found:  [-441954548, -1637079905, -1767818192, 1112832464, 1243146929, 2041614972, 1573743040, 711580464, 1821519370, 156362560, -235877976, 677620420, 2000004864] total:  13\n",
      "Time: 76.64697194099426      1.2774495323499044\n",
      "[[2, 0, 0, 0, 3, 0, 1, 0, 4], [0, 4, 2, 3, 0, 4, 0, 0, 0], [4, 0, 0, 0, 3, 0, 1, 0, 4], [4, 5, 1, 0, 4, 0, 0, 1, 0], [0, 2, 2, 1, 0, 0, 2, 0, 3], [2, 4, 2, 3, 0, 4, 0, 0, 0], [6, 0, 0, 1, 0, 2, 0, 2, 2], [4, 1, 1, 4, 0, 0, 0, 3, 1], [1, 0, 3, 1, 0, 0, 1, 2, 3], [6, 5, 1, 0, 4, 0, 0, 1, 0], [3, 0, 1, 0, 1, 4, 1, 1, 0], [2, 2, 2, 1, 0, 0, 2, 0, 3], [8, 0, 0, 1, 0, 2, 0, 2, 2]]\n"
     ]
    }
   ],
   "source": [
    "## this is the generator cell, it works for the small tests I am doing, but we will have to update it later\n",
    "nums = []\n",
    "results=[]\n",
    "size_of_bound = len(primes)\n",
    "\n",
    "numbers = []\n",
    "count_found = 0\n",
    "begin = int(math.sqrt(n)) + 1\n",
    "i = 0\n",
    "start = time.time()\n",
    "while(True):\n",
    "    temp = check_Bsmooth(primes, (begin**2)%n)\n",
    "    if temp!=[]:\n",
    "        exponents = np.array(temp)\n",
    "        result = np.power(primes, exponents)\n",
    "        the_num = np.prod(result)\n",
    "        numbers.append(the_num)\n",
    "        \n",
    "        nums.append(begin)\n",
    "        results.append(temp)\n",
    "        count_found = count_found +1\n",
    "            \n",
    "    if count_found> size_of_bound +3:\n",
    "        break\n",
    "    begin +=1\n",
    "    i +=1\n",
    "end = time.time()\n",
    "print(\"iterations, \", i)\n",
    "print(\"B smooth numbers found: \", numbers, \"total: \", len(numbers))\n",
    "calc_time(start, end)\n",
    "print (results)"
   ]
  },
  {
   "cell_type": "code",
   "execution_count": 485,
   "metadata": {},
   "outputs": [
    {
     "name": "stdout",
     "output_type": "stream",
     "text": [
      "iterations,  4175629\n"
     ]
    }
   ],
   "source": [
    "print(\"iterations, \", i)"
   ]
  },
  {
   "cell_type": "code",
   "execution_count": 486,
   "metadata": {},
   "outputs": [
    {
     "name": "stdout",
     "output_type": "stream",
     "text": [
      "[730049, 1017411, 1460098, 1594875, 2016603, 2034822, 2293493, 2310099, 2658659, 3189750, 3466741, 4033206, 4586986]\n",
      "[[2, 0, 0, 0, 3, 0, 1, 0, 4], [0, 4, 2, 3, 0, 4, 0, 0, 0], [4, 0, 0, 0, 3, 0, 1, 0, 4], [4, 5, 1, 0, 4, 0, 0, 1, 0], [0, 2, 2, 1, 0, 0, 2, 0, 3], [2, 4, 2, 3, 0, 4, 0, 0, 0], [6, 0, 0, 1, 0, 2, 0, 2, 2], [4, 1, 1, 4, 0, 0, 0, 3, 1], [1, 0, 3, 1, 0, 0, 1, 2, 3], [6, 5, 1, 0, 4, 0, 0, 1, 0], [3, 0, 1, 0, 1, 4, 1, 1, 0], [2, 2, 2, 1, 0, 0, 2, 0, 3], [8, 0, 0, 1, 0, 2, 0, 2, 2]]\n",
      "[-441954548, -1637079905, -1767818192, 1112832464, 1243146929, 2041614972, 1573743040, 711580464, 1821519370, 156362560, -235877976, 677620420, 2000004864]\n"
     ]
    }
   ],
   "source": [
    "print(nums)\n",
    "print(results)\n",
    "print(numbers)"
   ]
  },
  {
   "cell_type": "code",
   "execution_count": 487,
   "metadata": {},
   "outputs": [
    {
     "name": "stdout",
     "output_type": "stream",
     "text": [
      "[ 2  3  5  7 11 13 17 19 23]\n",
      "[[2, 0, 0, 0, 3, 0, 1, 0, 4], [0, 4, 2, 3, 0, 4, 0, 0, 0], [4, 0, 0, 0, 3, 0, 1, 0, 4], [4, 5, 1, 0, 4, 0, 0, 1, 0], [0, 2, 2, 1, 0, 0, 2, 0, 3], [2, 4, 2, 3, 0, 4, 0, 0, 0], [6, 0, 0, 1, 0, 2, 0, 2, 2], [4, 1, 1, 4, 0, 0, 0, 3, 1], [1, 0, 3, 1, 0, 0, 1, 2, 3], [6, 5, 1, 0, 4, 0, 0, 1, 0], [3, 0, 1, 0, 1, 4, 1, 1, 0], [2, 2, 2, 1, 0, 0, 2, 0, 3], [8, 0, 0, 1, 0, 2, 0, 2, 2]]\n",
      "[     4      1      1      1   1331      1     17      1 279841]\n",
      "-441954548\n"
     ]
    }
   ],
   "source": [
    "print(primes)\n",
    "print(results)\n",
    "print(np.power(primes, results[0]))\n",
    "print(np.power(primes, results[0]).prod()) # multiply elements of an array together"
   ]
  },
  {
   "cell_type": "code",
   "execution_count": 488,
   "metadata": {},
   "outputs": [
    {
     "name": "stdout",
     "output_type": "stream",
     "text": [
      "3621857305\n"
     ]
    }
   ],
   "source": [
    "bignum = 5*1331*79*6889\n",
    "print(bignum)"
   ]
  },
  {
   "cell_type": "code",
   "execution_count": 489,
   "metadata": {},
   "outputs": [
    {
     "name": "stdout",
     "output_type": "stream",
     "text": [
      "25327849228\n"
     ]
    }
   ],
   "source": [
    "import math\n",
    "\n",
    "nparr = np.power(primes, results[0])\n",
    "pythlist = nparr.tolist()\n",
    "result = 1\n",
    "for i in range(len(pythlist)):\n",
    "    result *= pythlist[i]\n",
    "print(result)\n"
   ]
  },
  {
   "cell_type": "code",
   "execution_count": 490,
   "metadata": {},
   "outputs": [
    {
     "name": "stdout",
     "output_type": "stream",
     "text": [
      "[[0 0 0 0 0 0 0 0 1 0 1 0 0]\n",
      " [0 0 0 1 0 0 0 1 0 1 0 0 0]\n",
      " [0 0 0 1 0 0 0 1 1 1 1 0 0]\n",
      " [0 1 0 0 1 1 1 0 1 0 0 1 1]\n",
      " [1 0 1 0 0 0 0 0 0 0 1 0 0]\n",
      " [0 0 0 0 0 0 0 0 0 0 0 0 0]\n",
      " [1 0 1 0 0 0 0 0 1 0 1 0 0]\n",
      " [0 0 0 1 0 0 0 1 0 1 1 0 0]\n",
      " [0 0 0 0 1 0 0 1 1 0 0 1 0]]\n",
      "Number of rows, number of columns:  9 13\n"
     ]
    }
   ],
   "source": [
    "## store_pows is the original matrix of powers, which we use later in the computation of y\n",
    "## We don't need to concatenate the 0 row\n",
    "\n",
    "np_array = np.array(results)\n",
    "store_pows = np_array.copy()\n",
    "\n",
    "matrixA = (np.transpose(np_array))%2\n",
    "print(matrixA)\n",
    "print(\"Number of rows, number of columns: \", len(matrixA), len(matrixA[0]))\n",
    "# print(store_pows)"
   ]
  },
  {
   "cell_type": "code",
   "execution_count": 491,
   "metadata": {},
   "outputs": [],
   "source": [
    "def drop_zero_rows(A): \n",
    "    return A[~np.all(A == 0, axis=1)]"
   ]
  },
  {
   "cell_type": "code",
   "execution_count": 492,
   "metadata": {},
   "outputs": [
    {
     "name": "stdout",
     "output_type": "stream",
     "text": [
      "Reduced row echelon form is: \n",
      "[[1 0 1 0 0 0 0 0 0 0 0 0 0]\n",
      " [0 1 0 0 0 1 1 -1 0 0 0 0 1]\n",
      " [0 0 0 1 0 0 0 1 0 1 0 0 0]\n",
      " [0 0 0 0 1 0 0 1 0 0 0 1 0]\n",
      " [0 0 0 0 0 0 0 0 1 0 0 0 0]\n",
      " [0 0 0 0 0 0 0 0 0 0 1 0 0]]\n",
      "Number of rows, number of columns:  6 13\n"
     ]
    }
   ],
   "source": [
    "from sympy import *\n",
    "\n",
    "col_num = len(matrixA[0])\n",
    "row_num = len(matrixA)\n",
    "L = Matrix(matrixA)\n",
    "\n",
    "aug_matrix = np.array(L.rref()[0])\n",
    "aug_matrix  = drop_zero_rows(aug_matrix)\n",
    "\n",
    "print(\"Reduced row echelon form is: \")\n",
    "print(aug_matrix)\n",
    "\n",
    "print(\"Number of rows, number of columns: \", len(aug_matrix), len(aug_matrix[0]))"
   ]
  },
  {
   "cell_type": "code",
   "execution_count": 493,
   "metadata": {},
   "outputs": [
    {
     "name": "stdout",
     "output_type": "stream",
     "text": [
      "[0 0 1 0 0 1 1 1 0 1 0 1 1]\n"
     ]
    }
   ],
   "source": [
    "# v: 0s are non-free variables, 1s are fixed variables which will be 1 (free or non-free),\n",
    "# 2s are fixed variables which will be 0 (free or non-free)\n",
    "\n",
    "v = np.ones(col_num, dtype = 'int')\n",
    "\n",
    "row_num = len(aug_matrix)   # the row_num has changed after dropping the 0 rows\n",
    "# find the leading entries, aka the non-free variables, set them to 0 in the v vector\n",
    "for i in range(0, row_num):\n",
    "    check_main = 1\n",
    "    for j in range(i, col_num):\n",
    "        if(aug_matrix[i][j]==1 and check_main ==1):\n",
    "            v[j]=0\n",
    "            break\n",
    "\n",
    "print(v)"
   ]
  },
  {
   "cell_type": "code",
   "execution_count": 494,
   "metadata": {},
   "outputs": [
    {
     "name": "stdout",
     "output_type": "stream",
     "text": [
      "[0 0 1 0 0 2 2 2 0 2 0 2 2]\n"
     ]
    }
   ],
   "source": [
    "# set one of the free variable to 1, all the rest of the free variables to 2.\n",
    "## THIS IS A HUGE PLACE FOR OPTIMIZATION, IF WE PICK THE RIGHT FREE VARIABLE LIFE WILL BE EASIER LATER\n",
    "\n",
    "delete_ones = False\n",
    "for i in range(0, col_num):\n",
    "    if(delete_ones==True and v[i]==1):\n",
    "        v[i]=2\n",
    "    if(v[i]==1):\n",
    "        delete_ones = True\n",
    "\n",
    "print(v)"
   ]
  },
  {
   "cell_type": "code",
   "execution_count": 495,
   "metadata": {},
   "outputs": [
    {
     "name": "stdout",
     "output_type": "stream",
     "text": [
      "[1 0 0 0 0 0 1 0 0 1 1 0 0 0 0 1]\n"
     ]
    }
   ],
   "source": [
    "a = np.array([1, 0, 0, 0, 0, 0, 1, 0, 0, 1, 1, 0, 0, 0, 0, 1])\n",
    "first = np.where(a==1)\n",
    "a[a==1] = 2\n",
    "a[first] = 1\n",
    "print(a)"
   ]
  },
  {
   "cell_type": "code",
   "execution_count": 496,
   "metadata": {},
   "outputs": [
    {
     "name": "stdout",
     "output_type": "stream",
     "text": [
      "final v vector is  [1 0 1 0 0 0 0 0 0 0 0 0 0]\n"
     ]
    }
   ],
   "source": [
    "# Optimized with numpy\n",
    "\n",
    "for i in reversed(range(0, row_num)):\n",
    "    sum = np.multiply(v, aug_matrix[i]).sum()        # equal to sum = sum + sum + v[j]*aug_matrix[i][j] for all j\n",
    "    sum = sum%2;\n",
    "    zer =(np.argwhere(v == 0).flatten())\n",
    "    if(len(zer)!=0):\n",
    "        index = zer[len(zer)-1]   # last entry\n",
    "        if(sum==0):\n",
    "            v[index] = 2\n",
    "        else:\n",
    "            v[index] = 1\n",
    "        \n",
    "print(\"final v vector is \", v%2)\n",
    "        "
   ]
  },
  {
   "cell_type": "code",
   "execution_count": 497,
   "metadata": {},
   "outputs": [
    {
     "name": "stdout",
     "output_type": "stream",
     "text": [
      "13\n",
      "[ 730049       0 1460098       0       0       0       0       0       0\n",
      "       0       0       0       0]\n",
      "[ 730049       1 1460098       1       1       1       1       1       1\n",
      "       1       1       1       1]\n"
     ]
    }
   ],
   "source": [
    "# optimized with numpy\n",
    "\n",
    "v = v%2\n",
    "print(len(v))\n",
    "x = np.multiply(nums, v)     # element-wise multiplication of two arrays\n",
    "print(x)\n",
    "x[x==0] = 1\n",
    "\n",
    "print(x)\n",
    "int_x = 1\n",
    "\n",
    "for k in x:\n",
    "    int_x = int_x*int(k)\n",
    "\n",
    "x = int_x      # prod is essentially multiplying elements of an array together\n",
    "#print(224971*449942)"
   ]
  },
  {
   "cell_type": "code",
   "execution_count": 498,
   "metadata": {},
   "outputs": [
    {
     "name": "stdout",
     "output_type": "stream",
     "text": [
      "[[2 0 0 0 3 0 1 0 4]\n",
      " [4 0 0 0 3 0 1 0 4]]\n"
     ]
    }
   ],
   "source": [
    "\n",
    "indices = flatten(np.argwhere(v==1))\n",
    "\n",
    "new_store_pows = np.empty([len(indices), len(primes)], dtype = 'int')\n",
    "i = 0\n",
    "for k in indices:\n",
    "    new_store_pows[i] = (np.array(store_pows[k], dtype = 'int'))\n",
    "    i+=1\n",
    "#print(new_store_pows)\n",
    "#print(store_pows)\n",
    "store_pows = new_store_pows\n",
    "print(store_pows)\n"
   ]
  },
  {
   "cell_type": "code",
   "execution_count": 499,
   "metadata": {},
   "outputs": [
    {
     "name": "stdout",
     "output_type": "stream",
     "text": [
      "y_v:  [3. 0. 0. 0. 3. 0. 1. 0. 4.]\n",
      "[8.00000e+00 1.00000e+00 1.00000e+00 1.00000e+00 1.33100e+03 1.00000e+00\n",
      " 1.70000e+01 1.00000e+00 2.79841e+05]\n",
      "x is  1065943084802 , y is  50655698456.0\n",
      "101113021682\n"
     ]
    }
   ],
   "source": [
    "y_v  = np.zeros(size_of_bound)\n",
    "\n",
    "for i in range(len(indices)):\n",
    "    y_v = np.add(y_v, store_pows[i])\n",
    "\n",
    "y_v = y_v/2\n",
    "print(\"y_v: \", y_v)\n",
    "\n",
    "y = 1\n",
    "z = np.power(primes, y_v)\n",
    "print(z)\n",
    "y = y*z\n",
    "\n",
    "\n",
    "y = np.prod(y)   # no need to check y_v == 0, since anything raised to 0 is 1, and on multiplication, 1 has no effect\n",
    "    \n",
    "print(\"x is \", x, \", y is \", y)\n",
    "print(101223901682 - 110880000)"
   ]
  },
  {
   "cell_type": "code",
   "execution_count": 500,
   "metadata": {},
   "outputs": [],
   "source": [
    "def gcd(a, b):\n",
    "    a,b = b, a%b\n",
    "    print(a, b)\n",
    "    return a"
   ]
  },
  {
   "cell_type": "code",
   "execution_count": 501,
   "metadata": {},
   "outputs": [
    {
     "name": "stdout",
     "output_type": "stream",
     "text": [
      "169214564391 0\n",
      "Factor 1:  169214564391\n",
      "Factor 2:  1\n",
      "Time: 76.95597434043884      1.2825995723406474\n",
      "Runtime in seconds:  76.956\n"
     ]
    }
   ],
   "source": [
    "if(the_number%int(x -int(y)) == 0):\n",
    "    k = int(x -int(y))\n",
    "else:\n",
    "    k = gcd(int(x -int(y))%the_number, the_number)\n",
    "\n",
    "end_time = time.time()\n",
    "print('Factor 1: ',k)\n",
    "print ('Factor 2: ', int(the_number/k)) \n",
    "print('Runtime in seconds: ', round(calc_time(begin_time, end_time), 4))"
   ]
  },
  {
   "cell_type": "code",
   "execution_count": null,
   "metadata": {},
   "outputs": [],
   "source": []
  },
  {
   "cell_type": "code",
   "execution_count": null,
   "metadata": {},
   "outputs": [],
   "source": []
  }
 ],
 "metadata": {
  "kernelspec": {
   "display_name": "Python 3",
   "language": "python",
   "name": "python3"
  },
  "language_info": {
   "codemirror_mode": {
    "name": "ipython",
    "version": 3
   },
   "file_extension": ".py",
   "mimetype": "text/x-python",
   "name": "python",
   "nbconvert_exporter": "python",
   "pygments_lexer": "ipython3",
   "version": "3.7.4"
  }
 },
 "nbformat": 4,
 "nbformat_minor": 4
}
