{
 "cells": [
  {
   "cell_type": "markdown",
   "metadata": {},
   "source": [
    "# MATH 404 Computational Assignment Quadratic Sieve\n",
    "## Samia Zaman, Teodora Petkova"
   ]
  },
  {
   "cell_type": "markdown",
   "metadata": {},
   "source": [
    "To run this project, click on run all cells, from the \"Cell\" drop-down meny and enter a $n$ of your choice in the prompt below. Then scroll down to the last cell to see the prime factors of $n$ and the time it took the code to find them. <br>"
   ]
  },
  {
   "cell_type": "code",
   "execution_count": 123,
   "metadata": {},
   "outputs": [],
   "source": [
    "import math\n",
    "import numpy as np\n",
    "from sympy import *\n",
    "import time "
   ]
  },
  {
   "cell_type": "markdown",
   "metadata": {},
   "source": [
    "#### Choose the value of N:"
   ]
  },
  {
   "cell_type": "code",
   "execution_count": 124,
   "metadata": {},
   "outputs": [
    {
     "name": "stdout",
     "output_type": "stream",
     "text": [
      "34927963314430763\n"
     ]
    }
   ],
   "source": [
    "start = time.time()\n",
    "n = int(input())\n",
    "\n",
    "# Set the bound according to n\n",
    "k = math.log(n)\n",
    "k = k*math.log(k)\n",
    "k = math.exp(math.sqrt(k))\n",
    "k = math.pow(k, math.sqrt(2)/4)\n",
    "bound = int(k)\n"
   ]
  },
  {
   "cell_type": "markdown",
   "metadata": {},
   "source": [
    "#### Function block:\n",
    "\n",
    "This cell contains all of the functions used in our code. Each function has  its inputs, outputs, and a short description of what it does in the comments above it. "
   ]
  },
  {
   "cell_type": "code",
   "execution_count": 125,
   "metadata": {},
   "outputs": [],
   "source": [
    "# input: start and end time stamps\n",
    "# output: the times which passed between the time stamps\n",
    "# The function is used to measure the time for our algorithm.\n",
    "\n",
    "def calc_time(start, end):\n",
    "    seconds = end - start\n",
    "    mins = seconds / 60\n",
    "    print('Time in seconds: ', str(round(seconds, 4)), ', Time in minutes: ', str(round(mins, 4)))\n",
    "    return seconds, mins\n",
    "\n",
    "### ----------------------------------------------\n",
    "\n",
    "# input: a positive integer bound\n",
    "# output: a list of all primes less than or equal to bound\n",
    "# The function is an implementation of Eratosthenes' sieve.\n",
    "\n",
    "def get_primes_less_thanB(bound):                      # eratosthenes way\n",
    "    check_until = int(bound**0.5)\n",
    "    unmarked = np.array([x for x in range(2, bound)])\n",
    "    q = 2\n",
    "    i = 0\n",
    "    while True:\n",
    "        u = unmarked[i]\n",
    "        if u> check_until:               # only check numbers up to sqrt(bound)\n",
    "            break\n",
    "        u_idx = np.where(unmarked == u)[0][0]\n",
    "        max_idx = bound//u\n",
    "        listof_multiples = [u*i for i in range(q, max_idx+1)]\n",
    "        u_multiples = np.array(listof_multiples)\n",
    "        unmarked = np.setdiff1d(unmarked, u_multiples)   # numpy set diff without changing order of elements in list\n",
    "        q = u\n",
    "        i +=1\n",
    "    print(\"Number of elements less than bound = \", bound, \" is: \", len(unmarked))\n",
    "    return (unmarked)\n",
    "\n",
    "### ----------------------------------------------\n",
    "\n",
    "# input: a list of primes and an integer\n",
    "# output: a list of all powers of the primes from the list in the prime\n",
    "#         factorization of the number. If the number contains primes \n",
    "#         larger than the primes in the list, the function returns an empty list.\n",
    "# This function is used in the sieveing process, to check if the sieving candidates\n",
    "# are Bsmooth or not.\n",
    "def check_Bsmooth(primes, num):\n",
    "    powers_of_primes= []\n",
    "    num_remaining= num                         \n",
    "    for prime in primes: \n",
    "        i = 0                                   # i = power of prime\n",
    "        if (num_remaining%prime == 0):\n",
    "            while (num_remaining%prime ==0):   #keep dividing for each power of the prime\n",
    "                quotient = num_remaining/prime\n",
    "                num_remaining = quotient\n",
    "                i +=1\n",
    "        powers_of_primes.append(i)\n",
    "        if num_remaining == 1:     \n",
    "            diff = len(primes)-len(powers_of_primes)\n",
    "            if diff>0:\n",
    "                zeros = [0 for k in range(diff)]\n",
    "                return powers_of_primes + zeros\n",
    "            return powers_of_primes\n",
    "    return []\n",
    "\n",
    "### ----------------------------------------------\n",
    "\n",
    "# input: a list of primes, a number n, and a multiple of n\n",
    "# output: a list containing the powers of primes for each of the Bsmooth residues,\n",
    "#         a list containing the residues themselves,\n",
    "#         the count of numbers checked for a Bsmooth residue,\n",
    "#         the squares from which the residues mod n were derived,\n",
    "#         the numbers themselves, which were squared to get the squares in the previous line\n",
    "\n",
    "# This is the sieving function. It finds the B-smooth numbers needed for the matrix.\n",
    "# It finds 10 more Bsmooth numbers than the number of primes,\n",
    "# so we can always have a solution of the matrix.\n",
    "\n",
    "def generate_BSsquares(primes, n, multiple):\n",
    "    exponents_list = []             # Add other fancy ways of finding candidates for xsquare\n",
    "    xsquares = []           # the x\n",
    "    x_vals = []\n",
    "    residues = []           # the y\n",
    "    iters = 0\n",
    "    while(True):\n",
    "        x = int(math.sqrt(n*multiple)) +1\n",
    "        xsquare = x**2\n",
    "        residue = xsquare%n\n",
    "        exp_vec = check_Bsmooth(primes, residue)\n",
    "        if exp_vec != []:\n",
    "            residues.append(residue)   # x^2\n",
    "            xsquares.append(xsquare)\n",
    "            exponents_list.append(exp_vec)\n",
    "            x_vals.append(x)\n",
    "            print(\"Found B-smooth square! with exponents: \", exp_vec, \" and quadratic residue: \", residue)\n",
    "        if len(residues) > len(primes)+13 :\n",
    "            print(\"Breaking, len of residues: \", len(residues), \" len of primes: \", len(primes))\n",
    "            break\n",
    "        multiple += 1\n",
    "        iters += 1\n",
    "    return [exponents_list, residues, iters, xsquares, x_vals]\n",
    "\n",
    "\n",
    "### ----------------------------------------------\n",
    "\n",
    "# input: a 2D matrix\n",
    "# output: the input matrix without all of its rows which have only zeros and an integer evens\n",
    "# The function is used later to remove all zero rows to ease the row reduction process\n",
    "\n",
    "def drop_zero_rows(A):     \n",
    "    evens = 0\n",
    "    return [A[~np.all(A == 0, axis=1)], evens]\n",
    "\n",
    "### ----------------------------------------------\n",
    "\n",
    "# input: a vector of zeros and ones and a vector of numbers of the same size\n",
    "# ouput: the product the numbers in the second vector,\n",
    "#        which have a corresponding 1 in the first vector.\n",
    "# A helper function for later calculations.\n",
    "\n",
    "def get_product(v, num_list):  # just multiply all RELEVANT (depends on v) numbers in a list together\n",
    "    product= 1       \n",
    "    for i in range(len(v)):\n",
    "        if v[i] ==0:\n",
    "            continue\n",
    "        product = product * num_list[i]\n",
    "    return product\n",
    "\n",
    "### ----------------------------------------------\n",
    "\n",
    "# input: a row reduced matrix mod 2. (It is not augmented, even though the name says so.)\n",
    "# output: a combination vector(described in the binary_add_arr function later) set to [0, 0, ...., 0, 1],\n",
    "#         a vector with the indices of all columns which do not have a pivot value\n",
    "# The function is used to initialize the combinations of non-pivot value residues which\n",
    "# we want to use to find a solution of the matrix.\n",
    "\n",
    "def set_v_comb_array(aug_matrix):\n",
    "   \n",
    "    # first set v to have all 0s for pivot columns, 1 for the others\n",
    "    col_num = len(aug_matrix[0])\n",
    "    row_num = len(aug_matrix)\n",
    "    v = np.ones(col_num, dtype = 'int')\n",
    "    \n",
    "    for i in range(0, row_num):\n",
    "        check_main = 1\n",
    "        for j in range(i, col_num):\n",
    "            if(aug_matrix[i][j]==1 and check_main ==1):\n",
    "                v[j]=0\n",
    "                break\n",
    "    \n",
    "    # generate v_combs\n",
    "    count_free = np.sum(v); # gives us the count of the non-pivot columns.\n",
    "    v_combs = np.zeros(count_free, dtype = 'int')\n",
    "    v_combs[count_free-1] = 1;\n",
    "    indices_of_free_vars = np.zeros(count_free, dtype= 'int')\n",
    "    \n",
    "    # generate indices_of_free_vars\n",
    "    k=0;\n",
    "    for i in range(0, col_num):\n",
    "        if(v[i]==1):\n",
    "            indices_of_free_vars[k] = i;\n",
    "            k+=1;\n",
    "    \n",
    "    return [v_combs, indices_of_free_vars]\n",
    "\n",
    "### ----------------------------------------------\n",
    "\n",
    "#input: the row reduced matrix, the current combination vector,\n",
    "#       the indices array from the function above, rows and columns numbers of the matrix.\n",
    "#output: the vector used to calculate x, y. It has 0s for the residues that are not used, 1s for the residues that are used.\n",
    "# This function is used to calculate the values of the pivot column residues which correspond to the current \n",
    "# combination of non-pivot column residues.\n",
    "\n",
    "def calc_v(L, v_combs, v_indices, rows, cols):\n",
    "    # create r, such that the only 1s are the free variables specified by v_combs\n",
    "    # the rest of the free variables are 2s, and the non-free ones are 0s\n",
    "    \n",
    "    r = np.zeros(cols, dtype ='int')\n",
    "    for i in range(0, len(v_combs)):\n",
    "        if(v_combs[i]==1):\n",
    "            r[v_indices[i]] = 1;\n",
    "        else:\n",
    "            r[v_indices[i]] =2;  \n",
    "    \n",
    "    for i in reversed(range(0, rows)):\n",
    "        sum =0\n",
    "        for j in range(0, cols):\n",
    "            sum = sum + r[j]*L[i][j];\n",
    "        zer =(np.argwhere(r == 0).flatten())\n",
    "        sum = sum%2;\n",
    "        if(len(zer)!=0):\n",
    "            index = zer[len(zer)-1]\n",
    "    \n",
    "            if(sum==0):\n",
    "                r[index] = 2\n",
    "            else:\n",
    "                r[index] = 1\n",
    "\n",
    "    #print(\"final r vector is \", r%2)\n",
    "    return r%2\n",
    "\n",
    "### ----------------------------------------------\n",
    "\n",
    "# This function is used to do generate all combinations of an input vector when called 2^{size(vector)} times.\n",
    "# It works on the following principle:\n",
    "# Each index of the array from which we want to generate combinations is either represented or not in the combination\n",
    "# Hence, the indices of the array can be represented in an array of 0s and 1s\n",
    "\n",
    "# Example:\n",
    "# Array: [2, 3, 4, 5, 6]\n",
    "# comb_arr: [0, 0, 0, 0, 1]\n",
    "# combination: [6]\n",
    "\n",
    "# comb_arr: [0, 0, 0, 1, 1]\n",
    "# combination: [5, 6]\n",
    "\n",
    "# comb_arr: [1, 0, 1, 1, 0]\n",
    "# combination: [2, 4, 5]\n",
    "\n",
    "# Hence, by starting from comb_arr = [0,0,0,...,0, 1] and incrementing the array similarly to a binary number, we get \n",
    "# an exhaustive list of all possible combinations of k elements.\n",
    "\n",
    "def binary_add_arr(comb_arr):\n",
    "    #for i in reverse(range(0, len(comb_arr))):\n",
    "    i = len(comb_arr) -1\n",
    "    while(comb_arr[i]==1):\n",
    "        comb_arr[i] = 0;\n",
    "        i-=1;\n",
    "    if(i>=0):\n",
    "        comb_arr[i] = 1;\n",
    "    else:\n",
    "        return -1\n",
    "    return comb_arr\n",
    "\n",
    "# input: two integers x, n\n",
    "# output: the nth root of x\n",
    "# The credit for this function goes to https://riptutorial.com/python/example/8751/computing-large-integer-roots\n",
    "# It calculates accuretely roots of large nums.\n",
    "\n",
    "def nth_root(x, n):\n",
    "    # Start with some reasonable bounds around the nth root.\n",
    "    upper_bound = 1\n",
    "    while upper_bound ** n <= x:\n",
    "        upper_bound *= 2\n",
    "    lower_bound = upper_bound // 2\n",
    "    # Keep searching for a better result as long as the bounds make sense.\n",
    "    while lower_bound < upper_bound:\n",
    "        mid = (lower_bound + upper_bound) // 2\n",
    "        mid_nth = mid ** n\n",
    "        if lower_bound < mid and mid_nth < x:\n",
    "            lower_bound = mid\n",
    "        elif upper_bound > mid and mid_nth > x:\n",
    "            upper_bound = mid\n",
    "        else:\n",
    "            # Found perfect nth root.\n",
    "            return mid\n",
    "    return mid + 1"
   ]
  },
  {
   "cell_type": "markdown",
   "metadata": {},
   "source": [
    "#### B-smooth numbers generation:"
   ]
  },
  {
   "cell_type": "code",
   "execution_count": 126,
   "metadata": {},
   "outputs": [
    {
     "name": "stdout",
     "output_type": "stream",
     "text": [
      "Number of elements less than bound =  64  is:  18\n"
     ]
    }
   ],
   "source": [
    "primes = np.array(get_primes_less_thanB(bound))"
   ]
  },
  {
   "cell_type": "code",
   "execution_count": 127,
   "metadata": {},
   "outputs": [
    {
     "name": "stdout",
     "output_type": "stream",
     "text": [
      "Found B-smooth square! with exponents:  [0, 1, 0, 0, 0, 1, 1, 0, 0, 1, 2, 0, 0, 0, 0, 1, 0, 0]  and quadratic residue:  979288791\n",
      "Found B-smooth square! with exponents:  [2, 1, 0, 0, 0, 1, 1, 0, 0, 1, 2, 0, 0, 0, 0, 1, 0, 0]  and quadratic residue:  3917155164\n",
      "Found B-smooth square! with exponents:  [0, 3, 3, 0, 1, 0, 1, 0, 0, 2, 0, 0, 0, 0, 1, 0, 0, 0]  and quadratic residue:  24946477875\n",
      "Found B-smooth square! with exponents:  [0, 3, 0, 0, 0, 1, 1, 0, 0, 1, 2, 0, 0, 0, 0, 1, 0, 0]  and quadratic residue:  8813599119\n",
      "Found B-smooth square! with exponents:  [1, 1, 0, 0, 0, 1, 0, 0, 1, 1, 0, 0, 0, 0, 0, 2, 1, 0]  and quadratic residue:  8622321006\n",
      "Found B-smooth square! with exponents:  [0, 2, 0, 3, 0, 0, 0, 0, 0, 0, 2, 0, 1, 0, 1, 0, 0, 0]  and quadratic residue:  5716651689\n",
      "Found B-smooth square! with exponents:  [0, 2, 0, 2, 3, 0, 0, 0, 1, 0, 0, 1, 0, 0, 0, 1, 0, 0]  and quadratic residue:  26474153013\n",
      "Found B-smooth square! with exponents:  [0, 2, 3, 1, 0, 0, 0, 0, 2, 1, 0, 1, 0, 0, 0, 0, 0, 0]  and quadratic residue:  4469983875\n",
      "Found B-smooth square! with exponents:  [4, 1, 0, 0, 0, 1, 1, 0, 0, 1, 2, 0, 0, 0, 0, 1, 0, 0]  and quadratic residue:  15668620656\n",
      "Found B-smooth square! with exponents:  [0, 1, 2, 0, 0, 1, 1, 0, 0, 1, 2, 0, 0, 0, 0, 1, 0, 0]  and quadratic residue:  24482219775\n",
      "Found B-smooth square! with exponents:  [2, 3, 3, 0, 1, 0, 1, 0, 0, 2, 0, 0, 0, 0, 1, 0, 0, 0]  and quadratic residue:  99785911500\n",
      "Found B-smooth square! with exponents:  [4, 0, 0, 0, 1, 0, 1, 3, 0, 0, 0, 0, 0, 0, 1, 1, 0, 0]  and quadratic residue:  51120620848\n",
      "Found B-smooth square! with exponents:  [2, 3, 0, 0, 0, 1, 1, 0, 0, 1, 2, 0, 0, 0, 0, 1, 0, 0]  and quadratic residue:  35254396476\n",
      "Found B-smooth square! with exponents:  [0, 1, 1, 0, 2, 0, 0, 0, 0, 2, 2, 0, 0, 0, 0, 0, 1, 0]  and quadratic residue:  86546204085\n",
      "Found B-smooth square! with exponents:  [0, 0, 1, 0, 0, 2, 0, 0, 0, 3, 1, 0, 0, 0, 1, 0, 0, 0]  and quadratic residue:  30026883185\n",
      "Found B-smooth square! with exponents:  [3, 1, 0, 0, 0, 1, 0, 0, 1, 1, 0, 0, 0, 0, 0, 2, 1, 0]  and quadratic residue:  34489284024\n",
      "Found B-smooth square! with exponents:  [2, 2, 0, 3, 0, 0, 0, 0, 0, 0, 2, 0, 1, 0, 1, 0, 0, 0]  and quadratic residue:  22866606756\n",
      "Found B-smooth square! with exponents:  [2, 2, 0, 2, 3, 0, 0, 0, 1, 0, 0, 1, 0, 0, 0, 1, 0, 0]  and quadratic residue:  105896612052\n",
      "Found B-smooth square! with exponents:  [0, 1, 0, 2, 0, 1, 1, 0, 0, 1, 2, 0, 0, 0, 0, 1, 0, 0]  and quadratic residue:  47985150759\n",
      "Found B-smooth square! with exponents:  [2, 2, 3, 1, 0, 0, 0, 0, 2, 1, 0, 1, 0, 0, 0, 0, 0, 0]  and quadratic residue:  17879935500\n",
      "Found B-smooth square! with exponents:  [6, 1, 0, 0, 0, 1, 1, 0, 0, 1, 2, 0, 0, 0, 0, 1, 0, 0]  and quadratic residue:  62674482624\n",
      "Found B-smooth square! with exponents:  [0, 1, 0, 4, 1, 0, 1, 1, 1, 0, 0, 0, 0, 1, 0, 0, 0, 0]  and quadratic residue:  25310744151\n",
      "Found B-smooth square! with exponents:  [1, 2, 2, 1, 2, 5, 0, 0, 0, 0, 0, 0, 0, 0, 0, 0, 0, 0]  and quadratic residue:  141518326950\n",
      "Found B-smooth square! with exponents:  [0, 5, 0, 0, 0, 1, 1, 0, 0, 1, 2, 0, 0, 0, 0, 1, 0, 0]  and quadratic residue:  79322392071\n",
      "Found B-smooth square! with exponents:  [0, 0, 0, 0, 0, 2, 3, 0, 0, 0, 0, 0, 1, 2, 0, 0, 0, 0]  and quadratic residue:  62943985273\n",
      "Found B-smooth square! with exponents:  [5, 0, 1, 1, 1, 1, 0, 0, 0, 0, 1, 1, 0, 0, 1, 0, 0, 0]  and quadratic residue:  8634065440\n",
      "Found B-smooth square! with exponents:  [1, 3, 0, 0, 0, 1, 0, 0, 1, 1, 0, 0, 0, 0, 0, 2, 1, 0]  and quadratic residue:  77600889054\n",
      "Found B-smooth square! with exponents:  [2, 1, 2, 0, 0, 1, 1, 0, 0, 1, 2, 0, 0, 0, 0, 1, 0, 0]  and quadratic residue:  97928879100\n",
      "Found B-smooth square! with exponents:  [0, 4, 0, 3, 0, 0, 0, 0, 0, 0, 2, 0, 1, 0, 1, 0, 0, 0]  and quadratic residue:  51449865201\n",
      "Found B-smooth square! with exponents:  [2, 1, 0, 1, 0, 0, 0, 0, 0, 1, 0, 1, 0, 0, 2, 0, 1, 0]  and quadratic residue:  11746993692\n",
      "Found B-smooth square! with exponents:  [5, 0, 0, 0, 0, 0, 3, 0, 0, 0, 0, 0, 0, 0, 2, 0, 0, 0]  and quadratic residue:  347290144\n",
      "Found B-smooth square! with exponents:  [0, 3, 1, 2, 0, 1, 0, 0, 0, 2, 0, 1, 0, 0, 0, 0, 0, 1]  and quadratic residue:  163230291315\n",
      "Breaking, len of residues:  32  len of primes:  18\n",
      "The needed Bsmooth numbers were found in this many iterations:  329746\n",
      "\n",
      "B smooth numbers found:  [10095533515, 20191067030, 26169306004, 30286600545, 33424106669, 34395929605, 34491757834, 40190963156, 40382134060, 50477667575, 52338612008, 59350821631, 60573201090, 63100578714, 66206907586, 66848213338, 68791859210, 68983515668, 70668734605, 80381926312, 80764268120, 81104982948, 90102226927, 90859801635, 95313474778, 96820510689, 100272320007, 100955335150, 103187788815, 106115319445, 107195363085, 107319108826]\n"
     ]
    }
   ],
   "source": [
    "multiple = 1\n",
    "results = generate_BSsquares(primes, n, multiple)\n",
    "\n",
    "print(\"The needed Bsmooth numbers were found in this many iterations: \", results[2])\n",
    "print(\"\\nB smooth numbers found: \", results[4])"
   ]
  },
  {
   "cell_type": "markdown",
   "metadata": {},
   "source": [
    "#### Matrix equation part of the algorithm:\n",
    "The prime powers of the residues are converted to a matrix, and a vector $\\mathbf v$ is built, which when multiplied by the matrix gives $\\mathbf 0$. Two cases are considered - when all Bsmooth residues are squares $\\pmod n$, and when there is at least one which is not a square. <br>\n",
    "\n",
    "Each column in the matrix representes the vector of prime powers of a Bsmooth residue. Each row represents the powers of a prime less than the bound in each of the B-smooth residues.<br>\n",
    "\n",
    "The *results* array on top provides us with:<br>\n",
    "    $\\qquad\\cdot$ A 2D array of the powers of the primes in the corresponding residues.<br>\n",
    "    $\\qquad\\cdot$ A vector of the Bsmooth residues $\\pmod n$.<br>\n",
    "    $\\qquad\\cdot$ The number of iterations needed to find the residues.<br>\n",
    "    $\\qquad\\cdot$ The squares which get those residues. <br>\n",
    "    $\\qquad\\cdot$ The roots of the squares which get those residues. <br>"
   ]
  },
  {
   "cell_type": "code",
   "execution_count": 128,
   "metadata": {},
   "outputs": [
    {
     "name": "stdout",
     "output_type": "stream",
     "text": [
      "Initial matrix mod 2:\n",
      " [[0 0 0 0 1 0 0 0 0 0 0 0 0 0 0 1 0 0 0 0 0 0 1 0 0 1 1 0 0 0 1 0]\n",
      " [1 1 1 1 1 0 0 0 1 1 1 0 1 1 0 1 0 0 1 0 1 1 0 1 0 0 1 1 0 1 0 1]\n",
      " [0 0 1 0 0 0 0 1 0 0 1 0 0 1 1 0 0 0 0 1 0 0 0 0 0 1 0 0 0 0 0 1]\n",
      " [0 0 0 0 0 1 0 1 0 0 0 0 0 0 0 0 1 0 0 1 0 0 1 0 0 1 0 0 1 1 0 0]\n",
      " [0 0 1 0 0 0 1 0 0 0 1 1 0 0 0 0 0 1 0 0 0 1 0 0 0 1 0 0 0 0 0 0]\n",
      " [1 1 0 1 1 0 0 0 1 1 0 0 1 0 0 1 0 0 1 0 1 0 1 1 0 1 1 1 0 0 0 1]\n",
      " [1 1 1 1 0 0 0 0 1 1 1 1 1 0 0 0 0 0 1 0 1 1 0 1 1 0 0 1 0 0 1 0]\n",
      " [0 0 0 0 0 0 0 0 0 0 0 1 0 0 0 0 0 0 0 0 0 1 0 0 0 0 0 0 0 0 0 0]\n",
      " [0 0 0 0 1 0 1 0 0 0 0 0 0 0 0 1 0 1 0 0 0 1 0 0 0 0 1 0 0 0 0 0]\n",
      " [1 1 0 1 1 0 0 1 1 1 0 0 1 0 1 1 0 0 1 1 1 0 0 1 0 0 1 1 0 1 0 0]\n",
      " [0 0 0 0 0 0 0 0 0 0 0 0 0 0 1 0 0 0 0 0 0 0 0 0 0 1 0 0 0 0 0 0]\n",
      " [0 0 0 0 0 0 1 1 0 0 0 0 0 0 0 0 0 1 0 1 0 0 0 0 0 1 0 0 0 1 0 1]\n",
      " [0 0 0 0 0 1 0 0 0 0 0 0 0 0 0 0 1 0 0 0 0 0 0 0 1 0 0 0 1 0 0 0]\n",
      " [0 0 0 0 0 0 0 0 0 0 0 0 0 0 0 0 0 0 0 0 0 1 0 0 0 0 0 0 0 0 0 0]\n",
      " [0 0 1 0 0 1 0 0 0 0 1 1 0 0 1 0 1 0 0 0 0 0 0 0 0 1 0 0 1 0 0 0]\n",
      " [1 1 0 1 0 0 1 0 1 1 0 1 1 0 0 0 0 1 1 0 1 0 0 1 0 0 0 1 0 0 0 0]\n",
      " [0 0 0 0 1 0 0 0 0 0 0 0 0 1 0 1 0 0 0 0 0 0 0 0 0 0 1 0 0 1 0 0]\n",
      " [0 0 0 0 0 0 0 0 0 0 0 0 0 0 0 0 0 0 0 0 0 0 0 0 0 0 0 0 0 0 0 1]]\n"
     ]
    }
   ],
   "source": [
    "A = np.array(results[0])      # results = [exponents_list, residues, iters, xsquares]\n",
    "store_pows = A.copy()\n",
    "A = (np.transpose(A))%2\n",
    "print('Initial matrix mod 2:\\n', A)"
   ]
  },
  {
   "cell_type": "code",
   "execution_count": 129,
   "metadata": {},
   "outputs": [
    {
     "name": "stdout",
     "output_type": "stream",
     "text": [
      "Row reduced matrix: \n",
      " [[1 1 0 1 0 0 0 0 1 1 0 0 1 0 0 0 0 0 1 0 1 0 0 1 0 0 0 1 0 0 0 0]\n",
      " [0 0 1 0 0 0 0 0 0 0 1 0 0 0 0 0 0 0 0 0 0 0 0 0 0 0 0 0 0 0 0 0]\n",
      " [0 0 0 0 1 0 0 0 0 0 0 0 0 0 0 1 0 0 0 0 0 0 0 0 0 0 1 0 0 0 0 0]\n",
      " [0 0 0 0 0 1 0 0 0 0 0 0 0 0 0 0 1 0 0 0 0 0 0 0 0 0 0 0 1 0 0 0]\n",
      " [0 0 0 0 0 0 1 0 0 0 0 0 0 0 0 0 0 1 0 0 0 0 0 0 0 0 0 0 0 0 0 0]\n",
      " [0 0 0 0 0 0 0 1 0 0 0 0 0 0 0 0 0 0 0 1 0 0 0 0 0 0 0 0 0 0 0 0]\n",
      " [0 0 0 0 0 0 0 0 0 0 0 1 0 0 0 0 0 0 0 0 0 0 0 0 0 0 0 0 0 0 0 0]\n",
      " [0 0 0 0 0 0 0 0 0 0 0 0 0 1 0 0 0 0 0 0 0 0 0 0 0 0 0 0 0 0 0 0]\n",
      " [0 0 0 0 0 0 0 0 0 0 0 0 0 0 1 0 0 0 0 0 0 0 0 0 0 0 0 0 0 0 0 0]\n",
      " [0 0 0 0 0 0 0 0 0 0 0 0 0 0 0 0 0 0 0 0 0 1 0 0 0 0 0 0 0 0 0 0]\n",
      " [0 0 0 0 0 0 0 0 0 0 0 0 0 0 0 0 0 0 0 0 0 0 1 0 0 0 0 0 0 0 0 0]\n",
      " [0 0 0 0 0 0 0 0 0 0 0 0 0 0 0 0 0 0 0 0 0 0 0 0 1 0 0 0 0 0 0 0]\n",
      " [0 0 0 0 0 0 0 0 0 0 0 0 0 0 0 0 0 0 0 0 0 0 0 0 0 1 0 0 0 0 0 0]\n",
      " [0 0 0 0 0 0 0 0 0 0 0 0 0 0 0 0 0 0 0 0 0 0 0 0 0 0 0 0 0 1 0 0]\n",
      " [0 0 0 0 0 0 0 0 0 0 0 0 0 0 0 0 0 0 0 0 0 0 0 0 0 0 0 0 0 0 1 0]\n",
      " [0 0 0 0 0 0 0 0 0 0 0 0 0 0 0 0 0 0 0 0 0 0 0 0 0 0 0 0 0 0 0 1]\n",
      " [0 0 0 0 0 0 0 0 0 0 0 0 0 0 0 0 0 0 0 0 0 0 0 0 0 0 0 0 0 0 0 0]\n",
      " [0 0 0 0 0 0 0 0 0 0 0 0 0 0 0 0 0 0 0 0 0 0 0 0 0 0 0 0 0 0 0 0]]\n"
     ]
    }
   ],
   "source": [
    "col_num = len(A[0])\n",
    "row_num = len(A)\n",
    "L = Matrix(A)\n",
    "L = np.array(L.rref()[0])%2\n",
    "\n",
    "print('Row reduced matrix: \\n', L)# reduced row echelon form\n",
    "\n",
    "L2  = drop_zero_rows(L)[0]        # get rid of primes we don't have to worry about in general\n",
    "L2 = L2 %2    "
   ]
  },
  {
   "cell_type": "markdown",
   "metadata": {},
   "source": [
    "#### All residues are squares:\n",
    "\n",
    "In the next cell we explore the possibility that all B-smooth residues are squares, thus after the dropping of the zero rows, the result is an empty matrix. Since any vector could be the solution to such a matrix equation, to find a solution, we build a combination vector for all residues, and multiply different combinations of them, until we get a combination of $x, y$ values for which $x\\not\\equiv \\pm y\\pmod n$. <br>"
   ]
  },
  {
   "cell_type": "code",
   "execution_count": 130,
   "metadata": {},
   "outputs": [],
   "source": [
    "L2_empty =0\n",
    "if(len(L2)==0):\n",
    "    L2_empty = 1\n",
    "    even_comb = np.zeros(col_num)\n",
    "    even_comb[col_num-1] =1;\n",
    "    \n",
    "    residues = results[1]    \n",
    "    ysq = get_product(even_comb, residues) \n",
    "    y = nth_root(ysq, 2)\n",
    "\n",
    "    x_vals = results[4]\n",
    "    x = get_product(even_comb, x_vals)\n",
    "    \n",
    "    while ((x-y)%n==0 or (x+y)%n==0 or(y-x)%n==0):\n",
    "        even_comb = binary_add_arr(even_comb)\n",
    "        x = get_product(even_comb, x_vals)\n",
    "        ysq = get_product(even_comb, residues) \n",
    "        y = nth_root(ysq, 2)\n",
    "        \n",
    "    diff = abs(x-y)\n",
    "\n",
    "    gcd = math.gcd(diff, n)\n",
    "    \n",
    "    # The factors are generated here, but printed in the bottom of the code.\n",
    "    factor1 = gcd\n",
    "    factor2 = int(n/gcd)\n",
    "    \n",
    "    end = time.time()    \n",
    "    \n"
   ]
  },
  {
   "cell_type": "markdown",
   "metadata": {},
   "source": [
    "#### There is at least one non-square residue\n",
    "In the following cells we follow the same algorithm we used for the previous case, however this time we have pivot values in the matrix which need to be calculated corresponding to the values of the non-pivot indices. Hence this time instead of combinations of all residues, we consider different combinations of the non-pivot residues and their corresponding pivot residues.<br>"
   ]
  },
  {
   "cell_type": "code",
   "execution_count": 131,
   "metadata": {},
   "outputs": [
    {
     "name": "stdout",
     "output_type": "stream",
     "text": [
      "Row reduced echelon form mod 2 is: \n",
      "[[1 1 0 1 0 0 0 0 1 1 0 0 1 0 0 0 0 0 1 0 1 0 0 1 0 0 0 1 0 0 0 0]\n",
      " [0 0 1 0 0 0 0 0 0 0 1 0 0 0 0 0 0 0 0 0 0 0 0 0 0 0 0 0 0 0 0 0]\n",
      " [0 0 0 0 1 0 0 0 0 0 0 0 0 0 0 1 0 0 0 0 0 0 0 0 0 0 1 0 0 0 0 0]\n",
      " [0 0 0 0 0 1 0 0 0 0 0 0 0 0 0 0 1 0 0 0 0 0 0 0 0 0 0 0 1 0 0 0]\n",
      " [0 0 0 0 0 0 1 0 0 0 0 0 0 0 0 0 0 1 0 0 0 0 0 0 0 0 0 0 0 0 0 0]\n",
      " [0 0 0 0 0 0 0 1 0 0 0 0 0 0 0 0 0 0 0 1 0 0 0 0 0 0 0 0 0 0 0 0]\n",
      " [0 0 0 0 0 0 0 0 0 0 0 1 0 0 0 0 0 0 0 0 0 0 0 0 0 0 0 0 0 0 0 0]\n",
      " [0 0 0 0 0 0 0 0 0 0 0 0 0 1 0 0 0 0 0 0 0 0 0 0 0 0 0 0 0 0 0 0]\n",
      " [0 0 0 0 0 0 0 0 0 0 0 0 0 0 1 0 0 0 0 0 0 0 0 0 0 0 0 0 0 0 0 0]\n",
      " [0 0 0 0 0 0 0 0 0 0 0 0 0 0 0 0 0 0 0 0 0 1 0 0 0 0 0 0 0 0 0 0]\n",
      " [0 0 0 0 0 0 0 0 0 0 0 0 0 0 0 0 0 0 0 0 0 0 1 0 0 0 0 0 0 0 0 0]\n",
      " [0 0 0 0 0 0 0 0 0 0 0 0 0 0 0 0 0 0 0 0 0 0 0 0 1 0 0 0 0 0 0 0]\n",
      " [0 0 0 0 0 0 0 0 0 0 0 0 0 0 0 0 0 0 0 0 0 0 0 0 0 1 0 0 0 0 0 0]\n",
      " [0 0 0 0 0 0 0 0 0 0 0 0 0 0 0 0 0 0 0 0 0 0 0 0 0 0 0 0 0 1 0 0]\n",
      " [0 0 0 0 0 0 0 0 0 0 0 0 0 0 0 0 0 0 0 0 0 0 0 0 0 0 0 0 0 0 1 0]\n",
      " [0 0 0 0 0 0 0 0 0 0 0 0 0 0 0 0 0 0 0 0 0 0 0 0 0 0 0 0 0 0 0 1]]\n"
     ]
    }
   ],
   "source": [
    "if(L2_empty==0):\n",
    "    print(\"Row reduced echelon form mod 2 is: \")\n",
    "    print(L2)\n"
   ]
  },
  {
   "cell_type": "code",
   "execution_count": 132,
   "metadata": {},
   "outputs": [],
   "source": [
    "if(L2_empty==0):\n",
    "    col_num = len(L2[0])\n",
    "    row_num = len(L2)\n",
    "    # initialize the combination array for the non-pivot values, and the corresponding indices array\n",
    "    v_combs, v_indices = set_v_comb_array(L2)\n",
    "    \n",
    "    #calculate the inital solution vector\n",
    "    v = calc_v(L2, v_combs, v_indices, row_num, col_num)"
   ]
  },
  {
   "cell_type": "code",
   "execution_count": 133,
   "metadata": {},
   "outputs": [
    {
     "name": "stdout",
     "output_type": "stream",
     "text": [
      "final x squared mod n:  27507692611950029  final y squared mod n:  27507692611950029\n"
     ]
    }
   ],
   "source": [
    "if(L2_empty==0):\n",
    "    residues = results[1]    # x%n, RHS\n",
    "    xsquares = results[3]\n",
    "    ysq = get_product(v, residues) \n",
    "    xsq = get_product(v, xsquares)\n",
    "    print(\"final x squared mod n: \", xsq%n, \" final y squared mod n: \", ysq%n) # just a check - they have to be equal\n"
   ]
  },
  {
   "cell_type": "code",
   "execution_count": 134,
   "metadata": {},
   "outputs": [
    {
     "ename": "TypeError",
     "evalue": "object of type 'int' has no len()",
     "output_type": "error",
     "traceback": [
      "\u001b[1;31m---------------------------------------------------------------------------\u001b[0m",
      "\u001b[1;31mTypeError\u001b[0m                                 Traceback (most recent call last)",
      "\u001b[1;32m<ipython-input-134-bb295536a29b>\u001b[0m in \u001b[0;36m<module>\u001b[1;34m\u001b[0m\n\u001b[0;32m      7\u001b[0m     \u001b[1;32mwhile\u001b[0m \u001b[1;33m(\u001b[0m\u001b[1;33m(\u001b[0m\u001b[0mx\u001b[0m\u001b[1;33m-\u001b[0m\u001b[0my\u001b[0m\u001b[1;33m)\u001b[0m\u001b[1;33m%\u001b[0m\u001b[0mn\u001b[0m\u001b[1;33m==\u001b[0m\u001b[1;36m0\u001b[0m \u001b[1;32mor\u001b[0m \u001b[1;33m(\u001b[0m\u001b[0mx\u001b[0m\u001b[1;33m+\u001b[0m\u001b[0my\u001b[0m\u001b[1;33m)\u001b[0m\u001b[1;33m%\u001b[0m\u001b[0mn\u001b[0m\u001b[1;33m==\u001b[0m\u001b[1;36m0\u001b[0m \u001b[1;32mor\u001b[0m\u001b[1;33m(\u001b[0m\u001b[0my\u001b[0m\u001b[1;33m-\u001b[0m\u001b[0mx\u001b[0m\u001b[1;33m)\u001b[0m\u001b[1;33m%\u001b[0m\u001b[0mn\u001b[0m\u001b[1;33m==\u001b[0m\u001b[1;36m0\u001b[0m\u001b[1;33m)\u001b[0m\u001b[1;33m:\u001b[0m\u001b[1;33m\u001b[0m\u001b[1;33m\u001b[0m\u001b[0m\n\u001b[0;32m      8\u001b[0m         \u001b[0mv_combs\u001b[0m \u001b[1;33m=\u001b[0m \u001b[0mbinary_add_arr\u001b[0m\u001b[1;33m(\u001b[0m\u001b[0mv_combs\u001b[0m\u001b[1;33m)\u001b[0m\u001b[1;33m\u001b[0m\u001b[1;33m\u001b[0m\u001b[0m\n\u001b[1;32m----> 9\u001b[1;33m         \u001b[0mv\u001b[0m \u001b[1;33m=\u001b[0m \u001b[0mcalc_v\u001b[0m\u001b[1;33m(\u001b[0m\u001b[0mL2\u001b[0m\u001b[1;33m,\u001b[0m \u001b[0mv_combs\u001b[0m\u001b[1;33m,\u001b[0m \u001b[0mv_indices\u001b[0m\u001b[1;33m,\u001b[0m \u001b[0mrow_num\u001b[0m\u001b[1;33m,\u001b[0m \u001b[0mcol_num\u001b[0m\u001b[1;33m)\u001b[0m\u001b[1;33m\u001b[0m\u001b[1;33m\u001b[0m\u001b[0m\n\u001b[0m\u001b[0;32m     10\u001b[0m         \u001b[0mx\u001b[0m \u001b[1;33m=\u001b[0m \u001b[0mget_product\u001b[0m\u001b[1;33m(\u001b[0m\u001b[0mv\u001b[0m\u001b[1;33m,\u001b[0m \u001b[0mx_vals\u001b[0m\u001b[1;33m)\u001b[0m\u001b[1;33m\u001b[0m\u001b[1;33m\u001b[0m\u001b[0m\n\u001b[0;32m     11\u001b[0m         \u001b[0mysq\u001b[0m \u001b[1;33m=\u001b[0m \u001b[0mget_product\u001b[0m\u001b[1;33m(\u001b[0m\u001b[0mv\u001b[0m\u001b[1;33m,\u001b[0m \u001b[0mresidues\u001b[0m\u001b[1;33m)\u001b[0m\u001b[1;33m\u001b[0m\u001b[1;33m\u001b[0m\u001b[0m\n",
      "\u001b[1;32m<ipython-input-125-411add0d31ad>\u001b[0m in \u001b[0;36mcalc_v\u001b[1;34m(L, v_combs, v_indices, rows, cols)\u001b[0m\n\u001b[0;32m    174\u001b[0m \u001b[1;33m\u001b[0m\u001b[0m\n\u001b[0;32m    175\u001b[0m     \u001b[0mr\u001b[0m \u001b[1;33m=\u001b[0m \u001b[0mnp\u001b[0m\u001b[1;33m.\u001b[0m\u001b[0mzeros\u001b[0m\u001b[1;33m(\u001b[0m\u001b[0mcols\u001b[0m\u001b[1;33m,\u001b[0m \u001b[0mdtype\u001b[0m \u001b[1;33m=\u001b[0m\u001b[1;34m'int'\u001b[0m\u001b[1;33m)\u001b[0m\u001b[1;33m\u001b[0m\u001b[1;33m\u001b[0m\u001b[0m\n\u001b[1;32m--> 176\u001b[1;33m     \u001b[1;32mfor\u001b[0m \u001b[0mi\u001b[0m \u001b[1;32min\u001b[0m \u001b[0mrange\u001b[0m\u001b[1;33m(\u001b[0m\u001b[1;36m0\u001b[0m\u001b[1;33m,\u001b[0m \u001b[0mlen\u001b[0m\u001b[1;33m(\u001b[0m\u001b[0mv_combs\u001b[0m\u001b[1;33m)\u001b[0m\u001b[1;33m)\u001b[0m\u001b[1;33m:\u001b[0m\u001b[1;33m\u001b[0m\u001b[1;33m\u001b[0m\u001b[0m\n\u001b[0m\u001b[0;32m    177\u001b[0m         \u001b[1;32mif\u001b[0m\u001b[1;33m(\u001b[0m\u001b[0mv_combs\u001b[0m\u001b[1;33m[\u001b[0m\u001b[0mi\u001b[0m\u001b[1;33m]\u001b[0m\u001b[1;33m==\u001b[0m\u001b[1;36m1\u001b[0m\u001b[1;33m)\u001b[0m\u001b[1;33m:\u001b[0m\u001b[1;33m\u001b[0m\u001b[1;33m\u001b[0m\u001b[0m\n\u001b[0;32m    178\u001b[0m             \u001b[0mr\u001b[0m\u001b[1;33m[\u001b[0m\u001b[0mv_indices\u001b[0m\u001b[1;33m[\u001b[0m\u001b[0mi\u001b[0m\u001b[1;33m]\u001b[0m\u001b[1;33m]\u001b[0m \u001b[1;33m=\u001b[0m \u001b[1;36m1\u001b[0m\u001b[1;33m;\u001b[0m\u001b[1;33m\u001b[0m\u001b[1;33m\u001b[0m\u001b[0m\n",
      "\u001b[1;31mTypeError\u001b[0m: object of type 'int' has no len()"
     ]
    }
   ],
   "source": [
    "if(L2_empty==0):\n",
    "    x_vals = results[4]\n",
    "    x = get_product(v, x_vals)\n",
    "    y = nth_root(ysq, 2)\n",
    "\n",
    "    # here we check if the x and y are good, and until they become good we change the combination of free variables\n",
    "    while ((x-y)%n==0 or (x+y)%n==0 or(y-x)%n==0):\n",
    "        v_combs = binary_add_arr(v_combs)\n",
    "        v = calc_v(L2, v_combs, v_indices, row_num, col_num)\n",
    "        x = get_product(v, x_vals)\n",
    "        ysq = get_product(v, residues) \n",
    "        y = nth_root(ysq, 2)\n",
    "    \n",
    "    print(\"\\n\")\n",
    "    print(\"Found x not congruent y mod n! A Factor!!\")\n",
    "    print('x is ', x)\n",
    "    print('y is ' , y)"
   ]
  },
  {
   "cell_type": "code",
   "execution_count": null,
   "metadata": {},
   "outputs": [],
   "source": [
    "if(L2_empty==0):\n",
    "    diff = abs(x-y)\n",
    "    gcd = math.gcd(diff, n)\n",
    "    factor1 = gcd\n",
    "    factor2 = int(n/gcd)\n",
    "\n",
    "    end = time.time()\n",
    "\n",
    "calc_time(start, end);\n",
    "print('The first factor is ', factor1)\n",
    "print('The second factor is ', factor2)"
   ]
  },
  {
   "cell_type": "markdown",
   "metadata": {},
   "source": [
    "### THE END"
   ]
  }
 ],
 "metadata": {
  "kernelspec": {
   "display_name": "Python 3",
   "language": "python",
   "name": "python3"
  },
  "language_info": {
   "codemirror_mode": {
    "name": "ipython",
    "version": 3
   },
   "file_extension": ".py",
   "mimetype": "text/x-python",
   "name": "python",
   "nbconvert_exporter": "python",
   "pygments_lexer": "ipython3",
   "version": "3.7.4"
  }
 },
 "nbformat": 4,
 "nbformat_minor": 4
}
