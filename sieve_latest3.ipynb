{
 "cells": [
  {
   "cell_type": "markdown",
   "metadata": {},
   "source": [
    "### This can be the final functionized version, where running the tests is easy - just change 'n' and 'bound'\n",
    "### It is fast at sieving, but is not factoring properly - can you take a look at anything that looks off? \n",
    "#### Need to only check after B smooth numbers have already been generated"
   ]
  },
  {
   "cell_type": "code",
   "execution_count": 1,
   "metadata": {},
   "outputs": [],
   "source": [
    "import math\n",
    "import numpy as np\n",
    "import sympy\n",
    "import time "
   ]
  },
  {
   "cell_type": "code",
   "execution_count": 2,
   "metadata": {},
   "outputs": [],
   "source": [
    "def calc_time(start, end):\n",
    "    seconds = end - start\n",
    "    mins = seconds / 60\n",
    "    print('Time in seconds: ', str(seconds), ', Time in minutes: ', str(mins))\n",
    "    return seconds, mins"
   ]
  },
  {
   "cell_type": "code",
   "execution_count": 3,
   "metadata": {},
   "outputs": [],
   "source": [
    "# Final optimized version \n",
    "def get_primes_less_thanB(bound):                      # eratosthenes way\n",
    "    check_until = int(bound**0.5)\n",
    "    unmarked = np.array([x for x in range(2, bound)])\n",
    "    q = 2\n",
    "    i = 0\n",
    "    while True:\n",
    "        u = unmarked[i]\n",
    "        if u> check_until:               # only check numbers up to sqrt(bound)\n",
    "            break\n",
    "        u_idx = np.where(unmarked == u)[0][0]\n",
    "        max_idx = bound//u\n",
    "        listof_multiples = [u*i for i in range(q, max_idx+1)]\n",
    "        u_multiples = np.array(listof_multiples)\n",
    "        unmarked = np.setdiff1d(unmarked, u_multiples)   # numpy set diff without changing order of elements in list\n",
    "        q = u\n",
    "        i +=1\n",
    "    print(\"Number of elements less than bound = \", bound, \" is: \", len(unmarked))\n",
    "    return (unmarked)"
   ]
  },
  {
   "cell_type": "code",
   "execution_count": 4,
   "metadata": {},
   "outputs": [],
   "source": [
    "# Correct optimized version\n",
    "def check_Bsmooth(primes, num):\n",
    "    powers_of_primes= []\n",
    "    num_remaining= num                         \n",
    "    for prime in primes: \n",
    "        i = 0                                   # i = power of prime\n",
    "        if (num_remaining%prime == 0):\n",
    "            while (num_remaining%prime ==0):   #keep dividing for each power of the prime\n",
    "                quotient = num_remaining/prime\n",
    "                num_remaining = quotient\n",
    "                i +=1\n",
    "        powers_of_primes.append(i)\n",
    "        if num_remaining == 1:     \n",
    "            diff = len(primes)-len(powers_of_primes)\n",
    "            if diff>0:\n",
    "                zeros = [0 for k in range(diff)]\n",
    "                return powers_of_primes + zeros\n",
    "            return powers_of_primes\n",
    "    #print(\"Number is not B smooth\")\n",
    "    return []"
   ]
  },
  {
   "cell_type": "code",
   "execution_count": 5,
   "metadata": {},
   "outputs": [],
   "source": [
    "# Correct optimized version\n",
    "def check_Bsmooth(primes, num):\n",
    "    powers_of_primes= []\n",
    "    num_remaining= num                         \n",
    "    for prime in primes: \n",
    "        i = 0                                   # i = power of prime\n",
    "        if (num_remaining%prime == 0):\n",
    "            while (num_remaining%prime ==0):   #keep dividing for each power of the prime\n",
    "                quotient = num_remaining/prime\n",
    "                num_remaining = quotient\n",
    "                i +=1\n",
    "        powers_of_primes.append(i)\n",
    "        if num_remaining == 1:     \n",
    "            diff = len(primes)-len(powers_of_primes)\n",
    "            if diff>0:\n",
    "                zeros = [0 for k in range(diff)]\n",
    "                return powers_of_primes + zeros\n",
    "            return powers_of_primes\n",
    "    #print(\"Number is not B smooth\")\n",
    "    return []"
   ]
  },
  {
   "cell_type": "code",
   "execution_count": 6,
   "metadata": {},
   "outputs": [],
   "source": [
    "def a_congruent_b(a, b, n):\n",
    "    if a==(b%n):\n",
    "        return True\n",
    "    return False"
   ]
  },
  {
   "cell_type": "code",
   "execution_count": 11,
   "metadata": {},
   "outputs": [],
   "source": [
    "def generate_BSsquares(primes, n, multiple):     # nothing here has numpy structure\n",
    "    exponents_list = []\n",
    "    xsquares = []           # the x\n",
    "    residues = []           # the y\n",
    "    iters = 0\n",
    "    while(True):\n",
    "        if iters>100000000:\n",
    "            break\n",
    "        xsquare = (int(math.sqrt(n*multiple)) +1)**2\n",
    "        # Add other fancy ways of finding candidates for xsquare\n",
    "        residue = xsquare%n\n",
    "        exp_vec = check_Bsmooth(primes, residue)\n",
    "        if exp_vec != []:\n",
    "            residues.append(residue)   # x^2\n",
    "            xsquares.append(xsquare)\n",
    "            exponents_list.append(exp_vec)\n",
    "            print(\"Found B-smooth square! with exponents: \", exp_vec, \" and quadratic residue: \", residue)\n",
    "        if len(residues) > len(primes):\n",
    "            print(\"Breaking, len of residues: \", len(residues), \" len of primes: \", len(primes))\n",
    "            break\n",
    "        multiple += 1\n",
    "        iters += 1\n",
    "    return [exponents_list, residues, iters, xsquares]"
   ]
  },
  {
   "cell_type": "markdown",
   "metadata": {},
   "source": [
    "#### Choose the bound value"
   ]
  },
  {
   "cell_type": "code",
   "execution_count": 12,
   "metadata": {},
   "outputs": [
    {
     "name": "stdout",
     "output_type": "stream",
     "text": [
      "Number of elements less than bound =  100  is:  25\n"
     ]
    }
   ],
   "source": [
    "bound = 100\n",
    "primes = np.array(get_primes_less_thanB(bound))"
   ]
  },
  {
   "cell_type": "markdown",
   "metadata": {},
   "source": [
    "#### Test: Choose an N of your liking (8-15 digits)"
   ]
  },
  {
   "cell_type": "code",
   "execution_count": 13,
   "metadata": {},
   "outputs": [
    {
     "name": "stdout",
     "output_type": "stream",
     "text": [
      "Found B-smooth square! with exponents:  [3, 1, 1, 0, 0, 0, 1, 1, 0, 0, 0, 0, 0, 0, 0, 0, 0, 0, 0, 0, 0, 0, 0, 0, 0]  and quadratic residue:  38760\n",
      "Found B-smooth square! with exponents:  [5, 0, 0, 1, 0, 0, 0, 0, 0, 0, 0, 0, 0, 0, 0, 0, 0, 0, 0, 0, 0, 1, 0, 0, 0]  and quadratic residue:  17696\n",
      "Found B-smooth square! with exponents:  [2, 3, 1, 0, 0, 0, 0, 0, 0, 0, 0, 0, 0, 0, 0, 0, 0, 0, 0, 0, 0, 0, 0, 0, 1]  and quadratic residue:  52380\n",
      "Found B-smooth square! with exponents:  [0, 0, 1, 0, 2, 0, 0, 0, 0, 0, 0, 0, 0, 0, 0, 0, 0, 0, 0, 0, 0, 0, 0, 1, 0]  and quadratic residue:  53845\n",
      "Found B-smooth square! with exponents:  [7, 0, 0, 1, 0, 0, 0, 0, 0, 0, 0, 0, 0, 0, 0, 0, 0, 0, 0, 0, 0, 1, 0, 0, 0]  and quadratic residue:  70784\n",
      "Found B-smooth square! with exponents:  [4, 0, 0, 0, 0, 0, 0, 0, 0, 0, 1, 0, 0, 0, 0, 0, 0, 0, 0, 0, 1, 0, 0, 0, 0]  and quadratic residue:  36208\n",
      "Found B-smooth square! with exponents:  [1, 1, 0, 0, 0, 0, 0, 0, 0, 1, 0, 0, 0, 0, 0, 1, 0, 0, 0, 0, 0, 0, 0, 0, 0]  and quadratic residue:  9222\n",
      "Found B-smooth square! with exponents:  [3, 0, 1, 0, 0, 0, 0, 0, 0, 0, 1, 0, 0, 0, 0, 0, 1, 0, 0, 0, 0, 0, 0, 0, 0]  and quadratic residue:  73160\n",
      "Found B-smooth square! with exponents:  [0, 0, 0, 0, 0, 0, 1, 0, 0, 1, 0, 0, 0, 0, 0, 0, 0, 0, 0, 0, 1, 0, 0, 0, 0]  and quadratic residue:  35989\n",
      "Found B-smooth square! with exponents:  [0, 2, 4, 0, 0, 0, 0, 0, 1, 0, 0, 0, 0, 0, 0, 0, 0, 0, 0, 0, 0, 0, 0, 0, 0]  and quadratic residue:  129375\n",
      "Found B-smooth square! with exponents:  [1, 0, 1, 0, 0, 0, 0, 0, 0, 0, 0, 0, 0, 0, 0, 0, 0, 0, 1, 0, 0, 0, 0, 1, 0]  and quadratic residue:  59630\n",
      "Found B-smooth square! with exponents:  [0, 0, 0, 0, 1, 1, 0, 1, 0, 0, 0, 0, 0, 0, 0, 0, 0, 1, 0, 0, 0, 0, 0, 0, 0]  and quadratic residue:  165737\n",
      "Found B-smooth square! with exponents:  [6, 1, 0, 0, 0, 0, 0, 0, 1, 0, 0, 1, 0, 0, 0, 0, 0, 0, 0, 0, 0, 0, 0, 0, 0]  and quadratic residue:  163392\n",
      "Found B-smooth square! with exponents:  [2, 0, 0, 0, 0, 0, 0, 0, 1, 0, 1, 0, 0, 1, 0, 0, 0, 0, 0, 0, 0, 0, 0, 0, 0]  and quadratic residue:  122636\n",
      "Found B-smooth square! with exponents:  [0, 3, 0, 0, 1, 1, 0, 1, 0, 0, 0, 0, 0, 0, 0, 0, 0, 0, 0, 0, 0, 0, 0, 0, 0]  and quadratic residue:  73359\n",
      "Found B-smooth square! with exponents:  [0, 0, 1, 0, 1, 0, 0, 1, 0, 0, 0, 0, 0, 0, 0, 0, 0, 0, 0, 1, 0, 0, 0, 0, 0]  and quadratic residue:  74195\n",
      "Found B-smooth square! with exponents:  [0, 4, 0, 2, 0, 0, 0, 0, 0, 0, 0, 0, 0, 0, 1, 0, 0, 0, 0, 0, 0, 0, 0, 0, 0]  and quadratic residue:  186543\n",
      "Found B-smooth square! with exponents:  [5, 1, 0, 0, 0, 0, 1, 0, 0, 0, 0, 0, 0, 0, 0, 0, 0, 1, 0, 0, 0, 0, 0, 0, 0]  and quadratic residue:  99552\n",
      "Found B-smooth square! with exponents:  [6, 0, 0, 0, 0, 0, 0, 0, 0, 0, 1, 0, 0, 0, 0, 0, 0, 0, 0, 0, 1, 0, 0, 0, 0]  and quadratic residue:  144832\n",
      "Found B-smooth square! with exponents:  [1, 0, 1, 0, 1, 0, 1, 0, 1, 0, 0, 0, 0, 0, 0, 0, 0, 0, 0, 0, 0, 0, 0, 0, 0]  and quadratic residue:  43010\n",
      "Found B-smooth square! with exponents:  [0, 0, 0, 1, 1, 0, 0, 0, 0, 0, 0, 1, 0, 1, 0, 0, 0, 0, 0, 0, 0, 0, 0, 0, 0]  and quadratic residue:  122507\n",
      "Found B-smooth square! with exponents:  [0, 1, 0, 1, 0, 0, 0, 0, 0, 0, 1, 0, 0, 0, 0, 1, 0, 0, 0, 0, 0, 0, 0, 0, 0]  and quadratic residue:  34503\n",
      "Found B-smooth square! with exponents:  [0, 1, 1, 1, 0, 0, 0, 0, 1, 0, 0, 0, 1, 0, 0, 0, 0, 0, 0, 0, 0, 0, 0, 0, 0]  and quadratic residue:  99015\n",
      "Found B-smooth square! with exponents:  [0, 2, 0, 0, 0, 0, 1, 0, 0, 0, 1, 1, 0, 0, 0, 0, 0, 0, 0, 0, 0, 0, 0, 0, 0]  and quadratic residue:  175491\n",
      "Found B-smooth square! with exponents:  [2, 0, 0, 0, 0, 0, 1, 0, 0, 0, 0, 0, 0, 0, 1, 0, 0, 0, 1, 0, 0, 0, 0, 0, 0]  and quadratic residue:  214132\n",
      "Found B-smooth square! with exponents:  [0, 1, 0, 0, 0, 0, 0, 0, 0, 0, 0, 1, 0, 0, 1, 0, 0, 0, 0, 0, 0, 0, 0, 0, 0]  and quadratic residue:  5217\n",
      "Breaking, len of residues:  26  len of primes:  25\n",
      "Time in seconds:  0.029400110244750977 , Time in minutes:  0.0004900018374125163\n",
      "iterations,  204\n",
      "B smooth numbers found:  [38760, 17696, 52380, 53845, 70784, 36208, 9222, 73160, 35989, 129375, 59630, 165737, 163392, 122636, 73359, 74195, 186543, 99552, 144832, 43010, 122507, 34503, 99015, 175491, 214132, 5217] \n",
      "total:  26\n"
     ]
    }
   ],
   "source": [
    "# A test on a small prime!\n",
    "#n = 10710336959293\n",
    "n = 95775679     \n",
    "multiple = 4\n",
    "start = time.time()\n",
    "\n",
    "results = generate_BSsquares(primes, n, multiple)\n",
    "\n",
    "end = time.time()\n",
    "calc_time(start, end)\n",
    "print(\"iterations, \", results[2])\n",
    "print(\"B smooth numbers found: \", results[1], \"\\ntotal: \", len(results[1]))"
   ]
  },
  {
   "cell_type": "markdown",
   "metadata": {},
   "source": [
    "### The following uses (results, n) produced from last run cell "
   ]
  },
  {
   "cell_type": "code",
   "execution_count": 14,
   "metadata": {},
   "outputs": [],
   "source": [
    "def drop_zero_rows(A): \n",
    "    return A[~np.all(A == 0, axis=1)]"
   ]
  },
  {
   "cell_type": "code",
   "execution_count": 15,
   "metadata": {},
   "outputs": [
    {
     "name": "stdout",
     "output_type": "stream",
     "text": [
      "[[1 1 0 0 1 0 1 1 0 0 1 0 0 0 0 0 0 1 0 1 0 0 0 0 0 0]\n",
      " [1 0 1 0 0 0 1 0 0 0 0 0 1 0 1 0 0 1 0 0 0 1 1 0 0 1]\n",
      " [1 0 1 1 0 0 0 1 0 0 1 0 0 0 0 1 0 0 0 1 0 0 1 0 0 0]\n",
      " [0 1 0 0 1 0 0 0 0 0 0 0 0 0 0 0 0 0 0 0 1 1 1 0 0 0]\n",
      " [0 0 0 0 0 0 0 0 0 0 0 1 0 0 1 1 0 0 0 1 1 0 0 0 0 0]\n",
      " [0 0 0 0 0 0 0 0 0 0 0 1 0 0 1 0 0 0 0 0 0 0 0 0 0 0]\n",
      " [1 0 0 0 0 0 0 0 1 0 0 0 0 0 0 0 0 1 0 1 0 0 0 1 1 0]\n",
      " [1 0 0 0 0 0 0 0 0 0 0 1 0 0 1 1 0 0 0 0 0 0 0 0 0 0]\n",
      " [0 0 0 0 0 0 0 0 0 1 0 0 1 1 0 0 0 0 0 1 0 0 1 0 0 0]\n",
      " [0 0 0 0 0 0 1 0 1 0 0 0 0 0 0 0 0 0 0 0 0 0 0 0 0 0]\n",
      " [0 0 0 0 0 1 0 1 0 0 0 0 0 1 0 0 0 0 1 0 0 1 0 1 0 0]\n",
      " [0 0 0 0 0 0 0 0 0 0 0 0 1 0 0 0 0 0 0 0 1 0 0 1 0 1]\n",
      " [0 0 0 0 0 0 0 0 0 0 0 0 0 0 0 0 0 0 0 0 0 0 1 0 0 0]\n",
      " [0 0 0 0 0 0 0 0 0 0 0 0 0 1 0 0 0 0 0 0 1 0 0 0 0 0]\n",
      " [0 0 0 0 0 0 0 0 0 0 0 0 0 0 0 0 1 0 0 0 0 0 0 0 1 1]\n",
      " [0 0 0 0 0 0 1 0 0 0 0 0 0 0 0 0 0 0 0 0 0 1 0 0 0 0]\n",
      " [0 0 0 0 0 0 0 1 0 0 0 0 0 0 0 0 0 0 0 0 0 0 0 0 0 0]\n",
      " [0 0 0 0 0 0 0 0 0 0 0 1 0 0 0 0 0 1 0 0 0 0 0 0 0 0]\n",
      " [0 0 0 0 0 0 0 0 0 0 1 0 0 0 0 0 0 0 0 0 0 0 0 0 1 0]\n",
      " [0 0 0 0 0 0 0 0 0 0 0 0 0 0 0 1 0 0 0 0 0 0 0 0 0 0]\n",
      " [0 0 0 0 0 1 0 0 1 0 0 0 0 0 0 0 0 0 1 0 0 0 0 0 0 0]\n",
      " [0 1 0 0 1 0 0 0 0 0 0 0 0 0 0 0 0 0 0 0 0 0 0 0 0 0]\n",
      " [0 0 0 0 0 0 0 0 0 0 0 0 0 0 0 0 0 0 0 0 0 0 0 0 0 0]\n",
      " [0 0 0 1 0 0 0 0 0 0 1 0 0 0 0 0 0 0 0 0 0 0 0 0 0 0]\n",
      " [0 0 1 0 0 0 0 0 0 0 0 0 0 0 0 0 0 0 0 0 0 0 0 0 0 0]]\n"
     ]
    }
   ],
   "source": [
    "from sympy import *          # Start using np arrays\n",
    "\n",
    "A = np.array(results[0])      # results = [exponents_list, residues, iters, xsquares]\n",
    "store_pows = A.copy()\n",
    "A = (np.transpose(A))%2\n",
    "print(A)"
   ]
  },
  {
   "cell_type": "code",
   "execution_count": 16,
   "metadata": {},
   "outputs": [
    {
     "name": "stdout",
     "output_type": "stream",
     "text": [
      "Old num rows and num columns:  25 26\n",
      "Reduced row echelon form AND mod 2 is: \n",
      "[[1 0 0 0 0 0 0 0 0 0 0 0 0 0 0 0 0 0 0 0 0 0 0 0 0 0]\n",
      " [0 1 0 0 1 0 0 0 0 0 0 0 0 0 0 0 0 0 0 0 0 0 0 0 0 0]\n",
      " [0 0 1 0 0 0 0 0 0 0 0 0 0 0 0 0 0 0 0 0 0 0 0 0 0 0]\n",
      " [0 0 0 1 0 0 0 0 0 0 0 0 0 0 0 0 0 0 0 0 0 0 0 0 0 0]\n",
      " [0 0 0 0 0 1 0 0 0 0 0 0 0 0 0 0 0 0 1 0 0 0 0 0 0 0]\n",
      " [0 0 0 0 0 0 1 0 0 0 0 0 0 0 0 0 0 0 0 0 0 0 0 0 0 0]\n",
      " [0 0 0 0 0 0 0 1 0 0 0 0 0 0 0 0 0 0 0 0 0 0 0 0 0 0]\n",
      " [0 0 0 0 0 0 0 0 1 0 0 0 0 0 0 0 0 0 0 0 0 0 0 0 0 0]\n",
      " [0 0 0 0 0 0 0 0 0 1 0 0 0 0 0 0 0 0 0 0 0 0 0 0 0 1]\n",
      " [0 0 0 0 0 0 0 0 0 0 1 0 0 0 0 0 0 0 0 0 0 0 0 0 0 0]\n",
      " [0 0 0 0 0 0 0 0 0 0 0 1 0 0 0 0 0 0 0 0 0 0 0 0 0 0]\n",
      " [0 0 0 0 0 0 0 0 0 0 0 0 1 0 0 0 0 0 0 0 0 0 0 0 0 1]\n",
      " [0 0 0 0 0 0 0 0 0 0 0 0 0 1 0 0 0 0 0 0 0 0 0 0 0 0]\n",
      " [0 0 0 0 0 0 0 0 0 0 0 0 0 0 1 0 0 0 0 0 0 0 0 0 0 0]\n",
      " [0 0 0 0 0 0 0 0 0 0 0 0 0 0 0 1 0 0 0 0 0 0 0 0 0 0]\n",
      " [0 0 0 0 0 0 0 0 0 0 0 0 0 0 0 0 1 0 0 0 0 0 0 0 0 1]\n",
      " [0 0 0 0 0 0 0 0 0 0 0 0 0 0 0 0 0 1 0 0 0 0 0 0 0 0]\n",
      " [0 0 0 0 0 0 0 0 0 0 0 0 0 0 0 0 0 0 0 1 0 0 0 0 0 0]\n",
      " [0 0 0 0 0 0 0 0 0 0 0 0 0 0 0 0 0 0 0 0 1 0 0 0 0 0]\n",
      " [0 0 0 0 0 0 0 0 0 0 0 0 0 0 0 0 0 0 0 0 0 1 0 0 0 0]\n",
      " [0 0 0 0 0 0 0 0 0 0 0 0 0 0 0 0 0 0 0 0 0 0 1 0 0 0]\n",
      " [0 0 0 0 0 0 0 0 0 0 0 0 0 0 0 0 0 0 0 0 0 0 0 1 0 0]\n",
      " [0 0 0 0 0 0 0 0 0 0 0 0 0 0 0 0 0 0 0 0 0 0 0 0 1 0]]\n",
      "New num rows, num columns:  23 26\n"
     ]
    }
   ],
   "source": [
    "col_num = len(A[0])\n",
    "row_num = len(A)\n",
    "print(\"Old num rows and num columns: \", row_num, col_num)\n",
    "L = Matrix(A)\n",
    "\n",
    "L = np.array(L.rref()[0])      # reduced row echelon form\n",
    "L2  = drop_zero_rows(L)        # get rid of primes we don't have to worry about in general\n",
    "L2 = L2 %2\n",
    "\n",
    "print(\"Reduced row echelon form AND mod 2 is: \")\n",
    "print(L2)\n",
    "\n",
    "print(\"New num rows, num columns: \", len(L2), len(L2[0]))"
   ]
  },
  {
   "cell_type": "code",
   "execution_count": 17,
   "metadata": {},
   "outputs": [],
   "source": [
    "## Choose free variables:\n",
    "def getA_solution(reduced_matrix):\n",
    "    L = reduced_matrix\n",
    "    col_num = len(L[0])\n",
    "    row_num = len(L)\n",
    "    v = np.ones(col_num, dtype = 'int')\n",
    "    for i in reversed(range(row_num)):\n",
    "        for j in reversed(range(col_num)):\n",
    "            if L[i][j] ==1:\n",
    "                #print(\"found row, col:\", i, j, \" with 1\")\n",
    "                if (L[i].sum()%2) !=0:              # the exponents for this prime doesn't add up to zero\n",
    "                    v[j] = 0                  # can't use this equation\n",
    "                    break     # no need to  check cells above, as reduced echelon form\n",
    "    return(v)\n"
   ]
  },
  {
   "cell_type": "code",
   "execution_count": 18,
   "metadata": {},
   "outputs": [
    {
     "name": "stdout",
     "output_type": "stream",
     "text": [
      "[0 1 0 0 1 1 0 0 0 1 0 0 1 0 0 0 1 0 1 0 0 0 0 0 0 1]\n"
     ]
    }
   ],
   "source": [
    "v = getA_solution(L2)\n",
    "print(v)"
   ]
  },
  {
   "cell_type": "code",
   "execution_count": 25,
   "metadata": {},
   "outputs": [],
   "source": [
    "def get_x_modN(xsq, n):    \n",
    "    result = int(math.sqrt(xsq))%n\n",
    "    return result"
   ]
  },
  {
   "cell_type": "code",
   "execution_count": 26,
   "metadata": {},
   "outputs": [],
   "source": [
    "def get_xsq_modN(v, num_list):   # results = [exponents_list, residues, iters, xsquares]\n",
    "    product= 1       \n",
    "    for i in range(len(v)):\n",
    "        if v[i] ==0:\n",
    "            continue\n",
    "        product = product * num_list[i]\n",
    "#         product = product%n    # want the huge product sqrooted\n",
    "    return product"
   ]
  },
  {
   "cell_type": "code",
   "execution_count": 27,
   "metadata": {},
   "outputs": [
    {
     "name": "stdout",
     "output_type": "stream",
     "text": [
      "residues, xquares:  [38760, 17696, 52380, 53845, 70784, 36208, 9222, 73160, 35989, 129375, 59630, 165737, 163392, 122636, 73359, 74195, 186543, 99552, 144832, 43010, 122507, 34503, 99015, 175491, 214132, 5217] [383141476, 670447449, 1819790281, 2011343104, 2681789796, 3735287689, 6321204036, 6800146369, 8045193025, 8715716164, 9002973456, 9673509316, 9865058329, 10248120289, 11301603481, 12546688144, 13313005924, 14462227081, 14941150756, 15419927329, 15994660900, 16665002649, 19059459136, 19346862649, 19442676969, 19921346449]\n",
      "final x square modN:  16183703  final y :  16183703\n"
     ]
    }
   ],
   "source": [
    "residues = results[1]\n",
    "xsquares = results[3]\n",
    "\n",
    "print(\"residues, xquares: \", residues, xsquares)\n",
    "\n",
    "ysq = get_xsq_modN(v, residues)     \n",
    "xsq = get_xsq_modN(v, xsquares)   \n",
    "\n",
    "y = get_x_modN(ysq, n)\n",
    "x = get_x_modN(xsq, n)\n",
    "\n",
    "print(\"final x square modN: \", xsq%n, \" final y : \", ysq%n)     # just a check\n",
    "if a_congruent_b(x, y, n):\n",
    "    print(\"Oh no, x congruent y mod n!\")"
   ]
  },
  {
   "cell_type": "code",
   "execution_count": 28,
   "metadata": {},
   "outputs": [
    {
     "name": "stdout",
     "output_type": "stream",
     "text": [
      "61910944 92246193\n"
     ]
    }
   ],
   "source": [
    "print(x, y)"
   ]
  },
  {
   "cell_type": "code",
   "execution_count": 29,
   "metadata": {},
   "outputs": [
    {
     "name": "stdout",
     "output_type": "stream",
     "text": [
      "1\n",
      "95775679\n"
     ]
    }
   ],
   "source": [
    "k = math.gcd(x -int(y), n)\n",
    "print(k)\n",
    "print (int(n/k)) "
   ]
  },
  {
   "cell_type": "code",
   "execution_count": null,
   "metadata": {},
   "outputs": [],
   "source": []
  }
 ],
 "metadata": {
  "kernelspec": {
   "display_name": "Python 3",
   "language": "python",
   "name": "python3"
  },
  "language_info": {
   "codemirror_mode": {
    "name": "ipython",
    "version": 3
   },
   "file_extension": ".py",
   "mimetype": "text/x-python",
   "name": "python",
   "nbconvert_exporter": "python",
   "pygments_lexer": "ipython3",
   "version": "3.7.6"
  }
 },
 "nbformat": 4,
 "nbformat_minor": 4
}
