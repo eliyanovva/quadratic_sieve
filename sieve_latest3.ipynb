{
 "cells": [
  {
   "cell_type": "markdown",
   "metadata": {},
   "source": [
    "### This can be the final functionized version, where running the tests is easy - just change 'n' and 'bound'\n",
    "### It is fast at sieving, but is not factoring properly - can you take a look at anything that looks off? \n",
    "#### Need to only check after B smooth numbers have already been generated"
   ]
  },
  {
   "cell_type": "code",
   "execution_count": 1,
   "metadata": {},
   "outputs": [],
   "source": [
    "import math\n",
    "import numpy as np\n",
    "import sympy\n",
    "import time "
   ]
  },
  {
   "cell_type": "code",
   "execution_count": 2,
   "metadata": {},
   "outputs": [],
   "source": [
    "def calc_time(start, end):\n",
    "    seconds = end - start\n",
    "    mins = seconds / 60\n",
    "    print('Time in seconds: ', str(seconds), ', Time in minutes: ', str(mins))\n",
    "    return seconds, mins"
   ]
  },
  {
   "cell_type": "code",
   "execution_count": 3,
   "metadata": {},
   "outputs": [],
   "source": [
    "# Final optimized version \n",
    "def get_primes_less_thanB(bound):                      # eratosthenes way\n",
    "    check_until = int(bound**0.5)\n",
    "    unmarked = np.array([x for x in range(2, bound)])\n",
    "    q = 2\n",
    "    i = 0\n",
    "    while True:\n",
    "        u = unmarked[i]\n",
    "        if u> check_until:               # only check numbers up to sqrt(bound)\n",
    "            break\n",
    "        u_idx = np.where(unmarked == u)[0][0]\n",
    "        max_idx = bound//u\n",
    "        listof_multiples = [u*i for i in range(q, max_idx+1)]\n",
    "        u_multiples = np.array(listof_multiples)\n",
    "        unmarked = np.setdiff1d(unmarked, u_multiples)   # numpy set diff without changing order of elements in list\n",
    "        q = u\n",
    "        i +=1\n",
    "    print(\"Number of elements less than bound = \", bound, \" is: \", len(unmarked))\n",
    "    return (unmarked)"
   ]
  },
  {
   "cell_type": "code",
   "execution_count": 4,
   "metadata": {},
   "outputs": [],
   "source": [
    "# Correct optimized version\n",
    "def check_Bsmooth(primes, num):\n",
    "    powers_of_primes= []\n",
    "    num_remaining= num                         \n",
    "    for prime in primes: \n",
    "        i = 0                                   # i = power of prime\n",
    "        if (num_remaining%prime == 0):\n",
    "            while (num_remaining%prime ==0):   #keep dividing for each power of the prime\n",
    "                quotient = num_remaining/prime\n",
    "                num_remaining = quotient\n",
    "                i +=1\n",
    "        powers_of_primes.append(i)\n",
    "        if num_remaining == 1:     \n",
    "            diff = len(primes)-len(powers_of_primes)\n",
    "            if diff>0:\n",
    "                zeros = [0 for k in range(diff)]\n",
    "                return powers_of_primes + zeros\n",
    "            return powers_of_primes\n",
    "    #print(\"Number is not B smooth\")\n",
    "    return []"
   ]
  },
  {
   "cell_type": "code",
   "execution_count": 5,
   "metadata": {},
   "outputs": [],
   "source": [
    "# Correct optimized version\n",
    "def check_Bsmooth(primes, num):\n",
    "    powers_of_primes= []\n",
    "    num_remaining= num                         \n",
    "    for prime in primes: \n",
    "        i = 0                                   # i = power of prime\n",
    "        if (num_remaining%prime == 0):\n",
    "            while (num_remaining%prime ==0):   #keep dividing for each power of the prime\n",
    "                quotient = num_remaining/prime\n",
    "                num_remaining = quotient\n",
    "                i +=1\n",
    "        powers_of_primes.append(i)\n",
    "        if num_remaining == 1:     \n",
    "            diff = len(primes)-len(powers_of_primes)\n",
    "            if diff>0:\n",
    "                zeros = [0 for k in range(diff)]\n",
    "                return powers_of_primes + zeros\n",
    "            return powers_of_primes\n",
    "    #print(\"Number is not B smooth\")\n",
    "    return []"
   ]
  },
  {
   "cell_type": "code",
   "execution_count": 6,
   "metadata": {},
   "outputs": [],
   "source": [
    "def a_congruent_b(a, b, n):\n",
    "    if a==(b%n):\n",
    "        return True\n",
    "    return False"
   ]
  },
  {
   "cell_type": "code",
   "execution_count": 7,
   "metadata": {},
   "outputs": [],
   "source": [
    "def generate_BSsquares(primes, n, multiple):\n",
    "    exponents_list = []             # Add other fancy ways of finding candidates for xsquare\n",
    "    xsquares = []           # the x\n",
    "    x_vals = []\n",
    "    residues = []           # the y\n",
    "    iters = 0\n",
    "    while(True):\n",
    "        if iters>100000000:\n",
    "            break\n",
    "        x = int(math.sqrt(n*multiple)) +1\n",
    "        xsquare = x**2\n",
    "        residue = xsquare%n\n",
    "        exp_vec = check_Bsmooth(primes, residue)\n",
    "        if exp_vec != []:\n",
    "            residues.append(residue)   # x^2\n",
    "            xsquares.append(xsquare)\n",
    "            exponents_list.append(exp_vec)\n",
    "            x_vals.append(x)\n",
    "            print(\"Found B-smooth square! with exponents: \", exp_vec, \" and quadratic residue: \", residue)\n",
    "        if len(residues) > len(primes):\n",
    "            print(\"Breaking, len of residues: \", len(residues), \" len of primes: \", len(primes))\n",
    "            break\n",
    "        multiple += 1\n",
    "        iters += 1\n",
    "    return [exponents_list, residues, iters, xsquares, x_vals]"
   ]
  },
  {
   "cell_type": "markdown",
   "metadata": {},
   "source": [
    "#### Choose the bound value"
   ]
  },
  {
   "cell_type": "code",
   "execution_count": 8,
   "metadata": {},
   "outputs": [
    {
     "name": "stdout",
     "output_type": "stream",
     "text": [
      "Number of elements less than bound =  20  is:  8\n"
     ]
    }
   ],
   "source": [
    "bound = 20\n",
    "primes = np.array(get_primes_less_thanB(bound))"
   ]
  },
  {
   "cell_type": "markdown",
   "metadata": {},
   "source": [
    "#### Test: Choose an N of your liking (8-15 digits)"
   ]
  },
  {
   "cell_type": "code",
   "execution_count": 9,
   "metadata": {},
   "outputs": [
    {
     "name": "stdout",
     "output_type": "stream",
     "text": [
      "Found B-smooth square! with exponents:  [2, 0, 0, 0, 0, 0, 0, 0]  and quadratic residue:  4\n",
      "Found B-smooth square! with exponents:  [1, 0, 0, 1, 0, 0, 0, 0]  and quadratic residue:  14\n",
      "Found B-smooth square! with exponents:  [1, 1, 0, 1, 0, 0, 0, 0]  and quadratic residue:  42\n",
      "Found B-smooth square! with exponents:  [2, 1, 0, 0, 0, 0, 0, 0]  and quadratic residue:  12\n",
      "Found B-smooth square! with exponents:  [0, 2, 0, 0, 0, 0, 0, 0]  and quadratic residue:  9\n",
      "Found B-smooth square! with exponents:  [1, 0, 0, 1, 0, 0, 0, 0]  and quadratic residue:  14\n",
      "Found B-smooth square! with exponents:  [0, 3, 0, 0, 0, 0, 0, 0]  and quadratic residue:  27\n",
      "Found B-smooth square! with exponents:  [4, 1, 0, 0, 0, 0, 0, 0]  and quadratic residue:  48\n",
      "Found B-smooth square! with exponents:  [0, 0, 0, 1, 1, 0, 0, 0]  and quadratic residue:  77\n",
      "Breaking, len of residues:  9  len of primes:  8\n",
      "Time in seconds:  0.0044651031494140625 , Time in minutes:  7.44183858235677e-05\n",
      "iterations,  9\n",
      "B smooth numbers found:  [4, 14, 42, 12, 9, 14, 27, 48, 77] \n",
      "total:  9\n"
     ]
    }
   ],
   "source": [
    "# A test on a small prime!\n",
    "# n = 10710336959293\n",
    "# n = 95775679     \n",
    "n = 143\n",
    "multiple = 4\n",
    "start = time.time()\n",
    "\n",
    "results = generate_BSsquares(primes, n, multiple)\n",
    "\n",
    "end = time.time()\n",
    "calc_time(start, end)\n",
    "print(\"iterations, \", results[2])\n",
    "print(\"B smooth numbers found: \", results[1], \"\\ntotal: \", len(results[1]))"
   ]
  },
  {
   "cell_type": "markdown",
   "metadata": {},
   "source": [
    "### The following uses (results, n) produced from last run cell "
   ]
  },
  {
   "cell_type": "code",
   "execution_count": 10,
   "metadata": {},
   "outputs": [],
   "source": [
    "def drop_zero_rows(A): \n",
    "    return A[~np.all(A == 0, axis=1)]"
   ]
  },
  {
   "cell_type": "code",
   "execution_count": 11,
   "metadata": {},
   "outputs": [
    {
     "name": "stdout",
     "output_type": "stream",
     "text": [
      "[[0 1 1 0 0 1 0 0 0]\n",
      " [0 0 1 1 0 0 1 1 0]\n",
      " [0 0 0 0 0 0 0 0 0]\n",
      " [0 1 1 0 0 1 0 0 1]\n",
      " [0 0 0 0 0 0 0 0 1]\n",
      " [0 0 0 0 0 0 0 0 0]\n",
      " [0 0 0 0 0 0 0 0 0]\n",
      " [0 0 0 0 0 0 0 0 0]]\n"
     ]
    }
   ],
   "source": [
    "from sympy import *          # Start using np arrays\n",
    "\n",
    "A = np.array(results[0])      # results = [exponents_list, residues, iters, xsquares]\n",
    "store_pows = A.copy()\n",
    "A = (np.transpose(A))%2\n",
    "print(A)"
   ]
  },
  {
   "cell_type": "code",
   "execution_count": 12,
   "metadata": {},
   "outputs": [
    {
     "name": "stdout",
     "output_type": "stream",
     "text": [
      "Old num rows and num columns:  8 9\n",
      "Reduced row echelon form AND mod 2 is: \n",
      "[[0 1 0 1 0 1 1 1 0]\n",
      " [0 0 1 1 0 0 1 1 0]\n",
      " [0 0 0 0 0 0 0 0 1]]\n",
      "New num rows, num columns:  3 9\n"
     ]
    }
   ],
   "source": [
    "col_num = len(A[0])\n",
    "row_num = len(A)\n",
    "print(\"Old num rows and num columns: \", row_num, col_num)\n",
    "L = Matrix(A)\n",
    "\n",
    "L = np.array(L.rref()[0])      # reduced row echelon form\n",
    "L2  = drop_zero_rows(L)        # get rid of primes we don't have to worry about in general\n",
    "L2 = L2 %2\n",
    "\n",
    "print(\"Reduced row echelon form AND mod 2 is: \")\n",
    "print(L2)\n",
    "\n",
    "print(\"New num rows, num columns: \", len(L2), len(L2[0]))"
   ]
  },
  {
   "cell_type": "code",
   "execution_count": 21,
   "metadata": {},
   "outputs": [],
   "source": [
    "# Choose a subset of columns (equations) to be 1 - those with 0 in pivot or 1 but the rowsum adds to 0mod2\n",
    "def getA_solution(reduced_matrix):\n",
    "    L = reduced_matrix\n",
    "    col_num = len(L[0])\n",
    "    row_num = len(L)\n",
    "    v = np.ones(col_num, dtype = 'int')\n",
    "    for i in reversed(range(row_num)):\n",
    "        for j in range(col_num):\n",
    "            if L[i][j] ==1:\n",
    "                if (L[i].sum()%2) !=0:                     # the exponents for this prime doesn't add up to zero\n",
    "                    v[j] = 0                  # can't use this equation\n",
    "                    break     # no need to  check cells above, as reduced echelon form\n",
    "    return(v)\n"
   ]
  },
  {
   "cell_type": "code",
   "execution_count": 22,
   "metadata": {},
   "outputs": [
    {
     "name": "stdout",
     "output_type": "stream",
     "text": [
      "[1 0 1 1 1 1 1 1 0]\n"
     ]
    }
   ],
   "source": [
    "v = getA_solution(L2)     # tells you which equations we can choose\n",
    "print(v)"
   ]
  },
  {
   "cell_type": "code",
   "execution_count": 23,
   "metadata": {},
   "outputs": [],
   "source": [
    "def get_root_modN(square, n): # xsq is the number left after multiplying all RELEVANT x squares found, check next func\n",
    "    result = int(math.sqrt(square))%n\n",
    "    return result"
   ]
  },
  {
   "cell_type": "code",
   "execution_count": 24,
   "metadata": {},
   "outputs": [],
   "source": [
    "def get_product(v, num_list):  # just multiply all RELEVANT (depends on v) numbers in a list together\n",
    "    product= 1       \n",
    "    for i in range(len(v)):\n",
    "        if v[i] ==0:\n",
    "            continue\n",
    "        product = product * num_list[i]\n",
    "#         product = product%n    # not reducing mod n yet\n",
    "    return product"
   ]
  },
  {
   "cell_type": "code",
   "execution_count": 25,
   "metadata": {},
   "outputs": [
    {
     "name": "stdout",
     "output_type": "stream",
     "text": [
      "final x squared mod n:  3  final y squared mod n:  3\n"
     ]
    }
   ],
   "source": [
    "# results is of form: [exponents_list, residues, iters, xsquares, x_vals (x before squaring)]\n",
    "residues = results[1]    # x%n, RHS\n",
    "xsquares = results[3]\n",
    "\n",
    "ysq = get_product(v, residues) \n",
    "xsq = get_product(v, xsquares)\n",
    "\n",
    "print(\"final x squared mod n: \", xsq%n, \" final y squared mod n: \", ysq%n) # just a check - they have to be equal"
   ]
  },
  {
   "cell_type": "code",
   "execution_count": 26,
   "metadata": {},
   "outputs": [
    {
     "name": "stdout",
     "output_type": "stream",
     "text": [
      "\n",
      "\n",
      "Found x not congruent y mod n! A Factor!!\n",
      "61 126\n"
     ]
    }
   ],
   "source": [
    "x_vals = results[4]\n",
    "x = get_product(v, x_vals)%n\n",
    "y = get_root_modN(ysq, n)%n\n",
    "\n",
    "if a_congruent_b(x, y, n):\n",
    "    print(\"Oh no, x congruent y mod n!\")\n",
    "else:\n",
    "    print(\"\\n\")\n",
    "    print(\"Found x not congruent y mod n! A Factor!!\")  # THIS ISN'T TRUE! GCD(x-y)doesn't return the right value :\"(\n",
    "    print(x, y)"
   ]
  },
  {
   "cell_type": "code",
   "execution_count": 27,
   "metadata": {},
   "outputs": [
    {
     "name": "stdout",
     "output_type": "stream",
     "text": [
      "x-y is:  65\n",
      "GCD found is:  13\n",
      "other factor of n is:  11\n"
     ]
    }
   ],
   "source": [
    "diff = abs(x-y)\n",
    "print(\"x-y is: \", diff)\n",
    "gcd = math.gcd(diff, n)\n",
    "print(\"GCD found is: \", gcd)\n",
    "print(\"other factor of n is: \", int(n/gcd)) "
   ]
  },
  {
   "cell_type": "markdown",
   "metadata": {},
   "source": [
    "### THE END"
   ]
  }
 ],
 "metadata": {
  "kernelspec": {
   "display_name": "Python 3",
   "language": "python",
   "name": "python3"
  },
  "language_info": {
   "codemirror_mode": {
    "name": "ipython",
    "version": 3
   },
   "file_extension": ".py",
   "mimetype": "text/x-python",
   "name": "python",
   "nbconvert_exporter": "python",
   "pygments_lexer": "ipython3",
   "version": "3.7.6"
  }
 },
 "nbformat": 4,
 "nbformat_minor": 4
}
