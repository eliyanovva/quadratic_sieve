{
 "cells": [
  {
   "cell_type": "code",
   "execution_count": 2,
   "metadata": {},
   "outputs": [],
   "source": [
    "import math\n",
    "import numpy as np\n",
    "import sympy\n",
    "import time "
   ]
  },
  {
   "cell_type": "code",
   "execution_count": 3,
   "metadata": {},
   "outputs": [],
   "source": [
    "def calc_time(start, end):\n",
    "    seconds = end - start\n",
    "    mins = seconds / 60\n",
    "    print('Time in seconds: ', str(seconds), ', Time in minutes: ', str(mins))\n",
    "    return seconds, mins"
   ]
  },
  {
   "cell_type": "code",
   "execution_count": 4,
   "metadata": {},
   "outputs": [],
   "source": [
    "# Final optimized version \n",
    "def get_primes_less_thanB(bound):                      # eratosthenes way\n",
    "    check_until = int(bound**0.5)\n",
    "    unmarked = np.array([x for x in range(2, bound)])\n",
    "    q = 2\n",
    "    i = 0\n",
    "    while True:\n",
    "        u = unmarked[i]\n",
    "        if u> check_until:               # only check numbers up to sqrt(bound)\n",
    "            break\n",
    "        u_idx = np.where(unmarked == u)[0][0]\n",
    "        max_idx = bound//u\n",
    "        listof_multiples = [u*i for i in range(q, max_idx+1)]\n",
    "        u_multiples = np.array(listof_multiples)\n",
    "        unmarked = np.setdiff1d(unmarked, u_multiples)   # numpy set diff without changing order of elements in list\n",
    "        q = u\n",
    "        i +=1\n",
    "    print(\"Number of elements less than bound = \", bound, \" is: \", len(unmarked))\n",
    "    return (unmarked)"
   ]
  },
  {
   "cell_type": "code",
   "execution_count": 5,
   "metadata": {},
   "outputs": [],
   "source": [
    "# Correct optimized version\n",
    "def check_Bsmooth(primes, num):\n",
    "    powers_of_primes= []\n",
    "    num_remaining= num                         \n",
    "    for prime in primes: \n",
    "        i = 0                                   # i = power of prime\n",
    "        if (num_remaining%prime == 0):\n",
    "            while (num_remaining%prime ==0):   #keep dividing for each power of the prime\n",
    "                quotient = num_remaining/prime\n",
    "                num_remaining = quotient\n",
    "                i +=1\n",
    "        powers_of_primes.append(i)\n",
    "        if num_remaining == 1:     \n",
    "            diff = len(primes)-len(powers_of_primes)\n",
    "            if diff>0:\n",
    "                zeros = [0 for k in range(diff)]\n",
    "                return powers_of_primes + zeros\n",
    "            return powers_of_primes\n",
    "    #print(\"Number is not B smooth\")\n",
    "    return []"
   ]
  },
  {
   "cell_type": "markdown",
   "metadata": {},
   "source": [
    "#### Start Choosing parameters for testing: bound, n, etc;"
   ]
  },
  {
   "cell_type": "code",
   "execution_count": 6,
   "metadata": {},
   "outputs": [],
   "source": [
    "def a_congruent_b(a, b, n):\n",
    "    if a==(b%n):\n",
    "        return True\n",
    "    return False"
   ]
  },
  {
   "cell_type": "code",
   "execution_count": 7,
   "metadata": {},
   "outputs": [],
   "source": [
    "def generate_BSsquares(primes, n, multiple):     # nothing here has numpy structure\n",
    "    exponents_list = []\n",
    "    xsquares = []           # the x\n",
    "    residues = []           # the y\n",
    "    iters = 0\n",
    "    while(True):\n",
    "        if iters>100000000:\n",
    "            break\n",
    "        xsquare = (int(math.sqrt(n*multiple)) +1)**2\n",
    "        # Add other fancy ways of finding candidates for xsquare\n",
    "        residue = xsquare%n\n",
    "        exp_vec = check_Bsmooth(primes, residue)\n",
    "        if exp_vec != []:\n",
    "            residues.append(residue)   # x^2\n",
    "            xsquares.append(xsquare)\n",
    "            exponents_list.append(exp_vec)\n",
    "            print(\"Found B-smooth square! with exponents: \", exp_vec, \" and quadratic residue: \", residue)\n",
    "        if len(residues) > len(primes):\n",
    "            print(\"Breaking, len of residues: \", len(residues), \" len of primes: \", len(primes))\n",
    "            break\n",
    "        iters += 1\n",
    "        multiple += 1\n",
    "    return [exponents_list, residues, iters, xsquares]"
   ]
  },
  {
   "cell_type": "markdown",
   "metadata": {},
   "source": [
    "#### Test 1: a simple test on a small prime! "
   ]
  },
  {
   "cell_type": "code",
   "execution_count": 8,
   "metadata": {},
   "outputs": [
    {
     "name": "stdout",
     "output_type": "stream",
     "text": [
      "Number of elements less than bound =  100  is:  25\n"
     ]
    }
   ],
   "source": [
    "# A first simulation\n",
    "bound = 100\n",
    "primes = np.array(get_primes_less_thanB(bound))"
   ]
  },
  {
   "cell_type": "code",
   "execution_count": 9,
   "metadata": {},
   "outputs": [
    {
     "name": "stdout",
     "output_type": "stream",
     "text": [
      "Found B-smooth square! with exponents:  [1, 1, 1, 0, 0, 0, 1, 1, 0, 0, 0, 0, 0, 0, 0, 0, 0, 0, 0, 0, 0, 0, 0, 0, 0]  and quadratic residue:  9690\n",
      "Found B-smooth square! with exponents:  [3, 1, 1, 0, 0, 0, 1, 1, 0, 0, 0, 0, 0, 0, 0, 0, 0, 0, 0, 0, 0, 0, 0, 0, 0]  and quadratic residue:  38760\n",
      "Found B-smooth square! with exponents:  [5, 0, 0, 1, 0, 0, 0, 0, 0, 0, 0, 0, 0, 0, 0, 0, 0, 0, 0, 0, 0, 1, 0, 0, 0]  and quadratic residue:  17696\n",
      "Found B-smooth square! with exponents:  [2, 3, 1, 0, 0, 0, 0, 0, 0, 0, 0, 0, 0, 0, 0, 0, 0, 0, 0, 0, 0, 0, 0, 0, 1]  and quadratic residue:  52380\n",
      "Found B-smooth square! with exponents:  [0, 0, 1, 0, 2, 0, 0, 0, 0, 0, 0, 0, 0, 0, 0, 0, 0, 0, 0, 0, 0, 0, 0, 1, 0]  and quadratic residue:  53845\n",
      "Found B-smooth square! with exponents:  [7, 0, 0, 1, 0, 0, 0, 0, 0, 0, 0, 0, 0, 0, 0, 0, 0, 0, 0, 0, 0, 1, 0, 0, 0]  and quadratic residue:  70784\n",
      "Found B-smooth square! with exponents:  [4, 0, 0, 0, 0, 0, 0, 0, 0, 0, 1, 0, 0, 0, 0, 0, 0, 0, 0, 0, 1, 0, 0, 0, 0]  and quadratic residue:  36208\n",
      "Found B-smooth square! with exponents:  [1, 1, 0, 0, 0, 0, 0, 0, 0, 1, 0, 0, 0, 0, 0, 1, 0, 0, 0, 0, 0, 0, 0, 0, 0]  and quadratic residue:  9222\n",
      "Found B-smooth square! with exponents:  [3, 0, 1, 0, 0, 0, 0, 0, 0, 0, 1, 0, 0, 0, 0, 0, 1, 0, 0, 0, 0, 0, 0, 0, 0]  and quadratic residue:  73160\n",
      "Found B-smooth square! with exponents:  [0, 0, 0, 0, 0, 0, 1, 0, 0, 1, 0, 0, 0, 0, 0, 0, 0, 0, 0, 0, 1, 0, 0, 0, 0]  and quadratic residue:  35989\n",
      "Found B-smooth square! with exponents:  [0, 2, 4, 0, 0, 0, 0, 0, 1, 0, 0, 0, 0, 0, 0, 0, 0, 0, 0, 0, 0, 0, 0, 0, 0]  and quadratic residue:  129375\n",
      "Found B-smooth square! with exponents:  [1, 0, 1, 0, 0, 0, 0, 0, 0, 0, 0, 0, 0, 0, 0, 0, 0, 0, 1, 0, 0, 0, 0, 1, 0]  and quadratic residue:  59630\n",
      "Found B-smooth square! with exponents:  [0, 0, 0, 0, 1, 1, 0, 1, 0, 0, 0, 0, 0, 0, 0, 0, 0, 1, 0, 0, 0, 0, 0, 0, 0]  and quadratic residue:  165737\n",
      "Found B-smooth square! with exponents:  [6, 1, 0, 0, 0, 0, 0, 0, 1, 0, 0, 1, 0, 0, 0, 0, 0, 0, 0, 0, 0, 0, 0, 0, 0]  and quadratic residue:  163392\n",
      "Found B-smooth square! with exponents:  [2, 0, 0, 0, 0, 0, 0, 0, 1, 0, 1, 0, 0, 1, 0, 0, 0, 0, 0, 0, 0, 0, 0, 0, 0]  and quadratic residue:  122636\n",
      "Found B-smooth square! with exponents:  [0, 3, 0, 0, 1, 1, 0, 1, 0, 0, 0, 0, 0, 0, 0, 0, 0, 0, 0, 0, 0, 0, 0, 0, 0]  and quadratic residue:  73359\n",
      "Found B-smooth square! with exponents:  [0, 0, 1, 0, 1, 0, 0, 1, 0, 0, 0, 0, 0, 0, 0, 0, 0, 0, 0, 1, 0, 0, 0, 0, 0]  and quadratic residue:  74195\n",
      "Found B-smooth square! with exponents:  [0, 4, 0, 2, 0, 0, 0, 0, 0, 0, 0, 0, 0, 0, 1, 0, 0, 0, 0, 0, 0, 0, 0, 0, 0]  and quadratic residue:  186543\n",
      "Found B-smooth square! with exponents:  [5, 1, 0, 0, 0, 0, 1, 0, 0, 0, 0, 0, 0, 0, 0, 0, 0, 1, 0, 0, 0, 0, 0, 0, 0]  and quadratic residue:  99552\n",
      "Found B-smooth square! with exponents:  [6, 0, 0, 0, 0, 0, 0, 0, 0, 0, 1, 0, 0, 0, 0, 0, 0, 0, 0, 0, 1, 0, 0, 0, 0]  and quadratic residue:  144832\n",
      "Found B-smooth square! with exponents:  [1, 0, 1, 0, 1, 0, 1, 0, 1, 0, 0, 0, 0, 0, 0, 0, 0, 0, 0, 0, 0, 0, 0, 0, 0]  and quadratic residue:  43010\n",
      "Found B-smooth square! with exponents:  [0, 0, 0, 1, 1, 0, 0, 0, 0, 0, 0, 1, 0, 1, 0, 0, 0, 0, 0, 0, 0, 0, 0, 0, 0]  and quadratic residue:  122507\n",
      "Found B-smooth square! with exponents:  [0, 1, 0, 1, 0, 0, 0, 0, 0, 0, 1, 0, 0, 0, 0, 1, 0, 0, 0, 0, 0, 0, 0, 0, 0]  and quadratic residue:  34503\n",
      "Found B-smooth square! with exponents:  [0, 1, 1, 1, 0, 0, 0, 0, 1, 0, 0, 0, 1, 0, 0, 0, 0, 0, 0, 0, 0, 0, 0, 0, 0]  and quadratic residue:  99015\n",
      "Found B-smooth square! with exponents:  [0, 2, 0, 0, 0, 0, 1, 0, 0, 0, 1, 1, 0, 0, 0, 0, 0, 0, 0, 0, 0, 0, 0, 0, 0]  and quadratic residue:  175491\n",
      "Found B-smooth square! with exponents:  [2, 0, 0, 0, 0, 0, 1, 0, 0, 0, 0, 0, 0, 0, 1, 0, 0, 0, 1, 0, 0, 0, 0, 0, 0]  and quadratic residue:  214132\n",
      "Breaking, len of residues:  26  len of primes:  25\n",
      "Time in seconds:  0.037348270416259766 , Time in minutes:  0.0006224711736043295\n",
      "iterations,  202\n",
      "B smooth numbers found:  [9690, 38760, 17696, 52380, 53845, 70784, 36208, 9222, 73160, 35989, 129375, 59630, 165737, 163392, 122636, 73359, 74195, 186543, 99552, 144832, 43010, 122507, 34503, 99015, 175491, 214132] \n",
      "total:  26\n"
     ]
    }
   ],
   "source": [
    "# Sample test of the function above\n",
    "n = 95775679\n",
    "#A_const = (math.sqrt(2)-1)*math.sqrt(n)-1      \n",
    "multiple = 1\n",
    "start = time.time()\n",
    "\n",
    "results = generate_BSsquares(primes, n, multiple)\n",
    "\n",
    "end = time.time()\n",
    "calc_time(start, end)\n",
    "print(\"iterations, \", results[2])\n",
    "print(\"B smooth numbers found: \", results[1], \"\\ntotal: \", len(results[1]))"
   ]
  },
  {
   "cell_type": "markdown",
   "metadata": {},
   "source": [
    "##### Test 2: on larger prime - just copy paste the block from above and change n"
   ]
  },
  {
   "cell_type": "code",
   "execution_count": 88,
   "metadata": {},
   "outputs": [
    {
     "name": "stdout",
     "output_type": "stream",
     "text": [
      "Found B-smooth square! with exponents:  [2 2 0 0 0 0 0 0 0 0 0 0 0 0 0]  and quadratic residue:  36\n",
      "Found B-smooth square! with exponents:  [4 2 0 0 0 0 0 0 0 0 0 0 0 0 0]  and quadratic residue:  144\n",
      "Found B-smooth square! with exponents:  [2 4 0 0 0 0 0 0 0 0 0 0 0 0 0]  and quadratic residue:  324\n",
      "Found B-smooth square! with exponents:  [6 2 0 0 0 0 0 0 0 0 0 0 0 0 0]  and quadratic residue:  576\n",
      "Found B-smooth square! with exponents:  [2 2 2 0 0 0 0 0 0 0 0 0 0 0 0]  and quadratic residue:  900\n",
      "Found B-smooth square! with exponents:  [4 4 0 0 0 0 0 0 0 0 0 0 0 0 0]  and quadratic residue:  1296\n",
      "Found B-smooth square! with exponents:  [2 2 0 2 0 0 0 0 0 0 0 0 0 0 0]  and quadratic residue:  1764\n",
      "Found B-smooth square! with exponents:  [8 2 0 0 0 0 0 0 0 0 0 0 0 0 0]  and quadratic residue:  2304\n",
      "Found B-smooth square! with exponents:  [2 6 0 0 0 0 0 0 0 0 0 0 0 0 0]  and quadratic residue:  2916\n",
      "Found B-smooth square! with exponents:  [4 2 2 0 0 0 0 0 0 0 0 0 0 0 0]  and quadratic residue:  3600\n",
      "Found B-smooth square! with exponents:  [2 2 0 0 2 0 0 0 0 0 0 0 0 0 0]  and quadratic residue:  4356\n",
      "Found B-smooth square! with exponents:  [6 4 0 0 0 0 0 0 0 0 0 0 0 0 0]  and quadratic residue:  5184\n",
      "Found B-smooth square! with exponents:  [2 2 0 0 0 2 0 0 0 0 0 0 0 0 0]  and quadratic residue:  6084\n",
      "Found B-smooth square! with exponents:  [4 2 0 2 0 0 0 0 0 0 0 0 0 0 0]  and quadratic residue:  7056\n",
      "Found B-smooth square! with exponents:  [2 4 2 0 0 0 0 0 0 0 0 0 0 0 0]  and quadratic residue:  8100\n",
      "Found B-smooth square! with exponents:  [10  2  0  0  0  0  0  0  0  0  0  0  0  0  0]  and quadratic residue:  9216\n",
      "Found B-smooth square! with exponents:  [2 2 0 0 0 0 2 0 0 0 0 0 0 0 0]  and quadratic residue:  10404\n",
      "Found B-smooth square! with exponents:  [4 6 0 0 0 0 0 0 0 0 0 0 0 0 0]  and quadratic residue:  11664\n",
      "Found B-smooth square! with exponents:  [2 2 0 0 0 0 0 2 0 0 0 0 0 0 0]  and quadratic residue:  12996\n",
      "Breaking, len of residues:  19  len of primes:  15\n",
      "Time in seconds:  0.010944366455078125 , Time in minutes:  0.00018240610758463543\n",
      "iterations,  18\n",
      "B smooth numbers found:  [36, 144, 324, 576, 900, 1296, 1764, 2304, 2916, 3600, 4356, 5184, 6084, 7056, 8100, 9216, 10404, 11664, 12996] \n",
      "total:  19\n"
     ]
    }
   ],
   "source": [
    "n = 62615533\n",
    "multiple = 1\n",
    "start = time.time()\n",
    "\n",
    "results = generate_BSsquares(primes, n, multiple)\n",
    "\n",
    "end = time.time()\n",
    "calc_time(start, end)\n",
    "print(\"iterations, \", results[2])\n",
    "print(\"B smooth numbers found: \", results[1], \"\\ntotal: \", len(results[1]))"
   ]
  },
  {
   "cell_type": "markdown",
   "metadata": {},
   "source": [
    "#### # Test 3: on even larger prime - again copy paste the block from above and change n\n",
    "#### Trials 1, 2: oops, did not work? - Changed break point to be 100 fold more than for the other 2\n",
    "##### Result: Not bad!"
   ]
  },
  {
   "cell_type": "code",
   "execution_count": 93,
   "metadata": {},
   "outputs": [
    {
     "name": "stdout",
     "output_type": "stream",
     "text": [
      "Found B-smooth square! with exponents:  [0 2 0 2 0 0 0 0 0 1 1 0 2 1 0]  and quadratic residue:  28657245897\n",
      "Found B-smooth square! with exponents:  [2 2 0 2 0 0 0 0 0 1 1 0 2 1 0]  and quadratic residue:  114628983588\n",
      "Found B-smooth square! with exponents:  [0 2 3 0 0 1 0 3 0 0 0 0 1 0 0]  and quadratic residue:  4112827875\n",
      "Found B-smooth square! with exponents:  [6 6 0 0 0 1 0 0 0 1 0 0 1 0 1]  and quadratic residue:  33894604224\n",
      "Found B-smooth square! with exponents:  [2 2 3 0 0 1 0 3 0 0 0 0 1 0 0]  and quadratic residue:  16451311500\n",
      "Found B-smooth square! with exponents:  [3 5 0 2 0 0 1 0 0 0 0 0 1 2 0]  and quadratic residue:  122761455768\n",
      "Found B-smooth square! with exponents:  [0 2 0 1 0 2 1 2 0 1 0 0 0 1 0]  and quadratic residue:  81479776833\n",
      "Found B-smooth square! with exponents:  [0 4 3 0 0 1 0 3 0 0 0 0 1 0 0]  and quadratic residue:  37015450875\n",
      "Found B-smooth square! with exponents:  [8 6 0 0 0 1 0 0 0 1 0 0 1 0 1]  and quadratic residue:  135578416896\n",
      "Found B-smooth square! with exponents:  [16  5  0  1  0  0  0  0  1  0  0  1  0  0  0]  and quadratic residue:  94866702336\n",
      "Found B-smooth square! with exponents:  [6 1 0 1 0 0 0 1 0 1 0 1 1 0 0]  and quadratic residue:  1123405248\n",
      "Found B-smooth square! with exponents:  [4 2 3 0 0 1 0 3 0 0 0 0 1 0 0]  and quadratic residue:  65805246000\n",
      "Found B-smooth square! with exponents:  [8 1 3 2 0 0 0 1 0 0 1 0 1 0 0]  and quadratic residue:  113596896000\n",
      "Found B-smooth square! with exponents:  [1 1 3 0 2 0 0 0 1 2 0 0 0 1 0]  and quadratic residue:  75481221750\n",
      "Found B-smooth square! with exponents:  [0 2 5 0 0 1 0 3 0 0 0 0 1 0 0]  and quadratic residue:  102820696875\n",
      "Found B-smooth square! with exponents:  [0 1 0 0 1 0 0 1 0 1 2 1 0 0 1]  and quadratic residue:  30387047757\n",
      "Found B-smooth square! with exponents:  [2 4 3 0 0 1 0 3 0 0 0 0 1 0 0]  and quadratic residue:  148061803500\n",
      "Found B-smooth square! with exponents:  [0 1 0 1 3 0 0 1 0 0 0 1 0 0 2]  and quadratic residue:  43405862577\n",
      "Found B-smooth square! with exponents:  [1 1 1 0 1 0 0 1 2 0 0 0 0 1 1]  and quadratic residue:  6703313430\n",
      "Breaking, len of residues:  19  len of primes:  15\n",
      "Time in seconds:  9.145801305770874 , Time in minutes:  0.1524300217628479\n",
      "iterations,  315273\n",
      "B smooth numbers found:  [28657245897, 114628983588, 4112827875, 33894604224, 16451311500, 122761455768, 81479776833, 37015450875, 135578416896, 94866702336, 1123405248, 65805246000, 113596896000, 75481221750, 102820696875, 30387047757, 148061803500, 43405862577, 6703313430] \n",
      "total:  19\n"
     ]
    }
   ],
   "source": [
    "n = 169214564391    # 12 digits :))\n",
    "multiple = 2\n",
    "start = time.time()\n",
    "\n",
    "results = generate_BSsquares(primes, n, multiple)\n",
    "\n",
    "end = time.time()\n",
    "calc_time(start, end)\n",
    "print(\"iterations, \", results[2])\n",
    "print(\"B smooth numbers found: \", results[1], \"\\ntotal: \", len(results[1]))"
   ]
  },
  {
   "cell_type": "code",
   "execution_count": 105,
   "metadata": {},
   "outputs": [
    {
     "name": "stdout",
     "output_type": "stream",
     "text": [
      "Found B-smooth square! with exponents:  [0 0 1 0 1 0 0 0 0 0 0 0 1 0 1 0 0 0 2 1 0 0 0 0 0 0 0 0 1 0]  and quadratic residue:  3681958220435\n",
      "Found B-smooth square! with exponents:  [4 1 0 0 0 0 0 0 0 1 0 0 0 0 1 0 0 2 0 0 1 0 0 0 0 0 0 0 0 1]  and quadratic residue:  2008158865296\n",
      "Found B-smooth square! with exponents:  [6 1 0 0 0 0 0 0 0 1 0 0 0 0 1 0 0 2 0 0 1 0 0 0 0 0 0 0 0 1]  and quadratic residue:  8032635461184\n",
      "Found B-smooth square! with exponents:  [1 1 2 0 1 0 0 1 0 0 0 0 0 1 3 0 0 0 0 0 0 0 0 0 0 0 0 0 0 0]  and quadratic residue:  139958595150\n",
      "Found B-smooth square! with exponents:  [0 1 3 0 0 1 1 0 0 0 0 0 0 2 0 0 0 0 0 0 1 0 0 0 0 0 0 0 0 0]  and quadratic residue:  11186218875\n",
      "Found B-smooth square! with exponents:  [3 1 2 0 1 0 0 1 0 0 0 0 0 1 3 0 0 0 0 0 0 0 0 0 0 0 0 0 0 0]  and quadratic residue:  559834380600\n",
      "Found B-smooth square! with exponents:  [0 1 1 3 0 2 0 0 1 1 0 0 0 1 0 0 0 0 0 0 0 0 0 0 1 0 0 0 0 0]  and quadratic residue:  2419012471785\n",
      "Found B-smooth square! with exponents:  [1 3 2 0 1 0 0 1 0 0 0 0 0 1 3 0 0 0 0 0 0 0 0 0 0 0 0 0 0 0]  and quadratic residue:  1259627356350\n",
      "Found B-smooth square! with exponents:  [2 1 3 0 0 1 1 0 0 0 0 0 0 2 0 0 0 0 0 0 1 0 0 0 0 0 0 0 0 0]  and quadratic residue:  44744875500\n",
      "Found B-smooth square! with exponents:  [5 1 2 0 1 0 0 1 0 0 0 0 0 1 3 0 0 0 0 0 0 0 0 0 0 0 0 0 0 0]  and quadratic residue:  2239337522400\n",
      "Found B-smooth square! with exponents:  [2 1 1 3 0 2 0 0 1 1 0 0 0 1 0 0 0 0 0 0 0 0 0 0 1 0 0 0 0 0]  and quadratic residue:  9676049887140\n",
      "Found B-smooth square! with exponents:  [0 3 3 0 0 1 1 0 0 0 0 0 0 2 0 0 0 0 0 0 1 0 0 0 0 0 0 0 0 0]  and quadratic residue:  100675969875\n",
      "Found B-smooth square! with exponents:  [1 1 4 0 1 0 0 1 0 0 0 0 0 1 3 0 0 0 0 0 0 0 0 0 0 0 0 0 0 0]  and quadratic residue:  3498964878750\n",
      "Found B-smooth square! with exponents:  [3 4 0 0 0 1 0 0 1 0 1 0 0 1 0 0 1 0 0 1 0 0 0 0 0 0 0 0 0 0]  and quadratic residue:  1081898961624\n",
      "Found B-smooth square! with exponents:  [3 3 2 0 1 0 0 1 0 0 0 0 0 1 3 0 0 0 0 0 0 0 0 0 0 0 0 0 0 0]  and quadratic residue:  5038509425400\n",
      "Found B-smooth square! with exponents:  [4 1 3 0 0 1 1 0 0 0 0 0 0 2 0 0 0 0 0 0 1 0 0 0 0 0 0 0 0 0]  and quadratic residue:  178979502000\n",
      "Found B-smooth square! with exponents:  [3 1 2 0 0 0 0 1 1 0 0 0 0 0 2 0 0 0 0 0 0 0 1 0 1 0 0 0 0 0]  and quadratic residue:  4663137589800\n",
      "Found B-smooth square! with exponents:  [0 0 0 0 0 0 0 0 0 0 0 0 0 0 0 1 1 1 0 1 0 1 0 1 0 1 0 0 0 0]  and quadratic residue:  9617330407847\n",
      "Found B-smooth square! with exponents:  [1 1 2 2 1 0 0 1 0 0 0 0 0 1 3 0 0 0 0 0 0 0 0 0 0 0 0 0 0 0]  and quadratic residue:  6857971162350\n",
      "Found B-smooth square! with exponents:  [0 1 5 0 0 1 1 0 0 0 0 0 0 2 0 0 0 0 0 0 1 0 0 0 0 0 0 0 0 0]  and quadratic residue:  279655471875\n",
      "Found B-smooth square! with exponents:  [7 1 2 0 1 0 0 1 0 0 0 0 0 1 3 0 0 0 0 0 0 0 0 0 0 0 0 0 0 0]  and quadratic residue:  8957350089600\n",
      "Found B-smooth square! with exponents:  [2 3 3 0 0 1 1 0 0 0 0 0 0 2 0 0 0 0 0 0 1 0 0 0 0 0 0 0 0 0]  and quadratic residue:  402703879500\n",
      "Found B-smooth square! with exponents:  [0 0 0 2 1 0 0 0 0 0 0 3 1 0 0 0 0 0 0 0 0 0 1 0 1 0 0 0 0 0]  and quadratic residue:  9012133588997\n",
      "Found B-smooth square! with exponents:  [2 6 2 2 0 0 0 0 0 0 1 0 0 0 0 0 0 0 0 0 1 0 0 0 0 0 0 0 0 0]  and quadratic residue:  8083662300\n",
      "Found B-smooth square! with exponents:  [0 1 3 2 0 1 1 0 0 0 0 0 0 2 0 0 0 0 0 0 1 0 0 0 0 0 0 0 0 0]  and quadratic residue:  548124724875\n",
      "Found B-smooth square! with exponents:  [2 0 0 0 0 1 0 0 0 0 2 0 0 0 0 1 0 0 0 1 1 0 0 0 0 0 0 0 0 0]  and quadratic residue:  13727258428\n",
      "Found B-smooth square! with exponents:  [5 4 0 0 0 1 0 0 1 0 1 0 0 1 0 0 1 0 0 1 0 0 0 0 0 0 0 0 0 0]  and quadratic residue:  4327595846496\n",
      "Found B-smooth square! with exponents:  [0 3 0 0 1 0 0 0 1 0 1 1 0 0 0 0 0 0 0 1 0 1 0 0 0 0 0 0 0 1]  and quadratic residue:  4966055704269\n",
      "Found B-smooth square! with exponents:  [6 1 3 0 0 1 1 0 0 0 0 0 0 2 0 0 0 0 0 0 1 0 0 0 0 0 0 0 0 0]  and quadratic residue:  715918008000\n",
      "Found B-smooth square! with exponents:  [0 2 2 0 0 0 0 0 0 0 0 0 0 1 0 0 0 0 2 0 0 0 0 0 0 1 1 0 0 0]  and quadratic residue:  451813473225\n",
      "Found B-smooth square! with exponents:  [2 0 1 0 0 2 0 0 0 0 0 0 0 0 0 0 1 0 0 1 0 1 0 0 0 0 0 0 0 0]  and quadratic residue:  1118546780\n",
      "Found B-smooth square! with exponents:  [1 0 1 0 0 1 1 0 0 0 0 0 3 0 0 0 0 0 0 0 0 1 0 0 0 0 0 0 1 0]  and quadratic residue:  1311587995510\n",
      "Found B-smooth square! with exponents:  [0 5 3 0 0 1 1 0 0 0 0 0 0 2 0 0 0 0 0 0 1 0 0 0 0 0 0 0 0 0]  and quadratic residue:  906083728875\n",
      "Found B-smooth square! with exponents:  [2 1 5 0 0 1 1 0 0 0 0 0 0 2 0 0 0 0 0 0 1 0 0 0 0 0 0 0 0 0]  and quadratic residue:  1118621887500\n",
      "Breaking, len of residues:  34  len of primes:  30\n",
      "Time in seconds:  36.52166128158569 , Time in minutes:  0.6086943546930949\n",
      "iterations,  563488\n",
      "B smooth numbers found:  [3681958220435, 2008158865296, 8032635461184, 139958595150, 11186218875, 559834380600, 2419012471785, 1259627356350, 44744875500, 2239337522400, 9676049887140, 100675969875, 3498964878750, 1081898961624, 5038509425400, 178979502000, 4663137589800, 9617330407847, 6857971162350, 279655471875, 8957350089600, 402703879500, 9012133588997, 8083662300, 548124724875, 13727258428, 4327595846496, 4966055704269, 715918008000, 451813473225, 1118546780, 1311587995510, 906083728875, 1118621887500] \n",
      "total:  34\n"
     ]
    }
   ],
   "source": [
    "n = 10710336959293   # 13 digits :))\n",
    "multiple = 2\n",
    "start = time.time()\n",
    "\n",
    "results = generate_BSsquares(primes, n, multiple)\n",
    "\n",
    "end = time.time()\n",
    "calc_time(start, end)\n",
    "print(\"iterations, \", results[2])\n",
    "print(\"B smooth numbers found: \", results[1], \"\\ntotal: \", len(results[1]))\n"
   ]
  },
  {
   "cell_type": "markdown",
   "metadata": {},
   "source": [
    "#### Try for 16 digits, professor's number!"
   ]
  },
  {
   "cell_type": "code",
   "execution_count": 65,
   "metadata": {},
   "outputs": [
    {
     "name": "stdout",
     "output_type": "stream",
     "text": [
      "Number of elements less than bound =  250  is:  53\n"
     ]
    }
   ],
   "source": [
    "# Try a bigger bound - does it help runtime?\n",
    "bound = 250\n",
    "primes = np.array(get_primes_less_thanB(bound))"
   ]
  },
  {
   "cell_type": "code",
   "execution_count": 1,
   "metadata": {},
   "outputs": [],
   "source": [
    "# n = 6817540046645387   # 16 digits\n",
    "# multiple = 3\n",
    "# start = time.time()\n",
    "\n",
    "# results = generate_BSsquares(primes, n, multiple)\n",
    "\n",
    "# end = time.time()\n",
    "# calc_time(start, end)\n",
    "# print(\"iterations, \", results[2])\n",
    "# print(\"B smooth numbers found: \", results[1], \"\\ntotal: \", len(results[1]))"
   ]
  },
  {
   "cell_type": "code",
   "execution_count": 14,
   "metadata": {},
   "outputs": [],
   "source": [
    "# Run this cell only when you do keyboard interrupt (after getting frustrated about it not ending)\n",
    "# end = time.time()\n",
    "# calc_time(start, end)\n",
    "# print(\"iterations, \", results[2])\n",
    "# print(\"B smooth numbers found: \", results[1], \"\\ntotal: \", len(results[1]))"
   ]
  },
  {
   "cell_type": "markdown",
   "metadata": {},
   "source": [
    "## Can run on 'results, n' produced from last run cell "
   ]
  },
  {
   "cell_type": "code",
   "execution_count": 10,
   "metadata": {},
   "outputs": [],
   "source": [
    "def drop_zero_rows(A): \n",
    "    return A[~np.all(A == 0, axis=1)]"
   ]
  },
  {
   "cell_type": "code",
   "execution_count": 11,
   "metadata": {},
   "outputs": [
    {
     "name": "stdout",
     "output_type": "stream",
     "text": [
      "[[1 1 1 0 0 1 0 1 1 0 0 1 0 0 0 0 0 0 1 0 1 0 0 0 0 0]\n",
      " [1 1 0 1 0 0 0 1 0 0 0 0 0 1 0 1 0 0 1 0 0 0 1 1 0 0]\n",
      " [1 1 0 1 1 0 0 0 1 0 0 1 0 0 0 0 1 0 0 0 1 0 0 1 0 0]\n",
      " [0 0 1 0 0 1 0 0 0 0 0 0 0 0 0 0 0 0 0 0 0 1 1 1 0 0]\n",
      " [0 0 0 0 0 0 0 0 0 0 0 0 1 0 0 1 1 0 0 0 1 1 0 0 0 0]\n",
      " [0 0 0 0 0 0 0 0 0 0 0 0 1 0 0 1 0 0 0 0 0 0 0 0 0 0]\n",
      " [1 1 0 0 0 0 0 0 0 1 0 0 0 0 0 0 0 0 1 0 1 0 0 0 1 1]\n",
      " [1 1 0 0 0 0 0 0 0 0 0 0 1 0 0 1 1 0 0 0 0 0 0 0 0 0]\n",
      " [0 0 0 0 0 0 0 0 0 0 1 0 0 1 1 0 0 0 0 0 1 0 0 1 0 0]\n",
      " [0 0 0 0 0 0 0 1 0 1 0 0 0 0 0 0 0 0 0 0 0 0 0 0 0 0]\n",
      " [0 0 0 0 0 0 1 0 1 0 0 0 0 0 1 0 0 0 0 1 0 0 1 0 1 0]\n",
      " [0 0 0 0 0 0 0 0 0 0 0 0 0 1 0 0 0 0 0 0 0 1 0 0 1 0]\n",
      " [0 0 0 0 0 0 0 0 0 0 0 0 0 0 0 0 0 0 0 0 0 0 0 1 0 0]\n",
      " [0 0 0 0 0 0 0 0 0 0 0 0 0 0 1 0 0 0 0 0 0 1 0 0 0 0]\n",
      " [0 0 0 0 0 0 0 0 0 0 0 0 0 0 0 0 0 1 0 0 0 0 0 0 0 1]\n",
      " [0 0 0 0 0 0 0 1 0 0 0 0 0 0 0 0 0 0 0 0 0 0 1 0 0 0]\n",
      " [0 0 0 0 0 0 0 0 1 0 0 0 0 0 0 0 0 0 0 0 0 0 0 0 0 0]\n",
      " [0 0 0 0 0 0 0 0 0 0 0 0 1 0 0 0 0 0 1 0 0 0 0 0 0 0]\n",
      " [0 0 0 0 0 0 0 0 0 0 0 1 0 0 0 0 0 0 0 0 0 0 0 0 0 1]\n",
      " [0 0 0 0 0 0 0 0 0 0 0 0 0 0 0 0 1 0 0 0 0 0 0 0 0 0]\n",
      " [0 0 0 0 0 0 1 0 0 1 0 0 0 0 0 0 0 0 0 1 0 0 0 0 0 0]\n",
      " [0 0 1 0 0 1 0 0 0 0 0 0 0 0 0 0 0 0 0 0 0 0 0 0 0 0]\n",
      " [0 0 0 0 0 0 0 0 0 0 0 0 0 0 0 0 0 0 0 0 0 0 0 0 0 0]\n",
      " [0 0 0 0 1 0 0 0 0 0 0 1 0 0 0 0 0 0 0 0 0 0 0 0 0 0]\n",
      " [0 0 0 1 0 0 0 0 0 0 0 0 0 0 0 0 0 0 0 0 0 0 0 0 0 0]]\n"
     ]
    }
   ],
   "source": [
    "from sympy import *          # Start using np arrays\n",
    "\n",
    "A = np.array(results[0])      # results = [exponents_list, residues, iters, xsquares]\n",
    "store_pows = A.copy()\n",
    "A = (np.transpose(A))%2\n",
    "print(A)"
   ]
  },
  {
   "cell_type": "code",
   "execution_count": 12,
   "metadata": {},
   "outputs": [
    {
     "name": "stdout",
     "output_type": "stream",
     "text": [
      "Old num rows and num columns:  25 26\n",
      "Reduced row echelon form AND mod 2 is: \n",
      "[[1 1 0 0 0 0 0 0 0 0 0 0 0 0 0 0 0 0 0 0 0 0 0 0 0 0]\n",
      " [0 0 1 0 0 1 0 0 0 0 0 0 0 0 0 0 0 0 0 0 0 0 0 0 0 0]\n",
      " [0 0 0 1 0 0 0 0 0 0 0 0 0 0 0 0 0 0 0 0 0 0 0 0 0 0]\n",
      " [0 0 0 0 1 0 0 0 0 0 0 0 0 0 0 0 0 0 0 0 0 0 0 0 0 0]\n",
      " [0 0 0 0 0 0 1 0 0 0 0 0 0 0 0 0 0 0 0 1 0 0 0 0 0 0]\n",
      " [0 0 0 0 0 0 0 1 0 0 0 0 0 0 0 0 0 0 0 0 0 0 0 0 0 0]\n",
      " [0 0 0 0 0 0 0 0 1 0 0 0 0 0 0 0 0 0 0 0 0 0 0 0 0 0]\n",
      " [0 0 0 0 0 0 0 0 0 1 0 0 0 0 0 0 0 0 0 0 0 0 0 0 0 0]\n",
      " [0 0 0 0 0 0 0 0 0 0 1 0 0 0 0 0 0 0 0 0 0 0 0 0 0 0]\n",
      " [0 0 0 0 0 0 0 0 0 0 0 1 0 0 0 0 0 0 0 0 0 0 0 0 0 0]\n",
      " [0 0 0 0 0 0 0 0 0 0 0 0 1 0 0 0 0 0 0 0 0 0 0 0 0 0]\n",
      " [0 0 0 0 0 0 0 0 0 0 0 0 0 1 0 0 0 0 0 0 0 0 0 0 0 0]\n",
      " [0 0 0 0 0 0 0 0 0 0 0 0 0 0 1 0 0 0 0 0 0 0 0 0 0 0]\n",
      " [0 0 0 0 0 0 0 0 0 0 0 0 0 0 0 1 0 0 0 0 0 0 0 0 0 0]\n",
      " [0 0 0 0 0 0 0 0 0 0 0 0 0 0 0 0 1 0 0 0 0 0 0 0 0 0]\n",
      " [0 0 0 0 0 0 0 0 0 0 0 0 0 0 0 0 0 1 0 0 0 0 0 0 0 0]\n",
      " [0 0 0 0 0 0 0 0 0 0 0 0 0 0 0 0 0 0 1 0 0 0 0 0 0 0]\n",
      " [0 0 0 0 0 0 0 0 0 0 0 0 0 0 0 0 0 0 0 0 1 0 0 0 0 0]\n",
      " [0 0 0 0 0 0 0 0 0 0 0 0 0 0 0 0 0 0 0 0 0 1 0 0 0 0]\n",
      " [0 0 0 0 0 0 0 0 0 0 0 0 0 0 0 0 0 0 0 0 0 0 1 0 0 0]\n",
      " [0 0 0 0 0 0 0 0 0 0 0 0 0 0 0 0 0 0 0 0 0 0 0 1 0 0]\n",
      " [0 0 0 0 0 0 0 0 0 0 0 0 0 0 0 0 0 0 0 0 0 0 0 0 1 0]\n",
      " [0 0 0 0 0 0 0 0 0 0 0 0 0 0 0 0 0 0 0 0 0 0 0 0 0 1]]\n",
      "New num rows, num columns:  23 26\n"
     ]
    }
   ],
   "source": [
    "col_num = len(A[0])\n",
    "row_num = len(A)\n",
    "print(\"Old num rows and num columns: \", row_num, col_num)\n",
    "L = Matrix(A)\n",
    "\n",
    "L = np.array(L.rref()[0])      # reduced row echelon form\n",
    "L2  = drop_zero_rows(L)        # get rid of primes we don't have to worry about in general\n",
    "L2 = L2 %2\n",
    "\n",
    "print(\"Reduced row echelon form AND mod 2 is: \")\n",
    "print(L2)\n",
    "\n",
    "print(\"New num rows, num columns: \", len(L2), len(L2[0]))"
   ]
  },
  {
   "cell_type": "code",
   "execution_count": 31,
   "metadata": {},
   "outputs": [],
   "source": [
    "## Choose free variables:\n",
    "def getA_solution(reduced_matrix):\n",
    "    L = reduced_matrix\n",
    "    col_num = len(L[0])\n",
    "    row_num = len(L)\n",
    "    v = np.ones(col_num, dtype = 'int')\n",
    "    for i in reversed(range(row_num)):\n",
    "        for j in reversed(range(col_num)):\n",
    "            if L[i][j] ==1:\n",
    "                #print(\"found row, col:\", i, j, \" with 1\")\n",
    "                if (L[i].sum()%2) !=0:              # the exponents for this prime doesn't add up to zero\n",
    "                    v[j] = 0                  # can't use this equation\n",
    "                    break     # no need to  check cells above, as reduced echelon form\n",
    "    return(v)\n"
   ]
  },
  {
   "cell_type": "code",
   "execution_count": 32,
   "metadata": {},
   "outputs": [
    {
     "name": "stdout",
     "output_type": "stream",
     "text": [
      "[1 1 1 0 0 1 1 0 0 0 0 0 0 0 0 0 0 0 0 1 0 0 0 0 0 0]\n"
     ]
    }
   ],
   "source": [
    "v = getA_solution(L2)\n",
    "print(v)"
   ]
  },
  {
   "cell_type": "code",
   "execution_count": 30,
   "metadata": {},
   "outputs": [
    {
     "name": "stdout",
     "output_type": "stream",
     "text": [
      "Had initially this many equations:  26\n",
      "Now choosing only as many equations as:  6\n"
     ]
    }
   ],
   "source": [
    "# print(store_pows)    # equations are rows = columns in v- vector\n",
    "# subset = []                 # stores only the relevant (subset of) exponent vectors \n",
    "# for i in range(len(v)):\n",
    "#     if v[i] ==0:\n",
    "#         continue\n",
    "#     subset.append(store_pows[i])  \n",
    "# print(\"Had initially this many equations: \", len(store_pows))\n",
    "# print(\"Now choosing only as many equations as: \", len(subset))\n",
    "#print(subset)"
   ]
  },
  {
   "cell_type": "code",
   "execution_count": 43,
   "metadata": {},
   "outputs": [],
   "source": [
    "def get_product_ysquared(v, results):    # results = [exponents_list, residues, iters, xsquares]\n",
    "    residues = results[1]\n",
    "    product_ysquare = 1       # RHS, y^2\n",
    "    for i in range(len(v)):\n",
    "        if v[i] ==0:\n",
    "            continue\n",
    "        product_ysquare = product_ysquare * residues[i]\n",
    "        product_ysquare = product_ysquare%n\n",
    "#     print(product_ysquare)"
   ]
  },
  {
   "cell_type": "code",
   "execution_count": 42,
   "metadata": {},
   "outputs": [],
   "source": [
    "def get_product_xsquared(v, results):     # results = [exponents_list, residues, iters, xsquares]\n",
    "    xsquares = results[3]\n",
    "    product_xsquare = 1       # RHS, y^2\n",
    "    for i in range(len(v)):\n",
    "        if v[i] ==0:\n",
    "            continue\n",
    "        product_xsquare = product_xsquare * xsquares[i]\n",
    "        product_xsquare = product_xsquare%n\n",
    "#     print(product_xsquare)"
   ]
  },
  {
   "cell_type": "code",
   "execution_count": 51,
   "metadata": {},
   "outputs": [],
   "source": [
    "product_xsquare = get_product_xsquared(results)     # results[2] = xsquares (candidates that worked)\n",
    "product_ysquare = get_product_ysquared(results)   # results[1] = residues"
   ]
  },
  {
   "cell_type": "markdown",
   "metadata": {},
   "source": [
    "## Didn't finish the run with n = 95775679, so don't run below. GTG somewhere"
   ]
  },
  {
   "cell_type": "code",
   "execution_count": 38,
   "metadata": {},
   "outputs": [],
   "source": [
    "# def get_product_modN(np_1Darray, n):\n",
    "#     pythlist = np_1Darray.tolist()\n",
    "#     product = 1\n",
    "#     for i in range(len(pythlist)):\n",
    "#         product *= pythlist[i]\n",
    "#         product = product%n\n",
    "#     return product"
   ]
  },
  {
   "cell_type": "code",
   "execution_count": 41,
   "metadata": {},
   "outputs": [],
   "source": [
    "# nparr = np.array([2, 3, 5, 7])\n",
    "# print(get_pythlist_product(nparr))"
   ]
  },
  {
   "cell_type": "code",
   "execution_count": 53,
   "metadata": {},
   "outputs": [
    {
     "name": "stdout",
     "output_type": "stream",
     "text": [
      "final x square:  535855603600296  final y square:  4233396074491038\n"
     ]
    }
   ],
   "source": [
    "print(\"final x square: \", product_xsquare, \" final y square: \", product_ysquare)"
   ]
  },
  {
   "cell_type": "code",
   "execution_count": 54,
   "metadata": {},
   "outputs": [],
   "source": [
    "x = product\n",
    "y = final_y_square"
   ]
  },
  {
   "cell_type": "code",
   "execution_count": 55,
   "metadata": {},
   "outputs": [
    {
     "name": "stdout",
     "output_type": "stream",
     "text": [
      "1\n",
      "6817540046645387\n"
     ]
    }
   ],
   "source": [
    "k = math.gcd(x -int(y), n)\n",
    "print(k)\n",
    "print (int(n/k)) "
   ]
  },
  {
   "cell_type": "markdown",
   "metadata": {},
   "source": [
    "### END HERE"
   ]
  },
  {
   "cell_type": "code",
   "execution_count": null,
   "metadata": {},
   "outputs": [],
   "source": []
  }
 ],
 "metadata": {
  "kernelspec": {
   "display_name": "Python 3",
   "language": "python",
   "name": "python3"
  },
  "language_info": {
   "codemirror_mode": {
    "name": "ipython",
    "version": 3
   },
   "file_extension": ".py",
   "mimetype": "text/x-python",
   "name": "python",
   "nbconvert_exporter": "python",
   "pygments_lexer": "ipython3",
   "version": "3.7.6"
  }
 },
 "nbformat": 4,
 "nbformat_minor": 4
}
